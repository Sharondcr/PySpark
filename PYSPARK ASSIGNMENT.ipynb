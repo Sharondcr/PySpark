{
 "cells": [
  {
   "cell_type": "code",
   "execution_count": 4,
   "id": "28a2d562",
   "metadata": {},
   "outputs": [
    {
     "data": {
      "text/html": [
       "\n",
       "        <div>\n",
       "            <p><b>SparkContext</b></p>\n",
       "\n",
       "            <p><a href=\"http://10.0.2.15:4040\">Spark UI</a></p>\n",
       "\n",
       "            <dl>\n",
       "              <dt>Version</dt>\n",
       "                <dd><code>v2.4.8</code></dd>\n",
       "              <dt>Master</dt>\n",
       "                <dd><code>local[*]</code></dd>\n",
       "              <dt>AppName</dt>\n",
       "                <dd><code>PySparkShell</code></dd>\n",
       "            </dl>\n",
       "        </div>\n",
       "        "
      ],
      "text/plain": [
       "<SparkContext master=local[*] appName=PySparkShell>"
      ]
     },
     "execution_count": 4,
     "metadata": {},
     "output_type": "execute_result"
    }
   ],
   "source": [
    "sc"
   ]
  },
  {
   "cell_type": "code",
   "execution_count": 5,
   "id": "ac32b470",
   "metadata": {},
   "outputs": [
    {
     "data": {
      "text/html": [
       "\n",
       "            <div>\n",
       "                <p><b>SparkSession - hive</b></p>\n",
       "                \n",
       "        <div>\n",
       "            <p><b>SparkContext</b></p>\n",
       "\n",
       "            <p><a href=\"http://10.0.2.15:4040\">Spark UI</a></p>\n",
       "\n",
       "            <dl>\n",
       "              <dt>Version</dt>\n",
       "                <dd><code>v2.4.8</code></dd>\n",
       "              <dt>Master</dt>\n",
       "                <dd><code>local[*]</code></dd>\n",
       "              <dt>AppName</dt>\n",
       "                <dd><code>PySparkShell</code></dd>\n",
       "            </dl>\n",
       "        </div>\n",
       "        \n",
       "            </div>\n",
       "        "
      ],
      "text/plain": [
       "<pyspark.sql.session.SparkSession at 0x7f7f2ee93400>"
      ]
     },
     "execution_count": 5,
     "metadata": {},
     "output_type": "execute_result"
    }
   ],
   "source": [
    "spark"
   ]
  },
  {
   "cell_type": "code",
   "execution_count": 6,
   "id": "46cb0ea6",
   "metadata": {},
   "outputs": [],
   "source": [
    "sc.stop()"
   ]
  },
  {
   "cell_type": "code",
   "execution_count": 7,
   "id": "535ec017",
   "metadata": {},
   "outputs": [],
   "source": [
    "from pyspark import SparkConf,SparkContext\n",
    "from pyspark.sql import SparkSession,HiveContext"
   ]
  },
  {
   "cell_type": "markdown",
   "id": "b92b0348",
   "metadata": {},
   "source": [
    "### Creating New Spark Instance"
   ]
  },
  {
   "cell_type": "code",
   "execution_count": 8,
   "id": "86df395e",
   "metadata": {},
   "outputs": [],
   "source": [
    "config = SparkConf().setAppName('SparkHiveSession').setMaster('local[4]')\n",
    "sc = SparkContext.getOrCreate(conf=config)"
   ]
  },
  {
   "cell_type": "code",
   "execution_count": 9,
   "id": "4c99be5f",
   "metadata": {},
   "outputs": [
    {
     "data": {
      "text/html": [
       "\n",
       "        <div>\n",
       "            <p><b>SparkContext</b></p>\n",
       "\n",
       "            <p><a href=\"http://10.0.2.15:4040\">Spark UI</a></p>\n",
       "\n",
       "            <dl>\n",
       "              <dt>Version</dt>\n",
       "                <dd><code>v2.4.8</code></dd>\n",
       "              <dt>Master</dt>\n",
       "                <dd><code>local[4]</code></dd>\n",
       "              <dt>AppName</dt>\n",
       "                <dd><code>SparkHiveSession</code></dd>\n",
       "            </dl>\n",
       "        </div>\n",
       "        "
      ],
      "text/plain": [
       "<SparkContext master=local[4] appName=SparkHiveSession>"
      ]
     },
     "execution_count": 9,
     "metadata": {},
     "output_type": "execute_result"
    }
   ],
   "source": [
    "sc"
   ]
  },
  {
   "cell_type": "markdown",
   "id": "4831af3d",
   "metadata": {},
   "source": [
    "### a) Creating Connection to Spark and Hive"
   ]
  },
  {
   "cell_type": "code",
   "execution_count": 10,
   "id": "3fa2e405",
   "metadata": {},
   "outputs": [],
   "source": [
    "spark = (SparkSession.builder.appName(\"pysparkhive-integration\")\n",
    "         .config('spark.sql.warehouse.dir', '/user/hive/warehouse/')\n",
    "         .enableHiveSupport().getOrCreate())"
   ]
  },
  {
   "cell_type": "code",
   "execution_count": 11,
   "id": "4f9b3252",
   "metadata": {},
   "outputs": [
    {
     "data": {
      "text/html": [
       "\n",
       "            <div>\n",
       "                <p><b>SparkSession - hive</b></p>\n",
       "                \n",
       "        <div>\n",
       "            <p><b>SparkContext</b></p>\n",
       "\n",
       "            <p><a href=\"http://10.0.2.15:4040\">Spark UI</a></p>\n",
       "\n",
       "            <dl>\n",
       "              <dt>Version</dt>\n",
       "                <dd><code>v2.4.8</code></dd>\n",
       "              <dt>Master</dt>\n",
       "                <dd><code>local[4]</code></dd>\n",
       "              <dt>AppName</dt>\n",
       "                <dd><code>SparkHiveSession</code></dd>\n",
       "            </dl>\n",
       "        </div>\n",
       "        \n",
       "            </div>\n",
       "        "
      ],
      "text/plain": [
       "<pyspark.sql.session.SparkSession at 0x7f7f2d387780>"
      ]
     },
     "execution_count": 11,
     "metadata": {},
     "output_type": "execute_result"
    }
   ],
   "source": [
    "spark"
   ]
  },
  {
   "cell_type": "markdown",
   "id": "3bcea0b4",
   "metadata": {},
   "source": [
    "### b) Creating Dataframe using csv file"
   ]
  },
  {
   "cell_type": "code",
   "execution_count": 12,
   "id": "1d0fdc43",
   "metadata": {},
   "outputs": [],
   "source": [
    "flight_df = spark.read.csv(\"file:///home/hadoop/Downloads/Flights_Delay.csv\", inferSchema = True, header = True)"
   ]
  },
  {
   "cell_type": "code",
   "execution_count": 11,
   "id": "b2a28322",
   "metadata": {},
   "outputs": [
    {
     "name": "stdout",
     "output_type": "stream",
     "text": [
      "+---+----+-----+---+-----------+-------+-------------+-----------+--------------+-------------------+-------------------+--------------+---------------+--------+----------+--------------+------------+--------+--------+---------+-------+-----------------+------------+-------------+--------+---------+-------------------+----------------+--------------+-------------+-------------------+-------------+\n",
      "| ID|YEAR|MONTH|DAY|DAY_OF_WEEK|AIRLINE|FLIGHT_NUMBER|TAIL_NUMBER|ORIGIN_AIRPORT|DESTINATION_AIRPORT|SCHEDULED_DEPARTURE|DEPARTURE_TIME|DEPARTURE_DELAY|TAXI_OUT|WHEELS_OFF|SCHEDULED_TIME|ELAPSED_TIME|AIR_TIME|DISTANCE|WHEELS_ON|TAXI_IN|SCHEDULED_ARRIVAL|ARRIVAL_TIME|ARRIVAL_DELAY|DIVERTED|CANCELLED|CANCELLATION_REASON|AIR_SYSTEM_DELAY|SECURITY_DELAY|AIRLINE_DELAY|LATE_AIRCRAFT_DELAY|WEATHER_DELAY|\n",
      "+---+----+-----+---+-----------+-------+-------------+-----------+--------------+-------------------+-------------------+--------------+---------------+--------+----------+--------------+------------+--------+--------+---------+-------+-----------------+------------+-------------+--------+---------+-------------------+----------------+--------------+-------------+-------------------+-------------+\n",
      "|  0|2015|    3|  4|          3|     EV|         5170|     N842AS|           CVG|                XNA|                935|           954|             19|      16|      1010|           115|         129|     108|     562|     1058|      5|             1030|        1103|           33|       0|        0|               null|              14|             0|           19|                  0|            0|\n",
      "|  1|2015|    2|  2|          1|     MQ|         3584|     N646MQ|           DFW|                SPS|               1240|          1316|             36|      11|      1327|            50|          46|      30|     113|     1357|      5|             1330|        1402|           32|       0|        0|               null|               0|             0|           32|                  0|            0|\n",
      "|  2|2015|    1| 27|          2|     B6|          716|     N309JB|           JAX|                DCA|               1335|          1505|             90|      16|      1521|           104|         110|      91|     634|     1652|      3|             1519|        1655|           96|       0|        0|               null|               6|             0|           90|                  0|            0|\n",
      "|  3|2015|    1| 28|          3|     EV|         4289|     N14162|           COS|                IAH|               1442|          1435|             -7|      13|      1448|           139|         127|     101|     809|     1729|     13|             1801|        1742|          -19|       0|        0|               null|            null|          null|         null|               null|         null|\n",
      "|  4|2015|    2|  5|          4|     EV|         5584|     N851AS|           ATL|                AVL|               1255|          1250|             -5|      25|      1315|            48|          62|      34|     164|     1349|      3|             1343|        1352|            9|       0|        0|               null|            null|          null|         null|               null|         null|\n",
      "|  5|2015|    2| 15|          7|     UA|          712|     N438UA|           IAH|                SFO|               1535|          1554|             19|      18|      1612|           260|         237|     216|    1635|     1748|      3|             1755|        1751|           -4|       0|        0|               null|            null|          null|         null|               null|         null|\n",
      "|  6|2015|    2| 19|          4|     OO|         5166|     N746SK|           HDN|                DEN|                928|           924|             -4|      11|       935|            67|          56|      29|     141|     1004|     16|             1035|        1020|          -15|       0|        0|               null|            null|          null|         null|               null|         null|\n",
      "|  7|2015|    2| 27|          5|     DL|         1571|     N916DN|           ATL|                CAK|               2104|          2103|             -1|      20|      2123|           106|          97|      70|     528|     2233|      7|             2250|        2240|          -10|       0|        0|               null|            null|          null|         null|               null|         null|\n",
      "|  8|2015|    1| 20|          2|     WN|          518|     N405WN|           HOU|                MEM|               2140|          2150|             10|       8|      2158|            80|          79|      68|     484|     2306|      3|             2300|        2309|            9|       0|        0|               null|            null|          null|         null|               null|         null|\n",
      "|  9|2015|    2|  6|          5|     WN|          336|     N663SW|           DAL|                MAF|               1750|          1748|             -2|       7|      1755|            70|          62|      52|     319|     1847|      3|             1900|        1850|          -10|       0|        0|               null|            null|          null|         null|               null|         null|\n",
      "| 10|2015|    3|  6|          5|     UA|          321|     N455UA|           TPA|                EWR|                950|           947|             -3|      11|       958|           160|         142|     119|     997|     1157|     12|             1230|        1209|          -21|       0|        0|               null|            null|          null|         null|               null|         null|\n",
      "| 11|2015|    3|  6|          5|     F9|         1343|     N905FR|           TPA|                CLE|               1630|          1622|             -8|      13|      1635|           145|         146|     125|     927|     1840|      8|             1855|        1848|           -7|       0|        0|               null|            null|          null|         null|               null|         null|\n",
      "| 12|2015|    1| 30|          5|     WN|         2685|     N638SW|           LAS|                SJC|                620|           633|             13|      13|       646|            90|          76|      59|     386|      745|      4|              750|         749|           -1|       0|        0|               null|            null|          null|         null|               null|         null|\n",
      "| 13|2015|    1| 11|          7|     HA|          371|     N492HA|           ITO|                HNL|               1930|          2000|             30|      10|      2010|            50|          53|      36|     216|     2046|      7|             2020|        2053|           33|       0|        0|               null|               0|             0|           17|                 16|            0|\n",
      "| 14|2015|    2| 23|          1|     OO|         5416|     N927SW|           ONT|                SFO|               1733|          1727|             -6|      15|      1742|            88|          87|      68|     363|     1850|      4|             1901|        1854|           -7|       0|        0|               null|            null|          null|         null|               null|         null|\n",
      "| 15|2015|    1| 10|          6|     MQ|         3196|     N607MQ|           SAF|                DFW|               1100|          1051|             -9|       7|      1058|            95|          97|      76|     551|     1314|     14|             1335|        1328|           -7|       0|        0|               null|            null|          null|         null|               null|         null|\n",
      "| 16|2015|    1|  7|          3|     WN|          432|     N961WN|           PDX|                LAS|               1805|          1801|             -4|       7|      1808|           125|         121|     107|     763|     1955|      7|             2010|        2002|           -8|       0|        0|               null|            null|          null|         null|               null|         null|\n",
      "| 17|2015|    2| 15|          7|     AS|          350|     N557AS|           SEA|                OAK|               2120|          2119|             -1|      25|      2144|           120|         122|      91|     671|     2315|      6|             2320|        2321|            1|       0|        0|               null|            null|          null|         null|               null|         null|\n",
      "| 18|2015|    2| 24|          2|     OO|         6196|     N751SK|           ONT|                IAH|                701|           806|             65|      24|       830|           189|         180|     145|    1334|     1255|     11|             1210|        1306|           56|       0|        0|               null|               0|             0|           56|                  0|            0|\n",
      "| 19|2015|    1| 30|          5|     MQ|         3401|     N609MQ|           SHV|                DFW|               1615|          1611|             -4|       8|      1619|            60|          61|      42|     190|     1701|     11|             1715|        1712|           -3|       0|        0|               null|            null|          null|         null|               null|         null|\n",
      "+---+----+-----+---+-----------+-------+-------------+-----------+--------------+-------------------+-------------------+--------------+---------------+--------+----------+--------------+------------+--------+--------+---------+-------+-----------------+------------+-------------+--------+---------+-------------------+----------------+--------------+-------------+-------------------+-------------+\n",
      "only showing top 20 rows\n",
      "\n"
     ]
    }
   ],
   "source": [
    "flight_df.show()"
   ]
  },
  {
   "cell_type": "code",
   "execution_count": 12,
   "id": "896cb840",
   "metadata": {},
   "outputs": [
    {
     "name": "stdout",
     "output_type": "stream",
     "text": [
      "root\n",
      " |-- ID: integer (nullable = true)\n",
      " |-- YEAR: integer (nullable = true)\n",
      " |-- MONTH: integer (nullable = true)\n",
      " |-- DAY: integer (nullable = true)\n",
      " |-- DAY_OF_WEEK: integer (nullable = true)\n",
      " |-- AIRLINE: string (nullable = true)\n",
      " |-- FLIGHT_NUMBER: integer (nullable = true)\n",
      " |-- TAIL_NUMBER: string (nullable = true)\n",
      " |-- ORIGIN_AIRPORT: string (nullable = true)\n",
      " |-- DESTINATION_AIRPORT: string (nullable = true)\n",
      " |-- SCHEDULED_DEPARTURE: integer (nullable = true)\n",
      " |-- DEPARTURE_TIME: integer (nullable = true)\n",
      " |-- DEPARTURE_DELAY: integer (nullable = true)\n",
      " |-- TAXI_OUT: integer (nullable = true)\n",
      " |-- WHEELS_OFF: integer (nullable = true)\n",
      " |-- SCHEDULED_TIME: integer (nullable = true)\n",
      " |-- ELAPSED_TIME: integer (nullable = true)\n",
      " |-- AIR_TIME: integer (nullable = true)\n",
      " |-- DISTANCE: integer (nullable = true)\n",
      " |-- WHEELS_ON: integer (nullable = true)\n",
      " |-- TAXI_IN: integer (nullable = true)\n",
      " |-- SCHEDULED_ARRIVAL: integer (nullable = true)\n",
      " |-- ARRIVAL_TIME: integer (nullable = true)\n",
      " |-- ARRIVAL_DELAY: integer (nullable = true)\n",
      " |-- DIVERTED: integer (nullable = true)\n",
      " |-- CANCELLED: integer (nullable = true)\n",
      " |-- CANCELLATION_REASON: string (nullable = true)\n",
      " |-- AIR_SYSTEM_DELAY: integer (nullable = true)\n",
      " |-- SECURITY_DELAY: integer (nullable = true)\n",
      " |-- AIRLINE_DELAY: integer (nullable = true)\n",
      " |-- LATE_AIRCRAFT_DELAY: integer (nullable = true)\n",
      " |-- WEATHER_DELAY: integer (nullable = true)\n",
      "\n"
     ]
    }
   ],
   "source": [
    "flight_df.printSchema()"
   ]
  },
  {
   "cell_type": "markdown",
   "id": "05c4ca83",
   "metadata": {},
   "source": [
    "### C) Creating Hive table"
   ]
  },
  {
   "cell_type": "code",
   "execution_count": 18,
   "id": "ec81bd6c",
   "metadata": {},
   "outputs": [
    {
     "data": {
      "text/plain": [
       "DataFrame[]"
      ]
     },
     "execution_count": 18,
     "metadata": {},
     "output_type": "execute_result"
    }
   ],
   "source": [
    "spark.sql(\"\"\"\n",
    "CREATE TABLE if not exists flights_table (ID INT,YEAR INT,MONTH INT,DAY INT,DAY_OF_WEEK INT,AIRLINE STRING,\n",
    "FLIGHT_NUMBER STRING,TAIL_NUMBER STRING,ORIGIN_AIRPORT STRING,DESTINATION_AIRPORT STRING,SCHEDULED_DEPARTURE INT,\n",
    "DEPARTURE_TIME INT,DEPARTURE_DELAY INT,TAXI_OUT INT,WHEELS_OFF INT,SCHEDULED_TIME INT,ELAPSED_TIME INT,AIR_TIME INT,\n",
    "DISTANCE INT,WHEELS_ON INT,TAXI_IN INT,SCHEDULED_ARRIVAL INT,ARRIVAL_TIME INT,ARRIVAL_DELAY INT,DIVERTED INT,\n",
    "CANCELLED INT,CANCELLATION_REASON STRING,AIR_SYSTEM_DELAY INT,SECURITY_DELAY INT,AIRLINE_DELAY INT,LATE_AIRCRAFT_DELAY INT,WEATHER_DELAY INT)\n",
    "ROW FORMAT DELIMITED\n",
    "FIELDS TERMINATED BY ','\n",
    "STORED AS TEXTFILE\n",
    "tblProperties(\"skip.header.line.count\" = 1)\"\"\")"
   ]
  },
  {
   "cell_type": "markdown",
   "id": "553fc22b",
   "metadata": {},
   "source": [
    "### d) Describe Table Schema & show top 10 dataset"
   ]
  },
  {
   "cell_type": "code",
   "execution_count": 26,
   "id": "ab5ecaf0",
   "metadata": {},
   "outputs": [],
   "source": [
    "flight_df.createOrReplaceTempView('flight_temp_table')"
   ]
  },
  {
   "cell_type": "code",
   "execution_count": 27,
   "id": "7a4fd229",
   "metadata": {},
   "outputs": [
    {
     "data": {
      "text/plain": [
       "DataFrame[]"
      ]
     },
     "execution_count": 27,
     "metadata": {},
     "output_type": "execute_result"
    }
   ],
   "source": [
    "spark.sql(\"\"\"\n",
    "INSERT INTO flights_table\n",
    "SELECT * FROM flight_temp_table\"\"\")"
   ]
  },
  {
   "cell_type": "code",
   "execution_count": 30,
   "id": "6e033cb5",
   "metadata": {},
   "outputs": [
    {
     "name": "stdout",
     "output_type": "stream",
     "text": [
      "+-------------------+---------+-------+\n",
      "|           col_name|data_type|comment|\n",
      "+-------------------+---------+-------+\n",
      "|                 ID|      int|   null|\n",
      "|               YEAR|      int|   null|\n",
      "|              MONTH|      int|   null|\n",
      "|                DAY|      int|   null|\n",
      "|        DAY_OF_WEEK|      int|   null|\n",
      "|            AIRLINE|   string|   null|\n",
      "|      FLIGHT_NUMBER|   string|   null|\n",
      "|        TAIL_NUMBER|   string|   null|\n",
      "|     ORIGIN_AIRPORT|   string|   null|\n",
      "|DESTINATION_AIRPORT|   string|   null|\n",
      "|SCHEDULED_DEPARTURE|      int|   null|\n",
      "|     DEPARTURE_TIME|      int|   null|\n",
      "|    DEPARTURE_DELAY|      int|   null|\n",
      "|           TAXI_OUT|      int|   null|\n",
      "|         WHEELS_OFF|      int|   null|\n",
      "|     SCHEDULED_TIME|      int|   null|\n",
      "|       ELAPSED_TIME|      int|   null|\n",
      "|           AIR_TIME|      int|   null|\n",
      "|           DISTANCE|      int|   null|\n",
      "|          WHEELS_ON|      int|   null|\n",
      "+-------------------+---------+-------+\n",
      "only showing top 20 rows\n",
      "\n"
     ]
    }
   ],
   "source": [
    "spark.sql(\"describe flights_table\").show()"
   ]
  },
  {
   "cell_type": "code",
   "execution_count": 31,
   "id": "280ae188",
   "metadata": {},
   "outputs": [
    {
     "name": "stdout",
     "output_type": "stream",
     "text": [
      "+---+----+-----+---+-----------+-------+-------------+-----------+--------------+-------------------+-------------------+--------------+---------------+--------+----------+--------------+------------+--------+--------+---------+-------+-----------------+------------+-------------+--------+---------+-------------------+----------------+--------------+-------------+-------------------+-------------+\n",
      "|ID |YEAR|MONTH|DAY|DAY_OF_WEEK|AIRLINE|FLIGHT_NUMBER|TAIL_NUMBER|ORIGIN_AIRPORT|DESTINATION_AIRPORT|SCHEDULED_DEPARTURE|DEPARTURE_TIME|DEPARTURE_DELAY|TAXI_OUT|WHEELS_OFF|SCHEDULED_TIME|ELAPSED_TIME|AIR_TIME|DISTANCE|WHEELS_ON|TAXI_IN|SCHEDULED_ARRIVAL|ARRIVAL_TIME|ARRIVAL_DELAY|DIVERTED|CANCELLED|CANCELLATION_REASON|AIR_SYSTEM_DELAY|SECURITY_DELAY|AIRLINE_DELAY|LATE_AIRCRAFT_DELAY|WEATHER_DELAY|\n",
      "+---+----+-----+---+-----------+-------+-------------+-----------+--------------+-------------------+-------------------+--------------+---------------+--------+----------+--------------+------------+--------+--------+---------+-------+-----------------+------------+-------------+--------+---------+-------------------+----------------+--------------+-------------+-------------------+-------------+\n",
      "|0  |2015|3    |4  |3          |EV     |5170         |N842AS     |CVG           |XNA                |935                |954           |19             |16      |1010      |115           |129         |108     |562     |1058     |5      |1030             |1103        |33           |0       |0        |null               |14              |0             |19           |0                  |0            |\n",
      "|1  |2015|2    |2  |1          |MQ     |3584         |N646MQ     |DFW           |SPS                |1240               |1316          |36             |11      |1327      |50            |46          |30      |113     |1357     |5      |1330             |1402        |32           |0       |0        |null               |0               |0             |32           |0                  |0            |\n",
      "|2  |2015|1    |27 |2          |B6     |716          |N309JB     |JAX           |DCA                |1335               |1505          |90             |16      |1521      |104           |110         |91      |634     |1652     |3      |1519             |1655        |96           |0       |0        |null               |6               |0             |90           |0                  |0            |\n",
      "|3  |2015|1    |28 |3          |EV     |4289         |N14162     |COS           |IAH                |1442               |1435          |-7             |13      |1448      |139           |127         |101     |809     |1729     |13     |1801             |1742        |-19          |0       |0        |null               |null            |null          |null         |null               |null         |\n",
      "|4  |2015|2    |5  |4          |EV     |5584         |N851AS     |ATL           |AVL                |1255               |1250          |-5             |25      |1315      |48            |62          |34      |164     |1349     |3      |1343             |1352        |9            |0       |0        |null               |null            |null          |null         |null               |null         |\n",
      "|5  |2015|2    |15 |7          |UA     |712          |N438UA     |IAH           |SFO                |1535               |1554          |19             |18      |1612      |260           |237         |216     |1635    |1748     |3      |1755             |1751        |-4           |0       |0        |null               |null            |null          |null         |null               |null         |\n",
      "|6  |2015|2    |19 |4          |OO     |5166         |N746SK     |HDN           |DEN                |928                |924           |-4             |11      |935       |67            |56          |29      |141     |1004     |16     |1035             |1020        |-15          |0       |0        |null               |null            |null          |null         |null               |null         |\n",
      "|7  |2015|2    |27 |5          |DL     |1571         |N916DN     |ATL           |CAK                |2104               |2103          |-1             |20      |2123      |106           |97          |70      |528     |2233     |7      |2250             |2240        |-10          |0       |0        |null               |null            |null          |null         |null               |null         |\n",
      "|8  |2015|1    |20 |2          |WN     |518          |N405WN     |HOU           |MEM                |2140               |2150          |10             |8       |2158      |80            |79          |68      |484     |2306     |3      |2300             |2309        |9            |0       |0        |null               |null            |null          |null         |null               |null         |\n",
      "|9  |2015|2    |6  |5          |WN     |336          |N663SW     |DAL           |MAF                |1750               |1748          |-2             |7       |1755      |70            |62          |52      |319     |1847     |3      |1900             |1850        |-10          |0       |0        |null               |null            |null          |null         |null               |null         |\n",
      "+---+----+-----+---+-----------+-------+-------------+-----------+--------------+-------------------+-------------------+--------------+---------------+--------+----------+--------------+------------+--------+--------+---------+-------+-----------------+------------+-------------+--------+---------+-------------------+----------------+--------------+-------------+-------------------+-------------+\n",
      "\n"
     ]
    }
   ],
   "source": [
    "spark.sql(\"select * from flights_table limit 10\").show()"
   ]
  },
  {
   "cell_type": "markdown",
   "id": "ce0219e8",
   "metadata": {},
   "source": [
    "### e) Applying Query performance optimization techniques"
   ]
  },
  {
   "cell_type": "code",
   "execution_count": 36,
   "id": "e263aac4",
   "metadata": {},
   "outputs": [],
   "source": [
    "flight_df.write.partitionBy('YEAR','MONTH').parquet(\"file:///home/hadoop/Downloads/Flight_Data\")"
   ]
  },
  {
   "cell_type": "code",
   "execution_count": 37,
   "id": "254757d3",
   "metadata": {},
   "outputs": [],
   "source": [
    "parquet_data = spark.read.parquet(\"file:///home/hadoop/Downloads/Flight_Data\")"
   ]
  },
  {
   "cell_type": "code",
   "execution_count": 38,
   "id": "722620bf",
   "metadata": {},
   "outputs": [
    {
     "data": {
      "text/plain": [
       "DataFrame[ID: int, YEAR: int, MONTH: int, DAY: int, DAY_OF_WEEK: int, AIRLINE: string, FLIGHT_NUMBER: int, TAIL_NUMBER: string, ORIGIN_AIRPORT: string, DESTINATION_AIRPORT: string, SCHEDULED_DEPARTURE: int, DEPARTURE_TIME: int, DEPARTURE_DELAY: int, TAXI_OUT: int, WHEELS_OFF: int, SCHEDULED_TIME: int, ELAPSED_TIME: int, AIR_TIME: int, DISTANCE: int, WHEELS_ON: int, TAXI_IN: int, SCHEDULED_ARRIVAL: int, ARRIVAL_TIME: int, ARRIVAL_DELAY: int, DIVERTED: int, CANCELLED: int, CANCELLATION_REASON: string, AIR_SYSTEM_DELAY: int, SECURITY_DELAY: int, AIRLINE_DELAY: int, LATE_AIRCRAFT_DELAY: int, WEATHER_DELAY: int]"
      ]
     },
     "execution_count": 38,
     "metadata": {},
     "output_type": "execute_result"
    }
   ],
   "source": [
    "flight_df.cache()"
   ]
  },
  {
   "cell_type": "markdown",
   "id": "993e8e41",
   "metadata": {},
   "source": [
    "### f) average analysis delay caused by airlines"
   ]
  },
  {
   "cell_type": "code",
   "execution_count": 43,
   "id": "52c76073",
   "metadata": {
    "scrolled": false
   },
   "outputs": [
    {
     "name": "stdout",
     "output_type": "stream",
     "text": [
      "+-------+------------------+\n",
      "|AIRLINE|     Average_Delay|\n",
      "+-------+------------------+\n",
      "|     AS|-1.531766200762389|\n",
      "|     DL|2.8144726712856043|\n",
      "|     WN| 3.697840458351697|\n",
      "|     HA| 4.072423398328691|\n",
      "|     VX| 5.128571428571429|\n",
      "|     US| 5.977315185481719|\n",
      "|     UA| 6.697221614526362|\n",
      "|     AA| 8.386631979187513|\n",
      "|     OO|10.154792043399638|\n",
      "|     EV|10.884270870655678|\n",
      "|     B6| 13.95852534562212|\n",
      "|     NK|14.206426484907498|\n",
      "|     MQ|19.231592604605904|\n",
      "|     F9|24.103448275862068|\n",
      "+-------+------------------+\n",
      "\n"
     ]
    }
   ],
   "source": [
    "spark.sql(\"Select AIRLINE, avg(ARRIVAL_DELAY) as Average_Delay from flights_table group by AIRLINE order by Average_Delay\").show()"
   ]
  },
  {
   "cell_type": "markdown",
   "id": "cf9fb9c1",
   "metadata": {},
   "source": [
    "### g) Days of months with respected to average of arrival delay"
   ]
  },
  {
   "cell_type": "code",
   "execution_count": 44,
   "id": "d21573de",
   "metadata": {},
   "outputs": [
    {
     "name": "stdout",
     "output_type": "stream",
     "text": [
      "+---+--------------------+\n",
      "|DAY|       Average_Delay|\n",
      "+---+--------------------+\n",
      "| 31|  -1.196594427244582|\n",
      "| 10|-0.04705882352941...|\n",
      "| 29| 0.07971014492753623|\n",
      "| 14|  1.3299319727891157|\n",
      "| 19|  1.6344282238442822|\n",
      "|  7|  2.8309417040358746|\n",
      "| 15|   2.966753585397653|\n",
      "| 28|   3.257425742574257|\n",
      "| 13|  3.3769751693002257|\n",
      "| 18|  3.5693430656934306|\n",
      "| 20|  3.8770149253731345|\n",
      "| 11|  3.9912935323383083|\n",
      "| 23|   4.207086133170434|\n",
      "|  9|   4.421887390959556|\n",
      "| 30|   4.471478463329452|\n",
      "| 27|   4.706711409395973|\n",
      "| 25|   4.903708523096942|\n",
      "|  8|   5.232349165596919|\n",
      "| 24|   5.737543859649123|\n",
      "| 22|   6.550920245398773|\n",
      "+---+--------------------+\n",
      "only showing top 20 rows\n",
      "\n"
     ]
    }
   ],
   "source": [
    "spark.sql(\"select DAY, avg(ARRIVAL_DELAY) as Average_Delay from flights_table group by DAY order by Average_Delay\").show()"
   ]
  },
  {
   "cell_type": "markdown",
   "id": "7bf0cfa0",
   "metadata": {},
   "source": [
    "### h) Arrange weekday with respect to the average arrival delay"
   ]
  },
  {
   "cell_type": "code",
   "execution_count": 46,
   "id": "9fef3ad5",
   "metadata": {},
   "outputs": [
    {
     "name": "stdout",
     "output_type": "stream",
     "text": [
      "+-----------+------------------+\n",
      "|DAY_OF_WEEK|         AVG_DELAY|\n",
      "+-----------+------------------+\n",
      "|          6| 4.888689138576779|\n",
      "|          3| 5.587079407806191|\n",
      "|          5| 6.010538373424971|\n",
      "|          4| 7.174969021065675|\n",
      "|          2| 8.033644102148358|\n",
      "|          7|10.110840438489646|\n",
      "|          1|10.807447207297264|\n",
      "+-----------+------------------+\n",
      "\n"
     ]
    }
   ],
   "source": [
    "spark.sql(\"select DAY_OF_WEEK, avg(ARRIVAL_DELAY) as AVG_DELAY from flights_table group by DAY_OF_WEEK order by AVG_DELAY\").show()"
   ]
  },
  {
   "cell_type": "markdown",
   "id": "d0bdf78b",
   "metadata": {},
   "source": [
    "### i) Arrange Day of month as per cancellations done in descending"
   ]
  },
  {
   "cell_type": "code",
   "execution_count": 51,
   "id": "91b1ca16",
   "metadata": {},
   "outputs": [
    {
     "name": "stdout",
     "output_type": "stream",
     "text": [
      "+---+-----+\n",
      "|DAY|MONTH|\n",
      "+---+-----+\n",
      "| 31|    1|\n",
      "| 30|    1|\n",
      "| 29|    1|\n",
      "| 28|    2|\n",
      "| 28|    1|\n",
      "| 27|    2|\n",
      "| 27|    1|\n",
      "| 26|    2|\n",
      "| 26|    1|\n",
      "| 25|    2|\n",
      "| 25|    1|\n",
      "| 24|    2|\n",
      "| 24|    1|\n",
      "| 23|    2|\n",
      "| 23|    1|\n",
      "| 22|    1|\n",
      "| 22|    2|\n",
      "| 21|    1|\n",
      "| 21|    2|\n",
      "| 20|    2|\n",
      "+---+-----+\n",
      "only showing top 20 rows\n",
      "\n"
     ]
    }
   ],
   "source": [
    "spark.sql(\"select DAY,MONTH from flights_table where CANCELLED = 1 group by DAY,MONTH order by DAY desc\").show()"
   ]
  },
  {
   "cell_type": "markdown",
   "id": "12379330",
   "metadata": {},
   "source": [
    "### j) Top 10 busiest airport with respect to day of week"
   ]
  },
  {
   "cell_type": "code",
   "execution_count": 1,
   "id": "81a141b2",
   "metadata": {},
   "outputs": [
    {
     "name": "stdout",
     "output_type": "stream",
     "text": [
      "+-------+-------------+----+\n",
      "|AIRPORT|TOTAL_FLIGHTS|RANK|\n",
      "+-------+-------------+----+\n",
      "|    ATL|         1106|   1|\n",
      "|    ORD|          844|   2|\n",
      "|    DFW|          818|   3|\n",
      "|    LAX|          631|   4|\n",
      "|    DEN|          613|   5|\n",
      "|    IAH|          494|   6|\n",
      "|    PHX|          485|   7|\n",
      "|    SFO|          466|   8|\n",
      "|    LAS|          398|   9|\n",
      "|    MSP|          382|  10|\n",
      "+-------+-------------+----+\n",
      "\n"
     ]
    }
   ],
   "source": [
    "spark.sql(\"\"\"\n",
    "WITH flight_counts AS (\n",
    "SELECT ORIGIN_AIRPORT AS AIRPORT,DAY_OF_WEEK, COUNT(*) AS\n",
    "NUM_FLIGHTS\n",
    "FROM flights_table\n",
    "GROUP BY ORIGIN_AIRPORT,DAY_OF_WEEK\n",
    "UNION ALL\n",
    "SELECT DESTINATION_AIRPORT AS AIRPORT,DAY_OF_WEEK,COUNT(*)\n",
    "AS NUM_FLIGHTS\n",
    "FROM flights_table\n",
    "GROUP BY DESTINATION_AIRPORT,DAY_OF_WEEK\n",
    "),\n",
    "airport_totals AS (\n",
    "SELECT\n",
    "AIRPORT,\n",
    "DAY_OF_WEEK,\n",
    "SUM(NUM_FLIGHTS) AS TOTAL_FLIGHTS\n",
    "FROM flight_counts\n",
    "GROUP BY AIRPORT,DAY_OF_WEEK\n",
    "),\n",
    "ranked_airports AS (\n",
    "SELECT\n",
    "AIRPORT,\n",
    "DAY_OF_WEEK,\n",
    "TOTAL_FLIGHTS,\n",
    "ROW_NUMBER() OVER (PARTITION BY DAY_OF_WEEK ORDER BY\n",
    "TOTAL_FLIGHTS DESC) AS RANK\n",
    "FROM airport_totals\n",
    ")\n",
    "SELECT\n",
    "AIRPORT,\n",
    "TOTAL_FLIGHTS,\n",
    "RANK\n",
    "FROM ranked_airports\n",
    "WHERE RANK <= 10\n",
    "ORDER BY DAY_OF_WEEK,RANK\n",
    "LIMIT 10\n",
    "\"\"\").show()"
   ]
  },
  {
   "cell_type": "markdown",
   "id": "58ac0516",
   "metadata": {},
   "source": [
    "### k) Find airlines that make maximum number of cancellation"
   ]
  },
  {
   "cell_type": "code",
   "execution_count": 11,
   "id": "0e845c08",
   "metadata": {},
   "outputs": [
    {
     "name": "stdout",
     "output_type": "stream",
     "text": [
      "+-------+----------------+\n",
      "|AIRLINE|MAX_CANCELLATION|\n",
      "+-------+----------------+\n",
      "|     MQ|             414|\n",
      "|     WN|             358|\n",
      "|     EV|             312|\n",
      "|     AA|             241|\n",
      "|     DL|             177|\n",
      "|     US|             169|\n",
      "|     OO|             153|\n",
      "|     B6|             145|\n",
      "|     UA|             122|\n",
      "|     NK|              21|\n",
      "+-------+----------------+\n",
      "\n"
     ]
    }
   ],
   "source": [
    "spark.sql(\"select AIRLINE, count(*) as MAX_CANCELLATION from flights_table where CANCELLED = 1 group by AIRLINE order by MAX_CANCELLATION desc LIMIT 10\").show()"
   ]
  },
  {
   "cell_type": "markdown",
   "id": "73fc2e54",
   "metadata": {},
   "source": [
    "### l) find and order airlines in decending that make most number of diversion"
   ]
  },
  {
   "cell_type": "code",
   "execution_count": 5,
   "id": "64f84f49",
   "metadata": {},
   "outputs": [
    {
     "name": "stdout",
     "output_type": "stream",
     "text": [
      "+-------+------------+\n",
      "|AIRLINE|MAX_DIVERTED|\n",
      "+-------+------------+\n",
      "|     WN|          35|\n",
      "|     OO|          25|\n",
      "|     EV|          22|\n",
      "|     DL|          18|\n",
      "|     B6|          16|\n",
      "|     AA|          12|\n",
      "|     US|           9|\n",
      "|     UA|           8|\n",
      "|     MQ|           5|\n",
      "|     HA|           1|\n",
      "+-------+------------+\n",
      "\n"
     ]
    }
   ],
   "source": [
    "spark.sql(\"select AIRLINE, count(*) as MAX_DIVERTED from flights_table where DIVERTED = 1 group by AIRLINE order by MAX_DIVERTED desc\").show()"
   ]
  },
  {
   "cell_type": "markdown",
   "id": "2daa1d52",
   "metadata": {},
   "source": [
    "### m) Find day of month that see most number of diversion"
   ]
  },
  {
   "cell_type": "code",
   "execution_count": 40,
   "id": "f3683b83",
   "metadata": {},
   "outputs": [
    {
     "name": "stdout",
     "output_type": "stream",
     "text": [
      "+---+-----+------------+\n",
      "|DAY|MONTH|MAX_DIVERTED|\n",
      "+---+-----+------------+\n",
      "|  2|    2|           9|\n",
      "| 14|    2|           7|\n",
      "|  5|    3|           7|\n",
      "|  1|    3|           7|\n",
      "|  4|    3|           6|\n",
      "|  2|    3|           6|\n",
      "| 18|    1|           5|\n",
      "|  7|    1|           5|\n",
      "|  1|    2|           5|\n",
      "| 11|    1|           5|\n",
      "| 23|    2|           5|\n",
      "| 30|    1|           5|\n",
      "|  8|    1|           4|\n",
      "|  9|    2|           4|\n",
      "| 21|    2|           4|\n",
      "| 31|    1|           3|\n",
      "| 12|    1|           3|\n",
      "| 16|    2|           3|\n",
      "|  9|    1|           3|\n",
      "|  3|    3|           3|\n",
      "+---+-----+------------+\n",
      "only showing top 20 rows\n",
      "\n"
     ]
    }
   ],
   "source": [
    "spark.sql(\"select DAY,MONTH, count(*) as MAX_DIVERTED from flights_table where DIVERTED = 1 group by DAY,MONTH order by MAX_DIVERTED desc\").show()"
   ]
  },
  {
   "cell_type": "markdown",
   "id": "771ba0a1",
   "metadata": {},
   "source": [
    "### n)calculate mean and standard deviation of departure delay"
   ]
  },
  {
   "cell_type": "code",
   "execution_count": 1,
   "id": "c3335c1b",
   "metadata": {},
   "outputs": [],
   "source": [
    "from pyspark.sql.functions import (col,floor)"
   ]
  },
  {
   "cell_type": "code",
   "execution_count": 13,
   "id": "3c5d263c",
   "metadata": {},
   "outputs": [],
   "source": [
    "arrival_delay_min = flight_df.withColumn('DEPARTURE_DELAY_MINUTES', col(\"DEPARTURE_DELAY\")%60).withColumn(\"ARRIVAL_DELAY_MINUTES\",col(\"ARRIVAL_DELAY\")%60)"
   ]
  },
  {
   "cell_type": "code",
   "execution_count": 14,
   "id": "fb8fd005",
   "metadata": {},
   "outputs": [],
   "source": [
    "arrival_delay_min.createOrReplaceTempView(\"flight_df_delay_in_minutes\")"
   ]
  },
  {
   "cell_type": "code",
   "execution_count": 18,
   "id": "29929f0e",
   "metadata": {},
   "outputs": [
    {
     "name": "stdout",
     "output_type": "stream",
     "text": [
      "+----------------+------------------+\n",
      "|            MEAN|         STD_DELAY|\n",
      "+----------------+------------------+\n",
      "|4.76619112108788|15.059861202574895|\n",
      "+----------------+------------------+\n",
      "\n"
     ]
    }
   ],
   "source": [
    "spark.sql(\"select avg(DEPARTURE_DELAY_MINUTES) as MEAN, std(DEPARTURE_DELAY_MINUTES) as STD_DELAY from flight_df_delay_in_minutes\").show()"
   ]
  },
  {
   "cell_type": "markdown",
   "id": "4e0a0305",
   "metadata": {},
   "source": [
    "### o) calculate mean and standard deviation of arrival delay"
   ]
  },
  {
   "cell_type": "code",
   "execution_count": 20,
   "id": "27f00391",
   "metadata": {},
   "outputs": [
    {
     "name": "stdout",
     "output_type": "stream",
     "text": [
      "+------------------+------------------+\n",
      "|              MEAN|STANDARD_DEVIATION|\n",
      "+------------------+------------------+\n",
      "|0.7675518641290179|19.194346550499723|\n",
      "+------------------+------------------+\n",
      "\n"
     ]
    }
   ],
   "source": [
    "spark.sql(\"select avg(ARRIVAL_DELAY_MINUTES) as MEAN, std(ARRIVAL_DELAY_MINUTES) as STANDARD_DEVIATION from flight_df_delay_in_minutes\").show()"
   ]
  },
  {
   "cell_type": "markdown",
   "id": "b975e690",
   "metadata": {},
   "source": [
    "### p) finding all diverted route from source to destination airport & which route is the most diverted"
   ]
  },
  {
   "cell_type": "code",
   "execution_count": 32,
   "id": "6ad798da",
   "metadata": {},
   "outputs": [
    {
     "name": "stdout",
     "output_type": "stream",
     "text": [
      "+--------------+-------------------+------------+-------------------+\n",
      "|ORIGIN_AIRPORT|DESTINATION_AIRPORT|DIVERT_COUNT|          RouteType|\n",
      "+--------------+-------------------+------------+-------------------+\n",
      "|           STT|                PHL|           2|                   |\n",
      "|           PHL|                SAN|           2|                   |\n",
      "|           HOU|                DAL|           2|                   |\n",
      "|           TPA|                LGA|           2|Most Diverted Route|\n",
      "|           IAH|                ASE|           2|                   |\n",
      "|           JFK|                EGE|           2|                   |\n",
      "|           JFK|                SEA|           2|                   |\n",
      "|           ORD|                ASE|           2|                   |\n",
      "|           CLT|                IAH|           2|                   |\n",
      "|           FLL|                BWI|           1|                   |\n",
      "|           SLC|                RDM|           1|                   |\n",
      "|           SFO|                BOI|           1|                   |\n",
      "|           ATL|                LGA|           1|                   |\n",
      "|           SLC|                SUN|           1|                   |\n",
      "|           CLT|                MIA|           1|                   |\n",
      "|           BOS|                LAS|           1|                   |\n",
      "|           IAH|                ISN|           1|                   |\n",
      "|           LAX|                ASE|           1|                   |\n",
      "|           ATL|                GTR|           1|                   |\n",
      "|           BHM|                LGA|           1|                   |\n",
      "+--------------+-------------------+------------+-------------------+\n",
      "only showing top 20 rows\n",
      "\n"
     ]
    }
   ],
   "source": [
    "spark.sql(\"\"\"\n",
    "with DIVERT_ROUTE AS(\n",
    "\tselect ORIGIN_AIRPORT,DESTINATION_AIRPORT,\n",
    "\tcount(*) AS DIVERT_COUNT\n",
    "\tfrom flights_table\n",
    "\twhere DIVERTED = 1\n",
    "\tgroup by ORIGIN_AIRPORT,DESTINATION_AIRPORT\n",
    "),\n",
    "MAX_DIVERTED_ROUTE AS(\n",
    "\tselect ORIGIN_AIRPORT,DESTINATION_AIRPORT,DIVERT_COUNT\n",
    "\tfrom DIVERT_ROUTE\n",
    "\torder by DIVERT_COUNT desc\n",
    "\tLIMIT 1\n",
    ")\n",
    "select dir.ORIGIN_AIRPORT,dir.DESTINATION_AIRPORT,dir.DIVERT_COUNT,\n",
    "case WHEN dir.ORIGIN_AIRPORT = mdir.ORIGIN_AIRPORT and dir.DESTINATION_AIRPORT = mdir.DESTINATION_AIRPORT\n",
    "then 'Most Diverted Route' else '' end AS RouteType\n",
    "from DIVERT_ROUTE dir\n",
    "left join MAX_DIVERTED_ROUTE mdir\n",
    "on dir.ORIGIN_AIRPORT = mdir.ORIGIN_AIRPORT and dir.DESTINATION_AIRPORT = mdir.DESTINATION_AIRPORT\n",
    "order by dir.DIVERT_COUNT desc\n",
    "\"\"\").show()"
   ]
  },
  {
   "cell_type": "markdown",
   "id": "e1d59ff0",
   "metadata": {},
   "source": [
    "### q)Finding AIRLINES with its total flight count, total number of flights arrival delayed by more than 30 Minutes, % of such flights delayed by more than 30 minutes when it is not Weekends with minimum count of flights from Airlines by more than 10. Also Exclude some of Airlines 'AK', 'HI', 'PR', 'VI' and arrange output in descending order by % of such count of flights. "
   ]
  },
  {
   "cell_type": "code",
   "execution_count": 33,
   "id": "60397ed4",
   "metadata": {},
   "outputs": [
    {
     "name": "stdout",
     "output_type": "stream",
     "text": [
      "+-------+-------------+--------------------+------------------+\n",
      "|AIRLINE|TOTAL_FLIGHTS|FLIGHT_ARRIVAL_DELAY|     PERCENT_DELAY|\n",
      "+-------+-------------+--------------------+------------------+\n",
      "|     F9|          794|                 139|17.506297229219143|\n",
      "|     MQ|         3502|                 601| 17.16162193032553|\n",
      "|     B6|         2548|                 360|14.128728414442701|\n",
      "|     NK|         1048|                 139|13.263358778625955|\n",
      "|     EV|         5916|                 665|11.240703177822853|\n",
      "|     OO|         5708|                 633|11.089698668535389|\n",
      "|     UA|         4701|                 497| 10.57221867687726|\n",
      "|     AA|         5250|                 484| 9.219047619047618|\n",
      "|     VX|          573|                  47| 8.202443280977311|\n",
      "|     US|         3925|                 310| 7.898089171974522|\n",
      "|     DL|         7989|                 592| 7.410189009888597|\n",
      "|     WN|        11738|                 869|  7.40330550349293|\n",
      "|     AS|         1586|                  64|  4.03530895334174|\n",
      "|     HA|          722|                  23|3.1855955678670362|\n",
      "+-------+-------------+--------------------+------------------+\n",
      "\n"
     ]
    }
   ],
   "source": [
    "spark.sql(\"\"\"\n",
    "WITH FILTER_FLIGHT AS (\n",
    "\tselect\n",
    "    \tAIRLINE,\n",
    "    \tcount(*) AS TOTAL_FLIGHTS,\n",
    "    \tsum(case when ARRIVAL_DELAY > 30 and DAY_OF_WEEK NOT IN (6, 7) then 1 else 0 end) as FLIGHT_ARRIVAL_DELAY\n",
    "\tfrom flights_table\n",
    "\twhere AIRLINE not in ('AK', 'HI', 'PR', 'VI')\n",
    "\tgroup by AIRLINE\n",
    "\thaving TOTAL_FLIGHTS > 10\n",
    "),\n",
    "DELAY_PERCENT AS (\n",
    "\tselect\n",
    "    \tAIRLINE,\n",
    "    \tTOTAL_FLIGHTS,\n",
    "    \tFLIGHT_ARRIVAL_DELAY,\n",
    "    \t(FLIGHT_ARRIVAL_DELAY / TOTAL_FLIGHTS) * 100 AS PERCENT_DELAY\n",
    "\tfrom FILTER_FLIGHT\n",
    ")\n",
    "select\n",
    "\tAIRLINE,\n",
    "\tTOTAL_FLIGHTS,\n",
    "\tFLIGHT_ARRIVAL_DELAY,\n",
    "\tPERCENT_DELAY\n",
    "from DELAY_PERCENT\n",
    "order by PERCENT_DELAY desc\n",
    "\"\"\").show()"
   ]
  },
  {
   "cell_type": "markdown",
   "id": "fabbea35",
   "metadata": {},
   "source": [
    "### r) Finding AIRLINES with its total flight count with total number of flights departure delayed by less than 30 Minutes, % of such flights delayed by less than 30 minutes when it is Weekends with minimum count of flights from Airlines by more than 10. Also Exclude some of Airlines 'AK', 'HI', 'PR', 'VI' and arrange output in descending order by % of such count of flights. "
   ]
  },
  {
   "cell_type": "code",
   "execution_count": 35,
   "id": "c6ea9e37",
   "metadata": {},
   "outputs": [
    {
     "name": "stdout",
     "output_type": "stream",
     "text": [
      "+-------+-------------+--------------------+------------------+\n",
      "|AIRLINE|TOTAL_FLIGHTS|FLIGHT_ARRIVAL_DELAY|     PERCENT_DELAY|\n",
      "+-------+-------------+--------------------+------------------+\n",
      "|     AS|         1586|                 411|25.914249684741485|\n",
      "|     HA|          722|                 176| 24.37673130193906|\n",
      "|     NK|         1048|                 253|24.141221374045802|\n",
      "|     DL|         7989|                1825|22.843910376768058|\n",
      "|     AA|         5250|                1194|22.742857142857144|\n",
      "|     WN|        11738|                2654|22.610325438745953|\n",
      "|     VX|          573|                 128|22.338568935427574|\n",
      "|     US|         3925|                 847|21.579617834394902|\n",
      "|     OO|         5708|                1211| 21.21583742116328|\n",
      "|     B6|         2548|                 536|21.036106750392463|\n",
      "|     UA|         4701|                 950| 20.20846628376941|\n",
      "|     EV|         5916|                1173| 19.82758620689655|\n",
      "|     MQ|         3502|                 590| 16.84751570531125|\n",
      "|     F9|          794|                 130|  16.3727959697733|\n",
      "+-------+-------------+--------------------+------------------+\n",
      "\n"
     ]
    }
   ],
   "source": [
    "spark.sql(\"\"\"\n",
    "WITH FILTER_FLIGHT AS (\n",
    "\tselect\n",
    "    \tAIRLINE,\n",
    "    \tcount(*) AS TOTAL_FLIGHTS,\n",
    "    \tsum(case when ARRIVAL_DELAY < 30 and DAY_OF_WEEK in (6, 7) then 1 else 0 end) as FLIGHT_ARRIVAL_DELAY\n",
    "\tfrom flights_table\n",
    "\twhere AIRLINE not in ('AK', 'HI', 'PR', 'VI')\n",
    "\tgroup by AIRLINE\n",
    "\thaving TOTAL_FLIGHTS > 10\n",
    "),\n",
    "DELAY_PERCENT AS (\n",
    "\tselect\n",
    "    \tAIRLINE,\n",
    "    \tTOTAL_FLIGHTS,\n",
    "    \tFLIGHT_ARRIVAL_DELAY,\n",
    "    \t(FLIGHT_ARRIVAL_DELAY / TOTAL_FLIGHTS) * 100 AS PERCENT_DELAY\n",
    "\tfrom FILTER_FLIGHT\n",
    ")\n",
    "select\n",
    "\tAIRLINE,\n",
    "\tTOTAL_FLIGHTS,\n",
    "\tFLIGHT_ARRIVAL_DELAY,\n",
    "\tPERCENT_DELAY\n",
    "from DELAY_PERCENT\n",
    "order by PERCENT_DELAY desc\n",
    "\"\"\").show()"
   ]
  },
  {
   "cell_type": "markdown",
   "id": "2fa04589",
   "metadata": {},
   "source": [
    "### s) When is the best time of the day/day of week/time of a year to fly with minimum delay"
   ]
  },
  {
   "cell_type": "code",
   "execution_count": 36,
   "id": "670cc24b",
   "metadata": {},
   "outputs": [
    {
     "name": "stdout",
     "output_type": "stream",
     "text": [
      "+-----------+-----------------+\n",
      "|DAY_OF_WEEK|              AVG|\n",
      "+-----------+-----------------+\n",
      "|          6|4.888689138576779|\n",
      "+-----------+-----------------+\n",
      "\n"
     ]
    }
   ],
   "source": [
    "spark.sql(\"select DAY_OF_WEEK,avg(ARRIVAL_DELAY) as AVG from flights_table group by DAY_OF_WEEK order by AVG asc Limit 1\").show()"
   ]
  },
  {
   "cell_type": "markdown",
   "id": "b7ef26b4",
   "metadata": {},
   "source": [
    "### t)Which airlines are best airline to travel considering number of cancellations, arrival, departure delays and all reasons affecting performance of airline industry"
   ]
  },
  {
   "cell_type": "code",
   "execution_count": 38,
   "id": "f792775b",
   "metadata": {},
   "outputs": [
    {
     "name": "stdout",
     "output_type": "stream",
     "text": [
      "+-------+------------+---------------+-----------------+-------------------+\n",
      "|AIRLINE|TOTAL_FLIGHT|TOTAL_CANCELLED|AVG_ARRIVAL_DELAY|AVG_DEPARTURE_DELAY|\n",
      "+-------+------------+---------------+-----------------+-------------------+\n",
      "|     HA|         722|              3|             2924|                851|\n",
      "|     F9|         794|             11|            18873|              18412|\n",
      "|     AS|        1586|             12|            -2411|               3680|\n",
      "|     VX|         573|             13|             2872|               5520|\n",
      "|     NK|        1048|             21|            14590|              16017|\n",
      "|     UA|        4701|            122|            30613|              65534|\n",
      "|     B6|        2548|            145|            33319|              38613|\n",
      "|     OO|        5708|            153|            56156|              64516|\n",
      "|     US|        3925|            169|            22397|              29375|\n",
      "|     DL|        7989|            177|            21936|              77642|\n",
      "+-------+------------+---------------+-----------------+-------------------+\n",
      "\n"
     ]
    }
   ],
   "source": [
    "spark.sql(\"\"\"\n",
    "WITH FLIGHT_DATA AS(\n",
    "SELECT\n",
    "\tAIRLINE,COUNT(*) AS TOTAL_FLIGHT,\n",
    "\tSUM(CASE WHEN CANCELLED=1 THEN 1 ELSE 0 END) AS TOTAL_CANCELLED,\n",
    "\tSUM(CASE WHEN ARRIVAL_DELAY IS NOT NULL THEN ARRIVAL_DELAY ELSE 0 END) AS AVG_ARRIVAL_DELAY,\n",
    "\tSUM(CASE WHEN DEPARTURE_DELAY IS NOT NULL THEN DEPARTURE_DELAY ELSE 0 END) AS AVG_DEPARTURE_DELAY\n",
    "FROM flights_table\n",
    "GROUP BY AIRLINE\n",
    "),\n",
    "RANKED_AIRLINE AS(\n",
    "SELECT\n",
    "\tAIRLINE,\n",
    "\tTOTAL_FLIGHT,\n",
    "\tTOTAL_CANCELLED,\n",
    "\tAVG_ARRIVAL_DELAY,\n",
    "\tAVG_DEPARTURE_DELAY,\n",
    "\tRANK() OVER (ORDER BY TOTAL_CANCELLED ASC,AVG_ARRIVAL_DELAY ASC,AVG_DEPARTURE_DELAY ASC) AS RANK\n",
    "FROM\n",
    "\tFLIGHT_DATA\n",
    ")\n",
    "\n",
    "SELECT\n",
    "\tAIRLINE,\n",
    "\tTOTAL_FLIGHT,\n",
    "\tTOTAL_CANCELLED,\n",
    "\tAVG_ARRIVAL_DELAY,\n",
    "\tAVG_DEPARTURE_DELAY\n",
    "FROM\n",
    "\tRANKED_AIRLINE\n",
    "order by\n",
    "\tRANK asc\n",
    "limit 10\n",
    "\"\"\").show()"
   ]
  },
  {
   "cell_type": "code",
   "execution_count": null,
   "id": "7ff9c920",
   "metadata": {},
   "outputs": [],
   "source": []
  }
 ],
 "metadata": {
  "kernelspec": {
   "display_name": "Python 3",
   "language": "python",
   "name": "python3"
  },
  "language_info": {
   "codemirror_mode": {
    "name": "ipython",
    "version": 3
   },
   "file_extension": ".py",
   "mimetype": "text/x-python",
   "name": "python",
   "nbconvert_exporter": "python",
   "pygments_lexer": "ipython3",
   "version": "3.6.9"
  }
 },
 "nbformat": 4,
 "nbformat_minor": 5
}
