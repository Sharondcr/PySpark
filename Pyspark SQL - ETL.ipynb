{
 "cells": [
  {
   "cell_type": "code",
   "execution_count": 1,
   "id": "93b0294d",
   "metadata": {},
   "outputs": [
    {
     "data": {
      "text/html": [
       "\n",
       "        <div>\n",
       "            <p><b>SparkContext</b></p>\n",
       "\n",
       "            <p><a href=\"http://10.0.2.15:4040\">Spark UI</a></p>\n",
       "\n",
       "            <dl>\n",
       "              <dt>Version</dt>\n",
       "                <dd><code>v2.4.8</code></dd>\n",
       "              <dt>Master</dt>\n",
       "                <dd><code>local[*]</code></dd>\n",
       "              <dt>AppName</dt>\n",
       "                <dd><code>PySparkShell</code></dd>\n",
       "            </dl>\n",
       "        </div>\n",
       "        "
      ],
      "text/plain": [
       "<SparkContext master=local[*] appName=PySparkShell>"
      ]
     },
     "execution_count": 1,
     "metadata": {},
     "output_type": "execute_result"
    }
   ],
   "source": [
    "sc"
   ]
  },
  {
   "cell_type": "code",
   "execution_count": 2,
   "id": "2b434536",
   "metadata": {},
   "outputs": [
    {
     "data": {
      "text/html": [
       "\n",
       "            <div>\n",
       "                <p><b>SparkSession - hive</b></p>\n",
       "                \n",
       "        <div>\n",
       "            <p><b>SparkContext</b></p>\n",
       "\n",
       "            <p><a href=\"http://10.0.2.15:4040\">Spark UI</a></p>\n",
       "\n",
       "            <dl>\n",
       "              <dt>Version</dt>\n",
       "                <dd><code>v2.4.8</code></dd>\n",
       "              <dt>Master</dt>\n",
       "                <dd><code>local[*]</code></dd>\n",
       "              <dt>AppName</dt>\n",
       "                <dd><code>PySparkShell</code></dd>\n",
       "            </dl>\n",
       "        </div>\n",
       "        \n",
       "            </div>\n",
       "        "
      ],
      "text/plain": [
       "<pyspark.sql.session.SparkSession at 0x7f0e84b53400>"
      ]
     },
     "execution_count": 2,
     "metadata": {},
     "output_type": "execute_result"
    }
   ],
   "source": [
    "spark"
   ]
  },
  {
   "cell_type": "code",
   "execution_count": 1,
   "id": "043b729b",
   "metadata": {},
   "outputs": [],
   "source": [
    "spark.stop()"
   ]
  },
  {
   "cell_type": "code",
   "execution_count": 2,
   "id": "0f604097",
   "metadata": {},
   "outputs": [],
   "source": [
    "from pyspark.sql import SparkSession\n",
    "myssql_connector_path = \"/home/hadoop/Downloads/mysql-connector-java-8.0.13.jar\""
   ]
  },
  {
   "cell_type": "code",
   "execution_count": 3,
   "id": "5bf78062",
   "metadata": {},
   "outputs": [],
   "source": [
    "spark = SparkSession.builder.appName(\"ETL Pipeline\").getOrCreate()"
   ]
  },
  {
   "cell_type": "code",
   "execution_count": 4,
   "id": "fcf7b776",
   "metadata": {},
   "outputs": [],
   "source": [
    "hremployeeDF = spark.read.format(\"jdbc\")\\\n",
    ".option(\"url\",\"jdbc:mysql://localhost:3306/hremployeeDB\")\\\n",
    ".option(\"dbtable\",\"hremployee\").option(\"user\",\"root\").option(\"password\",\"hadoop@123\")\\\n",
    ".option(\"driver\", \"com.mysql.cj.jdbc.Driver\").load()"
   ]
  },
  {
   "cell_type": "code",
   "execution_count": 5,
   "id": "55b8929f",
   "metadata": {
    "collapsed": true
   },
   "outputs": [
    {
     "name": "stdout",
     "output_type": "stream",
     "text": [
      "+----------+--------------------+--------------------+---------+------+---+-------------+-------------+--------------+-----------------+--------------+--------+---------------+----------+------+----------+--------+------+-----------------------+---------------+---------------------+---------------+------------------+\n",
      "|EmployeeID|          Department|             JobRole|Attrition|Gender|Age|MaritalStatus|    Education|EducationField|   BusinessTravel|JobInvolvement|JobLevel|JobSatisfaction|Hourlyrate|Income|Salaryhike|OverTime|Workex|YearsSinceLastPromotion|EmpSatisfaction|TrainingTimesLastYear|WorkLifeBalance|Performance_Rating|\n",
      "+----------+--------------------+--------------------+---------+------+---+-------------+-------------+--------------+-----------------+--------------+--------+---------------+----------+------+----------+--------+------+-----------------------+---------------+---------------------+---------------+------------------+\n",
      "|         1|               Sales|     Sales Executive|      Yes|Female| 41|       Single|      College| Life Sciences|    Travel_Rarely|          High|       2|      Very High|        94|  5993|        11|     Yes|     8|                      0|         Medium|                    0|            Bad|        Excellent\r",
      "|\n",
      "|         2|Research & Develo...|  Research Scientist|       No|  Male| 49|      Married|Below College| Life Sciences|Travel_Frequently|        Medium|       2|         Medium|        61|  5130|        23|      No|    10|                      1|           High|                    3|         Better|      Outstanding\r",
      "|\n",
      "|         3|Research & Develo...|Laboratory Techni...|      Yes|  Male| 37|       Single|      College|         Other|    Travel_Rarely|        Medium|       1|           High|        92|  2090|        15|     Yes|     7|                      0|      Very High|                    3|         Better|        Excellent\r",
      "|\n",
      "|         4|Research & Develo...|  Research Scientist|       No|Female| 33|      Married|       Master| Life Sciences|Travel_Frequently|          High|       1|           High|        56|  2909|        11|     Yes|     8|                      3|      Very High|                    3|         Better|        Excellent\r",
      "|\n",
      "|         5|Research & Develo...|Laboratory Techni...|       No|  Male| 27|      Married|Below College|       Medical|    Travel_Rarely|          High|       1|         Medium|        40|  3468|        12|      No|     6|                      2|            Low|                    3|         Better|        Excellent\r",
      "|\n",
      "|         6|Research & Develo...|Laboratory Techni...|       No|  Male| 32|       Single|      College| Life Sciences|Travel_Frequently|          High|       1|      Very High|        79|  3068|        13|      No|     8|                      3|      Very High|                    2|           Good|        Excellent\r",
      "|\n",
      "|         7|Research & Develo...|Laboratory Techni...|       No|Female| 59|      Married|     Bachelor|       Medical|    Travel_Rarely|     Very High|       1|            Low|        81|  2670|        20|     Yes|    12|                      0|           High|                    3|           Good|      Outstanding\r",
      "|\n",
      "|         8|Research & Develo...|Laboratory Techni...|       No|  Male| 30|     Divorced|Below College| Life Sciences|    Travel_Rarely|          High|       1|           High|        67|  2693|        22|      No|     1|                      0|      Very High|                    2|         Better|      Outstanding\r",
      "|\n",
      "|         9|Research & Develo...|Manufacturing Dir...|       No|  Male| 38|       Single|     Bachelor| Life Sciences|Travel_Frequently|        Medium|       3|           High|        44|  9526|        21|      No|    10|                      1|      Very High|                    2|         Better|      Outstanding\r",
      "|\n",
      "|        10|Research & Develo...|Healthcare Repres...|       No|  Male| 36|      Married|     Bachelor|       Medical|    Travel_Rarely|          High|       2|           High|        94|  5237|        13|      No|    17|                      7|           High|                    3|           Good|        Excellent\r",
      "|\n",
      "|        11|Research & Develo...|Laboratory Techni...|       No|  Male| 35|      Married|     Bachelor|       Medical|    Travel_Rarely|     Very High|       1|         Medium|        84|  2426|        13|      No|     6|                      0|            Low|                    5|         Better|        Excellent\r",
      "|\n",
      "|        12|Research & Develo...|Laboratory Techni...|       No|Female| 29|       Single|      College| Life Sciences|    Travel_Rarely|        Medium|       2|           High|        49|  4193|        12|     Yes|    10|                      0|      Very High|                    3|         Better|        Excellent\r",
      "|\n",
      "|        13|Research & Develo...|  Research Scientist|       No|  Male| 31|     Divorced|Below College| Life Sciences|    Travel_Rarely|          High|       1|           High|        31|  2911|        17|      No|     5|                      4|            Low|                    1|           Good|        Excellent\r",
      "|\n",
      "|        14|Research & Develo...|Laboratory Techni...|       No|  Male| 34|     Divorced|      College|       Medical|    Travel_Rarely|          High|       1|      Very High|        93|  2661|        11|      No|     3|                      1|         Medium|                    2|         Better|        Excellent\r",
      "|\n",
      "|        15|Research & Develo...|Laboratory Techni...|      Yes|  Male| 28|       Single|     Bachelor| Life Sciences|    Travel_Rarely|        Medium|       1|           High|        50|  2028|        14|     Yes|     6|                      0|           High|                    4|         Better|        Excellent\r",
      "|\n",
      "|        16|Research & Develo...|Manufacturing Dir...|       No|Female| 29|     Divorced|       Master| Life Sciences|    Travel_Rarely|     Very High|       3|            Low|        51|  9980|        11|      No|    10|                      8|         Medium|                    1|         Better|        Excellent\r",
      "|\n",
      "|        17|Research & Develo...|  Research Scientist|       No|  Male| 32|     Divorced|      College| Life Sciences|    Travel_Rarely|     Very High|       1|         Medium|        80|  3298|        12|     Yes|     7|                      0|            Low|                    5|           Good|        Excellent\r",
      "|\n",
      "|        18|Research & Develo...|Laboratory Techni...|       No|  Male| 22|     Divorced|      College|       Medical|       Non-Travel|     Very High|       1|      Very High|        96|  2935|        13|     Yes|     1|                      0|      Very High|                    2|           Good|        Excellent\r",
      "|\n",
      "|        19|               Sales|             Manager|       No|Female| 53|      Married|       Master| Life Sciences|    Travel_Rarely|        Medium|       4|      Very High|        78| 15427|        16|      No|    31|                      3|            Low|                    3|         Better|        Excellent\r",
      "|\n",
      "|        20|Research & Develo...|  Research Scientist|       No|  Male| 38|       Single|     Bachelor| Life Sciences|    Travel_Rarely|          High|       1|      Very High|        45|  3944|        11|     Yes|     6|                      1|      Very High|                    3|         Better|        Excellent\r",
      "|\n",
      "+----------+--------------------+--------------------+---------+------+---+-------------+-------------+--------------+-----------------+--------------+--------+---------------+----------+------+----------+--------+------+-----------------------+---------------+---------------------+---------------+------------------+\n",
      "only showing top 20 rows\n",
      "\n"
     ]
    }
   ],
   "source": [
    "hremployeeDF.show()"
   ]
  },
  {
   "cell_type": "code",
   "execution_count": 7,
   "id": "3322027b",
   "metadata": {},
   "outputs": [],
   "source": [
    "hremployeeDF.createOrReplaceTempView('hremployee')"
   ]
  },
  {
   "cell_type": "code",
   "execution_count": 8,
   "id": "ed17c8fb",
   "metadata": {},
   "outputs": [
    {
     "name": "stdout",
     "output_type": "stream",
     "text": [
      "== Physical Plan ==\n",
      "*(1) Scan JDBCRelation(hremployee) [numPartitions=1] [EmployeeID#0,Department#1,JobRole#2,Attrition#3,Gender#4,Age#5,MaritalStatus#6,Education#7,EducationField#8,BusinessTravel#9,JobInvolvement#10,JobLevel#11,JobSatisfaction#12,Hourlyrate#13,Income#14,Salaryhike#15,OverTime#16,Workex#17,YearsSinceLastPromotion#18,EmpSatisfaction#19,TrainingTimesLastYear#20,WorkLifeBalance#21,Performance_Rating#22] PushedFilters: [], ReadSchema: struct<EmployeeID:string,Department:string,JobRole:string,Attrition:string,Gender:string,Age:int,...\n"
     ]
    }
   ],
   "source": [
    "hremployeeDF.explain()"
   ]
  },
  {
   "cell_type": "markdown",
   "id": "024fb605",
   "metadata": {},
   "source": [
    "### Display no of rows and no of cols\n",
    "           * show the number of records and number of column"
   ]
  },
  {
   "cell_type": "code",
   "execution_count": 16,
   "id": "64f5499f",
   "metadata": {
    "collapsed": true
   },
   "outputs": [
    {
     "ename": "AnalysisException",
     "evalue": "\"Table or view not found: `hremployee`.`columns`; line 2 pos 52;\\n'Aggregate [count(1) AS ROW_COUNT#108L, scalar-subquery#109 [] AS COL_COUNT#110]\\n:  +- 'Aggregate [unresolvedalias(count(1), None)]\\n:     +- 'UnresolvedRelation `hremployee`.`columns`\\n+- SubqueryAlias `hremployee`\\n   +- Relation[EmployeeID#10,Department#11,JobRole#12,Attrition#13,Gender#14,Age#15,MaritalStatus#16,Education#17,EducationField#18,BusinessTravel#19,JobInvolvement#20,JobLevel#21,JobSatisfaction#22,Hourlyrate#23,Income#24,Salaryhike#25,OverTime#26,Workex#27,YearsSinceLastPromotion#28,EmpSatisfaction#29,TrainingTimesLastYear#30,WorkLifeBalance#31,Performance_Rating#32] csv\\n\"",
     "output_type": "error",
     "traceback": [
      "\u001b[0;31m---------------------------------------------------------------------------\u001b[0m",
      "\u001b[0;31mPy4JJavaError\u001b[0m                             Traceback (most recent call last)",
      "\u001b[0;32m/usr/local/spark/python/pyspark/sql/utils.py\u001b[0m in \u001b[0;36mdeco\u001b[0;34m(*a, **kw)\u001b[0m\n\u001b[1;32m     62\u001b[0m         \u001b[0;32mtry\u001b[0m\u001b[0;34m:\u001b[0m\u001b[0;34m\u001b[0m\u001b[0;34m\u001b[0m\u001b[0m\n\u001b[0;32m---> 63\u001b[0;31m             \u001b[0;32mreturn\u001b[0m \u001b[0mf\u001b[0m\u001b[0;34m(\u001b[0m\u001b[0;34m*\u001b[0m\u001b[0ma\u001b[0m\u001b[0;34m,\u001b[0m \u001b[0;34m**\u001b[0m\u001b[0mkw\u001b[0m\u001b[0;34m)\u001b[0m\u001b[0;34m\u001b[0m\u001b[0;34m\u001b[0m\u001b[0m\n\u001b[0m\u001b[1;32m     64\u001b[0m         \u001b[0;32mexcept\u001b[0m \u001b[0mpy4j\u001b[0m\u001b[0;34m.\u001b[0m\u001b[0mprotocol\u001b[0m\u001b[0;34m.\u001b[0m\u001b[0mPy4JJavaError\u001b[0m \u001b[0;32mas\u001b[0m \u001b[0me\u001b[0m\u001b[0;34m:\u001b[0m\u001b[0;34m\u001b[0m\u001b[0;34m\u001b[0m\u001b[0m\n",
      "\u001b[0;32m/usr/local/spark/python/lib/py4j-0.10.7-src.zip/py4j/protocol.py\u001b[0m in \u001b[0;36mget_return_value\u001b[0;34m(answer, gateway_client, target_id, name)\u001b[0m\n\u001b[1;32m    327\u001b[0m                     \u001b[0;34m\"An error occurred while calling {0}{1}{2}.\\n\"\u001b[0m\u001b[0;34m.\u001b[0m\u001b[0;34m\u001b[0m\u001b[0;34m\u001b[0m\u001b[0m\n\u001b[0;32m--> 328\u001b[0;31m                     format(target_id, \".\", name), value)\n\u001b[0m\u001b[1;32m    329\u001b[0m             \u001b[0;32melse\u001b[0m\u001b[0;34m:\u001b[0m\u001b[0;34m\u001b[0m\u001b[0;34m\u001b[0m\u001b[0m\n",
      "\u001b[0;31mPy4JJavaError\u001b[0m: An error occurred while calling o25.sql.\n: org.apache.spark.sql.AnalysisException: Table or view not found: `hremployee`.`columns`; line 2 pos 52;\n'Aggregate [count(1) AS ROW_COUNT#108L, scalar-subquery#109 [] AS COL_COUNT#110]\n:  +- 'Aggregate [unresolvedalias(count(1), None)]\n:     +- 'UnresolvedRelation `hremployee`.`columns`\n+- SubqueryAlias `hremployee`\n   +- Relation[EmployeeID#10,Department#11,JobRole#12,Attrition#13,Gender#14,Age#15,MaritalStatus#16,Education#17,EducationField#18,BusinessTravel#19,JobInvolvement#20,JobLevel#21,JobSatisfaction#22,Hourlyrate#23,Income#24,Salaryhike#25,OverTime#26,Workex#27,YearsSinceLastPromotion#28,EmpSatisfaction#29,TrainingTimesLastYear#30,WorkLifeBalance#31,Performance_Rating#32] csv\n\n\tat org.apache.spark.sql.catalyst.analysis.package$AnalysisErrorAt.failAnalysis(package.scala:42)\n\tat org.apache.spark.sql.catalyst.analysis.CheckAnalysis$$anonfun$checkAnalysis$1.apply(CheckAnalysis.scala:93)\n\tat org.apache.spark.sql.catalyst.analysis.CheckAnalysis$$anonfun$checkAnalysis$1.apply(CheckAnalysis.scala:88)\n\tat org.apache.spark.sql.catalyst.trees.TreeNode.foreachUp(TreeNode.scala:126)\n\tat org.apache.spark.sql.catalyst.trees.TreeNode$$anonfun$foreachUp$1.apply(TreeNode.scala:125)\n\tat org.apache.spark.sql.catalyst.trees.TreeNode$$anonfun$foreachUp$1.apply(TreeNode.scala:125)\n\tat scala.collection.immutable.List.foreach(List.scala:392)\n\tat org.apache.spark.sql.catalyst.trees.TreeNode.foreachUp(TreeNode.scala:125)\n\tat org.apache.spark.sql.catalyst.analysis.CheckAnalysis$class.checkAnalysis(CheckAnalysis.scala:88)\n\tat org.apache.spark.sql.catalyst.analysis.Analyzer.checkAnalysis(Analyzer.scala:95)\n\tat org.apache.spark.sql.catalyst.analysis.CheckAnalysis$class.org$apache$spark$sql$catalyst$analysis$CheckAnalysis$$checkSubqueryExpression(CheckAnalysis.scala:483)\n\tat org.apache.spark.sql.catalyst.analysis.CheckAnalysis$$anonfun$checkAnalysis$1$$anonfun$apply$3.applyOrElse(CheckAnalysis.scala:158)\n\tat org.apache.spark.sql.catalyst.analysis.CheckAnalysis$$anonfun$checkAnalysis$1$$anonfun$apply$3.applyOrElse(CheckAnalysis.scala:110)\n\tat org.apache.spark.sql.catalyst.trees.TreeNode$$anonfun$transformUp$1.apply(TreeNode.scala:280)\n\tat org.apache.spark.sql.catalyst.trees.TreeNode$$anonfun$transformUp$1.apply(TreeNode.scala:280)\n\tat org.apache.spark.sql.catalyst.trees.CurrentOrigin$.withOrigin(TreeNode.scala:69)\n\tat org.apache.spark.sql.catalyst.trees.TreeNode.transformUp(TreeNode.scala:279)\n\tat org.apache.spark.sql.catalyst.trees.TreeNode$$anonfun$3.apply(TreeNode.scala:277)\n\tat org.apache.spark.sql.catalyst.trees.TreeNode$$anonfun$3.apply(TreeNode.scala:277)\n\tat org.apache.spark.sql.catalyst.trees.TreeNode$$anonfun$4.apply(TreeNode.scala:328)\n\tat org.apache.spark.sql.catalyst.trees.TreeNode.mapProductIterator(TreeNode.scala:186)\n\tat org.apache.spark.sql.catalyst.trees.TreeNode.mapChildren(TreeNode.scala:326)\n\tat org.apache.spark.sql.catalyst.trees.TreeNode.transformUp(TreeNode.scala:277)\n\tat org.apache.spark.sql.catalyst.plans.QueryPlan$$anonfun$transformExpressionsUp$1.apply(QueryPlan.scala:93)\n\tat org.apache.spark.sql.catalyst.plans.QueryPlan$$anonfun$transformExpressionsUp$1.apply(QueryPlan.scala:93)\n\tat org.apache.spark.sql.catalyst.plans.QueryPlan$$anonfun$1.apply(QueryPlan.scala:105)\n\tat org.apache.spark.sql.catalyst.plans.QueryPlan$$anonfun$1.apply(QueryPlan.scala:105)\n\tat org.apache.spark.sql.catalyst.trees.CurrentOrigin$.withOrigin(TreeNode.scala:69)\n\tat org.apache.spark.sql.catalyst.plans.QueryPlan.transformExpression$1(QueryPlan.scala:104)\n\tat org.apache.spark.sql.catalyst.plans.QueryPlan.org$apache$spark$sql$catalyst$plans$QueryPlan$$recursiveTransform$1(QueryPlan.scala:116)\n\tat org.apache.spark.sql.catalyst.plans.QueryPlan$$anonfun$org$apache$spark$sql$catalyst$plans$QueryPlan$$recursiveTransform$1$2.apply(QueryPlan.scala:121)\n\tat scala.collection.TraversableLike$$anonfun$map$1.apply(TraversableLike.scala:234)\n\tat scala.collection.TraversableLike$$anonfun$map$1.apply(TraversableLike.scala:234)\n\tat scala.collection.immutable.List.foreach(List.scala:392)\n\tat scala.collection.TraversableLike$class.map(TraversableLike.scala:234)\n\tat scala.collection.immutable.List.map(List.scala:296)\n\tat org.apache.spark.sql.catalyst.plans.QueryPlan.org$apache$spark$sql$catalyst$plans$QueryPlan$$recursiveTransform$1(QueryPlan.scala:121)\n\tat org.apache.spark.sql.catalyst.plans.QueryPlan$$anonfun$2.apply(QueryPlan.scala:126)\n\tat org.apache.spark.sql.catalyst.trees.TreeNode.mapProductIterator(TreeNode.scala:186)\n\tat org.apache.spark.sql.catalyst.plans.QueryPlan.mapExpressions(QueryPlan.scala:126)\n\tat org.apache.spark.sql.catalyst.plans.QueryPlan.transformExpressionsUp(QueryPlan.scala:93)\n\tat org.apache.spark.sql.catalyst.analysis.CheckAnalysis$$anonfun$checkAnalysis$1.apply(CheckAnalysis.scala:110)\n\tat org.apache.spark.sql.catalyst.analysis.CheckAnalysis$$anonfun$checkAnalysis$1.apply(CheckAnalysis.scala:88)\n\tat org.apache.spark.sql.catalyst.trees.TreeNode.foreachUp(TreeNode.scala:126)\n\tat org.apache.spark.sql.catalyst.analysis.CheckAnalysis$class.checkAnalysis(CheckAnalysis.scala:88)\n\tat org.apache.spark.sql.catalyst.analysis.Analyzer.checkAnalysis(Analyzer.scala:95)\n\tat org.apache.spark.sql.catalyst.analysis.Analyzer$$anonfun$executeAndCheck$1.apply(Analyzer.scala:108)\n\tat org.apache.spark.sql.catalyst.analysis.Analyzer$$anonfun$executeAndCheck$1.apply(Analyzer.scala:105)\n\tat org.apache.spark.sql.catalyst.plans.logical.AnalysisHelper$.markInAnalyzer(AnalysisHelper.scala:201)\n\tat org.apache.spark.sql.catalyst.analysis.Analyzer.executeAndCheck(Analyzer.scala:105)\n\tat org.apache.spark.sql.execution.QueryExecution.analyzed$lzycompute(QueryExecution.scala:58)\n\tat org.apache.spark.sql.execution.QueryExecution.analyzed(QueryExecution.scala:56)\n\tat org.apache.spark.sql.execution.QueryExecution.assertAnalyzed(QueryExecution.scala:48)\n\tat org.apache.spark.sql.Dataset$.ofRows(Dataset.scala:78)\n\tat org.apache.spark.sql.SparkSession.sql(SparkSession.scala:643)\n\tat sun.reflect.NativeMethodAccessorImpl.invoke0(Native Method)\n\tat sun.reflect.NativeMethodAccessorImpl.invoke(NativeMethodAccessorImpl.java:62)\n\tat sun.reflect.DelegatingMethodAccessorImpl.invoke(DelegatingMethodAccessorImpl.java:43)\n\tat java.lang.reflect.Method.invoke(Method.java:498)\n\tat py4j.reflection.MethodInvoker.invoke(MethodInvoker.java:244)\n\tat py4j.reflection.ReflectionEngine.invoke(ReflectionEngine.java:357)\n\tat py4j.Gateway.invoke(Gateway.java:282)\n\tat py4j.commands.AbstractCommand.invokeMethod(AbstractCommand.java:132)\n\tat py4j.commands.CallCommand.execute(CallCommand.java:79)\n\tat py4j.GatewayConnection.run(GatewayConnection.java:238)\n\tat java.lang.Thread.run(Thread.java:745)\n",
      "\nDuring handling of the above exception, another exception occurred:\n",
      "\u001b[0;31mAnalysisException\u001b[0m                         Traceback (most recent call last)",
      "\u001b[0;32m<ipython-input-16-7529bf4c4255>\u001b[0m in \u001b[0;36m<module>\u001b[0;34m\u001b[0m\n\u001b[1;32m      1\u001b[0m spark.sql(\"\"\"\n\u001b[1;32m      2\u001b[0m \u001b[0mselect\u001b[0m \u001b[0mcount\u001b[0m\u001b[0;34m(\u001b[0m\u001b[0;34m*\u001b[0m\u001b[0;34m)\u001b[0m \u001b[0;32mas\u001b[0m \u001b[0mROW_COUNT\u001b[0m\u001b[0;34m,\u001b[0m \u001b[0;34m(\u001b[0m\u001b[0mselect\u001b[0m \u001b[0mcount\u001b[0m\u001b[0;34m(\u001b[0m\u001b[0;34m*\u001b[0m\u001b[0;34m)\u001b[0m \u001b[0;32mfrom\u001b[0m \u001b[0mhremployee\u001b[0m\u001b[0;34m.\u001b[0m\u001b[0mcolumns\u001b[0m\u001b[0;34m)\u001b[0m \u001b[0;32mas\u001b[0m \u001b[0mCOL_COUNT\u001b[0m \u001b[0;32mfrom\u001b[0m \u001b[0mhremployee\u001b[0m\u001b[0;34m\u001b[0m\u001b[0;34m\u001b[0m\u001b[0m\n\u001b[0;32m----> 3\u001b[0;31m \"\"\").show()\n\u001b[0m",
      "\u001b[0;32m/usr/local/spark/python/pyspark/sql/session.py\u001b[0m in \u001b[0;36msql\u001b[0;34m(self, sqlQuery)\u001b[0m\n\u001b[1;32m    765\u001b[0m         \u001b[0;34m[\u001b[0m\u001b[0mRow\u001b[0m\u001b[0;34m(\u001b[0m\u001b[0mf1\u001b[0m\u001b[0;34m=\u001b[0m\u001b[0;36m1\u001b[0m\u001b[0;34m,\u001b[0m \u001b[0mf2\u001b[0m\u001b[0;34m=\u001b[0m\u001b[0;34mu'row1'\u001b[0m\u001b[0;34m)\u001b[0m\u001b[0;34m,\u001b[0m \u001b[0mRow\u001b[0m\u001b[0;34m(\u001b[0m\u001b[0mf1\u001b[0m\u001b[0;34m=\u001b[0m\u001b[0;36m2\u001b[0m\u001b[0;34m,\u001b[0m \u001b[0mf2\u001b[0m\u001b[0;34m=\u001b[0m\u001b[0;34mu'row2'\u001b[0m\u001b[0;34m)\u001b[0m\u001b[0;34m,\u001b[0m \u001b[0mRow\u001b[0m\u001b[0;34m(\u001b[0m\u001b[0mf1\u001b[0m\u001b[0;34m=\u001b[0m\u001b[0;36m3\u001b[0m\u001b[0;34m,\u001b[0m \u001b[0mf2\u001b[0m\u001b[0;34m=\u001b[0m\u001b[0;34mu'row3'\u001b[0m\u001b[0;34m)\u001b[0m\u001b[0;34m]\u001b[0m\u001b[0;34m\u001b[0m\u001b[0;34m\u001b[0m\u001b[0m\n\u001b[1;32m    766\u001b[0m         \"\"\"\n\u001b[0;32m--> 767\u001b[0;31m         \u001b[0;32mreturn\u001b[0m \u001b[0mDataFrame\u001b[0m\u001b[0;34m(\u001b[0m\u001b[0mself\u001b[0m\u001b[0;34m.\u001b[0m\u001b[0m_jsparkSession\u001b[0m\u001b[0;34m.\u001b[0m\u001b[0msql\u001b[0m\u001b[0;34m(\u001b[0m\u001b[0msqlQuery\u001b[0m\u001b[0;34m)\u001b[0m\u001b[0;34m,\u001b[0m \u001b[0mself\u001b[0m\u001b[0;34m.\u001b[0m\u001b[0m_wrapped\u001b[0m\u001b[0;34m)\u001b[0m\u001b[0;34m\u001b[0m\u001b[0;34m\u001b[0m\u001b[0m\n\u001b[0m\u001b[1;32m    768\u001b[0m \u001b[0;34m\u001b[0m\u001b[0m\n\u001b[1;32m    769\u001b[0m     \u001b[0;34m@\u001b[0m\u001b[0msince\u001b[0m\u001b[0;34m(\u001b[0m\u001b[0;36m2.0\u001b[0m\u001b[0;34m)\u001b[0m\u001b[0;34m\u001b[0m\u001b[0;34m\u001b[0m\u001b[0m\n",
      "\u001b[0;32m/usr/local/spark/python/lib/py4j-0.10.7-src.zip/py4j/java_gateway.py\u001b[0m in \u001b[0;36m__call__\u001b[0;34m(self, *args)\u001b[0m\n\u001b[1;32m   1255\u001b[0m         \u001b[0manswer\u001b[0m \u001b[0;34m=\u001b[0m \u001b[0mself\u001b[0m\u001b[0;34m.\u001b[0m\u001b[0mgateway_client\u001b[0m\u001b[0;34m.\u001b[0m\u001b[0msend_command\u001b[0m\u001b[0;34m(\u001b[0m\u001b[0mcommand\u001b[0m\u001b[0;34m)\u001b[0m\u001b[0;34m\u001b[0m\u001b[0;34m\u001b[0m\u001b[0m\n\u001b[1;32m   1256\u001b[0m         return_value = get_return_value(\n\u001b[0;32m-> 1257\u001b[0;31m             answer, self.gateway_client, self.target_id, self.name)\n\u001b[0m\u001b[1;32m   1258\u001b[0m \u001b[0;34m\u001b[0m\u001b[0m\n\u001b[1;32m   1259\u001b[0m         \u001b[0;32mfor\u001b[0m \u001b[0mtemp_arg\u001b[0m \u001b[0;32min\u001b[0m \u001b[0mtemp_args\u001b[0m\u001b[0;34m:\u001b[0m\u001b[0;34m\u001b[0m\u001b[0;34m\u001b[0m\u001b[0m\n",
      "\u001b[0;32m/usr/local/spark/python/pyspark/sql/utils.py\u001b[0m in \u001b[0;36mdeco\u001b[0;34m(*a, **kw)\u001b[0m\n\u001b[1;32m     67\u001b[0m                                              e.java_exception.getStackTrace()))\n\u001b[1;32m     68\u001b[0m             \u001b[0;32mif\u001b[0m \u001b[0ms\u001b[0m\u001b[0;34m.\u001b[0m\u001b[0mstartswith\u001b[0m\u001b[0;34m(\u001b[0m\u001b[0;34m'org.apache.spark.sql.AnalysisException: '\u001b[0m\u001b[0;34m)\u001b[0m\u001b[0;34m:\u001b[0m\u001b[0;34m\u001b[0m\u001b[0;34m\u001b[0m\u001b[0m\n\u001b[0;32m---> 69\u001b[0;31m                 \u001b[0;32mraise\u001b[0m \u001b[0mAnalysisException\u001b[0m\u001b[0;34m(\u001b[0m\u001b[0ms\u001b[0m\u001b[0;34m.\u001b[0m\u001b[0msplit\u001b[0m\u001b[0;34m(\u001b[0m\u001b[0;34m': '\u001b[0m\u001b[0;34m,\u001b[0m \u001b[0;36m1\u001b[0m\u001b[0;34m)\u001b[0m\u001b[0;34m[\u001b[0m\u001b[0;36m1\u001b[0m\u001b[0;34m]\u001b[0m\u001b[0;34m,\u001b[0m \u001b[0mstackTrace\u001b[0m\u001b[0;34m)\u001b[0m\u001b[0;34m\u001b[0m\u001b[0;34m\u001b[0m\u001b[0m\n\u001b[0m\u001b[1;32m     70\u001b[0m             \u001b[0;32mif\u001b[0m \u001b[0ms\u001b[0m\u001b[0;34m.\u001b[0m\u001b[0mstartswith\u001b[0m\u001b[0;34m(\u001b[0m\u001b[0;34m'org.apache.spark.sql.catalyst.analysis'\u001b[0m\u001b[0;34m)\u001b[0m\u001b[0;34m:\u001b[0m\u001b[0;34m\u001b[0m\u001b[0;34m\u001b[0m\u001b[0m\n\u001b[1;32m     71\u001b[0m                 \u001b[0;32mraise\u001b[0m \u001b[0mAnalysisException\u001b[0m\u001b[0;34m(\u001b[0m\u001b[0ms\u001b[0m\u001b[0;34m.\u001b[0m\u001b[0msplit\u001b[0m\u001b[0;34m(\u001b[0m\u001b[0;34m': '\u001b[0m\u001b[0;34m,\u001b[0m \u001b[0;36m1\u001b[0m\u001b[0;34m)\u001b[0m\u001b[0;34m[\u001b[0m\u001b[0;36m1\u001b[0m\u001b[0;34m]\u001b[0m\u001b[0;34m,\u001b[0m \u001b[0mstackTrace\u001b[0m\u001b[0;34m)\u001b[0m\u001b[0;34m\u001b[0m\u001b[0;34m\u001b[0m\u001b[0m\n",
      "\u001b[0;31mAnalysisException\u001b[0m: \"Table or view not found: `hremployee`.`columns`; line 2 pos 52;\\n'Aggregate [count(1) AS ROW_COUNT#108L, scalar-subquery#109 [] AS COL_COUNT#110]\\n:  +- 'Aggregate [unresolvedalias(count(1), None)]\\n:     +- 'UnresolvedRelation `hremployee`.`columns`\\n+- SubqueryAlias `hremployee`\\n   +- Relation[EmployeeID#10,Department#11,JobRole#12,Attrition#13,Gender#14,Age#15,MaritalStatus#16,Education#17,EducationField#18,BusinessTravel#19,JobInvolvement#20,JobLevel#21,JobSatisfaction#22,Hourlyrate#23,Income#24,Salaryhike#25,OverTime#26,Workex#27,YearsSinceLastPromotion#28,EmpSatisfaction#29,TrainingTimesLastYear#30,WorkLifeBalance#31,Performance_Rating#32] csv\\n\""
     ]
    }
   ],
   "source": [
    "spark.sql(\"\"\"\n",
    "select count(*) as ROW_COUNT, (select count(*) from hremployee.columns) as COL_COUNT from hremployee\n",
    "\"\"\").show()"
   ]
  },
  {
   "cell_type": "markdown",
   "id": "d8aac4a1",
   "metadata": {},
   "source": [
    "### 2. Write a Query to show first three employee from each Job Role"
   ]
  },
  {
   "cell_type": "code",
   "execution_count": 9,
   "id": "cc380de0",
   "metadata": {},
   "outputs": [
    {
     "name": "stdout",
     "output_type": "stream",
     "text": [
      "+----------+----------+---------------+-------+\n",
      "|EmployeeID|Department|        JobRole|row_num|\n",
      "+----------+----------+---------------+-------+\n",
      "|         1|     Sales|Sales Executive|      1|\n",
      "|      1012|     Sales|Sales Executive|      2|\n",
      "|      1014|     Sales|Sales Executive|      3|\n",
      "|      1020|     Sales|Sales Executive|      4|\n",
      "|      1026|     Sales|Sales Executive|      5|\n",
      "|      1027|     Sales|Sales Executive|      6|\n",
      "|      1031|     Sales|Sales Executive|      7|\n",
      "|      1032|     Sales|Sales Executive|      8|\n",
      "|      1039|     Sales|Sales Executive|      9|\n",
      "|      1042|     Sales|Sales Executive|     10|\n",
      "|      1048|     Sales|Sales Executive|     11|\n",
      "|      1049|     Sales|Sales Executive|     12|\n",
      "|      1050|     Sales|Sales Executive|     13|\n",
      "|      1052|     Sales|Sales Executive|     14|\n",
      "|      1058|     Sales|Sales Executive|     15|\n",
      "|      1059|     Sales|Sales Executive|     16|\n",
      "|      1063|     Sales|Sales Executive|     17|\n",
      "|      1067|     Sales|Sales Executive|     18|\n",
      "|      1070|     Sales|Sales Executive|     19|\n",
      "|       108|     Sales|Sales Executive|     20|\n",
      "+----------+----------+---------------+-------+\n",
      "only showing top 20 rows\n",
      "\n"
     ]
    }
   ],
   "source": [
    "spark.sql(\"\"\"\n",
    "select EmployeeID, Department, JobRole, row_number() over(partition by JobRole order by EmployeeID) \n",
    "as row_num from hremployee\"\"\").show()"
   ]
  },
  {
   "cell_type": "code",
   "execution_count": 10,
   "id": "70f73215",
   "metadata": {},
   "outputs": [
    {
     "name": "stdout",
     "output_type": "stream",
     "text": [
      "+----------+--------------------+--------------------+-------+\n",
      "|EmployeeID|          Department|             JobRole|row_num|\n",
      "+----------+--------------------+--------------------+-------+\n",
      "|         1|               Sales|     Sales Executive|      1|\n",
      "|      1012|               Sales|     Sales Executive|      2|\n",
      "|      1014|               Sales|     Sales Executive|      3|\n",
      "|      1003|Research & Develo...|Manufacturing Dir...|      1|\n",
      "|      1034|Research & Develo...|Manufacturing Dir...|      2|\n",
      "|      1038|Research & Develo...|Manufacturing Dir...|      3|\n",
      "|       100|Research & Develo...|Laboratory Techni...|      1|\n",
      "|      1001|Research & Develo...|Laboratory Techni...|      2|\n",
      "|      1002|Research & Develo...|Laboratory Techni...|      3|\n",
      "|      1013|               Sales|Sales Representative|      1|\n",
      "|      1022|               Sales|Sales Representative|      2|\n",
      "|      1057|               Sales|Sales Representative|      3|\n",
      "|        10|Research & Develo...|Healthcare Repres...|      1|\n",
      "|      1008|Research & Develo...|Healthcare Repres...|      2|\n",
      "|      1035|Research & Develo...|Healthcare Repres...|      3|\n",
      "|      1016|Research & Develo...|  Research Scientist|      1|\n",
      "|      1017|Research & Develo...|  Research Scientist|      2|\n",
      "|       102|Research & Develo...|  Research Scientist|      3|\n",
      "|      1000|     Human Resources|             Manager|      1|\n",
      "|       106|     Human Resources|             Manager|      2|\n",
      "+----------+--------------------+--------------------+-------+\n",
      "only showing top 20 rows\n",
      "\n"
     ]
    }
   ],
   "source": [
    "spark.sql(\"\"\"select * from\n",
    "(select EmployeeID, Department, JobRole, row_number() over(partition by JobRole order by EmployeeID) \n",
    "as row_num from hremployee) where row_num < 4\n",
    "\"\"\").show()"
   ]
  },
  {
   "cell_type": "markdown",
   "id": "a4e6b483",
   "metadata": {},
   "source": [
    "### 3. Write a query to show top three employee from each jobrole earning maxmimum salary"
   ]
  },
  {
   "cell_type": "code",
   "execution_count": 19,
   "id": "b089f7e7",
   "metadata": {},
   "outputs": [
    {
     "name": "stdout",
     "output_type": "stream",
     "text": [
      "root\n",
      " |-- EmployeeID: string (nullable = true)\n",
      " |-- Department: string (nullable = true)\n",
      " |-- JobRole: string (nullable = true)\n",
      " |-- Attrition: string (nullable = true)\n",
      " |-- Gender: string (nullable = true)\n",
      " |-- Age: integer (nullable = true)\n",
      " |-- MaritalStatus: string (nullable = true)\n",
      " |-- Education: string (nullable = true)\n",
      " |-- EducationField: string (nullable = true)\n",
      " |-- BusinessTravel: string (nullable = true)\n",
      " |-- JobInvolvement: string (nullable = true)\n",
      " |-- JobLevel: integer (nullable = true)\n",
      " |-- JobSatisfaction: string (nullable = true)\n",
      " |-- Hourlyrate: integer (nullable = true)\n",
      " |-- Income: integer (nullable = true)\n",
      " |-- Salaryhike: integer (nullable = true)\n",
      " |-- OverTime: string (nullable = true)\n",
      " |-- Workex: integer (nullable = true)\n",
      " |-- YearsSinceLastPromotion: integer (nullable = true)\n",
      " |-- EmpSatisfaction: string (nullable = true)\n",
      " |-- TrainingTimesLastYear: integer (nullable = true)\n",
      " |-- WorkLifeBalance: string (nullable = true)\n",
      " |-- Performance_Rating: string (nullable = true)\n",
      "\n"
     ]
    }
   ],
   "source": [
    "hremployeeDF.printSchema()"
   ]
  },
  {
   "cell_type": "code",
   "execution_count": 23,
   "id": "cca4bfa4",
   "metadata": {},
   "outputs": [
    {
     "name": "stdout",
     "output_type": "stream",
     "text": [
      "+----------+------+--------------------+----+\n",
      "|EmployeeID|Income|             JobRole|rank|\n",
      "+----------+------+--------------------+----+\n",
      "|        99| 13872|     Sales Executive|   1|\n",
      "|       545| 13770|     Sales Executive|   2|\n",
      "|       839| 13758|     Sales Executive|   3|\n",
      "|       722| 13973|Manufacturing Dir...|   1|\n",
      "|       628| 13826|Manufacturing Dir...|   2|\n",
      "|       744| 13726|Manufacturing Dir...|   3|\n",
      "|       678|  7403|Laboratory Techni...|   1|\n",
      "|       817|  6782|Laboratory Techni...|   2|\n",
      "|       945|  6674|Laboratory Techni...|   3|\n",
      "|       565|  6632|Sales Representative|   1|\n",
      "|      1308|  5405|Sales Representative|   2|\n",
      "|      1220|  4502|Sales Representative|   3|\n",
      "|      1181| 13966|Healthcare Repres...|   1|\n",
      "|       317| 13964|Healthcare Repres...|   2|\n",
      "|       190| 13734|Healthcare Repres...|   3|\n",
      "|        68|  9724|  Research Scientist|   1|\n",
      "|      1315|  6962|  Research Scientist|   2|\n",
      "|      1305|  6854|  Research Scientist|   3|\n",
      "|       191| 19999|             Manager|   1|\n",
      "|       852| 19943|             Manager|   2|\n",
      "+----------+------+--------------------+----+\n",
      "only showing top 20 rows\n",
      "\n"
     ]
    }
   ],
   "source": [
    "spark.sql(\"\"\"\n",
    "select * from\n",
    "(select EmployeeID, Income, JobRole, RANK() over(partition by JobRole order by Income desc) \n",
    "as rank from hremployee) where rank < 4\n",
    "\"\"\").show()"
   ]
  },
  {
   "cell_type": "markdown",
   "id": "1bb4b3f9",
   "metadata": {},
   "source": [
    "### 4) Show top 3 highest package for each job role"
   ]
  },
  {
   "cell_type": "code",
   "execution_count": 26,
   "id": "f5111bee",
   "metadata": {},
   "outputs": [
    {
     "name": "stdout",
     "output_type": "stream",
     "text": [
      "+----------+------+-----------------+--------------------+\n",
      "|EmployeeID|Income|          JobRole|          Department|\n",
      "+----------+------+-----------------+--------------------+\n",
      "|       191| 19999|          Manager|Research & Develo...|\n",
      "|       747| 19973|Research Director|Research & Develo...|\n",
      "|       852| 19943|          Manager|Research & Develo...|\n",
      "+----------+------+-----------------+--------------------+\n",
      "\n"
     ]
    }
   ],
   "source": [
    "spark.sql(\"select EmployeeID, Income, JobRole,Department from hremployee order by Income Desc Limit 3\").show()"
   ]
  },
  {
   "cell_type": "markdown",
   "id": "7737ede3",
   "metadata": {},
   "source": [
    "#### 5.Dense_Rank()"
   ]
  },
  {
   "cell_type": "code",
   "execution_count": 27,
   "id": "d6804e9e",
   "metadata": {},
   "outputs": [
    {
     "name": "stdout",
     "output_type": "stream",
     "text": [
      "+----------+----------+---------------+---+------+------+-----------+\n",
      "|employeeid|department|        jobrole|age|gender|income|Rank_By_Age|\n",
      "+----------+----------+---------------+---+------+------+-----------+\n",
      "|       428|     Sales|Sales Executive| 60|Female| 10266|          1|\n",
      "|       537|     Sales|Sales Executive| 60|  Male|  5405|          1|\n",
      "|       880|     Sales|Sales Executive| 60|  Male|  5220|          1|\n",
      "|        64|     Sales|Sales Executive| 59|Female|  7637|          2|\n",
      "|        71|     Sales|Sales Executive| 59|Female|  5473|          2|\n",
      "|       898|     Sales|Sales Executive| 59|Female|  5171|          2|\n",
      "|        99|     Sales|Sales Executive| 58|  Male| 13872|          3|\n",
      "|       402|     Sales|Sales Executive| 56|Female| 13212|          4|\n",
      "|      1371|     Sales|Sales Executive| 56|Female|  5380|          4|\n",
      "|        83|     Sales|Sales Executive| 55|  Male| 10239|          5|\n",
      "|       609|     Sales|Sales Executive| 55|  Male|  5160|          5|\n",
      "|       976|     Sales|Sales Executive| 55|  Male| 13695|          5|\n",
      "|       220|     Sales|Sales Executive| 54|Female|  5940|          6|\n",
      "|       772|     Sales|Sales Executive| 54|Female| 10686|          6|\n",
      "|       503|     Sales|Sales Executive| 53|Female|  8381|          7|\n",
      "|       625|     Sales|Sales Executive| 53|Female| 10934|          7|\n",
      "|       647|     Sales|Sales Executive| 53|  Male| 11836|          7|\n",
      "|       761|     Sales|Sales Executive| 53|Female|  7525|          7|\n",
      "|      1396|     Sales|Sales Executive| 53|  Male| 10448|          7|\n",
      "|       948|     Sales|Sales Executive| 52|  Male|  8446|          8|\n",
      "+----------+----------+---------------+---+------+------+-----------+\n",
      "only showing top 20 rows\n",
      "\n"
     ]
    }
   ],
   "source": [
    "spark.sql(\"\"\"\n",
    "select employeeid,department,jobrole, age, gender, income, dense_rank()\n",
    "over(partition by jobrole order by age desc) as Rank_By_Age\n",
    "from hremployee\n",
    "\"\"\").show()"
   ]
  },
  {
   "cell_type": "code",
   "execution_count": 28,
   "id": "feaeabf0",
   "metadata": {},
   "outputs": [
    {
     "name": "stdout",
     "output_type": "stream",
     "text": [
      "+----------+----------+---------------+---+------+------+------+-----------+\n",
      "|employeeid|department|        jobrole|age|gender|income|workex|Rank_By_Age|\n",
      "+----------+----------+---------------+---+------+------+------+-----------+\n",
      "|       428|     Sales|Sales Executive| 60|Female| 10266|    22|          1|\n",
      "|       880|     Sales|Sales Executive| 60|  Male|  5220|    12|          2|\n",
      "|       537|     Sales|Sales Executive| 60|  Male|  5405|    10|          3|\n",
      "|        64|     Sales|Sales Executive| 59|Female|  7637|    28|          4|\n",
      "|        71|     Sales|Sales Executive| 59|Female|  5473|    20|          5|\n",
      "|       898|     Sales|Sales Executive| 59|Female|  5171|    13|          6|\n",
      "|        99|     Sales|Sales Executive| 58|  Male| 13872|    38|          7|\n",
      "|       402|     Sales|Sales Executive| 56|Female| 13212|    36|          8|\n",
      "|      1371|     Sales|Sales Executive| 56|Female|  5380|     6|          9|\n",
      "|        83|     Sales|Sales Executive| 55|  Male| 10239|    24|         10|\n",
      "|       976|     Sales|Sales Executive| 55|  Male| 13695|    24|         10|\n",
      "|       609|     Sales|Sales Executive| 55|  Male|  5160|    12|         11|\n",
      "|       220|     Sales|Sales Executive| 54|Female|  5940|    16|         12|\n",
      "|       772|     Sales|Sales Executive| 54|Female| 10686|    13|         13|\n",
      "|       625|     Sales|Sales Executive| 53|Female| 10934|    35|         14|\n",
      "|       761|     Sales|Sales Executive| 53|Female|  7525|    30|         15|\n",
      "|       647|     Sales|Sales Executive| 53|  Male| 11836|    28|         16|\n",
      "|       503|     Sales|Sales Executive| 53|Female|  8381|    18|         17|\n",
      "|      1396|     Sales|Sales Executive| 53|  Male| 10448|    15|         18|\n",
      "|       948|     Sales|Sales Executive| 52|  Male|  8446|    10|         19|\n",
      "+----------+----------+---------------+---+------+------+------+-----------+\n",
      "only showing top 20 rows\n",
      "\n"
     ]
    }
   ],
   "source": [
    "spark.sql(\"\"\"\n",
    "select employeeid,department,jobrole, age, gender, income,workex, dense_rank()\n",
    "over(partition by jobrole order by age desc, workex desc) as Rank_By_Age\n",
    "from hremployee\n",
    "\"\"\").show()"
   ]
  },
  {
   "cell_type": "markdown",
   "id": "d7373250",
   "metadata": {},
   "source": [
    "#### Lag()\n",
    "      *Lag() it is window funciton that allows you access records from previous row.\n",
    "      *It will be useful in compairing records between rows or calculating differences.\n",
    "      *lag(column_name,offset,default value) - lag(income,2,0)"
   ]
  },
  {
   "cell_type": "code",
   "execution_count": 29,
   "id": "4014c83e",
   "metadata": {
    "collapsed": true
   },
   "outputs": [
    {
     "name": "stdout",
     "output_type": "stream",
     "text": [
      "+----------+----------+---------------+---+------+------+------+---------------+\n",
      "|employeeid|department|        jobrole|age|gender|income|workex|previous_income|\n",
      "+----------+----------+---------------+---+------+------+------+---------------+\n",
      "|         1|     Sales|Sales Executive| 41|Female|  5993|     8|           null|\n",
      "|      1012|     Sales|Sales Executive| 36|Female|  9278|    15|           5993|\n",
      "|      1014|     Sales|Sales Executive| 30|Female|  4779|     8|           9278|\n",
      "|      1020|     Sales|Sales Executive| 36|Female|  5647|    11|           4779|\n",
      "|      1026|     Sales|Sales Executive| 24|Female|  4162|     5|           5647|\n",
      "|      1027|     Sales|Sales Executive| 32|  Male|  9204|     7|           4162|\n",
      "|      1031|     Sales|Sales Executive| 31|  Male| 10793|    13|           9204|\n",
      "|      1032|     Sales|Sales Executive| 46|  Male| 10096|    28|          10793|\n",
      "|      1039|     Sales|Sales Executive| 48|  Male|  5486|    15|          10096|\n",
      "|      1042|     Sales|Sales Executive| 28|  Male|  8463|     6|           5486|\n",
      "|      1048|     Sales|Sales Executive| 33|  Male|  4373|     5|           8463|\n",
      "|      1049|     Sales|Sales Executive| 34|  Male|  4759|    15|           4373|\n",
      "|      1050|     Sales|Sales Executive| 30|  Male|  5301|     4|           4759|\n",
      "|      1052|     Sales|Sales Executive| 44|Female|  4768|    11|           5301|\n",
      "|      1058|     Sales|Sales Executive| 29|Female|  5765|     7|           4768|\n",
      "|      1059|     Sales|Sales Executive| 34|Female|  4599|    16|           5765|\n",
      "|      1063|     Sales|Sales Executive| 29|  Male|  8620|    10|           4599|\n",
      "|      1067|     Sales|Sales Executive| 47|Female|  4591|    11|           8620|\n",
      "|      1070|     Sales|Sales Executive| 28|  Male|  4898|     5|           4591|\n",
      "|       108|     Sales|Sales Executive| 25|  Male|  5744|     6|           4898|\n",
      "+----------+----------+---------------+---+------+------+------+---------------+\n",
      "only showing top 20 rows\n",
      "\n"
     ]
    }
   ],
   "source": [
    "spark.sql(\"\"\"\n",
    "select employeeid,department,jobrole,age,gender,income,workex, \n",
    "lag(income) over(partition by jobrole order by employeeid) as previous_income\n",
    "from hremployee\n",
    "\"\"\").show()"
   ]
  },
  {
   "cell_type": "code",
   "execution_count": 31,
   "id": "52bab9a3",
   "metadata": {
    "collapsed": true
   },
   "outputs": [
    {
     "name": "stdout",
     "output_type": "stream",
     "text": [
      "+----------+----------+---------------+---+------+------+------+---------------+\n",
      "|employeeid|department|        jobrole|age|gender|income|workex|previous_income|\n",
      "+----------+----------+---------------+---+------+------+------+---------------+\n",
      "|         1|     Sales|Sales Executive| 41|Female|  5993|     8|              0|\n",
      "|      1012|     Sales|Sales Executive| 36|Female|  9278|    15|              0|\n",
      "|      1014|     Sales|Sales Executive| 30|Female|  4779|     8|           5993|\n",
      "|      1020|     Sales|Sales Executive| 36|Female|  5647|    11|           9278|\n",
      "|      1026|     Sales|Sales Executive| 24|Female|  4162|     5|           4779|\n",
      "|      1027|     Sales|Sales Executive| 32|  Male|  9204|     7|           5647|\n",
      "|      1031|     Sales|Sales Executive| 31|  Male| 10793|    13|           4162|\n",
      "|      1032|     Sales|Sales Executive| 46|  Male| 10096|    28|           9204|\n",
      "|      1039|     Sales|Sales Executive| 48|  Male|  5486|    15|          10793|\n",
      "|      1042|     Sales|Sales Executive| 28|  Male|  8463|     6|          10096|\n",
      "|      1048|     Sales|Sales Executive| 33|  Male|  4373|     5|           5486|\n",
      "|      1049|     Sales|Sales Executive| 34|  Male|  4759|    15|           8463|\n",
      "|      1050|     Sales|Sales Executive| 30|  Male|  5301|     4|           4373|\n",
      "|      1052|     Sales|Sales Executive| 44|Female|  4768|    11|           4759|\n",
      "|      1058|     Sales|Sales Executive| 29|Female|  5765|     7|           5301|\n",
      "|      1059|     Sales|Sales Executive| 34|Female|  4599|    16|           4768|\n",
      "|      1063|     Sales|Sales Executive| 29|  Male|  8620|    10|           5765|\n",
      "|      1067|     Sales|Sales Executive| 47|Female|  4591|    11|           4599|\n",
      "|      1070|     Sales|Sales Executive| 28|  Male|  4898|     5|           8620|\n",
      "|       108|     Sales|Sales Executive| 25|  Male|  5744|     6|           4591|\n",
      "+----------+----------+---------------+---+------+------+------+---------------+\n",
      "only showing top 20 rows\n",
      "\n"
     ]
    }
   ],
   "source": [
    "spark.sql(\"\"\"\n",
    "select employeeid,department,jobrole,age,gender,income,workex, \n",
    "lag(income,2,0) over(partition by jobrole order by employeeid) as previous_income\n",
    "from hremployee\n",
    "\"\"\").show()"
   ]
  },
  {
   "cell_type": "markdown",
   "id": "a09fbce6",
   "metadata": {},
   "source": [
    "#### Lead()"
   ]
  },
  {
   "cell_type": "code",
   "execution_count": 32,
   "id": "8ad7407a",
   "metadata": {},
   "outputs": [
    {
     "name": "stdout",
     "output_type": "stream",
     "text": [
      "+----------+----------+---------------+---+------+------+------+-----------+\n",
      "|employeeid|department|        jobrole|age|gender|income|workex|next_income|\n",
      "+----------+----------+---------------+---+------+------+------+-----------+\n",
      "|         1|     Sales|Sales Executive| 41|Female|  5993|     8|       9278|\n",
      "|      1012|     Sales|Sales Executive| 36|Female|  9278|    15|       4779|\n",
      "|      1014|     Sales|Sales Executive| 30|Female|  4779|     8|       5647|\n",
      "|      1020|     Sales|Sales Executive| 36|Female|  5647|    11|       4162|\n",
      "|      1026|     Sales|Sales Executive| 24|Female|  4162|     5|       9204|\n",
      "|      1027|     Sales|Sales Executive| 32|  Male|  9204|     7|      10793|\n",
      "|      1031|     Sales|Sales Executive| 31|  Male| 10793|    13|      10096|\n",
      "|      1032|     Sales|Sales Executive| 46|  Male| 10096|    28|       5486|\n",
      "|      1039|     Sales|Sales Executive| 48|  Male|  5486|    15|       8463|\n",
      "|      1042|     Sales|Sales Executive| 28|  Male|  8463|     6|       4373|\n",
      "|      1048|     Sales|Sales Executive| 33|  Male|  4373|     5|       4759|\n",
      "|      1049|     Sales|Sales Executive| 34|  Male|  4759|    15|       5301|\n",
      "|      1050|     Sales|Sales Executive| 30|  Male|  5301|     4|       4768|\n",
      "|      1052|     Sales|Sales Executive| 44|Female|  4768|    11|       5765|\n",
      "|      1058|     Sales|Sales Executive| 29|Female|  5765|     7|       4599|\n",
      "|      1059|     Sales|Sales Executive| 34|Female|  4599|    16|       8620|\n",
      "|      1063|     Sales|Sales Executive| 29|  Male|  8620|    10|       4591|\n",
      "|      1067|     Sales|Sales Executive| 47|Female|  4591|    11|       4898|\n",
      "|      1070|     Sales|Sales Executive| 28|  Male|  4898|     5|       5744|\n",
      "|       108|     Sales|Sales Executive| 25|  Male|  5744|     6|       7083|\n",
      "+----------+----------+---------------+---+------+------+------+-----------+\n",
      "only showing top 20 rows\n",
      "\n"
     ]
    }
   ],
   "source": [
    "spark.sql(\"\"\"\n",
    "select employeeid,department,jobrole, age,gender,income,workex, lead(income,1,0)\n",
    "over(partition by jobrole order by employeeid) as next_income\n",
    "from hremployee\n",
    "\"\"\").show()"
   ]
  },
  {
   "cell_type": "markdown",
   "id": "c29cba5b",
   "metadata": {},
   "source": [
    "#### NTILE()\n",
    "       * Dividing records into quantiles"
   ]
  },
  {
   "cell_type": "code",
   "execution_count": 37,
   "id": "a000e358",
   "metadata": {},
   "outputs": [
    {
     "name": "stdout",
     "output_type": "stream",
     "text": [
      "+----------+--------------------+--------------------+---+------+------+------+---------------+\n",
      "|employeeid|          department|             jobrole|age|gender|income|workex|salary_quantile|\n",
      "+----------+--------------------+--------------------+---+------+------+------+---------------+\n",
      "|       191|Research & Develo...|             Manager| 52|  Male| 19999|    34|              1|\n",
      "|       747|Research & Develo...|   Research Director| 41|Female| 19973|    21|              1|\n",
      "|       852|Research & Develo...|             Manager| 56|Female| 19943|    28|              1|\n",
      "|       166|Research & Develo...|             Manager| 50|Female| 19926|    21|              1|\n",
      "|       569|Research & Develo...|             Manager| 55|  Male| 19859|    24|              1|\n",
      "|       919|               Sales|             Manager| 51|  Male| 19847|    31|              1|\n",
      "|       750|               Sales|             Manager| 52|Female| 19845|    33|              1|\n",
      "|      1242|               Sales|             Manager| 40|  Male| 19833|    21|              1|\n",
      "|       899|Research & Develo...|   Research Director| 43|  Male| 19740|    25|              1|\n",
      "|       957|     Human Resources|             Manager| 56|  Male| 19717|    36|              1|\n",
      "|      1010|Research & Develo...|   Research Director| 58|Female| 19701|    32|              1|\n",
      "|      1331|Research & Develo...|   Research Director| 48|  Male| 19665|    29|              1|\n",
      "|      1154|     Human Resources|             Manager| 47|Female| 19658|    27|              1|\n",
      "|      1401|     Human Resources|             Manager| 55|  Male| 19636|    35|              1|\n",
      "|       771|Research & Develo...|   Research Director| 46|  Male| 19627|    23|              1|\n",
      "|       815|Research & Develo...|   Research Director| 40|  Male| 19626|    21|              1|\n",
      "|      1129|Research & Develo...|             Manager| 42|  Male| 19613|    24|              1|\n",
      "|      1116|               Sales|             Manager| 55|  Male| 19586|    36|              1|\n",
      "|       412|Research & Develo...|             Manager| 60|Female| 19566|    33|              1|\n",
      "|        46|Research & Develo...|   Research Director| 41|Female| 19545|    23|              1|\n",
      "|       124|Research & Develo...|   Research Director| 51|  Male| 19537|    23|              1|\n",
      "|       234|               Sales|             Manager| 50|Female| 19517|    32|              1|\n",
      "|       498|Research & Develo...|             Manager| 44|  Male| 19513|    26|              1|\n",
      "|       474|Research & Develo...|   Research Director| 49|  Male| 19502|    31|              1|\n",
      "|       258|Research & Develo...|   Research Director| 40|  Male| 19436|    22|              1|\n",
      "|      1437|Research & Develo...|             Manager| 39|  Male| 19431|    21|              1|\n",
      "|       717|Research & Develo...|   Research Director| 41|  Male| 19419|    21|              1|\n",
      "|       393|Research & Develo...|   Research Director| 54|  Male| 19406|    24|              1|\n",
      "|      1330|Research & Develo...|             Manager| 43|Female| 19392|    21|              1|\n",
      "|      1126|               Sales|             Manager| 50|  Male| 19331|    27|              1|\n",
      "|      1277|Research & Develo...|   Research Director| 46|  Male| 19328|    24|              1|\n",
      "|       327|Research & Develo...|             Manager| 39|  Male| 19272|    21|              1|\n",
      "|       596|Research & Develo...|   Research Director| 58|  Male| 19246|    40|              1|\n",
      "|       767|Research & Develo...|   Research Director| 50|  Male| 19237|    29|              1|\n",
      "|       232|Research & Develo...|             Manager| 42|  Male| 19232|    22|              1|\n",
      "|       245|Research & Develo...|             Manager| 45|  Male| 19202|    25|              1|\n",
      "|       401|Research & Develo...|             Manager| 39|  Male| 19197|    21|              1|\n",
      "|       923|Research & Develo...|             Manager| 44|  Male| 19190|    26|              1|\n",
      "|       539|     Human Resources|             Manager| 41|  Male| 19189|    22|              1|\n",
      "|       956|Research & Develo...|             Manager| 55|Female| 19187|    23|              1|\n",
      "|      1377|Research & Develo...|   Research Director| 49|  Male| 19161|    28|              1|\n",
      "|       280|Research & Develo...|   Research Director| 50|  Male| 19144|    28|              1|\n",
      "|       536|     Human Resources|             Manager| 41|  Male| 19141|    23|              1|\n",
      "|        26|Research & Develo...|             Manager| 53|Female| 19094|    26|              1|\n",
      "|       870|Research & Develo...|   Research Director| 46|  Male| 19081|    25|              1|\n",
      "|       238|               Sales|             Manager| 52|  Male| 19068|    33|              1|\n",
      "|      1140|Research & Develo...|   Research Director| 44|Female| 19049|    23|              1|\n",
      "|       271|Research & Develo...|             Manager| 55|  Male| 19045|    37|              1|\n",
      "|      1264|Research & Develo...|   Research Director| 55|  Male| 19038|    34|              1|\n",
      "|       187|Research & Develo...|             Manager| 40|Female| 19033|    21|              1|\n",
      "|        30|               Sales|             Manager| 46|Female| 18947|    22|              1|\n",
      "|      1443|Research & Develo...|             Manager| 42|  Male| 18880|    24|              1|\n",
      "|       106|     Human Resources|             Manager| 59|Female| 18844|    30|              1|\n",
      "|       914|               Sales|             Manager| 45|Female| 18824|    26|              1|\n",
      "|       917|               Sales|             Manager| 46|Female| 18789|    26|              1|\n",
      "|        63|Research & Develo...|   Research Director| 50|Female| 18740|    29|              1|\n",
      "|       188|Research & Develo...|   Research Director| 55|  Male| 18722|    36|              1|\n",
      "|       900|Research & Develo...|             Manager| 49|  Male| 18711|    23|              1|\n",
      "|       291|Research & Develo...|   Research Director| 49|Female| 18665|    22|              1|\n",
      "|       859|Research & Develo...|             Manager| 53|Female| 18606|    26|              1|\n",
      "|       585|Research & Develo...|             Manager| 42|  Male| 18430|    24|              1|\n",
      "|       742|               Sales|             Manager| 42|  Male| 18303|    21|              1|\n",
      "|       330|Research & Develo...|   Research Director| 47|  Male| 18300|    21|              1|\n",
      "|       905|Research & Develo...|   Research Director| 48|  Male| 18265|    25|              1|\n",
      "|       908|               Sales|             Manager| 44|  Male| 18213|    26|              1|\n",
      "|       478|     Human Resources|             Manager| 50|  Male| 18200|    32|              1|\n",
      "|       107|Research & Develo...|   Research Director| 50|Female| 18172|    28|              1|\n",
      "|       937|Research & Develo...|             Manager| 45|Female| 18061|    22|              1|\n",
      "|       418|               Sales|             Manager| 40|Female| 18041|    21|              1|\n",
      "|       654|Research & Develo...|             Manager| 50|  Male| 17924|    31|              1|\n",
      "|      1374|               Sales|             Manager| 58|Female| 17875|    29|              1|\n",
      "|       430|Research & Develo...|   Research Director| 46|  Male| 17861|    26|              1|\n",
      "|       955|Research & Develo...|             Manager| 42|  Male| 17861|    21|              1|\n",
      "|       868|Research & Develo...|             Manager| 50|Female| 17856|    32|              1|\n",
      "|       895|Research & Develo...|   Research Director| 54|  Male| 17779|    36|              1|\n",
      "|       800|Research & Develo...|             Manager| 42|  Male| 17665|    23|              1|\n",
      "|       756|               Sales|             Manager| 45|Female| 17650|    26|              1|\n",
      "|       589|Research & Develo...|   Research Director| 50|  Male| 17639|    30|              1|\n",
      "|      1185|Research & Develo...|   Research Director| 43|  Male| 17603|    14|              1|\n",
      "|       281|Research & Develo...|   Research Director| 53|  Male| 17584|    21|              1|\n",
      "|      1135|               Sales|             Manager| 46|  Male| 17567|    27|              1|\n",
      "|       811|               Sales|             Manager| 46|  Male| 17465|    23|              1|\n",
      "|       711|               Sales|             Manager| 33|  Male| 17444|    10|              1|\n",
      "|      1184|Research & Develo...|             Manager| 54|Female| 17426|    36|              1|\n",
      "|       715|Research & Develo...|   Research Director| 50|  Male| 17399|    32|              1|\n",
      "|       113|     Human Resources|             Manager| 54|Female| 17328|    23|              1|\n",
      "|      1009|Research & Develo...|   Research Director| 54|Female| 17328|    29|              1|\n",
      "|       148|Research & Develo...|             Manager| 41|  Male| 17181|    21|              1|\n",
      "|      1351|Research & Develo...|             Manager| 48|Female| 17174|    24|              1|\n",
      "|      1025|Research & Develo...|   Research Director| 47|Female| 17169|    26|              1|\n",
      "|       610|Research & Develo...|   Research Director| 43|  Male| 17159|    22|              1|\n",
      "|       938|Research & Develo...|             Manager| 39|Female| 17123|    21|              1|\n",
      "|       700|Research & Develo...|             Manager| 52|  Male| 17099|    26|              1|\n",
      "|       315|Research & Develo...|             Manager| 39|  Male| 17068|    21|              1|\n",
      "|       862|               Sales|             Manager| 46|Female| 17048|    28|              1|\n",
      "|       426|Research & Develo...|             Manager| 50|  Male| 17046|    28|              1|\n",
      "|      1056|Research & Develo...|   Research Director| 34|  Male| 17007|    16|              1|\n",
      "|       120|               Sales|             Manager| 43|  Male| 16959|    25|              1|\n",
      "|       805|Research & Develo...|             Manager| 48|  Male| 16885|    27|              1|\n",
      "|       946|Research & Develo...|   Research Director| 50|Female| 16880|    25|              1|\n",
      "|       264|               Sales|             Manager| 46|Female| 16872|    28|              1|\n",
      "|       562|               Sales|             Manager| 52|  Male| 16856|    34|              1|\n",
      "|       446|               Sales|             Manager| 55|Female| 16835|    37|              1|\n",
      "|      1348|Research & Develo...|             Manager| 40|  Male| 16823|    22|              1|\n",
      "|      1000|     Human Resources|             Manager| 42|Female| 16799|    21|              1|\n",
      "|       195|Research & Develo...|             Manager| 45|  Male| 16792|    22|              1|\n",
      "|       775|Research & Develo...|             Manager| 55|  Male| 16756|    31|              1|\n",
      "|       593|Research & Develo...|             Manager| 47|Female| 16752|    26|              1|\n",
      "|      1225|Research & Develo...|   Research Director| 45|Female| 16704|    21|              1|\n",
      "|       380|Research & Develo...|             Manager| 55|Female| 16659|    30|              1|\n",
      "|       490|Research & Develo...|   Research Director| 43|  Male| 16627|    21|              1|\n",
      "|      1080|               Sales|             Manager| 46|Female| 16606|    23|              1|\n",
      "|      1044|Research & Develo...|   Research Director| 53|  Male| 16598|    35|              1|\n",
      "|       467|               Sales|             Manager| 41|Female| 16595|    22|              1|\n",
      "|       409|Research & Develo...|             Manager| 52|Female| 16555|    31|              1|\n",
      "|      1096|     Human Resources|             Manager| 40|  Male| 16437|    21|              1|\n",
      "|      1015|Research & Develo...|   Research Director| 31|Female| 16422|     9|              1|\n",
      "|      1176|Research & Develo...|   Research Director| 49|Female| 16413|    27|              1|\n",
      "|      1078|Research & Develo...|   Research Director| 44|  Male| 16328|    24|              1|\n",
      "|       617|               Sales|             Manager| 51|Female| 16307|    29|              1|\n",
      "|      1301|               Sales|             Manager| 58|  Male| 16291|    37|              1|\n",
      "|       456|Research & Develo...|   Research Director| 33|Female| 16184|    10|              1|\n",
      "|       906|Research & Develo...|   Research Director| 29|Female| 16124|     9|              1|\n",
      "|       236|               Sales|             Manager| 43|Female| 16064|    22|              1|\n",
      "|      1076|Research & Develo...|             Manager| 54|Female| 16032|    26|              1|\n",
      "|       301|               Sales|             Manager| 41|  Male| 16015|    22|              1|\n",
      "|       349|Research & Develo...|   Research Director| 42|Female| 15992|    16|              1|\n",
      "|      1194|               Sales|             Manager| 47|Female| 15972|    29|              1|\n",
      "|      1310|Research & Develo...|   Research Director| 58|  Male| 15787|    23|              1|\n",
      "|        19|               Sales|             Manager| 53|Female| 15427|    31|              1|\n",
      "|       493|Research & Develo...|             Manager| 48|Female| 15402|    21|              1|\n",
      "|      1195|Research & Develo...|             Manager| 49|  Male| 15379|    23|              1|\n",
      "|      1166|Research & Develo...|             Manager| 48|  Male| 15202|    23|              1|\n",
      "|       702|               Sales|             Manager| 53|  Male| 14852|    22|              1|\n",
      "|       535|Research & Develo...|   Research Director| 53|  Male| 14814|    32|              1|\n",
      "|        66|Research & Develo...|             Manager| 55|Female| 14756|    21|              1|\n",
      "|      1011|Research & Develo...|   Research Director| 55|  Male| 14732|    31|              1|\n",
      "|      1086|Research & Develo...|   Research Director| 50|  Male| 14411|    32|              1|\n",
      "|       391|Research & Develo...|   Research Director| 43|  Male| 14336|    25|              1|\n",
      "|       650|Research & Develo...|   Research Director| 53|Female| 14275|    33|              1|\n",
      "|       425|               Sales|             Manager| 57|  Male| 14118|    32|              1|\n",
      "|       963|     Human Resources|             Manager| 51|  Male| 14026|    33|              1|\n",
      "|       722|Research & Develo...|Manufacturing Dir...| 50|  Male| 13973|    22|              1|\n",
      "|      1181|Research & Develo...|Healthcare Repres...| 49|Female| 13966|    30|              1|\n",
      "|       317|Research & Develo...|Healthcare Repres...| 49|Female| 13964|    25|              1|\n",
      "|        99|               Sales|     Sales Executive| 58|  Male| 13872|    38|              1|\n",
      "|       628|Research & Develo...|Manufacturing Dir...| 52|Female| 13826|    31|              1|\n",
      "|       545|               Sales|     Sales Executive| 47|Female| 13770|    28|              1|\n",
      "|       839|               Sales|     Sales Executive| 42|  Male| 13758|    22|              1|\n",
      "|      1041|Research & Develo...|   Research Director| 40|  Male| 13757|    16|              1|\n",
      "|      1432|Research & Develo...|   Research Director| 37|Female| 13744|    16|              1|\n",
      "|       190|Research & Develo...|Healthcare Repres...| 51|Female| 13734|    21|              1|\n",
      "|       744|Research & Develo...|Manufacturing Dir...| 59|Female| 13726|    30|              1|\n",
      "|       976|               Sales|     Sales Executive| 55|  Male| 13695|    24|              1|\n",
      "|       246|Research & Develo...|   Research Director| 31|  Male| 13675|     9|              1|\n",
      "|        79|Research & Develo...|   Research Director| 37|  Male| 13664|    16|              1|\n",
      "|       436|Research & Develo...|             Manager| 33|  Male| 13610|    15|              1|\n",
      "|       276|Research & Develo...|   Research Director| 37|Female| 13603|    15|              1|\n",
      "|       216|               Sales|             Manager| 41|Female| 13591|    16|              1|\n",
      "|       682|Research & Develo...|   Research Director| 38|Female| 13582|    15|              1|\n",
      "|       915|Research & Develo...|Healthcare Repres...| 55|  Male| 13577|    34|              1|\n",
      "|      1445|Research & Develo...|Manufacturing Dir...| 41|Female| 13570|    21|              1|\n",
      "|        96|Research & Develo...|   Research Director| 54|Female| 13549|    16|              1|\n",
      "|       296|               Sales|     Sales Executive| 42|Female| 13525|    23|              1|\n",
      "|        91|Research & Develo...|Healthcare Repres...| 40|  Male| 13503|    22|              1|\n",
      "|       838|Research & Develo...|   Research Director| 40|Female| 13499|    20|              1|\n",
      "|       269|Research & Develo...|Healthcare Repres...| 45|  Male| 13496|    21|              1|\n",
      "|      1284|Research & Develo...|   Research Director| 39|  Male| 13464|     9|              1|\n",
      "|        56|Research & Develo...|   Research Director| 33|Female| 13458|    15|              1|\n",
      "|       977|Research & Develo...|Manufacturing Dir...| 56|  Male| 13402|    33|              1|\n",
      "|      1357|Research & Develo...|   Research Director| 42|  Male| 13348|    18|              1|\n",
      "|      1403|               Sales|     Sales Executive| 39|  Male| 13341|    21|              1|\n",
      "|       751|               Sales|     Sales Executive| 44|Female| 13320|    23|              1|\n",
      "|      1177|Research & Develo...|   Research Director| 50|Female| 13269|    19|              1|\n",
      "|       995|Research & Develo...|Manufacturing Dir...| 52|Female| 13247|    24|              1|\n",
      "|        78|Research & Develo...|   Research Director| 45|  Male| 13245|    17|              1|\n",
      "|       449|Research & Develo...|Manufacturing Dir...| 40|Female| 13237|    22|              1|\n",
      "|      1327|               Sales|     Sales Executive| 46|Female| 13225|    25|              1|\n",
      "|       402|               Sales|     Sales Executive| 56|Female| 13212|    36|              1|\n",
      "|      1430|Research & Develo...|   Research Director| 38|Female| 13206|    20|              1|\n",
      "|       707|               Sales|     Sales Executive| 40|Female| 13194|    22|              1|\n",
      "|       888|Research & Develo...|   Research Director| 42|Female| 13191|    20|              1|\n",
      "|       972|Research & Develo...|Manufacturing Dir...| 51|Female| 13142|    29|              1|\n",
      "|       822|               Sales|     Sales Executive| 49|  Male| 13120|    22|              1|\n",
      "|      1275|Research & Develo...|             Manager| 51|Female| 13116|    15|              1|\n",
      "|      1268|Research & Develo...|Manufacturing Dir...| 53|Female| 12965|    27|              1|\n",
      "|      1223|               Sales|     Sales Executive| 47|  Male| 12936|    25|              1|\n",
      "|       611|Research & Develo...|   Research Director| 27|  Male| 12808|     9|              1|\n",
      "|       739|Research & Develo...|Manufacturing Dir...| 39|Female| 12742|    21|              1|\n",
      "|       353|               Sales|             Manager| 48|Female| 12504|    15|              1|\n",
      "|       214|Research & Develo...|   Research Director| 51|  Male| 12490|    16|              1|\n",
      "|       223|Research & Develo...|   Research Director| 37|  Male| 12185|    10|              1|\n",
      "|       814|Research & Develo...|Healthcare Repres...| 39|  Male| 12169|    21|              1|\n",
      "|       308|Research & Develo...|   Research Director| 38|Female| 12061|    19|              1|\n",
      "|      1462|               Sales|     Sales Executive| 39|Female| 12031|    21|              1|\n",
      "|       277|Research & Develo...|             Manager| 35|Female| 11996|    10|              1|\n",
      "|        23|Research & Develo...|   Research Director| 34|Female| 11994|    13|              1|\n",
      "|      1421|Research & Develo...|   Research Director| 47|Female| 11957|    14|              1|\n",
      "|       421|Research & Develo...|   Research Director| 29|  Male| 11935|    10|              1|\n",
      "|       949|Research & Develo...|             Manager| 30|Female| 11916|     9|              1|\n",
      "|       759|               Sales|             Manager| 59|  Male| 11904|    14|              1|\n",
      "|       314|Research & Develo...|             Manager| 33|Female| 11878|    12|              1|\n",
      "|       272|Research & Develo...|             Manager| 47|  Male| 11849|    10|              1|\n",
      "|       647|               Sales|     Sales Executive| 53|  Male| 11836|    28|              1|\n",
      "|       542|Research & Develo...|   Research Director| 36|Female| 11713|    10|              1|\n",
      "|       591|Research & Develo...|   Research Director| 33|  Male| 11691|    14|              1|\n",
      "|       117|Research & Develo...|             Manager| 34|Female| 11631|    14|              1|\n",
      "|       457|               Sales|             Manager| 31|  Male| 11557|    10|              1|\n",
      "|       342|Research & Develo...|   Research Director| 38|  Male| 11510|    12|              1|\n",
      "|       731|Research & Develo...|   Research Director| 30|Female| 11416|     9|              1|\n",
      "|      1138|Research & Develo...|Healthcare Repres...| 50|  Male| 11245|    32|              1|\n",
      "|      1075|Research & Develo...|             Manager| 32|  Male| 11244|    10|              1|\n",
      "|       532|Research & Develo...|   Research Director| 32|Female| 11159|    10|              1|\n",
      "|       553|Research & Develo...|Healthcare Repres...| 56|  Male| 11103|    30|              1|\n",
      "|      1405|Research & Develo...|   Research Director| 31|Female| 11031|    13|              1|\n",
      "|       737|Research & Develo...|Healthcare Repres...| 48|  Male| 10999|    27|              1|\n",
      "|       788|Research & Develo...|Manufacturing Dir...| 55|  Male| 10976|    23|              1|\n",
      "|       376|Research & Develo...|Healthcare Repres...| 49|  Male| 10965|    26|              1|\n",
      "|       252|Research & Develo...|Healthcare Repres...| 39|Female| 10938|    20|              1|\n",
      "|       625|               Sales|     Sales Executive| 53|Female| 10934|    35|              1|\n",
      "|       459|               Sales|     Sales Executive| 40|  Male| 10932|    20|              1|\n",
      "|       993|Research & Develo...|Healthcare Repres...| 39|  Male| 10920|    13|              1|\n",
      "|       648|Research & Develo...|Manufacturing Dir...| 35|  Male| 10903|    16|              1|\n",
      "|      1209|Research & Develo...|Healthcare Repres...| 60|  Male| 10883|    19|              1|\n",
      "|       754|Research & Develo...|Manufacturing Dir...| 39|Female| 10880|    21|              1|\n",
      "|       159|               Sales|     Sales Executive| 40|  Male| 10855|    15|              1|\n",
      "|      1461|               Sales|     Sales Executive| 50|  Male| 10854|    20|              1|\n",
      "|      1035|Research & Develo...|Healthcare Repres...| 45|  Male| 10851|    24|              1|\n",
      "|       724|Research & Develo...|Manufacturing Dir...| 46|  Male| 10845|    13|              1|\n",
      "|       813|Research & Develo...|Manufacturing Dir...| 43|Female| 10820|    18|              1|\n",
      "|       776|               Sales|     Sales Executive| 43|  Male| 10798|    18|              1|\n",
      "|      1031|               Sales|     Sales Executive| 31|  Male| 10793|    13|              1|\n",
      "|       626|               Sales|     Sales Executive| 45|  Male| 10761|    18|              1|\n",
      "|      1221|Research & Develo...|Healthcare Repres...| 45|  Male| 10748|    25|              1|\n",
      "|       729|Research & Develo...|Manufacturing Dir...| 54|Female| 10739|    22|              1|\n",
      "|       511|     Human Resources|     Human Resources| 54|  Male| 10725|    16|              1|\n",
      "|       772|               Sales|     Sales Executive| 54|Female| 10686|    13|              1|\n",
      "|       636|Research & Develo...|Manufacturing Dir...| 35|Female| 10685|    17|              1|\n",
      "|        94|Research & Develo...|Healthcare Repres...| 46|  Male| 10673|    21|              1|\n",
      "|       137|Research & Develo...|Manufacturing Dir...| 51|  Male| 10650|    18|              1|\n",
      "|       435|Research & Develo...|Manufacturing Dir...| 31|  Male| 10648|    13|              1|\n",
      "|       224|               Sales|     Sales Executive| 38|  Male| 10609|    17|              1|\n",
      "|       696|               Sales|     Sales Executive| 37|  Male| 10609|    17|              1|\n",
      "|       988|               Sales|     Sales Executive| 51|  Male| 10596|    14|              1|\n",
      "|       675|Research & Develo...|Healthcare Repres...| 58|Female| 10552|    24|              1|\n",
      "|       466|Research & Develo...|Healthcare Repres...| 46|Female| 10527|    28|              1|\n",
      "|       920|Research & Develo...|Manufacturing Dir...| 59|  Male| 10512|    25|              1|\n",
      "|       891|Research & Develo...|Manufacturing Dir...| 54|Female| 10502|    33|              1|\n",
      "|       368|Research & Develo...|Healthcare Repres...| 50|  Male| 10496|    20|              1|\n",
      "|       790|     Human Resources|     Human Resources| 44|  Male| 10482|    24|              1|\n",
      "|       534|               Sales|     Sales Executive| 40|  Male| 10475|    20|              1|\n",
      "|      1055|Research & Develo...|Healthcare Repres...| 49|  Male| 10466|    29|              1|\n",
      "|       179|               Sales|     Sales Executive| 46|Female| 10453|    24|              1|\n",
      "|      1396|               Sales|     Sales Executive| 53|  Male| 10448|    15|              1|\n",
      "|      1295|               Sales|     Sales Executive| 41|Female| 10447|    23|              1|\n",
      "|       807|Research & Develo...|Healthcare Repres...| 52|  Male| 10445|    18|              1|\n",
      "|      1156|Research & Develo...|Manufacturing Dir...| 40|Female| 10435|    18|              1|\n",
      "|      1431|               Sales|     Sales Executive| 32|Female| 10422|    14|              1|\n",
      "|       211|               Sales|     Sales Executive| 32|  Male| 10400|    14|              1|\n",
      "|       730|Research & Develo...|Healthcare Repres...| 35|Female| 10388|    16|              1|\n",
      "|       889|               Sales|     Sales Executive| 35|Female| 10377|    16|              1|\n",
      "|      1235|               Sales|     Sales Executive| 46|  Male| 10368|    13|              1|\n",
      "|      1303|Research & Develo...|Manufacturing Dir...| 47|Female| 10333|    28|              1|\n",
      "|       694|               Sales|     Sales Executive| 36|  Male| 10325|    16|              1|\n",
      "|       786|Research & Develo...|Healthcare Repres...| 40|  Male| 10322|    14|              1|\n",
      "|       127|Research & Develo...|Healthcare Repres...| 58|Female| 10312|    40|              1|\n",
      "|      1162|               Sales|     Sales Executive| 35|  Male| 10306|    15|              1|\n",
      "|       847|Research & Develo...|Manufacturing Dir...| 35|  Male| 10274|    15|              1|\n",
      "|       428|               Sales|     Sales Executive| 60|Female| 10266|    22|              1|\n",
      "|       883|Research & Develo...|Manufacturing Dir...| 36|Female| 10252|    17|              1|\n",
      "|        29|Research & Develo...|Healthcare Repres...| 44|Female| 10248|    24|              1|\n",
      "|        83|               Sales|     Sales Executive| 55|  Male| 10239|    24|              1|\n",
      "|       927|               Sales|     Sales Executive| 43|Female| 10231|    23|              1|\n",
      "|       612|Research & Develo...|Manufacturing Dir...| 35|  Male| 10221|    17|              1|\n",
      "|      1062|Research & Develo...|Manufacturing Dir...| 44|  Male| 10209|    16|              1|\n",
      "|      1111|Research & Develo...|Manufacturing Dir...| 53|Female| 10169|    34|              1|\n",
      "|      1093|Research & Develo...|Healthcare Repres...| 42|  Male| 10124|    24|              1|\n",
      "|        65|Research & Develo...|Healthcare Repres...| 36|Female| 10096|    17|              1|\n",
      "|      1032|               Sales|     Sales Executive| 46|  Male| 10096|    28|              1|\n",
      "|       251|Research & Develo...|Manufacturing Dir...| 37|  Male| 10048|    17|              1|\n",
      "|       967|Research & Develo...|Manufacturing Dir...| 58|Female| 10008|    31|              1|\n",
      "|       991|               Sales|     Sales Executive| 33|  Male|  9998|     8|              1|\n",
      "|      1466|Research & Develo...|Healthcare Repres...| 39|  Male|  9991|     9|              1|\n",
      "|       334|Research & Develo...|Healthcare Repres...| 43|Female|  9985|    10|              1|\n",
      "|       213|               Sales|     Sales Executive| 27|Female|  9981|     7|              1|\n",
      "|        16|Research & Develo...|Manufacturing Dir...| 29|Female|  9980|    10|              1|\n",
      "|       443|               Sales|     Sales Executive| 36|  Male|  9980|    10|              1|\n",
      "|       783|Research & Develo...|Manufacturing Dir...| 30|  Male|  9957|     7|              1|\n",
      "|       441|     Human Resources|     Human Resources| 34|Female|  9950|    11|              1|\n",
      "|      1463|Research & Develo...|Manufacturing Dir...| 31|  Male|  9936|    10|              1|\n",
      "|      1119|               Sales|     Sales Executive| 38|  Male|  9924|    10|              1|\n",
      "|      1326|               Sales|     Sales Executive| 32|  Male|  9907|     7|              1|\n",
      "|      1384|               Sales|     Sales Executive| 34|  Male|  9888|    14|              1|\n",
      "|        54|Research & Develo...|Healthcare Repres...| 35|  Male|  9884|    10|              1|\n",
      "|      1369|               Sales|     Sales Executive| 28|Female|  9854|     6|              1|\n",
      "|       951|               Sales|     Sales Executive| 31|Female|  9852|    10|              1|\n",
      "|       440|Research & Develo...|Healthcare Repres...| 31|  Male|  9824|    12|              1|\n",
      "|       472|Research & Develo...|Healthcare Repres...| 38|Female|  9824|    18|              1|\n",
      "|      1243|     Human Resources|     Human Resources| 45|Female|  9756|     9|              1|\n",
      "|       118|               Sales|     Sales Executive| 36|Female|  9738|    10|              1|\n",
      "|       758|               Sales|     Sales Executive| 34|  Male|  9725|    16|              1|\n",
      "|        68|Research & Develo...|  Research Scientist| 45|  Male|  9724|    25|              1|\n",
      "|      1090|Research & Develo...|Healthcare Repres...| 29|Female|  9715|     9|              1|\n",
      "|      1106|               Sales|     Sales Executive| 30|  Male|  9714|    10|              1|\n",
      "|      1342|               Sales|     Sales Executive| 34|  Male|  9713|     9|              1|\n",
      "|       685|               Sales|     Sales Executive| 40|  Male|  9705|    11|              1|\n",
      "|       360|               Sales|     Sales Executive| 36|  Male|  9699|    16|              1|\n",
      "|      1394|Research & Develo...|Manufacturing Dir...| 32|  Male|  9679|     8|              1|\n",
      "|      1296|Research & Develo...|Manufacturing Dir...| 30|Female|  9667|     9|              1|\n",
      "|      1306|               Sales|     Sales Executive| 31|Female|  9637|     9|              1|\n",
      "|        90|               Sales|     Sales Executive| 46|  Male|  9619|     9|              1|\n",
      "|       305|Research & Develo...|Healthcare Repres...| 39|  Male|  9613|    19|              1|\n",
      "|      1241|               Sales|     Sales Executive| 32|  Male|  9610|    10|              1|\n",
      "|       487|               Sales|     Sales Executive| 37|  Male|  9602|    17|              1|\n",
      "|       792|               Sales|     Sales Executive| 35|  Male|  9582|     9|              1|\n",
      "|       189|Research & Develo...|Manufacturing Dir...| 34|  Male|  9547|    10|              1|\n",
      "|         9|Research & Develo...|Manufacturing Dir...| 38|  Male|  9526|    10|              1|\n",
      "|      1211|               Sales|     Sales Executive| 37|  Male|  9525|     6|              1|\n",
      "|       164|Research & Develo...|Healthcare Repres...| 57|  Male|  9439|    12|              1|\n",
      "|       507|Research & Develo...|Manufacturing Dir...| 37|  Male|  9434|    10|              1|\n",
      "|       168|               Sales|     Sales Executive| 30|Female|  9419|    12|              1|\n",
      "|       210|Research & Develo...|Healthcare Repres...| 46|  Male|  9396|    17|              1|\n",
      "|      1038|Research & Develo...|Manufacturing Dir...| 45|  Male|  9380|    10|              1|\n",
      "|      1003|Research & Develo...|Manufacturing Dir...| 35|  Male|  9362|    10|              1|\n",
      "|       367|               Sales|     Sales Executive| 41|  Male|  9355|     8|              1|\n",
      "|      1012|               Sales|     Sales Executive| 36|Female|  9278|    15|              1|\n",
      "|      1109|               Sales|     Sales Executive| 30|  Male|  9250|     9|              1|\n",
      "|      1218|               Sales|     Sales Executive| 41|  Male|  9241|    10|              1|\n",
      "|       132|               Sales|     Sales Executive| 50|Female|  9208|    16|              1|\n",
      "|      1027|               Sales|     Sales Executive| 32|  Male|  9204|     7|              1|\n",
      "|       947|               Sales|     Sales Executive| 40|  Male|  9094|     9|              1|\n",
      "|       434|               Sales|     Sales Executive| 46|Female|  9071|    15|              1|\n",
      "|        57|               Sales|     Sales Executive| 35|  Male|  9069|     9|              1|\n",
      "|       155|               Sales|     Sales Executive| 32|Female|  8998|     9|              1|\n",
      "|       871|               Sales|     Sales Executive| 35|  Male|  8966|    15|              1|\n",
      "|       326|Research & Develo...|Manufacturing Dir...| 31|Female|  8943|    10|              1|\n",
      "|      1448|               Sales|     Sales Executive| 41|  Male|  8938|    14|              1|\n",
      "|      1298|Research & Develo...|Healthcare Repres...| 46|Female|  8926|    13|              1|\n",
      "|       219|               Sales|     Sales Executive| 45|Female|  8865|    23|              1|\n",
      "|       774|Research & Develo...|Manufacturing Dir...| 36|Female|  8858|    15|              1|\n",
      "|      1125|Research & Develo...|Healthcare Repres...| 29|  Male|  8853|     6|              1|\n",
      "|       512|Research & Develo...|Manufacturing Dir...| 36|  Male|  8847|    13|              1|\n",
      "|      1450|     Human Resources|     Human Resources| 35|Female|  8837|     9|              1|\n",
      "|       468|               Sales|     Sales Executive| 37|  Male|  8834|     9|              1|\n",
      "|       785|Research & Develo...|Healthcare Repres...| 38|Female|  8823|    20|              1|\n",
      "|       538|Research & Develo...|Manufacturing Dir...| 27|  Male|  8793|     9|              1|\n",
      "|       229|               Sales|     Sales Executive| 35|Female|  8789|    10|              1|\n",
      "|       808|               Sales|     Sales Executive| 38|  Male|  8740|     9|              1|\n",
      "|        44|               Sales|     Sales Executive| 27|  Male|  8726|     9|              1|\n",
      "|       781|Research & Develo...|Healthcare Repres...| 28|  Male|  8722|    10|              1|\n",
      "|       169|               Sales|     Sales Executive| 38|Female|  8686|    12|              1|\n",
      "|       139|               Sales|     Sales Executive| 25|  Male|  8639|     6|              1|\n",
      "|      1414|Research & Develo...|Healthcare Repres...| 47|  Male|  8633|    25|              1|\n",
      "|      1385|               Sales|     Sales Executive| 34|  Male|  8628|     9|              1|\n",
      "|       525|Research & Develo...|Healthcare Repres...| 34|Female|  8621|     9|              1|\n",
      "|      1063|               Sales|     Sales Executive| 29|  Male|  8620|    10|              1|\n",
      "|      1081|Research & Develo...|Healthcare Repres...| 35|Female|  8606|    11|              1|\n",
      "|      1322|Research & Develo...|Manufacturing Dir...| 46|  Male|  8578|    12|              1|\n",
      "|      1255|               Sales|     Sales Executive| 33|Female|  8564|    11|              1|\n",
      "|       959|Research & Develo...|Healthcare Repres...| 34|  Male|  8500|    10|              1|\n",
      "|       212|Research & Develo...|Manufacturing Dir...| 30|  Male|  8474|    12|              1|\n",
      "|      1042|               Sales|     Sales Executive| 28|  Male|  8463|     6|              1|\n",
      "|       948|               Sales|     Sales Executive| 52|  Male|  8446|    10|              1|\n",
      "|       424|               Sales|     Sales Executive| 30|Female|  8412|    10|              1|\n",
      "|       769|               Sales|     Sales Executive| 40|  Male|  8396|     8|              1|\n",
      "|       404|               Sales|     Sales Executive| 41|  Male|  8392|    10|              1|\n",
      "|       503|               Sales|     Sales Executive| 53|Female|  8381|    18|              1|\n",
      "|       909|               Sales|     Sales Executive| 33|  Male|  8380|    10|              1|\n",
      "|      1079|Research & Develo...|Manufacturing Dir...| 39|Female|  8376|     9|              2|\n",
      "|      1247|               Sales|     Sales Executive| 31|  Male|  8346|     6|              2|\n",
      "|      1278|Research & Develo...|Healthcare Repres...| 36|  Male|  8321|    15|              2|\n",
      "|       344|               Sales|     Sales Executive| 29|Female|  8268|     7|              2|\n",
      "|      1124|               Sales|     Sales Executive| 39|  Male|  8237|    11|              2|\n",
      "|       830|               Sales|     Sales Executive| 33|Female|  8224|     6|              2|\n",
      "|       134|               Sales|     Sales Executive| 41|  Male|  8189|    12|              2|\n",
      "|      1257|               Sales|     Sales Executive| 31|  Male|  8161|    10|              2|\n",
      "|       521|               Sales|     Sales Executive| 48|  Male|  8120|    12|              2|\n",
      "|      1359|               Sales|     Sales Executive| 34|Female|  8103|     9|              2|\n",
      "|       345|Research & Develo...|Manufacturing Dir...| 35|  Male|  8095|    17|              2|\n",
      "|       298|               Sales|     Sales Executive| 35|  Male|  8020|    12|              2|\n",
      "|      1173|Research & Develo...|Healthcare Repres...| 36|Female|  8008|     9|              2|\n",
      "|      1285|               Sales|     Sales Executive| 46|  Male|  7991|     6|              2|\n",
      "|      1006|     Human Resources|     Human Resources| 29|  Male|  7988|    10|              2|\n",
      "|       929|Research & Develo...|Healthcare Repres...| 44|Female|  7978|    10|              2|\n",
      "|       407|Research & Develo...|Manufacturing Dir...| 52|  Male|  7969|    28|              2|\n",
      "|      1164|Research & Develo...|Manufacturing Dir...| 40|Female|  7945|    18|              2|\n",
      "|       228|               Sales|     Sales Executive| 29|Female|  7918|    11|              2|\n",
      "|       970|Research & Develo...|Manufacturing Dir...| 48|  Male|  7898|    11|              2|\n",
      "|       706|               Sales|     Sales Executive| 39|  Male|  7880|     9|              2|\n",
      "|      1214|Research & Develo...|Healthcare Repres...| 44|Female|  7879|     9|              2|\n",
      "|       543|Research & Develo...|Manufacturing Dir...| 38|Female|  7861|    10|              2|\n",
      "|      1216|               Sales|     Sales Executive| 43|  Male|  7847|    10|              2|\n",
      "|       705|               Sales|     Sales Executive| 35|  Male|  7823|    12|              2|\n",
      "|       818|Research & Develo...|Manufacturing Dir...| 36|  Male|  7779|    18|              2|\n",
      "|       795|Research & Develo...|Healthcare Repres...| 34|  Male|  7756|     7|              2|\n",
      "|      1161|Research & Develo...|Manufacturing Dir...| 38|Female|  7756|    10|              2|\n",
      "|       510|Research & Develo...|Healthcare Repres...| 33|  Male|  7725|    15|              2|\n",
      "|       810|Research & Develo...|Manufacturing Dir...| 28|Female|  7655|    10|              2|\n",
      "|       608|               Sales|     Sales Executive| 49|Female|  7654|     9|              2|\n",
      "|      1439|               Sales|     Sales Executive| 36|Female|  7644|    10|              2|\n",
      "+----------+--------------------+--------------------+---+------+------+------+---------------+\n",
      "only showing top 400 rows\n",
      "\n"
     ]
    }
   ],
   "source": [
    "spark.sql(\"\"\"\n",
    "select employeeid,department,jobrole, age,gender,income,workex, NTILE(4) \n",
    "OVER(order by income desc) as salary_quantile from hremployee\n",
    "\"\"\").show(400)"
   ]
  },
  {
   "cell_type": "markdown",
   "id": "aeba3230",
   "metadata": {},
   "source": [
    "#### Calculate Max,Mean,Avg Income from each quantile"
   ]
  },
  {
   "cell_type": "code",
   "execution_count": 53,
   "id": "836d3a6d",
   "metadata": {},
   "outputs": [
    {
     "name": "stdout",
     "output_type": "stream",
     "text": [
      "+-------+--------+------+---------------+\n",
      "|Maximum|    Mean|Median|salary_quantile|\n",
      "+-------+--------+------+---------------+\n",
      "|   2911|  2354.0|  2377|              1|\n",
      "|   4930| 3966.74|  4033|              2|\n",
      "|   8380| 6191.14|  6091|              3|\n",
      "|  19999|13522.33| 13120|              4|\n",
      "+-------+--------+------+---------------+\n",
      "\n"
     ]
    }
   ],
   "source": [
    "spark.sql(\"\"\"\n",
    "select Max(income) as Maximum, round(avg(income),2) as Mean, percentile_approx(income,0.5) as Median, salary_quantile from\n",
    "(select employeeid,department,jobrole, age,gender,income,workex, NTILE(4)\n",
    "OVER(order by income) as salary_quantile from hremployee) group by salary_quantile\n",
    "\"\"\").show()"
   ]
  },
  {
   "cell_type": "markdown",
   "id": "a79331e3",
   "metadata": {},
   "source": [
    "#### Percent_Rank()\n",
    "         * Window function that calculates relative rank() of row within a result set expressed as percentage."
   ]
  },
  {
   "cell_type": "code",
   "execution_count": 54,
   "id": "0c547ba4",
   "metadata": {},
   "outputs": [
    {
     "name": "stdout",
     "output_type": "stream",
     "text": [
      "+----------+----------+-------+---+------+------+------+--------------------+\n",
      "|employeeid|department|jobrole|age|gender|income|workex|        percent_rank|\n",
      "+----------+----------+-------+---+------+------+------+--------------------+\n",
      "|       919|     Sales|Manager| 51|  Male| 19847|    31|                 0.0|\n",
      "|       750|     Sales|Manager| 52|Female| 19845|    33|0.002252252252252...|\n",
      "|      1242|     Sales|Manager| 40|  Male| 19833|    21|0.004504504504504...|\n",
      "|      1116|     Sales|Manager| 55|  Male| 19586|    36|0.006756756756756757|\n",
      "|       234|     Sales|Manager| 50|Female| 19517|    32|0.009009009009009009|\n",
      "|      1126|     Sales|Manager| 50|  Male| 19331|    27| 0.01126126126126126|\n",
      "|       238|     Sales|Manager| 52|  Male| 19068|    33|0.013513513513513514|\n",
      "|        30|     Sales|Manager| 46|Female| 18947|    22|0.015765765765765764|\n",
      "|       914|     Sales|Manager| 45|Female| 18824|    26|0.018018018018018018|\n",
      "|       917|     Sales|Manager| 46|Female| 18789|    26| 0.02027027027027027|\n",
      "|       742|     Sales|Manager| 42|  Male| 18303|    21| 0.02252252252252252|\n",
      "|       908|     Sales|Manager| 44|  Male| 18213|    26|0.024774774774774775|\n",
      "|       418|     Sales|Manager| 40|Female| 18041|    21| 0.02702702702702703|\n",
      "|      1374|     Sales|Manager| 58|Female| 17875|    29| 0.02927927927927928|\n",
      "|       756|     Sales|Manager| 45|Female| 17650|    26| 0.03153153153153153|\n",
      "|      1135|     Sales|Manager| 46|  Male| 17567|    27|0.033783783783783786|\n",
      "|       811|     Sales|Manager| 46|  Male| 17465|    23|0.036036036036036036|\n",
      "|       711|     Sales|Manager| 33|  Male| 17444|    10|0.038288288288288286|\n",
      "|       862|     Sales|Manager| 46|Female| 17048|    28| 0.04054054054054054|\n",
      "|       120|     Sales|Manager| 43|  Male| 16959|    25| 0.04279279279279279|\n",
      "+----------+----------+-------+---+------+------+------+--------------------+\n",
      "only showing top 20 rows\n",
      "\n"
     ]
    }
   ],
   "source": [
    "spark.sql(\"\"\"\n",
    "select employeeid,department,jobrole, age,gender,income,workex, PERCENT_RANK() \n",
    "OVER(partition by department order by income DESC) as percent_rank from hremployee\n",
    "\"\"\").show()"
   ]
  },
  {
   "cell_type": "markdown",
   "id": "11b8acbb",
   "metadata": {},
   "source": [
    "#### Find out the number of records in each of the percentile range(0-25,25-50,50-75,75-100)"
   ]
  },
  {
   "cell_type": "code",
   "execution_count": 66,
   "id": "8ca80c33",
   "metadata": {},
   "outputs": [
    {
     "ename": "ParseException",
     "evalue": "\"\\nmismatched input 'from' expecting <EOF>(line 2, pos 32)\\n\\n== SQL ==\\n\\nselect Quantile_Group, count(*) from\\n--------------------------------^^^\\n(select employeeid,department,jobrole, age,gender,income,workex,\\ncase((When percent_rank <=0.25 then 'q1') else,\\n     (when percent_rank <=0.50 then 'q2') else,\\n     (when percent_rank <=0.75 then 'q3') \\n      else 'q4' end) as Quantile_Group PERCENT_RANK() \\nOVER(order by income) as percent_rank from hremployee) as Quantile group by Quantile_Group\\n\"",
     "output_type": "error",
     "traceback": [
      "\u001b[0;31m---------------------------------------------------------------------------\u001b[0m",
      "\u001b[0;31mPy4JJavaError\u001b[0m                             Traceback (most recent call last)",
      "\u001b[0;32m/usr/local/spark/python/pyspark/sql/utils.py\u001b[0m in \u001b[0;36mdeco\u001b[0;34m(*a, **kw)\u001b[0m\n\u001b[1;32m     62\u001b[0m         \u001b[0;32mtry\u001b[0m\u001b[0;34m:\u001b[0m\u001b[0;34m\u001b[0m\u001b[0;34m\u001b[0m\u001b[0m\n\u001b[0;32m---> 63\u001b[0;31m             \u001b[0;32mreturn\u001b[0m \u001b[0mf\u001b[0m\u001b[0;34m(\u001b[0m\u001b[0;34m*\u001b[0m\u001b[0ma\u001b[0m\u001b[0;34m,\u001b[0m \u001b[0;34m**\u001b[0m\u001b[0mkw\u001b[0m\u001b[0;34m)\u001b[0m\u001b[0;34m\u001b[0m\u001b[0;34m\u001b[0m\u001b[0m\n\u001b[0m\u001b[1;32m     64\u001b[0m         \u001b[0;32mexcept\u001b[0m \u001b[0mpy4j\u001b[0m\u001b[0;34m.\u001b[0m\u001b[0mprotocol\u001b[0m\u001b[0;34m.\u001b[0m\u001b[0mPy4JJavaError\u001b[0m \u001b[0;32mas\u001b[0m \u001b[0me\u001b[0m\u001b[0;34m:\u001b[0m\u001b[0;34m\u001b[0m\u001b[0;34m\u001b[0m\u001b[0m\n",
      "\u001b[0;32m/usr/local/spark/python/lib/py4j-0.10.7-src.zip/py4j/protocol.py\u001b[0m in \u001b[0;36mget_return_value\u001b[0;34m(answer, gateway_client, target_id, name)\u001b[0m\n\u001b[1;32m    327\u001b[0m                     \u001b[0;34m\"An error occurred while calling {0}{1}{2}.\\n\"\u001b[0m\u001b[0;34m.\u001b[0m\u001b[0;34m\u001b[0m\u001b[0;34m\u001b[0m\u001b[0m\n\u001b[0;32m--> 328\u001b[0;31m                     format(target_id, \".\", name), value)\n\u001b[0m\u001b[1;32m    329\u001b[0m             \u001b[0;32melse\u001b[0m\u001b[0;34m:\u001b[0m\u001b[0;34m\u001b[0m\u001b[0;34m\u001b[0m\u001b[0m\n",
      "\u001b[0;31mPy4JJavaError\u001b[0m: An error occurred while calling o55.sql.\n: org.apache.spark.sql.catalyst.parser.ParseException: \nmismatched input 'from' expecting <EOF>(line 2, pos 32)\n\n== SQL ==\n\nselect Quantile_Group, count(*) from\n--------------------------------^^^\n(select employeeid,department,jobrole, age,gender,income,workex,\ncase((When percent_rank <=0.25 then 'q1') else,\n     (when percent_rank <=0.50 then 'q2') else,\n     (when percent_rank <=0.75 then 'q3') \n      else 'q4' end) as Quantile_Group PERCENT_RANK() \nOVER(order by income) as percent_rank from hremployee) as Quantile group by Quantile_Group\n\n\tat org.apache.spark.sql.catalyst.parser.ParseException.withCommand(ParseDriver.scala:241)\n\tat org.apache.spark.sql.catalyst.parser.AbstractSqlParser.parse(ParseDriver.scala:117)\n\tat org.apache.spark.sql.execution.SparkSqlParser.parse(SparkSqlParser.scala:48)\n\tat org.apache.spark.sql.catalyst.parser.AbstractSqlParser.parsePlan(ParseDriver.scala:69)\n\tat org.apache.spark.sql.SparkSession.sql(SparkSession.scala:643)\n\tat sun.reflect.GeneratedMethodAccessor81.invoke(Unknown Source)\n\tat sun.reflect.DelegatingMethodAccessorImpl.invoke(DelegatingMethodAccessorImpl.java:43)\n\tat java.lang.reflect.Method.invoke(Method.java:498)\n\tat py4j.reflection.MethodInvoker.invoke(MethodInvoker.java:244)\n\tat py4j.reflection.ReflectionEngine.invoke(ReflectionEngine.java:357)\n\tat py4j.Gateway.invoke(Gateway.java:282)\n\tat py4j.commands.AbstractCommand.invokeMethod(AbstractCommand.java:132)\n\tat py4j.commands.CallCommand.execute(CallCommand.java:79)\n\tat py4j.GatewayConnection.run(GatewayConnection.java:238)\n\tat java.lang.Thread.run(Thread.java:745)\n",
      "\nDuring handling of the above exception, another exception occurred:\n",
      "\u001b[0;31mParseException\u001b[0m                            Traceback (most recent call last)",
      "\u001b[0;32m<ipython-input-66-c4c7aaf0dc89>\u001b[0m in \u001b[0;36m<module>\u001b[0;34m\u001b[0m\n\u001b[1;32m      7\u001b[0m       else 'q4' end) as Quantile_Group PERCENT_RANK() \n\u001b[1;32m      8\u001b[0m OVER(order by income) as percent_rank from hremployee) as Quantile group by Quantile_Group\n\u001b[0;32m----> 9\u001b[0;31m \"\"\").show()\n\u001b[0m",
      "\u001b[0;32m/usr/local/spark/python/pyspark/sql/session.py\u001b[0m in \u001b[0;36msql\u001b[0;34m(self, sqlQuery)\u001b[0m\n\u001b[1;32m    765\u001b[0m         \u001b[0;34m[\u001b[0m\u001b[0mRow\u001b[0m\u001b[0;34m(\u001b[0m\u001b[0mf1\u001b[0m\u001b[0;34m=\u001b[0m\u001b[0;36m1\u001b[0m\u001b[0;34m,\u001b[0m \u001b[0mf2\u001b[0m\u001b[0;34m=\u001b[0m\u001b[0;34mu'row1'\u001b[0m\u001b[0;34m)\u001b[0m\u001b[0;34m,\u001b[0m \u001b[0mRow\u001b[0m\u001b[0;34m(\u001b[0m\u001b[0mf1\u001b[0m\u001b[0;34m=\u001b[0m\u001b[0;36m2\u001b[0m\u001b[0;34m,\u001b[0m \u001b[0mf2\u001b[0m\u001b[0;34m=\u001b[0m\u001b[0;34mu'row2'\u001b[0m\u001b[0;34m)\u001b[0m\u001b[0;34m,\u001b[0m \u001b[0mRow\u001b[0m\u001b[0;34m(\u001b[0m\u001b[0mf1\u001b[0m\u001b[0;34m=\u001b[0m\u001b[0;36m3\u001b[0m\u001b[0;34m,\u001b[0m \u001b[0mf2\u001b[0m\u001b[0;34m=\u001b[0m\u001b[0;34mu'row3'\u001b[0m\u001b[0;34m)\u001b[0m\u001b[0;34m]\u001b[0m\u001b[0;34m\u001b[0m\u001b[0;34m\u001b[0m\u001b[0m\n\u001b[1;32m    766\u001b[0m         \"\"\"\n\u001b[0;32m--> 767\u001b[0;31m         \u001b[0;32mreturn\u001b[0m \u001b[0mDataFrame\u001b[0m\u001b[0;34m(\u001b[0m\u001b[0mself\u001b[0m\u001b[0;34m.\u001b[0m\u001b[0m_jsparkSession\u001b[0m\u001b[0;34m.\u001b[0m\u001b[0msql\u001b[0m\u001b[0;34m(\u001b[0m\u001b[0msqlQuery\u001b[0m\u001b[0;34m)\u001b[0m\u001b[0;34m,\u001b[0m \u001b[0mself\u001b[0m\u001b[0;34m.\u001b[0m\u001b[0m_wrapped\u001b[0m\u001b[0;34m)\u001b[0m\u001b[0;34m\u001b[0m\u001b[0;34m\u001b[0m\u001b[0m\n\u001b[0m\u001b[1;32m    768\u001b[0m \u001b[0;34m\u001b[0m\u001b[0m\n\u001b[1;32m    769\u001b[0m     \u001b[0;34m@\u001b[0m\u001b[0msince\u001b[0m\u001b[0;34m(\u001b[0m\u001b[0;36m2.0\u001b[0m\u001b[0;34m)\u001b[0m\u001b[0;34m\u001b[0m\u001b[0;34m\u001b[0m\u001b[0m\n",
      "\u001b[0;32m/usr/local/spark/python/lib/py4j-0.10.7-src.zip/py4j/java_gateway.py\u001b[0m in \u001b[0;36m__call__\u001b[0;34m(self, *args)\u001b[0m\n\u001b[1;32m   1255\u001b[0m         \u001b[0manswer\u001b[0m \u001b[0;34m=\u001b[0m \u001b[0mself\u001b[0m\u001b[0;34m.\u001b[0m\u001b[0mgateway_client\u001b[0m\u001b[0;34m.\u001b[0m\u001b[0msend_command\u001b[0m\u001b[0;34m(\u001b[0m\u001b[0mcommand\u001b[0m\u001b[0;34m)\u001b[0m\u001b[0;34m\u001b[0m\u001b[0;34m\u001b[0m\u001b[0m\n\u001b[1;32m   1256\u001b[0m         return_value = get_return_value(\n\u001b[0;32m-> 1257\u001b[0;31m             answer, self.gateway_client, self.target_id, self.name)\n\u001b[0m\u001b[1;32m   1258\u001b[0m \u001b[0;34m\u001b[0m\u001b[0m\n\u001b[1;32m   1259\u001b[0m         \u001b[0;32mfor\u001b[0m \u001b[0mtemp_arg\u001b[0m \u001b[0;32min\u001b[0m \u001b[0mtemp_args\u001b[0m\u001b[0;34m:\u001b[0m\u001b[0;34m\u001b[0m\u001b[0;34m\u001b[0m\u001b[0m\n",
      "\u001b[0;32m/usr/local/spark/python/pyspark/sql/utils.py\u001b[0m in \u001b[0;36mdeco\u001b[0;34m(*a, **kw)\u001b[0m\n\u001b[1;32m     71\u001b[0m                 \u001b[0;32mraise\u001b[0m \u001b[0mAnalysisException\u001b[0m\u001b[0;34m(\u001b[0m\u001b[0ms\u001b[0m\u001b[0;34m.\u001b[0m\u001b[0msplit\u001b[0m\u001b[0;34m(\u001b[0m\u001b[0;34m': '\u001b[0m\u001b[0;34m,\u001b[0m \u001b[0;36m1\u001b[0m\u001b[0;34m)\u001b[0m\u001b[0;34m[\u001b[0m\u001b[0;36m1\u001b[0m\u001b[0;34m]\u001b[0m\u001b[0;34m,\u001b[0m \u001b[0mstackTrace\u001b[0m\u001b[0;34m)\u001b[0m\u001b[0;34m\u001b[0m\u001b[0;34m\u001b[0m\u001b[0m\n\u001b[1;32m     72\u001b[0m             \u001b[0;32mif\u001b[0m \u001b[0ms\u001b[0m\u001b[0;34m.\u001b[0m\u001b[0mstartswith\u001b[0m\u001b[0;34m(\u001b[0m\u001b[0;34m'org.apache.spark.sql.catalyst.parser.ParseException: '\u001b[0m\u001b[0;34m)\u001b[0m\u001b[0;34m:\u001b[0m\u001b[0;34m\u001b[0m\u001b[0;34m\u001b[0m\u001b[0m\n\u001b[0;32m---> 73\u001b[0;31m                 \u001b[0;32mraise\u001b[0m \u001b[0mParseException\u001b[0m\u001b[0;34m(\u001b[0m\u001b[0ms\u001b[0m\u001b[0;34m.\u001b[0m\u001b[0msplit\u001b[0m\u001b[0;34m(\u001b[0m\u001b[0;34m': '\u001b[0m\u001b[0;34m,\u001b[0m \u001b[0;36m1\u001b[0m\u001b[0;34m)\u001b[0m\u001b[0;34m[\u001b[0m\u001b[0;36m1\u001b[0m\u001b[0;34m]\u001b[0m\u001b[0;34m,\u001b[0m \u001b[0mstackTrace\u001b[0m\u001b[0;34m)\u001b[0m\u001b[0;34m\u001b[0m\u001b[0;34m\u001b[0m\u001b[0m\n\u001b[0m\u001b[1;32m     74\u001b[0m             \u001b[0;32mif\u001b[0m \u001b[0ms\u001b[0m\u001b[0;34m.\u001b[0m\u001b[0mstartswith\u001b[0m\u001b[0;34m(\u001b[0m\u001b[0;34m'org.apache.spark.sql.streaming.StreamingQueryException: '\u001b[0m\u001b[0;34m)\u001b[0m\u001b[0;34m:\u001b[0m\u001b[0;34m\u001b[0m\u001b[0;34m\u001b[0m\u001b[0m\n\u001b[1;32m     75\u001b[0m                 \u001b[0;32mraise\u001b[0m \u001b[0mStreamingQueryException\u001b[0m\u001b[0;34m(\u001b[0m\u001b[0ms\u001b[0m\u001b[0;34m.\u001b[0m\u001b[0msplit\u001b[0m\u001b[0;34m(\u001b[0m\u001b[0;34m': '\u001b[0m\u001b[0;34m,\u001b[0m \u001b[0;36m1\u001b[0m\u001b[0;34m)\u001b[0m\u001b[0;34m[\u001b[0m\u001b[0;36m1\u001b[0m\u001b[0;34m]\u001b[0m\u001b[0;34m,\u001b[0m \u001b[0mstackTrace\u001b[0m\u001b[0;34m)\u001b[0m\u001b[0;34m\u001b[0m\u001b[0;34m\u001b[0m\u001b[0m\n",
      "\u001b[0;31mParseException\u001b[0m: \"\\nmismatched input 'from' expecting <EOF>(line 2, pos 32)\\n\\n== SQL ==\\n\\nselect Quantile_Group, count(*) from\\n--------------------------------^^^\\n(select employeeid,department,jobrole, age,gender,income,workex,\\ncase((When percent_rank <=0.25 then 'q1') else,\\n     (when percent_rank <=0.50 then 'q2') else,\\n     (when percent_rank <=0.75 then 'q3') \\n      else 'q4' end) as Quantile_Group PERCENT_RANK() \\nOVER(order by income) as percent_rank from hremployee) as Quantile group by Quantile_Group\\n\""
     ]
    }
   ],
   "source": [
    "spark.sql(\"\"\"\n",
    "select Quantile_Group, count(*) from\n",
    "(select employeeid,department,jobrole, age,gender,income,workex,\n",
    "case((When percent_rank <=0.25 then 'q1') else,\n",
    "     (when percent_rank <=0.50 then 'q2') else,\n",
    "     (when percent_rank <=0.75 then 'q3') \n",
    "      else 'q4' end) as Quantile_Group PERCENT_RANK() \n",
    "OVER(order by income) as percent_rank from hremployee) as Quantile group by Quantile_Group\n",
    "\"\"\").show()"
   ]
  },
  {
   "cell_type": "code",
   "execution_count": 87,
   "id": "8c518ae6",
   "metadata": {},
   "outputs": [
    {
     "name": "stdout",
     "output_type": "stream",
     "text": [
      "+--------------+--------------+\n",
      "|Quantile_Group|Quantile_Count|\n",
      "+--------------+--------------+\n",
      "|            q1|           370|\n",
      "|            q4|           367|\n",
      "|            q2|           366|\n",
      "|            q3|           366|\n",
      "+--------------+--------------+\n",
      "\n"
     ]
    }
   ],
   "source": [
    "spark.sql(\"\"\"\n",
    "select Quantile_Group, count(*) as Quantile_Count from \n",
    "(\n",
    "select *,case When percent_rank <=0.25 then 'q1'\n",
    "     when percent_rank <=0.50 then 'q2'\n",
    "     when percent_rank <=0.75 then 'q3'\n",
    "      else 'q4' end as Quantile_Group \n",
    "from\n",
    "(\n",
    "select employeeid,department,jobrole, age,gender,income,workex,PERCENT_RANK() \n",
    "OVER(partition by department order by income) as percent_rank from hremployee\n",
    ")) group by Quantile_Group order by Quantile_Count desc\n",
    "\"\"\").show()"
   ]
  },
  {
   "cell_type": "code",
   "execution_count": 89,
   "id": "dd463723",
   "metadata": {},
   "outputs": [
    {
     "name": "stdout",
     "output_type": "stream",
     "text": [
      "+--------------+--------+\n",
      "|Quantile_Group|count(1)|\n",
      "+--------------+--------+\n",
      "|            Q2|     366|\n",
      "|            Q1|     370|\n",
      "|            Q3|     366|\n",
      "|            Q4|     367|\n",
      "+--------------+--------+\n",
      "\n"
     ]
    }
   ],
   "source": [
    "spark.sql(\"\"\"\n",
    "select Quantile_Group, count(*) from\n",
    "(\n",
    "select percent_rank,\n",
    "case when percent_rank <=0.25 then 'Q1'\n",
    "     when percent_rank <=0.50 then 'Q2'\n",
    "     when percent_rank <=0.75 then 'Q3'\n",
    "     else 'Q4' end as Quantile_Group \n",
    "from\n",
    "(\n",
    "select employeeid,department,jobrole, age,gender,income,workex,PERCENT_RANK() \n",
    "OVER(partition by department order by income) as percent_rank from hremployee)) group by Quantile_Group\n",
    "\"\"\").show()"
   ]
  },
  {
   "cell_type": "markdown",
   "id": "b4c8a065",
   "metadata": {},
   "source": [
    "#### Show JobRole with maximum Attrition Rate (Percentage)"
   ]
  },
  {
   "cell_type": "code",
   "execution_count": 108,
   "id": "2f163514",
   "metadata": {},
   "outputs": [
    {
     "name": "stdout",
     "output_type": "stream",
     "text": [
      "+--------------------+-------+\n",
      "|             jobrole|Percent|\n",
      "+--------------------+-------+\n",
      "|Sales Representative|  40.24|\n",
      "|Laboratory Techni...|  23.94|\n",
      "|     Human Resources|  23.08|\n",
      "|     Sales Executive|  17.48|\n",
      "|  Research Scientist|   16.1|\n",
      "|Manufacturing Dir...|    6.9|\n",
      "|Healthcare Repres...|   6.87|\n",
      "|             Manager|    4.9|\n",
      "|   Research Director|    2.5|\n",
      "+--------------------+-------+\n",
      "\n"
     ]
    }
   ],
   "source": [
    "spark.sql(\"\"\"\n",
    "select jobrole, \n",
    "round(sum(case when Attrition = 'Yes' then 1\n",
    "     else 0 end)/ count(EmployeeID)*100,2) as Percent from hremployee group by jobrole order by Percent desc\n",
    "\"\"\").show()"
   ]
  },
  {
   "cell_type": "markdown",
   "id": "fc7bbe75",
   "metadata": {},
   "source": [
    "### HBase Intergation with Pyspark"
   ]
  },
  {
   "cell_type": "code",
   "execution_count": 1,
   "id": "05cc53e7",
   "metadata": {},
   "outputs": [],
   "source": [
    "spark.stop()"
   ]
  },
  {
   "cell_type": "code",
   "execution_count": 2,
   "id": "7d81d518",
   "metadata": {},
   "outputs": [],
   "source": [
    "from pyspark.sql import SparkSession\n",
    "spark = SparkSession.builder.appName(\"HbaseIntegration\").getOrCreate()"
   ]
  },
  {
   "cell_type": "code",
   "execution_count": 3,
   "id": "4be8c61e",
   "metadata": {},
   "outputs": [],
   "source": [
    "hbase_conf = {\n",
    "    \"hbase.zookeeper.quorum\": 'localhost',\n",
    "    \"hbase.mapreduce.inputtable\": 'hcustomer',\n",
    "    \"hbase.client.scanner.timeout.period\": \"600000\"\n",
    "}"
   ]
  },
  {
   "cell_type": "code",
   "execution_count": null,
   "id": "9459fa4f",
   "metadata": {},
   "outputs": [],
   "source": [
    "df = spark.read.format(\"org.apache.hadoop.hbase.spark\").options(**hbase_conf).load()"
   ]
  },
  {
   "cell_type": "markdown",
   "id": "0bb1d3c1",
   "metadata": {},
   "source": [
    "### Hive Integration with pyspark"
   ]
  },
  {
   "cell_type": "code",
   "execution_count": 5,
   "id": "a83ee0b2",
   "metadata": {},
   "outputs": [],
   "source": [
    "spark.stop()"
   ]
  },
  {
   "cell_type": "code",
   "execution_count": 6,
   "id": "aa45e1d8",
   "metadata": {},
   "outputs": [],
   "source": [
    "spark = (SparkSession.builder.appName(\"pyspark-hive-integration\")\n",
    "         .config('spark.sql.warehouse.dir', '/user/hive/warehouse/')\n",
    "         .enableHiveSupport().getOrCreate())"
   ]
  },
  {
   "cell_type": "code",
   "execution_count": 7,
   "id": "9dc045ea",
   "metadata": {},
   "outputs": [
    {
     "data": {
      "text/html": [
       "\n",
       "            <div>\n",
       "                <p><b>SparkSession - hive</b></p>\n",
       "                \n",
       "        <div>\n",
       "            <p><b>SparkContext</b></p>\n",
       "\n",
       "            <p><a href=\"http://10.0.2.15:4041\">Spark UI</a></p>\n",
       "\n",
       "            <dl>\n",
       "              <dt>Version</dt>\n",
       "                <dd><code>v2.4.8</code></dd>\n",
       "              <dt>Master</dt>\n",
       "                <dd><code>local[*]</code></dd>\n",
       "              <dt>AppName</dt>\n",
       "                <dd><code>pyspark-hive-integration</code></dd>\n",
       "            </dl>\n",
       "        </div>\n",
       "        \n",
       "            </div>\n",
       "        "
      ],
      "text/plain": [
       "<pyspark.sql.session.SparkSession at 0x7f5fdd12a1d0>"
      ]
     },
     "execution_count": 7,
     "metadata": {},
     "output_type": "execute_result"
    }
   ],
   "source": [
    "spark"
   ]
  },
  {
   "cell_type": "code",
   "execution_count": 8,
   "id": "4c17b53a",
   "metadata": {},
   "outputs": [
    {
     "name": "stdout",
     "output_type": "stream",
     "text": [
      "+------------+\n",
      "|databaseName|\n",
      "+------------+\n",
      "|    airlines|\n",
      "|  banking_db|\n",
      "|     default|\n",
      "+------------+\n",
      "\n"
     ]
    }
   ],
   "source": [
    "spark.sql(\"show databases\").show()"
   ]
  },
  {
   "cell_type": "code",
   "execution_count": 10,
   "id": "568b2fa6",
   "metadata": {},
   "outputs": [
    {
     "data": {
      "text/plain": [
       "DataFrame[]"
      ]
     },
     "execution_count": 10,
     "metadata": {},
     "output_type": "execute_result"
    }
   ],
   "source": [
    "spark.sql(\"\"\"\n",
    "create table if not exists airlines.flights(DayOfMonth int, DayOfWeek int, Carrier varchar(10), OriginAirportID int, DestAirportID int, DepDelay int, ArrDelay int)\n",
    "row format delimited\n",
    "fields terminated by ','\n",
    "lines terminated by '\\n'\n",
    "STORED AS TEXTFILE\n",
    "tblProperties(\"skip.header.line.count\" = 1)\n",
    "\"\"\")"
   ]
  },
  {
   "cell_type": "code",
   "execution_count": 11,
   "id": "6973731d",
   "metadata": {},
   "outputs": [
    {
     "name": "stdout",
     "output_type": "stream",
     "text": [
      "++\n",
      "||\n",
      "++\n",
      "++\n",
      "\n"
     ]
    }
   ],
   "source": [
    "spark.sql(\"use airlines\").show()"
   ]
  },
  {
   "cell_type": "code",
   "execution_count": 12,
   "id": "f7098a63",
   "metadata": {},
   "outputs": [
    {
     "name": "stdout",
     "output_type": "stream",
     "text": [
      "+--------+---------+-----------+\n",
      "|database|tableName|isTemporary|\n",
      "+--------+---------+-----------+\n",
      "|airlines|  flights|      false|\n",
      "+--------+---------+-----------+\n",
      "\n"
     ]
    }
   ],
   "source": [
    "spark.sql(\"show tables\").show()"
   ]
  },
  {
   "cell_type": "code",
   "execution_count": 13,
   "id": "01b96957",
   "metadata": {},
   "outputs": [
    {
     "name": "stdout",
     "output_type": "stream",
     "text": [
      "+---------------+---------+-------+\n",
      "|       col_name|data_type|comment|\n",
      "+---------------+---------+-------+\n",
      "|     DayOfMonth|      int|   null|\n",
      "|      DayOfWeek|      int|   null|\n",
      "|        Carrier|   string|   null|\n",
      "|OriginAirportID|      int|   null|\n",
      "|  DestAirportID|      int|   null|\n",
      "|       DepDelay|      int|   null|\n",
      "|       ArrDelay|      int|   null|\n",
      "+---------------+---------+-------+\n",
      "\n"
     ]
    }
   ],
   "source": [
    "spark.sql(\"describe flights\").show()"
   ]
  },
  {
   "cell_type": "code",
   "execution_count": 17,
   "id": "85c33905",
   "metadata": {},
   "outputs": [
    {
     "data": {
      "text/plain": [
       "DataFrame[]"
      ]
     },
     "execution_count": 17,
     "metadata": {},
     "output_type": "execute_result"
    }
   ],
   "source": [
    "spark.sql(\"\"\"\n",
    "load data local inpath '/home/hadoop/Downloads/raw_flight_data1.csv' \n",
    "overwrite into table flights\n",
    "\"\"\")"
   ]
  },
  {
   "cell_type": "code",
   "execution_count": 19,
   "id": "0ae7efdf",
   "metadata": {
    "collapsed": true
   },
   "outputs": [
    {
     "name": "stdout",
     "output_type": "stream",
     "text": [
      "+----------+---------+-------+---------------+-------------+--------+--------+\n",
      "|DayOfMonth|DayOfWeek|Carrier|OriginAirportID|DestAirportID|DepDelay|ArrDelay|\n",
      "+----------+---------+-------+---------------+-------------+--------+--------+\n",
      "|        19|        5|     DL|          11433|        13303|      -3|       1|\n",
      "|        19|        5|     DL|          14869|        12478|       0|      -8|\n",
      "|        19|        5|     DL|          14057|        14869|      -4|     -15|\n",
      "|        19|        5|     DL|          15016|        11433|      28|      24|\n",
      "|        19|        5|     DL|          11193|        12892|      -6|     -11|\n",
      "|        19|        5|     DL|          10397|        15016|      -1|     -19|\n",
      "|        19|        5|     DL|          15016|        10397|       0|      -1|\n",
      "|        19|        5|     DL|          10397|        14869|      15|      24|\n",
      "|        19|        5|     DL|          10397|        10423|      33|      34|\n",
      "|        19|        5|     DL|          11278|        10397|     323|     322|\n",
      "|        19|        5|     DL|          14107|        13487|      -7|     -13|\n",
      "|        19|        5|     DL|          11433|        11298|      22|      41|\n",
      "|        19|        5|     DL|          11298|        11433|      40|      20|\n",
      "|        19|        5|     DL|          11433|        12892|      -2|      -7|\n",
      "|        19|        5|     DL|          10397|        12451|      71|      75|\n",
      "|        19|        5|     DL|          12451|        10397|      75|      57|\n",
      "|        19|        5|     DL|          12953|        10397|      -1|      10|\n",
      "|        19|        5|     DL|          11433|        12953|      -3|     -10|\n",
      "|        19|        5|     DL|          10397|        14771|      31|      38|\n",
      "|        19|        5|     DL|          13204|        10397|       8|      25|\n",
      "+----------+---------+-------+---------------+-------------+--------+--------+\n",
      "only showing top 20 rows\n",
      "\n"
     ]
    }
   ],
   "source": [
    "spark.sql(\"select * from flights\").show()"
   ]
  },
  {
   "cell_type": "code",
   "execution_count": 20,
   "id": "6a6fa2e5",
   "metadata": {},
   "outputs": [
    {
     "data": {
      "text/plain": [
       "DataFrame[]"
      ]
     },
     "execution_count": 20,
     "metadata": {},
     "output_type": "execute_result"
    }
   ],
   "source": [
    "spark.sql(\"\"\"\n",
    "create table if not exists airlines.airline(airport_id int,city varchar(30),state varchar(10),name varchar(70))\n",
    "row format delimited\n",
    "fields terminated by ','\n",
    "lines terminated by '\\n'\n",
    "STORED AS TEXTFILE\n",
    "tblProperties(\"skip.header.line.count\" = 1)\n",
    "\"\"\")"
   ]
  },
  {
   "cell_type": "code",
   "execution_count": 21,
   "id": "5aa39803",
   "metadata": {},
   "outputs": [
    {
     "name": "stdout",
     "output_type": "stream",
     "text": [
      "+--------+---------+-----------+\n",
      "|database|tableName|isTemporary|\n",
      "+--------+---------+-----------+\n",
      "|airlines|  airline|      false|\n",
      "|airlines|  flights|      false|\n",
      "+--------+---------+-----------+\n",
      "\n"
     ]
    }
   ],
   "source": [
    "spark.sql(\"show tables\").show()"
   ]
  },
  {
   "cell_type": "code",
   "execution_count": 22,
   "id": "792ed445",
   "metadata": {},
   "outputs": [
    {
     "data": {
      "text/plain": [
       "DataFrame[]"
      ]
     },
     "execution_count": 22,
     "metadata": {},
     "output_type": "execute_result"
    }
   ],
   "source": [
    "spark.sql(\"\"\"\n",
    "load data local inpath '/home/hadoop/Downloads/airports1.csv' \n",
    "overwrite into table airline\n",
    "\"\"\")"
   ]
  },
  {
   "cell_type": "code",
   "execution_count": 24,
   "id": "42828d9e",
   "metadata": {},
   "outputs": [
    {
     "name": "stdout",
     "output_type": "stream",
     "text": [
      "+----------+---------+-------+\n",
      "|  col_name|data_type|comment|\n",
      "+----------+---------+-------+\n",
      "|airport_id|      int|   null|\n",
      "|      city|   string|   null|\n",
      "|     state|   string|   null|\n",
      "|      name|   string|   null|\n",
      "+----------+---------+-------+\n",
      "\n"
     ]
    }
   ],
   "source": [
    "spark.sql(\"describe airline\").show()"
   ]
  },
  {
   "cell_type": "code",
   "execution_count": 25,
   "id": "4dc5de9b",
   "metadata": {},
   "outputs": [
    {
     "name": "stdout",
     "output_type": "stream",
     "text": [
      "+----------+-----------+-----+--------------------+\n",
      "|airport_id|       city|state|                name|\n",
      "+----------+-----------+-----+--------------------+\n",
      "|     10165|Adak Island|   AK|                Adak|\n",
      "|     10299|  Anchorage|   AK|Ted Stevens Ancho...|\n",
      "|     10304|      Aniak|   AK|       Aniak Airport|\n",
      "|     10754|     Barrow|   AK|Wiley Post/Will R...|\n",
      "|     10551|     Bethel|   AK|      Bethel Airport|\n",
      "|     10926|    Cordova|   AK|Merle K Mudhole S...|\n",
      "|     14709|  Deadhorse|   AK|   Deadhorse Airport|\n",
      "|     11336| Dillingham|   AK|  Dillingham Airport|\n",
      "|     11630|  Fairbanks|   AK|Fairbanks Interna...|\n",
      "|     11997|   Gustavus|   AK|    Gustavus Airport|\n",
      "+----------+-----------+-----+--------------------+\n",
      "\n"
     ]
    }
   ],
   "source": [
    "spark.sql(\"select * from airline limit 10\").show()"
   ]
  },
  {
   "cell_type": "code",
   "execution_count": 26,
   "id": "30c36818",
   "metadata": {},
   "outputs": [],
   "source": [
    "flights_df = spark.table(\"flights\")\n",
    "airports_df = spark.table(\"airline\")"
   ]
  },
  {
   "cell_type": "code",
   "execution_count": 27,
   "id": "b5949200",
   "metadata": {},
   "outputs": [
    {
     "name": "stdout",
     "output_type": "stream",
     "text": [
      "+----------+---------+-------+---------------+-------------+--------+--------+\n",
      "|DayOfMonth|DayOfWeek|Carrier|OriginAirportID|DestAirportID|DepDelay|ArrDelay|\n",
      "+----------+---------+-------+---------------+-------------+--------+--------+\n",
      "|        19|        5|     DL|          11433|        13303|      -3|       1|\n",
      "|        19|        5|     DL|          14869|        12478|       0|      -8|\n",
      "+----------+---------+-------+---------------+-------------+--------+--------+\n",
      "only showing top 2 rows\n",
      "\n"
     ]
    }
   ],
   "source": [
    "flights_df.show(2)"
   ]
  },
  {
   "cell_type": "code",
   "execution_count": 30,
   "id": "45ac1364",
   "metadata": {},
   "outputs": [
    {
     "name": "stdout",
     "output_type": "stream",
     "text": [
      "+----------+-----------+-----+--------------------+\n",
      "|airport_id|       city|state|                name|\n",
      "+----------+-----------+-----+--------------------+\n",
      "|     10165|Adak Island|   AK|                Adak|\n",
      "|     10299|  Anchorage|   AK|Ted Stevens Ancho...|\n",
      "+----------+-----------+-----+--------------------+\n",
      "only showing top 2 rows\n",
      "\n"
     ]
    }
   ],
   "source": [
    "airports_df.show(2)"
   ]
  },
  {
   "cell_type": "markdown",
   "id": "4bdcda1b",
   "metadata": {},
   "source": [
    "### Transformation"
   ]
  },
  {
   "cell_type": "code",
   "execution_count": 35,
   "id": "2977188d",
   "metadata": {},
   "outputs": [],
   "source": [
    "flights_join = flights_df.join(airports_df, on=airports_df.airport_id == flights_df.OriginAirportID, how='inner')"
   ]
  },
  {
   "cell_type": "code",
   "execution_count": 36,
   "id": "27050c15",
   "metadata": {},
   "outputs": [
    {
     "name": "stdout",
     "output_type": "stream",
     "text": [
      "+----------+---------+-------+---------------+-------------+--------+--------+----------+--------------+-----+--------------------+\n",
      "|DayOfMonth|DayOfWeek|Carrier|OriginAirportID|DestAirportID|DepDelay|ArrDelay|airport_id|          city|state|                name|\n",
      "+----------+---------+-------+---------------+-------------+--------+--------+----------+--------------+-----+--------------------+\n",
      "|        19|        5|     DL|          11433|        13303|      -3|       1|     11433|       Detroit|   MI|Detroit Metro Way...|\n",
      "|        19|        5|     DL|          14869|        12478|       0|      -8|     14869|Salt Lake City|   UT|Salt Lake City In...|\n",
      "+----------+---------+-------+---------------+-------------+--------+--------+----------+--------------+-----+--------------------+\n",
      "only showing top 2 rows\n",
      "\n"
     ]
    }
   ],
   "source": [
    "flights_join.show(2)"
   ]
  },
  {
   "cell_type": "code",
   "execution_count": 37,
   "id": "78229b96",
   "metadata": {},
   "outputs": [
    {
     "name": "stdout",
     "output_type": "stream",
     "text": [
      "+----------+---------+-------+---------------+-------------+--------+--------+----------+--------------+-----+--------------------+\n",
      "|DayOfMonth|DayOfWeek|Carrier|OriginAirportID|DestAirportID|DepDelay|ArrDelay|airport_id|          city|state|                name|\n",
      "+----------+---------+-------+---------------+-------------+--------+--------+----------+--------------+-----+--------------------+\n",
      "|        19|        5|     DL|          11433|        13303|      -3|       1|     11433|       Detroit|   MI|Detroit Metro Way...|\n",
      "|        19|        5|     DL|          14869|        12478|       0|      -8|     14869|Salt Lake City|   UT|Salt Lake City In...|\n",
      "+----------+---------+-------+---------------+-------------+--------+--------+----------+--------------+-----+--------------------+\n",
      "only showing top 2 rows\n",
      "\n"
     ]
    }
   ],
   "source": [
    "flights_ljoin = flights_df.join(airports_df, on=airports_df.airport_id == flights_df.OriginAirportID, how='left')\n",
    "flights_ljoin.show(2)"
   ]
  },
  {
   "cell_type": "code",
   "execution_count": 38,
   "id": "964ab2f7",
   "metadata": {},
   "outputs": [
    {
     "name": "stdout",
     "output_type": "stream",
     "text": [
      "+----------+---------+-------+---------------+-------------+--------+--------+----------+----+-----+--------------------+\n",
      "|DayOfMonth|DayOfWeek|Carrier|OriginAirportID|DestAirportID|DepDelay|ArrDelay|airport_id|city|state|                name|\n",
      "+----------+---------+-------+---------------+-------------+--------+--------+----------+----+-----+--------------------+\n",
      "|        19|        5|     DL|          14570|        14869|      -5|      -8|     14570|Reno|   NV|Reno/Tahoe Intern...|\n",
      "|        19|        5|     DL|          14570|        14869|      -4|       2|     14570|Reno|   NV|Reno/Tahoe Intern...|\n",
      "+----------+---------+-------+---------------+-------------+--------+--------+----------+----+-----+--------------------+\n",
      "only showing top 2 rows\n",
      "\n"
     ]
    }
   ],
   "source": [
    "flights_rjoin = flights_df.join(airports_df, on=airports_df.airport_id == flights_df.OriginAirportID, how='right')\n",
    "flights_rjoin.show(2)"
   ]
  },
  {
   "cell_type": "code",
   "execution_count": 39,
   "id": "8d6cafc2",
   "metadata": {},
   "outputs": [
    {
     "name": "stdout",
     "output_type": "stream",
     "text": [
      "+----------+---------+-------+---------------+-------------+--------+--------+----------+----+-----+--------------------+\n",
      "|DayOfMonth|DayOfWeek|Carrier|OriginAirportID|DestAirportID|DepDelay|ArrDelay|airport_id|city|state|                name|\n",
      "+----------+---------+-------+---------------+-------------+--------+--------+----------+----+-----+--------------------+\n",
      "|        19|        5|     DL|          14570|        14869|      -5|      -8|     14570|Reno|   NV|Reno/Tahoe Intern...|\n",
      "|        19|        5|     DL|          14570|        14869|      -4|       2|     14570|Reno|   NV|Reno/Tahoe Intern...|\n",
      "+----------+---------+-------+---------------+-------------+--------+--------+----------+----+-----+--------------------+\n",
      "only showing top 2 rows\n",
      "\n"
     ]
    }
   ],
   "source": [
    "flights_ojoin = flights_df.join(airports_df, on=airports_df.airport_id == flights_df.OriginAirportID, how='outer')\n",
    "flights_ojoin.show(2)"
   ]
  },
  {
   "cell_type": "code",
   "execution_count": 40,
   "id": "0135f7a8",
   "metadata": {},
   "outputs": [
    {
     "name": "stdout",
     "output_type": "stream",
     "text": [
      "+----------+---------+-------+---------------+-------------+--------+--------+\n",
      "|DayOfMonth|DayOfWeek|Carrier|OriginAirportID|DestAirportID|DepDelay|ArrDelay|\n",
      "+----------+---------+-------+---------------+-------------+--------+--------+\n",
      "+----------+---------+-------+---------------+-------------+--------+--------+\n",
      "\n"
     ]
    }
   ],
   "source": [
    "flights_ltjoin = flights_df.join(airports_df, on=airports_df.airport_id == flights_df.OriginAirportID, how='leftanti')\n",
    "flights_ltjoin.show(2)"
   ]
  },
  {
   "cell_type": "code",
   "execution_count": 42,
   "id": "365d7e54",
   "metadata": {},
   "outputs": [
    {
     "name": "stdout",
     "output_type": "stream",
     "text": [
      "+----------+---------+-------+---------------+-------------+--------+--------+\n",
      "|DayOfMonth|DayOfWeek|Carrier|OriginAirportID|DestAirportID|DepDelay|ArrDelay|\n",
      "+----------+---------+-------+---------------+-------------+--------+--------+\n",
      "|        19|        5|     DL|          11433|        13303|      -3|       1|\n",
      "|        19|        5|     DL|          14869|        12478|       0|      -8|\n",
      "+----------+---------+-------+---------------+-------------+--------+--------+\n",
      "only showing top 2 rows\n",
      "\n"
     ]
    }
   ],
   "source": [
    "flights_lsjoin = flights_df.join(airports_df, on=airports_df.airport_id == flights_df.OriginAirportID, how='leftsemi')\n",
    "flights_lsjoin.show(2)"
   ]
  },
  {
   "cell_type": "code",
   "execution_count": null,
   "id": "8a674c6c",
   "metadata": {},
   "outputs": [],
   "source": [
    "flights_join.repartition()"
   ]
  },
  {
   "cell_type": "code",
   "execution_count": 43,
   "id": "927ba322",
   "metadata": {},
   "outputs": [],
   "source": [
    "flights_join.write.partitionBy('Carrier').parquet(\"/airlines\")"
   ]
  },
  {
   "cell_type": "code",
   "execution_count": 44,
   "id": "d9726820",
   "metadata": {},
   "outputs": [],
   "source": [
    "airlines_join = spark.read.parquet(\"/airlines\")"
   ]
  },
  {
   "cell_type": "code",
   "execution_count": 45,
   "id": "56b3ba1b",
   "metadata": {},
   "outputs": [],
   "source": [
    "airlines_join.createOrReplaceTempView('airlines')"
   ]
  },
  {
   "cell_type": "code",
   "execution_count": 47,
   "id": "7fd1052e",
   "metadata": {
    "collapsed": true
   },
   "outputs": [
    {
     "name": "stdout",
     "output_type": "stream",
     "text": [
      "+------------------+\n",
      "|     Arrival_Delay|\n",
      "+------------------+\n",
      "|11.651327332054372|\n",
      "+------------------+\n",
      "\n"
     ]
    }
   ],
   "source": [
    "spark.sql(\"select avg(ArrDelay) as Arrival_Delay from airlines where Carrier = 'AA'\").show()"
   ]
  },
  {
   "cell_type": "code",
   "execution_count": 48,
   "id": "f4df44cb",
   "metadata": {},
   "outputs": [
    {
     "name": "stdout",
     "output_type": "stream",
     "text": [
      "root\n",
      " |-- DayOfMonth: integer (nullable = true)\n",
      " |-- DayOfWeek: integer (nullable = true)\n",
      " |-- OriginAirportID: integer (nullable = true)\n",
      " |-- DestAirportID: integer (nullable = true)\n",
      " |-- DepDelay: integer (nullable = true)\n",
      " |-- ArrDelay: integer (nullable = true)\n",
      " |-- airport_id: integer (nullable = true)\n",
      " |-- city: string (nullable = true)\n",
      " |-- state: string (nullable = true)\n",
      " |-- name: string (nullable = true)\n",
      " |-- Carrier: string (nullable = true)\n",
      "\n"
     ]
    }
   ],
   "source": [
    "airlines_join.printSchema()"
   ]
  },
  {
   "cell_type": "markdown",
   "id": "a55f8e9f",
   "metadata": {},
   "source": [
    "### Load on Mysql"
   ]
  },
  {
   "cell_type": "code",
   "execution_count": 49,
   "id": "b90ed2ba",
   "metadata": {},
   "outputs": [],
   "source": [
    "connection_properties = {\n",
    "    \"user\":\"root\",\n",
    "    \"password\":\"hadoop@123\",\n",
    "    \"driver\":\"com.mysql.cj.jdbc.Driver\"\n",
    "}\n",
    "airlines_join.write.jdbc(url = \"jdbc:mysql://localhost:3306/airlines\",table = \"airport\",\n",
    "                 mode = \"overwrite\", properties = connection_properties)"
   ]
  },
  {
   "cell_type": "code",
   "execution_count": null,
   "id": "e81511a1",
   "metadata": {},
   "outputs": [],
   "source": []
  }
 ],
 "metadata": {
  "kernelspec": {
   "display_name": "Python 3",
   "language": "python",
   "name": "python3"
  },
  "language_info": {
   "codemirror_mode": {
    "name": "ipython",
    "version": 3
   },
   "file_extension": ".py",
   "mimetype": "text/x-python",
   "name": "python",
   "nbconvert_exporter": "python",
   "pygments_lexer": "ipython3",
   "version": "3.6.9"
  }
 },
 "nbformat": 4,
 "nbformat_minor": 5
}
