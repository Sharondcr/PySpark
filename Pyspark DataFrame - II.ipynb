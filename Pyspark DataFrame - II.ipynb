{
 "cells": [
  {
   "cell_type": "code",
   "execution_count": 1,
   "id": "306656b2",
   "metadata": {},
   "outputs": [
    {
     "data": {
      "text/html": [
       "\n",
       "        <div>\n",
       "            <p><b>SparkContext</b></p>\n",
       "\n",
       "            <p><a href=\"http://10.0.2.15:4043\">Spark UI</a></p>\n",
       "\n",
       "            <dl>\n",
       "              <dt>Version</dt>\n",
       "                <dd><code>v2.4.8</code></dd>\n",
       "              <dt>Master</dt>\n",
       "                <dd><code>local[*]</code></dd>\n",
       "              <dt>AppName</dt>\n",
       "                <dd><code>PySparkShell</code></dd>\n",
       "            </dl>\n",
       "        </div>\n",
       "        "
      ],
      "text/plain": [
       "<SparkContext master=local[*] appName=PySparkShell>"
      ]
     },
     "execution_count": 1,
     "metadata": {},
     "output_type": "execute_result"
    }
   ],
   "source": [
    "sc"
   ]
  },
  {
   "cell_type": "code",
   "execution_count": 2,
   "id": "61ed2e32",
   "metadata": {},
   "outputs": [
    {
     "data": {
      "text/html": [
       "\n",
       "            <div>\n",
       "                <p><b>SparkSession - hive</b></p>\n",
       "                \n",
       "        <div>\n",
       "            <p><b>SparkContext</b></p>\n",
       "\n",
       "            <p><a href=\"http://10.0.2.15:4043\">Spark UI</a></p>\n",
       "\n",
       "            <dl>\n",
       "              <dt>Version</dt>\n",
       "                <dd><code>v2.4.8</code></dd>\n",
       "              <dt>Master</dt>\n",
       "                <dd><code>local[*]</code></dd>\n",
       "              <dt>AppName</dt>\n",
       "                <dd><code>PySparkShell</code></dd>\n",
       "            </dl>\n",
       "        </div>\n",
       "        \n",
       "            </div>\n",
       "        "
      ],
      "text/plain": [
       "<pyspark.sql.session.SparkSession at 0x7ff14cd68b00>"
      ]
     },
     "execution_count": 2,
     "metadata": {},
     "output_type": "execute_result"
    }
   ],
   "source": [
    "spark"
   ]
  },
  {
   "cell_type": "code",
   "execution_count": 3,
   "id": "a1d531f0",
   "metadata": {},
   "outputs": [
    {
     "data": {
      "text/plain": [
       "Row(city='Mulyosari', country='Indonesia', first_name='Valma', gender='Female', id=1, last_name='Sans', salary=983107)"
      ]
     },
     "execution_count": 3,
     "metadata": {},
     "output_type": "execute_result"
    }
   ],
   "source": [
    "people_df = spark.read.json(\"file:///home/hadoop/Downloads/people.json\")\n",
    "people_df.head()"
   ]
  },
  {
   "cell_type": "code",
   "execution_count": 4,
   "id": "ff469ab0",
   "metadata": {},
   "outputs": [
    {
     "name": "stdout",
     "output_type": "stream",
     "text": [
      "+------------------+------------+----------+------+---+---------+------+\n",
      "|              city|     country|first_name|gender| id|last_name|salary|\n",
      "+------------------+------------+----------+------+---+---------+------+\n",
      "|         Mulyosari|   Indonesia|     Valma|Female|  1|     Sans|983107|\n",
      "|           Niihama|       Japan|     Paolo|  Male|  2|   Kiddie|649173|\n",
      "|         Dū Qal‘ah| Afghanistan|    Miltie|  Male|  3| De Zuani|352898|\n",
      "|            Iberia|        Peru|    Jarrid|  Male|  4| Dalziell|170398|\n",
      "|          La Ronge|      Canada| Reinaldos|  Male|  5|   Keeffe|440989|\n",
      "|      Kuala Lumpur|    Malaysia|        Eb|  Male|  6|Schwanden|274126|\n",
      "|         Al Qurayn|Saudi Arabia|    Alleyn|  Male|  7|   Paddon|681914|\n",
      "|           Jixiang|       China|   Baryram|  Male|  8|     Yell|250748|\n",
      "|Thị Trấn Phong Thổ|     Vietnam|     Cammy|Female|  9|     Axel|221750|\n",
      "|        Kotatengah|   Indonesia|       Erl|  Male| 10|  Caldera|680801|\n",
      "|        Roldanillo|    Colombia|    Miguel|  Male| 11|   Moules|819771|\n",
      "|            Malārd|        Iran| Mireielle|Female| 12|   Hurley|486029|\n",
      "|     Fada N'gourma|Burkina Faso|    Feodor|  Male| 13| Grummitt|358045|\n",
      "|           Ciangir|   Indonesia|     Diana|Female| 14|  Lawfull|397683|\n",
      "|         El Cantón|   Venezuela|      Evie|Female| 15|   Kaysor|436202|\n",
      "|          La Unión|    Colombia|    Janean|Female| 16|    Sayse|892405|\n",
      "|            Xinhua|       China|     Colan|  Male| 17|   Stoppe|218434|\n",
      "|     Крива Паланка|   Macedonia|      Erik|  Male| 18| Stitcher|776023|\n",
      "|          Qīr Moāv|      Jordan|   Sargent|  Male| 19|   Cleall|819269|\n",
      "|      Bogandinskiy|      Russia|   Tamqrah|Female| 20|Millichip|313540|\n",
      "+------------------+------------+----------+------+---+---------+------+\n",
      "only showing top 20 rows\n",
      "\n"
     ]
    }
   ],
   "source": [
    "people_df.show()"
   ]
  },
  {
   "cell_type": "code",
   "execution_count": 6,
   "id": "92983870",
   "metadata": {},
   "outputs": [
    {
     "data": {
      "text/plain": [
       "Row(age=58, balance=2143, campaign=1, contact='unknown', day=5, default='no', duration=261, education='tertiary', housing='yes', job='management', loan='no', marital='married', month='may', pdays=-1, poutcome='unknown', previous=0, y='no')"
      ]
     },
     "execution_count": 6,
     "metadata": {},
     "output_type": "execute_result"
    }
   ],
   "source": [
    "bank_data = spark.read.json(\"file:///home/hadoop/Downloads/bank_edited.json\",multiLine=True)\n",
    "bank_data.head()"
   ]
  },
  {
   "cell_type": "code",
   "execution_count": 7,
   "id": "790eb784",
   "metadata": {},
   "outputs": [
    {
     "name": "stdout",
     "output_type": "stream",
     "text": [
      "+---+-------+--------+-------+---+-------+--------+---------+-------+------------+----+--------+-----+-----+--------+--------+---+\n",
      "|age|balance|campaign|contact|day|default|duration|education|housing|         job|loan| marital|month|pdays|poutcome|previous|  y|\n",
      "+---+-------+--------+-------+---+-------+--------+---------+-------+------------+----+--------+-----+-----+--------+--------+---+\n",
      "| 58|   2143|       1|unknown|  5|     no|     261| tertiary|    yes|  management|  no| married|  may|   -1| unknown|       0| no|\n",
      "| 44|     29|       1|unknown|  5|     no|     151|secondary|    yes|  technician|  no|  single|  may|   -1| unknown|       0| no|\n",
      "| 33|      2|       1|unknown|  5|     no|      76|secondary|    yes|entrepreneur| yes| married|  may|   -1| unknown|       0| no|\n",
      "| 47|   1506|       1|unknown|  5|     no|      92|  unknown|    yes| blue-collar|  no| married|  may|   -1| unknown|       0| no|\n",
      "| 33|      1|       1|unknown|  5|     no|     198|  unknown|     no|     unknown|  no|  single|  may|   -1| unknown|       0| no|\n",
      "| 35|    231|       1|unknown|  5|     no|     139| tertiary|    yes|  management|  no| married|  may|   -1| unknown|       0| no|\n",
      "| 28|    447|       1|unknown|  5|     no|     217| tertiary|    yes|  management| yes|  single|  may|   -1| unknown|       0| no|\n",
      "| 42|      2|       1|unknown|  5|    yes|     380| tertiary|    yes|entrepreneur|  no|divorced|  may|   -1| unknown|       0| no|\n",
      "| 58|    121|       1|unknown|  5|     no|      50|  primary|    yes|     retired|  no| married|  may|   -1| unknown|       0| no|\n",
      "| 43|    593|       1|unknown|  5|     no|      55|secondary|    yes|  technician|  no|  single|  may|   -1| unknown|       0| no|\n",
      "| 41|    270|       1|unknown|  5|     no|     222|secondary|    yes|      admin.|  no|divorced|  may|   -1| unknown|       0| no|\n",
      "| 29|    390|       1|unknown|  5|     no|     137|secondary|    yes|      admin.|  no|  single|  may|   -1| unknown|       0| no|\n",
      "| 53|      6|       1|unknown|  5|     no|     517|secondary|    yes|  technician|  no| married|  may|   -1| unknown|       0| no|\n",
      "| 58|     71|       1|unknown|  5|     no|      71|  unknown|    yes|  technician|  no| married|  may|   -1| unknown|       0| no|\n",
      "| 57|    162|       1|unknown|  5|     no|     174|secondary|    yes|    services|  no| married|  may|   -1| unknown|       0| no|\n",
      "| 51|    229|       1|unknown|  5|     no|     353|  primary|    yes|     retired|  no| married|  may|   -1| unknown|       0| no|\n",
      "| 45|     13|       1|unknown|  5|     no|      98|  unknown|    yes|      admin.|  no|  single|  may|   -1| unknown|       0| no|\n",
      "| 57|     52|       1|unknown|  5|     no|      38|  primary|    yes| blue-collar|  no| married|  may|   -1| unknown|       0| no|\n",
      "| 60|     60|       1|unknown|  5|     no|     219|  primary|    yes|     retired|  no| married|  may|   -1| unknown|       0| no|\n",
      "| 33|      0|       1|unknown|  5|     no|      54|secondary|    yes|    services|  no| married|  may|   -1| unknown|       0| no|\n",
      "+---+-------+--------+-------+---+-------+--------+---------+-------+------------+----+--------+-----+-----+--------+--------+---+\n",
      "only showing top 20 rows\n",
      "\n"
     ]
    }
   ],
   "source": [
    "bank_data.show()"
   ]
  },
  {
   "cell_type": "code",
   "execution_count": 9,
   "id": "277c7ca2",
   "metadata": {},
   "outputs": [
    {
     "name": "stdout",
     "output_type": "stream",
     "text": [
      "root\n",
      " |-- age: long (nullable = true)\n",
      " |-- balance: long (nullable = true)\n",
      " |-- campaign: long (nullable = true)\n",
      " |-- contact: string (nullable = true)\n",
      " |-- day: long (nullable = true)\n",
      " |-- default: string (nullable = true)\n",
      " |-- duration: long (nullable = true)\n",
      " |-- education: string (nullable = true)\n",
      " |-- housing: string (nullable = true)\n",
      " |-- job: string (nullable = true)\n",
      " |-- loan: string (nullable = true)\n",
      " |-- marital: string (nullable = true)\n",
      " |-- month: string (nullable = true)\n",
      " |-- pdays: long (nullable = true)\n",
      " |-- poutcome: string (nullable = true)\n",
      " |-- previous: long (nullable = true)\n",
      " |-- y: string (nullable = true)\n",
      "\n"
     ]
    }
   ],
   "source": [
    "bank_data.printSchema()"
   ]
  },
  {
   "cell_type": "code",
   "execution_count": 14,
   "id": "1baf4211",
   "metadata": {},
   "outputs": [],
   "source": [
    "from pyspark.sql.functions import *\n",
    "from pyspark.sql.types import IntegerType,StructType,StructField,StringType,FloatType\n",
    "from pyspark.sql.types import *"
   ]
  },
  {
   "cell_type": "code",
   "execution_count": 16,
   "id": "cd4c92d1",
   "metadata": {},
   "outputs": [],
   "source": [
    "schema = StructType([\n",
    "    StructField(\"id\",IntegerType(),True),\n",
    "    StructField(\"first_name\",StringType(),True),\n",
    "    StructField(\"last_name\",StringType(),True),\n",
    "    StructField(\"gender\",StringType(),True),\n",
    "    StructField(\"salary\",LongType(),True),\n",
    "    StructField(\"city\",StringType(),True),\n",
    "    StructField(\"country\",StringType(),True)\n",
    "])"
   ]
  },
  {
   "cell_type": "code",
   "execution_count": 17,
   "id": "33511f06",
   "metadata": {},
   "outputs": [],
   "source": [
    "people_df = spark.read.schema(schema).json(\"file:///home/hadoop/Downloads/people.json\")"
   ]
  },
  {
   "cell_type": "code",
   "execution_count": 18,
   "id": "1d8fd059",
   "metadata": {},
   "outputs": [
    {
     "name": "stdout",
     "output_type": "stream",
     "text": [
      "+---+----------+---------+------+------+------------------+------------+\n",
      "| id|first_name|last_name|gender|salary|              city|     country|\n",
      "+---+----------+---------+------+------+------------------+------------+\n",
      "|  1|     Valma|     Sans|Female|983107|         Mulyosari|   Indonesia|\n",
      "|  2|     Paolo|   Kiddie|  Male|649173|           Niihama|       Japan|\n",
      "|  3|    Miltie| De Zuani|  Male|352898|         Dū Qal‘ah| Afghanistan|\n",
      "|  4|    Jarrid| Dalziell|  Male|170398|            Iberia|        Peru|\n",
      "|  5| Reinaldos|   Keeffe|  Male|440989|          La Ronge|      Canada|\n",
      "|  6|        Eb|Schwanden|  Male|274126|      Kuala Lumpur|    Malaysia|\n",
      "|  7|    Alleyn|   Paddon|  Male|681914|         Al Qurayn|Saudi Arabia|\n",
      "|  8|   Baryram|     Yell|  Male|250748|           Jixiang|       China|\n",
      "|  9|     Cammy|     Axel|Female|221750|Thị Trấn Phong Thổ|     Vietnam|\n",
      "| 10|       Erl|  Caldera|  Male|680801|        Kotatengah|   Indonesia|\n",
      "| 11|    Miguel|   Moules|  Male|819771|        Roldanillo|    Colombia|\n",
      "| 12| Mireielle|   Hurley|Female|486029|            Malārd|        Iran|\n",
      "| 13|    Feodor| Grummitt|  Male|358045|     Fada N'gourma|Burkina Faso|\n",
      "| 14|     Diana|  Lawfull|Female|397683|           Ciangir|   Indonesia|\n",
      "| 15|      Evie|   Kaysor|Female|436202|         El Cantón|   Venezuela|\n",
      "| 16|    Janean|    Sayse|Female|892405|          La Unión|    Colombia|\n",
      "| 17|     Colan|   Stoppe|  Male|218434|            Xinhua|       China|\n",
      "| 18|      Erik| Stitcher|  Male|776023|     Крива Паланка|   Macedonia|\n",
      "| 19|   Sargent|   Cleall|  Male|819269|          Qīr Moāv|      Jordan|\n",
      "| 20|   Tamqrah|Millichip|Female|313540|      Bogandinskiy|      Russia|\n",
      "+---+----------+---------+------+------+------------------+------------+\n",
      "only showing top 20 rows\n",
      "\n"
     ]
    }
   ],
   "source": [
    "people_df.show()"
   ]
  },
  {
   "cell_type": "code",
   "execution_count": 19,
   "id": "d15b3aff",
   "metadata": {},
   "outputs": [
    {
     "name": "stdout",
     "output_type": "stream",
     "text": [
      "root\n",
      " |-- id: integer (nullable = true)\n",
      " |-- first_name: string (nullable = true)\n",
      " |-- last_name: string (nullable = true)\n",
      " |-- gender: string (nullable = true)\n",
      " |-- salary: long (nullable = true)\n",
      " |-- city: string (nullable = true)\n",
      " |-- country: string (nullable = true)\n",
      "\n"
     ]
    }
   ],
   "source": [
    "people_df.printSchema()"
   ]
  },
  {
   "cell_type": "markdown",
   "id": "720b20ef",
   "metadata": {},
   "source": [
    "### 2.withColumn()"
   ]
  },
  {
   "cell_type": "code",
   "execution_count": 20,
   "id": "2be5e365",
   "metadata": {},
   "outputs": [],
   "source": [
    "#here with column will create new column name \"new_salary\"\n",
    "people_df = people_df.withColumn('updated_salary', people_df['salary'] + people_df['salary'] * 0.1)"
   ]
  },
  {
   "cell_type": "code",
   "execution_count": 21,
   "id": "c430efdd",
   "metadata": {},
   "outputs": [
    {
     "name": "stdout",
     "output_type": "stream",
     "text": [
      "+---+----------+---------+------+------+------------------+------------+--------------+\n",
      "| id|first_name|last_name|gender|salary|              city|     country|updated_salary|\n",
      "+---+----------+---------+------+------+------------------+------------+--------------+\n",
      "|  1|     Valma|     Sans|Female|983107|         Mulyosari|   Indonesia|     1081417.7|\n",
      "|  2|     Paolo|   Kiddie|  Male|649173|           Niihama|       Japan|      714090.3|\n",
      "|  3|    Miltie| De Zuani|  Male|352898|         Dū Qal‘ah| Afghanistan|      388187.8|\n",
      "|  4|    Jarrid| Dalziell|  Male|170398|            Iberia|        Peru|      187437.8|\n",
      "|  5| Reinaldos|   Keeffe|  Male|440989|          La Ronge|      Canada|      485087.9|\n",
      "|  6|        Eb|Schwanden|  Male|274126|      Kuala Lumpur|    Malaysia|      301538.6|\n",
      "|  7|    Alleyn|   Paddon|  Male|681914|         Al Qurayn|Saudi Arabia|      750105.4|\n",
      "|  8|   Baryram|     Yell|  Male|250748|           Jixiang|       China|      275822.8|\n",
      "|  9|     Cammy|     Axel|Female|221750|Thị Trấn Phong Thổ|     Vietnam|      243925.0|\n",
      "| 10|       Erl|  Caldera|  Male|680801|        Kotatengah|   Indonesia|      748881.1|\n",
      "| 11|    Miguel|   Moules|  Male|819771|        Roldanillo|    Colombia|      901748.1|\n",
      "| 12| Mireielle|   Hurley|Female|486029|            Malārd|        Iran|      534631.9|\n",
      "| 13|    Feodor| Grummitt|  Male|358045|     Fada N'gourma|Burkina Faso|      393849.5|\n",
      "| 14|     Diana|  Lawfull|Female|397683|           Ciangir|   Indonesia|      437451.3|\n",
      "| 15|      Evie|   Kaysor|Female|436202|         El Cantón|   Venezuela|      479822.2|\n",
      "| 16|    Janean|    Sayse|Female|892405|          La Unión|    Colombia|      981645.5|\n",
      "| 17|     Colan|   Stoppe|  Male|218434|            Xinhua|       China|      240277.4|\n",
      "| 18|      Erik| Stitcher|  Male|776023|     Крива Паланка|   Macedonia|      853625.3|\n",
      "| 19|   Sargent|   Cleall|  Male|819269|          Qīr Moāv|      Jordan|      901195.9|\n",
      "| 20|   Tamqrah|Millichip|Female|313540|      Bogandinskiy|      Russia|      344894.0|\n",
      "+---+----------+---------+------+------+------------------+------------+--------------+\n",
      "only showing top 20 rows\n",
      "\n"
     ]
    }
   ],
   "source": [
    "people_df.show()"
   ]
  },
  {
   "cell_type": "code",
   "execution_count": 23,
   "id": "79c95208",
   "metadata": {},
   "outputs": [
    {
     "name": "stdout",
     "output_type": "stream",
     "text": [
      "+---+----------+---------+------+------+---------+-----------+--------------+\n",
      "| id|first_name|last_name|gender|salary|     city|    country|updated_salary|\n",
      "+---+----------+---------+------+------+---------+-----------+--------------+\n",
      "|  1|     Valma|     Sans|Female|983107|Mulyosari|  Indonesia|     1081417.7|\n",
      "|  2|     Paolo|   Kiddie|  Male|649173|  Niihama|      Japan|      714090.3|\n",
      "|  3|    Miltie| De Zuani|  Male|352898|Dū Qal‘ah|Afghanistan|      388187.8|\n",
      "|  4|    Jarrid| Dalziell|  Male|170398|   Iberia|       Peru|      187437.8|\n",
      "|  5| Reinaldos|   Keeffe|  Male|440989| La Ronge|     Canada|      485087.9|\n",
      "+---+----------+---------+------+------+---------+-----------+--------------+\n",
      "\n"
     ]
    }
   ],
   "source": [
    "#Limit - To Limit first 5 records\n",
    "\n",
    "people_df.limit(5).show()"
   ]
  },
  {
   "cell_type": "markdown",
   "id": "2530d7b0",
   "metadata": {},
   "source": [
    "### 3. Random Sampling Of Data From Sample Method"
   ]
  },
  {
   "cell_type": "code",
   "execution_count": 26,
   "id": "80493d68",
   "metadata": {},
   "outputs": [
    {
     "name": "stdout",
     "output_type": "stream",
     "text": [
      "+---+----------+----------+------+------+--------------+--------------------+--------------+\n",
      "| id|first_name| last_name|gender|salary|          city|             country|updated_salary|\n",
      "+---+----------+----------+------+------+--------------+--------------------+--------------+\n",
      "|  3|    Miltie|  De Zuani|  Male|352898|     Dū Qal‘ah|         Afghanistan|      388187.8|\n",
      "| 11|    Miguel|    Moules|  Male|819771|    Roldanillo|            Colombia|      901748.1|\n",
      "| 15|      Evie|    Kaysor|Female|436202|     El Cantón|           Venezuela|      479822.2|\n",
      "| 58|      Caye|     Blazy|Female|769322|         Skien|              Norway|      846254.2|\n",
      "| 77|     Ailyn|    Palmar|Female|984515|  Lonpao Dajah|           Indonesia|     1082966.5|\n",
      "| 87|  Maryanna|   Petchey|Female|853991|      Subotica|              Serbia|      939390.1|\n",
      "|105|   Austine|    Zelner|Female|494200|     Hangchuan|               China|      543620.0|\n",
      "|129|    Antons|   Paulack|  Male|709077|     Periyiáli|              Greece|      779984.7|\n",
      "|198|     Howey| Challicum|  Male|683371|    Fort Worth|       United States|      751708.1|\n",
      "|205|     Denis|      Amer|  Male|741444|        Cuntan|               China|      815588.4|\n",
      "|211|     Danya|   Simenon|Female|369820|       Gibsons|              Canada|      406802.0|\n",
      "|225|     Ellis|   Hargitt|  Male|443136|        Carice|               Haiti|      487449.6|\n",
      "|240|      Mort|Aizikovitz|  Male|818033|         Shani|             Nigeria|      899836.3|\n",
      "|247|Washington|   Hradsky|  Male|732653|Horad Rechytsa|             Belarus|      805918.3|\n",
      "|249|    Kelley|   Kivelle|  Male|513506|  Vila Ribeiro|            Portugal|      564856.6|\n",
      "|268|   Valerye|   Lindman|Female|777748|       Malusac|         Philippines|      855522.8|\n",
      "|324|     Hyman|Markushkin|  Male|753059|        Budrus|Palestinian Terri...|      828364.9|\n",
      "|329|    Sabine|    Mirfin|Female|687456|       Yushang|               China|      756201.6|\n",
      "|338|    Alexis|   Cluckie|Female|255470|      Yongdong|               China|      281017.0|\n",
      "|353|      Dory|Bennellick|  Male|195896| Pampa Hermosa|                Peru|      215485.6|\n",
      "+---+----------+----------+------+------+--------------+--------------------+--------------+\n",
      "only showing top 20 rows\n",
      "\n"
     ]
    }
   ],
   "source": [
    "people_df.sample(withReplacement=False, fraction=0.05, seed = 321).show()"
   ]
  },
  {
   "cell_type": "markdown",
   "id": "eae8241e",
   "metadata": {},
   "source": [
    "### Order By()\n",
    "      * Arrange data in ascending or descending Order."
   ]
  },
  {
   "cell_type": "code",
   "execution_count": 28,
   "id": "e7e5bcf5",
   "metadata": {},
   "outputs": [
    {
     "name": "stdout",
     "output_type": "stream",
     "text": [
      "+---+----------+----------+------+------+-------------------+--------------+--------------+\n",
      "| id|first_name| last_name|gender|salary|               city|       country|updated_salary|\n",
      "+---+----------+----------+------+------+-------------------+--------------+--------------+\n",
      "|651| Frederigo|     Ogers|  Male|999360|             Pentre|United Kingdom|     1099296.0|\n",
      "|652|  Hurleigh|      Plom|  Male|998944|Grodzisk Mazowiecki|        Poland|     1098838.4|\n",
      "|812|      Ebba|   Brandom|Female|996994|        Dhromolaxia|        Cyprus|     1096693.4|\n",
      "|565|   Isidoro|  Bartolic|  Male|996459|             Xingou|         China|     1096104.9|\n",
      "|689|  Harriott|Strathearn|Female|995400|              Taiba|         China|     1094940.0|\n",
      "|158|   Evelina|      Ibbs|Female|995388|     Kotawaikabubak|     Indonesia|     1094926.8|\n",
      "|839|     Halsy|     Hayle|  Male|994261|               Erie| United States|     1093687.1|\n",
      "|770|     Ruthe|      Brun|Female|992992|            Xintian|         China|     1092291.2|\n",
      "|686|       Kip|  Kirkebye|  Male|991929|             Baiyan|         China|     1091121.9|\n",
      "|131|     Harri|     Raper|Female|989626|            Hujigou|         China|     1088588.6|\n",
      "|872|     Rycca|     Maund|Female|987858|               Azul|     Argentina|     1086643.8|\n",
      "|194|     Hewet|    Swayne|  Male|985409|            Kazaure|       Nigeria|     1083949.9|\n",
      "| 82| Hollyanne|  Heberden|Female|985194|            Citeguh|     Indonesia|     1083713.4|\n",
      "|376|     Kylie|Grigorescu|Female|984966|            La Vega|      Colombia|     1083462.6|\n",
      "|503|    Billye|  Rappport|Female|984735|          Nerópolis|        Brazil|     1083208.5|\n",
      "| 77|     Ailyn|    Palmar|Female|984515|       Lonpao Dajah|     Indonesia|     1082966.5|\n",
      "|847|    Towney|   Abraham|  Male|983631|             Iganga|        Uganda|     1081994.1|\n",
      "|  1|     Valma|      Sans|Female|983107|          Mulyosari|     Indonesia|     1081417.7|\n",
      "|490|  Cathlene|  Gatfield|Female|981605|            Mīrābād|   Afghanistan|     1079765.5|\n",
      "|483|     Andre|  Albasiny|  Male|981190|              Blama|  Sierra Leone|     1079309.0|\n",
      "+---+----------+----------+------+------+-------------------+--------------+--------------+\n",
      "only showing top 20 rows\n",
      "\n"
     ]
    }
   ],
   "source": [
    "people_df.orderBy(['salary','first_name'], ascending= False).show()"
   ]
  },
  {
   "cell_type": "code",
   "execution_count": 29,
   "id": "d48cf412",
   "metadata": {},
   "outputs": [
    {
     "name": "stdout",
     "output_type": "stream",
     "text": [
      "+---+----------+----------+------+------+------------+--------------------+--------------+\n",
      "| id|first_name| last_name|gender|salary|        city|             country|updated_salary|\n",
      "+---+----------+----------+------+------+------------+--------------------+--------------+\n",
      "| 93|      Cory|     Prigg|  Male| 12876|     Gondang|           Indonesia|       14163.6|\n",
      "|590|      Flem|  Tumielli|  Male| 13347| Debre Zeyit|            Ethiopia|       14681.7|\n",
      "|192|       Odo|   Conyers|  Male| 15555|  Raffingora|            Zimbabwe|       17110.5|\n",
      "|407|  Barbabas| Ballingal|  Male| 18598|Beringinjaya|           Indonesia|       20457.8|\n",
      "|297|     Daron|    Melato|Female| 19881|      Phayao|            Thailand|       21869.1|\n",
      "| 24|   Avigdor|   Goddman|  Male| 20216|       Gujun|               China|       22237.6|\n",
      "|315|    Alayne|    Foskin|Female| 20390|     Siluman|           Indonesia|       22429.0|\n",
      "|199|     Niles| Atcherley|  Male| 22529|Nova Venécia|              Brazil|       24781.9|\n",
      "|294|     Terri|    Holton|Female| 23934|      Hitura|               Nepal|       26327.4|\n",
      "|601|    Pattie|Bosomworth|Female| 24967|   Virolahti|             Finland|       27463.7|\n",
      "|762|     Jesse|   Comfort|  Male| 26213|    Żoliborz|              Poland|       28834.3|\n",
      "|252|       Gil|  Rochford|  Male| 26950|        Huji|               China|       29645.0|\n",
      "|837|   Sharity|  Stoffers|Female| 28630|    Zavidovo|              Russia|       31493.0|\n",
      "|438|    Odelle|  Harefoot|Female| 29177| Cibatuireng|           Indonesia|       32094.7|\n",
      "|836|     Lenka|  Eddicott|Female| 29374| Trincomalee|           Sri Lanka|       32311.4|\n",
      "|912|    Jackie|    Baudic|Female| 29540|       Bunia|Democratic Republ...|       32494.0|\n",
      "|439|     Keith|   Baudain|  Male| 31890| Maszkienice|              Poland|       35079.0|\n",
      "|356| Raffaello|   Dugdale|  Male| 33082|   San Pedro|         Philippines|       36390.2|\n",
      "|977|    Kalvin|     Earry|  Male| 34152|   Mariental|             Namibia|       37567.2|\n",
      "|512|     Bobbe|   Copland|Female| 34435|          Mó|            Portugal|       37878.5|\n",
      "+---+----------+----------+------+------+------------+--------------------+--------------+\n",
      "only showing top 20 rows\n",
      "\n"
     ]
    }
   ],
   "source": [
    "people_df.orderBy(['salary','first_name'], ascending= True).show()"
   ]
  },
  {
   "cell_type": "code",
   "execution_count": null,
   "id": "6bd0aef5",
   "metadata": {},
   "outputs": [],
   "source": []
  }
 ],
 "metadata": {
  "kernelspec": {
   "display_name": "Python 3",
   "language": "python",
   "name": "python3"
  },
  "language_info": {
   "codemirror_mode": {
    "name": "ipython",
    "version": 3
   },
   "file_extension": ".py",
   "mimetype": "text/x-python",
   "name": "python",
   "nbconvert_exporter": "python",
   "pygments_lexer": "ipython3",
   "version": "3.6.9"
  }
 },
 "nbformat": 4,
 "nbformat_minor": 5
}
