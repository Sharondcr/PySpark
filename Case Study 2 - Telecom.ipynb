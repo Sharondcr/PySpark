{
 "cells": [
  {
   "cell_type": "code",
   "execution_count": 1,
   "id": "8cb2f8ef",
   "metadata": {},
   "outputs": [
    {
     "data": {
      "text/html": [
       "\n",
       "        <div>\n",
       "            <p><b>SparkContext</b></p>\n",
       "\n",
       "            <p><a href=\"http://10.0.2.15:4040\">Spark UI</a></p>\n",
       "\n",
       "            <dl>\n",
       "              <dt>Version</dt>\n",
       "                <dd><code>v2.4.8</code></dd>\n",
       "              <dt>Master</dt>\n",
       "                <dd><code>local[*]</code></dd>\n",
       "              <dt>AppName</dt>\n",
       "                <dd><code>PySparkShell</code></dd>\n",
       "            </dl>\n",
       "        </div>\n",
       "        "
      ],
      "text/plain": [
       "<SparkContext master=local[*] appName=PySparkShell>"
      ]
     },
     "execution_count": 1,
     "metadata": {},
     "output_type": "execute_result"
    }
   ],
   "source": [
    "sc"
   ]
  },
  {
   "cell_type": "code",
   "execution_count": 2,
   "id": "99b30965",
   "metadata": {
    "scrolled": true
   },
   "outputs": [
    {
     "data": {
      "text/html": [
       "\n",
       "            <div>\n",
       "                <p><b>SparkSession - hive</b></p>\n",
       "                \n",
       "        <div>\n",
       "            <p><b>SparkContext</b></p>\n",
       "\n",
       "            <p><a href=\"http://10.0.2.15:4040\">Spark UI</a></p>\n",
       "\n",
       "            <dl>\n",
       "              <dt>Version</dt>\n",
       "                <dd><code>v2.4.8</code></dd>\n",
       "              <dt>Master</dt>\n",
       "                <dd><code>local[*]</code></dd>\n",
       "              <dt>AppName</dt>\n",
       "                <dd><code>PySparkShell</code></dd>\n",
       "            </dl>\n",
       "        </div>\n",
       "        \n",
       "            </div>\n",
       "        "
      ],
      "text/plain": [
       "<pyspark.sql.session.SparkSession at 0x7fe400040400>"
      ]
     },
     "execution_count": 2,
     "metadata": {},
     "output_type": "execute_result"
    }
   ],
   "source": [
    "spark"
   ]
  },
  {
   "cell_type": "code",
   "execution_count": 3,
   "id": "f0b5c289",
   "metadata": {},
   "outputs": [
    {
     "data": {
      "text/plain": [
       "DataFrame[customerID: string, gender: string, SeniorCitizen: int, Partner: string, Dependents: string, tenure: int, PhoneService: string, MultipleLines: string, InternetService: string, OnlineSecurity: string, OnlineBackup: string, DeviceProtection: string, TechSupport: string, StreamingTV: string, StreamingMovies: string, Contract: string, PaperlessBilling: string, PaymentMethod: string, MonthlyCharges: double, TotalCharges: string, Churn: string]"
      ]
     },
     "execution_count": 3,
     "metadata": {},
     "output_type": "execute_result"
    }
   ],
   "source": [
    "tele_data = spark.read.csv(\"file:///home/hadoop/Downloads/Telco_Customer_Churn.csv\", inferSchema=True, header=True)\n",
    "tele_data.cache()"
   ]
  },
  {
   "cell_type": "code",
   "execution_count": 4,
   "id": "0fd957f0",
   "metadata": {},
   "outputs": [
    {
     "name": "stdout",
     "output_type": "stream",
     "text": [
      "root\n",
      " |-- customerID: string (nullable = true)\n",
      " |-- gender: string (nullable = true)\n",
      " |-- SeniorCitizen: integer (nullable = true)\n",
      " |-- Partner: string (nullable = true)\n",
      " |-- Dependents: string (nullable = true)\n",
      " |-- tenure: integer (nullable = true)\n",
      " |-- PhoneService: string (nullable = true)\n",
      " |-- MultipleLines: string (nullable = true)\n",
      " |-- InternetService: string (nullable = true)\n",
      " |-- OnlineSecurity: string (nullable = true)\n",
      " |-- OnlineBackup: string (nullable = true)\n",
      " |-- DeviceProtection: string (nullable = true)\n",
      " |-- TechSupport: string (nullable = true)\n",
      " |-- StreamingTV: string (nullable = true)\n",
      " |-- StreamingMovies: string (nullable = true)\n",
      " |-- Contract: string (nullable = true)\n",
      " |-- PaperlessBilling: string (nullable = true)\n",
      " |-- PaymentMethod: string (nullable = true)\n",
      " |-- MonthlyCharges: double (nullable = true)\n",
      " |-- TotalCharges: string (nullable = true)\n",
      " |-- Churn: string (nullable = true)\n",
      "\n"
     ]
    }
   ],
   "source": [
    "tele_data.printSchema()"
   ]
  },
  {
   "cell_type": "code",
   "execution_count": 5,
   "id": "7e1c740f",
   "metadata": {},
   "outputs": [
    {
     "data": {
      "text/html": [
       "<div>\n",
       "<style scoped>\n",
       "    .dataframe tbody tr th:only-of-type {\n",
       "        vertical-align: middle;\n",
       "    }\n",
       "\n",
       "    .dataframe tbody tr th {\n",
       "        vertical-align: top;\n",
       "    }\n",
       "\n",
       "    .dataframe thead th {\n",
       "        text-align: right;\n",
       "    }\n",
       "</style>\n",
       "<table border=\"1\" class=\"dataframe\">\n",
       "  <thead>\n",
       "    <tr style=\"text-align: right;\">\n",
       "      <th></th>\n",
       "      <th>customerID</th>\n",
       "      <th>gender</th>\n",
       "      <th>SeniorCitizen</th>\n",
       "      <th>Partner</th>\n",
       "      <th>Dependents</th>\n",
       "      <th>tenure</th>\n",
       "      <th>PhoneService</th>\n",
       "      <th>MultipleLines</th>\n",
       "      <th>InternetService</th>\n",
       "      <th>OnlineSecurity</th>\n",
       "      <th>...</th>\n",
       "      <th>DeviceProtection</th>\n",
       "      <th>TechSupport</th>\n",
       "      <th>StreamingTV</th>\n",
       "      <th>StreamingMovies</th>\n",
       "      <th>Contract</th>\n",
       "      <th>PaperlessBilling</th>\n",
       "      <th>PaymentMethod</th>\n",
       "      <th>MonthlyCharges</th>\n",
       "      <th>TotalCharges</th>\n",
       "      <th>Churn</th>\n",
       "    </tr>\n",
       "  </thead>\n",
       "  <tbody>\n",
       "    <tr>\n",
       "      <th>0</th>\n",
       "      <td>7590-VHVEG</td>\n",
       "      <td>Female</td>\n",
       "      <td>0</td>\n",
       "      <td>Yes</td>\n",
       "      <td>No</td>\n",
       "      <td>1</td>\n",
       "      <td>No</td>\n",
       "      <td>No phone service</td>\n",
       "      <td>DSL</td>\n",
       "      <td>No</td>\n",
       "      <td>...</td>\n",
       "      <td>No</td>\n",
       "      <td>No</td>\n",
       "      <td>No</td>\n",
       "      <td>No</td>\n",
       "      <td>Month-to-month</td>\n",
       "      <td>Yes</td>\n",
       "      <td>Electronic check</td>\n",
       "      <td>29.85</td>\n",
       "      <td>29.85</td>\n",
       "      <td>No</td>\n",
       "    </tr>\n",
       "    <tr>\n",
       "      <th>1</th>\n",
       "      <td>5575-GNVDE</td>\n",
       "      <td>Male</td>\n",
       "      <td>0</td>\n",
       "      <td>No</td>\n",
       "      <td>No</td>\n",
       "      <td>34</td>\n",
       "      <td>Yes</td>\n",
       "      <td>No</td>\n",
       "      <td>DSL</td>\n",
       "      <td>Yes</td>\n",
       "      <td>...</td>\n",
       "      <td>Yes</td>\n",
       "      <td>No</td>\n",
       "      <td>No</td>\n",
       "      <td>No</td>\n",
       "      <td>One year</td>\n",
       "      <td>No</td>\n",
       "      <td>Mailed check</td>\n",
       "      <td>56.95</td>\n",
       "      <td>1889.5</td>\n",
       "      <td>No</td>\n",
       "    </tr>\n",
       "    <tr>\n",
       "      <th>2</th>\n",
       "      <td>3668-QPYBK</td>\n",
       "      <td>Male</td>\n",
       "      <td>0</td>\n",
       "      <td>No</td>\n",
       "      <td>No</td>\n",
       "      <td>2</td>\n",
       "      <td>Yes</td>\n",
       "      <td>No</td>\n",
       "      <td>DSL</td>\n",
       "      <td>Yes</td>\n",
       "      <td>...</td>\n",
       "      <td>No</td>\n",
       "      <td>No</td>\n",
       "      <td>No</td>\n",
       "      <td>No</td>\n",
       "      <td>Month-to-month</td>\n",
       "      <td>Yes</td>\n",
       "      <td>Mailed check</td>\n",
       "      <td>53.85</td>\n",
       "      <td>108.15</td>\n",
       "      <td>Yes</td>\n",
       "    </tr>\n",
       "    <tr>\n",
       "      <th>3</th>\n",
       "      <td>7795-CFOCW</td>\n",
       "      <td>Male</td>\n",
       "      <td>0</td>\n",
       "      <td>No</td>\n",
       "      <td>No</td>\n",
       "      <td>45</td>\n",
       "      <td>No</td>\n",
       "      <td>No phone service</td>\n",
       "      <td>DSL</td>\n",
       "      <td>Yes</td>\n",
       "      <td>...</td>\n",
       "      <td>Yes</td>\n",
       "      <td>Yes</td>\n",
       "      <td>No</td>\n",
       "      <td>No</td>\n",
       "      <td>One year</td>\n",
       "      <td>No</td>\n",
       "      <td>Bank transfer (automatic)</td>\n",
       "      <td>42.30</td>\n",
       "      <td>1840.75</td>\n",
       "      <td>No</td>\n",
       "    </tr>\n",
       "    <tr>\n",
       "      <th>4</th>\n",
       "      <td>9237-HQITU</td>\n",
       "      <td>Female</td>\n",
       "      <td>0</td>\n",
       "      <td>No</td>\n",
       "      <td>No</td>\n",
       "      <td>2</td>\n",
       "      <td>Yes</td>\n",
       "      <td>No</td>\n",
       "      <td>Fiber optic</td>\n",
       "      <td>No</td>\n",
       "      <td>...</td>\n",
       "      <td>No</td>\n",
       "      <td>No</td>\n",
       "      <td>No</td>\n",
       "      <td>No</td>\n",
       "      <td>Month-to-month</td>\n",
       "      <td>Yes</td>\n",
       "      <td>Electronic check</td>\n",
       "      <td>70.70</td>\n",
       "      <td>151.65</td>\n",
       "      <td>Yes</td>\n",
       "    </tr>\n",
       "  </tbody>\n",
       "</table>\n",
       "<p>5 rows × 21 columns</p>\n",
       "</div>"
      ],
      "text/plain": [
       "   customerID  gender  SeniorCitizen Partner Dependents  tenure PhoneService  \\\n",
       "0  7590-VHVEG  Female              0     Yes         No       1           No   \n",
       "1  5575-GNVDE    Male              0      No         No      34          Yes   \n",
       "2  3668-QPYBK    Male              0      No         No       2          Yes   \n",
       "3  7795-CFOCW    Male              0      No         No      45           No   \n",
       "4  9237-HQITU  Female              0      No         No       2          Yes   \n",
       "\n",
       "      MultipleLines InternetService OnlineSecurity  ... DeviceProtection  \\\n",
       "0  No phone service             DSL             No  ...               No   \n",
       "1                No             DSL            Yes  ...              Yes   \n",
       "2                No             DSL            Yes  ...               No   \n",
       "3  No phone service             DSL            Yes  ...              Yes   \n",
       "4                No     Fiber optic             No  ...               No   \n",
       "\n",
       "  TechSupport StreamingTV StreamingMovies        Contract PaperlessBilling  \\\n",
       "0          No          No              No  Month-to-month              Yes   \n",
       "1          No          No              No        One year               No   \n",
       "2          No          No              No  Month-to-month              Yes   \n",
       "3         Yes          No              No        One year               No   \n",
       "4          No          No              No  Month-to-month              Yes   \n",
       "\n",
       "               PaymentMethod MonthlyCharges  TotalCharges Churn  \n",
       "0           Electronic check          29.85         29.85    No  \n",
       "1               Mailed check          56.95        1889.5    No  \n",
       "2               Mailed check          53.85        108.15   Yes  \n",
       "3  Bank transfer (automatic)          42.30       1840.75    No  \n",
       "4           Electronic check          70.70        151.65   Yes  \n",
       "\n",
       "[5 rows x 21 columns]"
      ]
     },
     "execution_count": 5,
     "metadata": {},
     "output_type": "execute_result"
    }
   ],
   "source": [
    "tele_data.toPandas().head()"
   ]
  },
  {
   "cell_type": "markdown",
   "id": "ec5b7b7a",
   "metadata": {},
   "source": [
    "### Data Exploration"
   ]
  },
  {
   "cell_type": "markdown",
   "id": "bb522c1a",
   "metadata": {},
   "source": [
    "a) How many records are there in the database"
   ]
  },
  {
   "cell_type": "code",
   "execution_count": 6,
   "id": "bd710802",
   "metadata": {},
   "outputs": [
    {
     "data": {
      "text/plain": [
       "7043"
      ]
     },
     "execution_count": 6,
     "metadata": {},
     "output_type": "execute_result"
    }
   ],
   "source": [
    "tele_data.count()"
   ]
  },
  {
   "cell_type": "markdown",
   "id": "faaf7327",
   "metadata": {},
   "source": [
    "b) What is the distribution of gender among customers?"
   ]
  },
  {
   "cell_type": "code",
   "execution_count": 7,
   "id": "6c5c0e6f",
   "metadata": {},
   "outputs": [
    {
     "name": "stdout",
     "output_type": "stream",
     "text": [
      "+------+-----+\n",
      "|gender|count|\n",
      "+------+-----+\n",
      "|Female| 3488|\n",
      "|  Male| 3555|\n",
      "+------+-----+\n",
      "\n"
     ]
    }
   ],
   "source": [
    "tele_data.groupBy('gender').count().show()"
   ]
  },
  {
   "cell_type": "markdown",
   "id": "d48aed9f",
   "metadata": {},
   "source": [
    "c) What is the distribution of contact types?"
   ]
  },
  {
   "cell_type": "code",
   "execution_count": 8,
   "id": "83d016b0",
   "metadata": {},
   "outputs": [
    {
     "name": "stdout",
     "output_type": "stream",
     "text": [
      "+--------------+-----+\n",
      "|      contract|count|\n",
      "+--------------+-----+\n",
      "|Month-to-month| 3875|\n",
      "|      One year| 1473|\n",
      "|      Two year| 1695|\n",
      "+--------------+-----+\n",
      "\n"
     ]
    }
   ],
   "source": [
    "tele_data.groupBy('contract').count().show()"
   ]
  },
  {
   "cell_type": "markdown",
   "id": "3b161c46",
   "metadata": {},
   "source": [
    "d) What is the percentage of customers who chruned?"
   ]
  },
  {
   "cell_type": "code",
   "execution_count": 9,
   "id": "a4b64a6f",
   "metadata": {},
   "outputs": [
    {
     "data": {
      "text/plain": [
       "26.536987079369588"
      ]
     },
     "execution_count": 9,
     "metadata": {},
     "output_type": "execute_result"
    }
   ],
   "source": [
    "total_customer = tele_data.count()\n",
    "churned_cust = tele_data.filter(tele_data.Churn == 'Yes').count()\n",
    "churned_percentage = (churned_cust/total_customer)*100 \n",
    "churned_percentage"
   ]
  },
  {
   "cell_type": "markdown",
   "id": "208cd8f9",
   "metadata": {},
   "source": [
    "### Data Processing"
   ]
  },
  {
   "cell_type": "code",
   "execution_count": 10,
   "id": "9d56502c",
   "metadata": {},
   "outputs": [],
   "source": [
    "from pyspark.sql.functions import *"
   ]
  },
  {
   "cell_type": "code",
   "execution_count": 11,
   "id": "7f130ece",
   "metadata": {},
   "outputs": [
    {
     "name": "stdout",
     "output_type": "stream",
     "text": [
      "+----------+------+-------------+-------+----------+------+------------+-------------+---------------+--------------+------------+----------------+-----------+-----------+---------------+--------+----------------+-------------+--------------+------------+-----+\n",
      "|customerID|gender|SeniorCitizen|Partner|Dependents|tenure|PhoneService|MultipleLines|InternetService|OnlineSecurity|OnlineBackup|DeviceProtection|TechSupport|StreamingTV|StreamingMovies|Contract|PaperlessBilling|PaymentMethod|MonthlyCharges|TotalCharges|Churn|\n",
      "+----------+------+-------------+-------+----------+------+------------+-------------+---------------+--------------+------------+----------------+-----------+-----------+---------------+--------+----------------+-------------+--------------+------------+-----+\n",
      "|         0|     0|            0|      0|         0|     0|           0|            0|              0|             0|           0|               0|          0|          0|              0|       0|               0|            0|             0|           0|    0|\n",
      "+----------+------+-------------+-------+----------+------+------------+-------------+---------------+--------------+------------+----------------+-----------+-----------+---------------+--------+----------------+-------------+--------------+------------+-----+\n",
      "\n"
     ]
    }
   ],
   "source": [
    "tele_data.select([count(when(isnull(col), col)).alias(col) for col in tele_data.columns]).show()"
   ]
  },
  {
   "cell_type": "code",
   "execution_count": 12,
   "id": "202823dc",
   "metadata": {},
   "outputs": [],
   "source": [
    "tele_data = tele_data.withColumn('TotalCharges', when(col('TotalCharges') == \" \", None).otherwise(col('TotalCharges')))"
   ]
  },
  {
   "cell_type": "code",
   "execution_count": 13,
   "id": "3b50f07c",
   "metadata": {},
   "outputs": [
    {
     "name": "stdout",
     "output_type": "stream",
     "text": [
      "+----------+------+-------------+-------+----------+------+------------+-------------+---------------+--------------+------------+----------------+-----------+-----------+---------------+--------+----------------+-------------+--------------+------------+-----+\n",
      "|customerID|gender|SeniorCitizen|Partner|Dependents|tenure|PhoneService|MultipleLines|InternetService|OnlineSecurity|OnlineBackup|DeviceProtection|TechSupport|StreamingTV|StreamingMovies|Contract|PaperlessBilling|PaymentMethod|MonthlyCharges|TotalCharges|Churn|\n",
      "+----------+------+-------------+-------+----------+------+------------+-------------+---------------+--------------+------------+----------------+-----------+-----------+---------------+--------+----------------+-------------+--------------+------------+-----+\n",
      "|         0|     0|            0|      0|         0|     0|           0|            0|              0|             0|           0|               0|          0|          0|              0|       0|               0|            0|             0|          11|    0|\n",
      "+----------+------+-------------+-------+----------+------+------------+-------------+---------------+--------------+------------+----------------+-----------+-----------+---------------+--------+----------------+-------------+--------------+------------+-----+\n",
      "\n"
     ]
    }
   ],
   "source": [
    "tele_data.select([count(when(isnull(col), col)).alias(col) for col in tele_data.columns]).show()"
   ]
  },
  {
   "cell_type": "code",
   "execution_count": 14,
   "id": "399f3678",
   "metadata": {},
   "outputs": [],
   "source": [
    "tele_data1 = tele_data.na.drop()"
   ]
  },
  {
   "cell_type": "code",
   "execution_count": 25,
   "id": "a7d4053b",
   "metadata": {},
   "outputs": [
    {
     "data": {
      "text/plain": [
       "7032"
      ]
     },
     "execution_count": 25,
     "metadata": {},
     "output_type": "execute_result"
    }
   ],
   "source": [
    "tele_data1.count()"
   ]
  },
  {
   "cell_type": "code",
   "execution_count": 18,
   "id": "2c9264a4",
   "metadata": {},
   "outputs": [],
   "source": [
    "from pyspark.sql.types import FloatType\n",
    "tele_data1 = tele_data1.withColumn('TotalCharges', col('TotalCharges').cast(FloatType()))"
   ]
  },
  {
   "cell_type": "code",
   "execution_count": 19,
   "id": "8f8f632b",
   "metadata": {},
   "outputs": [
    {
     "name": "stdout",
     "output_type": "stream",
     "text": [
      "root\n",
      " |-- customerID: string (nullable = true)\n",
      " |-- gender: string (nullable = true)\n",
      " |-- SeniorCitizen: integer (nullable = true)\n",
      " |-- Partner: string (nullable = true)\n",
      " |-- Dependents: string (nullable = true)\n",
      " |-- tenure: integer (nullable = true)\n",
      " |-- PhoneService: string (nullable = true)\n",
      " |-- MultipleLines: string (nullable = true)\n",
      " |-- InternetService: string (nullable = true)\n",
      " |-- OnlineSecurity: string (nullable = true)\n",
      " |-- OnlineBackup: string (nullable = true)\n",
      " |-- DeviceProtection: string (nullable = true)\n",
      " |-- TechSupport: string (nullable = true)\n",
      " |-- StreamingTV: string (nullable = true)\n",
      " |-- StreamingMovies: string (nullable = true)\n",
      " |-- Contract: string (nullable = true)\n",
      " |-- PaperlessBilling: string (nullable = true)\n",
      " |-- PaymentMethod: string (nullable = true)\n",
      " |-- MonthlyCharges: double (nullable = true)\n",
      " |-- TotalCharges: float (nullable = true)\n",
      " |-- Churn: string (nullable = true)\n",
      "\n"
     ]
    }
   ],
   "source": [
    "tele_data1.printSchema()"
   ]
  },
  {
   "cell_type": "markdown",
   "id": "db3ca6c9",
   "metadata": {},
   "source": [
    "f.Convert categorical variables into numberical format using one-hot encoder or label encoding"
   ]
  },
  {
   "cell_type": "code",
   "execution_count": 64,
   "id": "1e1488d9",
   "metadata": {},
   "outputs": [],
   "source": [
    "from pyspark.ml.feature import StringIndexer, OneHotEncoderEstimator, VectorAssembler\n",
    "from pyspark.ml import Pipeline"
   ]
  },
  {
   "cell_type": "code",
   "execution_count": 65,
   "id": "7e198974",
   "metadata": {},
   "outputs": [
    {
     "name": "stdout",
     "output_type": "stream",
     "text": [
      "['customerID', 'gender', 'SeniorCitizen', 'Partner', 'Dependents', 'tenure', 'PhoneService', 'MultipleLines', 'InternetService', 'OnlineSecurity', 'OnlineBackup', 'DeviceProtection', 'TechSupport', 'StreamingTV', 'StreamingMovies', 'Contract', 'PaperlessBilling', 'PaymentMethod', 'MonthlyCharges', 'TotalCharges', 'Churn']\n"
     ]
    }
   ],
   "source": [
    "print(tele_data1.columns)"
   ]
  },
  {
   "cell_type": "code",
   "execution_count": 66,
   "id": "55134b42",
   "metadata": {},
   "outputs": [],
   "source": [
    "categorical_cols = ['gender', 'SeniorCitizen', 'Partner', 'Dependents', 'PhoneService', 'MultipleLines',\\\n",
    "                    'InternetService', 'OnlineSecurity', 'OnlineBackup', 'DeviceProtection', 'TechSupport', \\\n",
    "                    'StreamingTV', 'StreamingMovies', 'Contract', 'PaperlessBilling', 'PaymentMethod']\n",
    "\n",
    "#use StringIndexer to convert catergorical column to numerical indexes\n",
    "stages = []\n",
    "for catcols in categorical_cols:\n",
    "    stringindexer = StringIndexer(inputCol=catcols, outputCol=catcols+\"Index\")\n",
    "    onehotencoder = OneHotEncoderEstimator(inputCols=[stringindexer.getOutputCol()],\n",
    "                                          outputCols=[catcols+\"classVec\"])\n",
    "    stages += [stringindexer, onehotencoder]"
   ]
  },
  {
   "cell_type": "code",
   "execution_count": 67,
   "id": "2ab76146",
   "metadata": {},
   "outputs": [],
   "source": [
    "numericalCols = ['tenure','MonthlyCharges', 'TotalCharges']\n",
    "assemblerInput = [c + \"classVec\" for c in categorical_cols] + numericalCols\n",
    "assembler = VectorAssembler(inputCols=assemblerInput, outputCol= 'features')\n",
    "stages += [assembler]"
   ]
  },
  {
   "cell_type": "code",
   "execution_count": 69,
   "id": "fe3baec6",
   "metadata": {},
   "outputs": [],
   "source": [
    "label_String = StringIndexer(inputCol = 'Churn', outputCol='label')\n",
    "stages += [label_String]"
   ]
  },
  {
   "cell_type": "code",
   "execution_count": 70,
   "id": "532bb060",
   "metadata": {},
   "outputs": [
    {
     "name": "stdout",
     "output_type": "stream",
     "text": [
      "+-----+--------------------+\n",
      "|Churn|            features|\n",
      "+-----+--------------------+\n",
      "|   No|(30,[1,3,8,9,12,1...|\n",
      "|   No|(30,[0,1,2,3,4,5,...|\n",
      "|  Yes|[1.0,1.0,1.0,1.0,...|\n",
      "|   No|(30,[0,1,2,3,8,10...|\n",
      "|  Yes|(30,[1,2,3,4,5,7,...|\n",
      "|  Yes|(30,[1,2,3,4,6,7,...|\n",
      "|   No|(30,[0,1,2,4,6,7,...|\n",
      "|   No|(30,[1,2,3,8,10,1...|\n",
      "|  Yes|(30,[1,3,4,6,7,9,...|\n",
      "|   No|(30,[0,1,2,4,5,8,...|\n",
      "|   No|(30,[0,1,4,5,8,10...|\n",
      "|   No|(30,[0,1,2,3,4,5,...|\n",
      "|   No|(30,[0,1,3,4,6,7,...|\n",
      "|  Yes|[1.0,1.0,1.0,1.0,...|\n",
      "|   No|[1.0,1.0,1.0,1.0,...|\n",
      "|   No|(30,[1,4,6,7,10,1...|\n",
      "|   No|(30,[1,2,3,4,5,25...|\n",
      "|   No|(30,[0,1,2,4,6,7,...|\n",
      "|  Yes|(30,[1,4,5,8,9,11...|\n",
      "|   No|(30,[1,2,3,4,5,7,...|\n",
      "+-----+--------------------+\n",
      "only showing top 20 rows\n",
      "\n"
     ]
    }
   ],
   "source": [
    "pipeline = Pipeline(stages=stages)\n",
    "churn_df = pipeline.fit(tele_data1).transform(tele_data1)\n",
    "selectedCols = ['Churn','features']\n",
    "churn_df = churn_df.select(selectedCols)\n",
    "churn_df.show()"
   ]
  },
  {
   "cell_type": "code",
   "execution_count": 76,
   "id": "742b3ff5",
   "metadata": {},
   "outputs": [],
   "source": [
    "churn_df = churn_df.withColumn('Churn',regexp_replace('Churn','No',\"0\"))\n",
    "churn_df = churn_df.withColumn('Churn',regexp_replace('Churn','Yes',\"1\"))"
   ]
  },
  {
   "cell_type": "code",
   "execution_count": 80,
   "id": "960cb159",
   "metadata": {},
   "outputs": [],
   "source": [
    "from pyspark.sql.types import IntegerType\n",
    "churn_df = churn_df.withColumn('Churn',col('Churn').cast(\"integer\"))"
   ]
  },
  {
   "cell_type": "code",
   "execution_count": 86,
   "id": "e76d3a1f",
   "metadata": {},
   "outputs": [],
   "source": [
    "train, test = churn_df.randomSplit([0.8,0.2],seed=123)"
   ]
  },
  {
   "cell_type": "code",
   "execution_count": 85,
   "id": "06c3b040",
   "metadata": {
    "collapsed": true
   },
   "outputs": [
    {
     "name": "stdout",
     "output_type": "stream",
     "text": [
      "+-----+--------------------+-------+\n",
      "|Churn|            features|Revenue|\n",
      "+-----+--------------------+-------+\n",
      "|    0|(30,[0,1,2,3,4,5,...|      0|\n",
      "|    0|(30,[0,1,2,3,4,5,...|      0|\n",
      "|    0|(30,[0,1,2,3,4,5,...|      0|\n",
      "|    0|(30,[0,1,2,3,4,5,...|      0|\n",
      "|    0|(30,[0,1,2,3,4,5,...|      0|\n",
      "|    0|(30,[0,1,2,3,4,5,...|      0|\n",
      "|    0|(30,[0,1,2,3,4,5,...|      0|\n",
      "|    0|(30,[0,1,2,3,4,5,...|      0|\n",
      "|    0|(30,[0,1,2,3,4,5,...|      0|\n",
      "|    0|(30,[0,1,2,3,4,5,...|      0|\n",
      "|    0|(30,[0,1,2,3,4,5,...|      0|\n",
      "|    0|(30,[0,1,2,3,4,5,...|      0|\n",
      "|    0|(30,[0,1,2,3,4,5,...|      0|\n",
      "|    0|(30,[0,1,2,3,4,5,...|      0|\n",
      "|    0|(30,[0,1,2,3,4,5,...|      0|\n",
      "|    0|(30,[0,1,2,3,4,5,...|      0|\n",
      "|    0|(30,[0,1,2,3,4,5,...|      0|\n",
      "|    0|(30,[0,1,2,3,4,5,...|      0|\n",
      "|    0|(30,[0,1,2,3,4,5,...|      0|\n",
      "|    0|(30,[0,1,2,3,4,5,...|      0|\n",
      "+-----+--------------------+-------+\n",
      "only showing top 20 rows\n",
      "\n"
     ]
    }
   ],
   "source": [
    "train.show()"
   ]
  },
  {
   "cell_type": "code",
   "execution_count": 84,
   "id": "305f102f",
   "metadata": {},
   "outputs": [
    {
     "data": {
      "text/plain": [
       "DataFrame[features: vector, Churn: int]"
      ]
     },
     "execution_count": 84,
     "metadata": {},
     "output_type": "execute_result"
    }
   ],
   "source": [
    "train.select(['features','Churn'])"
   ]
  },
  {
   "cell_type": "code",
   "execution_count": 94,
   "id": "40aad57a",
   "metadata": {},
   "outputs": [],
   "source": [
    "from pyspark.ml.classification import DecisionTreeClassifier, RandomForestClassifier, LogisticRegression\n",
    "tree = DecisionTreeClassifier(featuresCol = 'features', labelCol= 'Churn')\n",
    "decision_model= tree.fit(train)"
   ]
  },
  {
   "cell_type": "code",
   "execution_count": 88,
   "id": "c88b618a",
   "metadata": {},
   "outputs": [],
   "source": [
    "predictions = decision_model.transform(test)"
   ]
  },
  {
   "cell_type": "code",
   "execution_count": 90,
   "id": "4b0c0f1d",
   "metadata": {
    "collapsed": true
   },
   "outputs": [
    {
     "name": "stdout",
     "output_type": "stream",
     "text": [
      "+--------------------+-----+----------+\n",
      "|            features|Churn|prediction|\n",
      "+--------------------+-----+----------+\n",
      "|(30,[0,1,2,3,4,5,...|    0|       0.0|\n",
      "|(30,[0,1,2,3,4,5,...|    0|       0.0|\n",
      "|(30,[0,1,2,3,4,5,...|    0|       0.0|\n",
      "|(30,[0,1,2,3,4,5,...|    0|       2.0|\n",
      "|(30,[0,1,2,3,4,5,...|    0|       0.0|\n",
      "|(30,[0,1,2,3,4,5,...|    0|       0.0|\n",
      "|(30,[0,1,2,3,4,5,...|    0|       2.0|\n",
      "|(30,[0,1,2,3,4,5,...|    0|       2.0|\n",
      "|(30,[0,1,2,3,4,5,...|    0|       0.0|\n",
      "|(30,[0,1,2,3,4,5,...|    0|       2.0|\n",
      "|(30,[0,1,2,3,4,5,...|    0|       2.0|\n",
      "|(30,[0,1,2,3,4,5,...|    0|       2.0|\n",
      "|(30,[0,1,2,3,4,5,...|    0|       2.0|\n",
      "|(30,[0,1,2,3,4,5,...|    0|       2.0|\n",
      "|(30,[0,1,2,3,4,5,...|    0|       2.0|\n",
      "|(30,[0,1,2,3,4,5,...|    0|       2.0|\n",
      "|(30,[0,1,2,3,4,5,...|    0|       2.0|\n",
      "|(30,[0,1,2,3,4,5,...|    0|       2.0|\n",
      "|(30,[0,1,2,3,4,5,...|    0|       2.0|\n",
      "|(30,[0,1,2,3,4,5,...|    0|       2.0|\n",
      "+--------------------+-----+----------+\n",
      "only showing top 20 rows\n",
      "\n"
     ]
    }
   ],
   "source": [
    "predictions.select(['features','Churn','prediction']).show()"
   ]
  },
  {
   "cell_type": "code",
   "execution_count": 91,
   "id": "90e56d87",
   "metadata": {},
   "outputs": [],
   "source": [
    "from pyspark.ml.evaluation import MulticlassClassificationEvaluator\n",
    "evaluator = MulticlassClassificationEvaluator(labelCol='Churn', predictionCol='prediction',metricName='accuracy')\n",
    "accuracy = evaluator.evaluate(predictions)"
   ]
  },
  {
   "cell_type": "code",
   "execution_count": 92,
   "id": "b545fb98",
   "metadata": {},
   "outputs": [
    {
     "data": {
      "text/plain": [
       "0.7924528301886793"
      ]
     },
     "execution_count": 92,
     "metadata": {},
     "output_type": "execute_result"
    }
   ],
   "source": [
    "accuracy"
   ]
  },
  {
   "cell_type": "markdown",
   "id": "4c0adc63",
   "metadata": {},
   "source": [
    "### Logistic Regression"
   ]
  },
  {
   "cell_type": "code",
   "execution_count": 97,
   "id": "7cc682df",
   "metadata": {},
   "outputs": [],
   "source": [
    "logit = LogisticRegression(featuresCol='features', labelCol='Churn')\n",
    "logit_model = logit.fit(train)"
   ]
  },
  {
   "cell_type": "code",
   "execution_count": 98,
   "id": "ac7fb487",
   "metadata": {},
   "outputs": [],
   "source": [
    "predictions = logit_model.transform(test)"
   ]
  },
  {
   "cell_type": "code",
   "execution_count": 99,
   "id": "ad7b83cc",
   "metadata": {},
   "outputs": [
    {
     "data": {
      "text/plain": [
       "0.8085255066387141"
      ]
     },
     "execution_count": 99,
     "metadata": {},
     "output_type": "execute_result"
    }
   ],
   "source": [
    "evaluator = MulticlassClassificationEvaluator(labelCol='Churn',predictionCol='prediction',metricName='accuracy')\n",
    "accuracy = evaluator.evaluate(predictions)\n",
    "accuracy"
   ]
  },
  {
   "cell_type": "markdown",
   "id": "27cf26c1",
   "metadata": {},
   "source": [
    "### RandomForest"
   ]
  },
  {
   "cell_type": "code",
   "execution_count": 100,
   "id": "d816c166",
   "metadata": {},
   "outputs": [],
   "source": [
    "rf_cls = RandomForestClassifier(featuresCol='features', labelCol='Churn')\n",
    "rf_model = rf_cls.fit(train)"
   ]
  },
  {
   "cell_type": "code",
   "execution_count": 101,
   "id": "b0ae65e9",
   "metadata": {},
   "outputs": [],
   "source": [
    "predictions = rf_model.transform(test)"
   ]
  },
  {
   "cell_type": "code",
   "execution_count": null,
   "id": "a043048e",
   "metadata": {},
   "outputs": [],
   "source": []
  }
 ],
 "metadata": {
  "kernelspec": {
   "display_name": "Python 3",
   "language": "python",
   "name": "python3"
  },
  "language_info": {
   "codemirror_mode": {
    "name": "ipython",
    "version": 3
   },
   "file_extension": ".py",
   "mimetype": "text/x-python",
   "name": "python",
   "nbconvert_exporter": "python",
   "pygments_lexer": "ipython3",
   "version": "3.6.9"
  }
 },
 "nbformat": 4,
 "nbformat_minor": 5
}
