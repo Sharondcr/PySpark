{
 "cells": [
  {
   "cell_type": "code",
   "execution_count": 1,
   "id": "9cde1407",
   "metadata": {},
   "outputs": [
    {
     "data": {
      "text/html": [
       "\n",
       "        <div>\n",
       "            <p><b>SparkContext</b></p>\n",
       "\n",
       "            <p><a href=\"http://10.0.2.15:4040\">Spark UI</a></p>\n",
       "\n",
       "            <dl>\n",
       "              <dt>Version</dt>\n",
       "                <dd><code>v2.4.8</code></dd>\n",
       "              <dt>Master</dt>\n",
       "                <dd><code>local[*]</code></dd>\n",
       "              <dt>AppName</dt>\n",
       "                <dd><code>PySparkShell</code></dd>\n",
       "            </dl>\n",
       "        </div>\n",
       "        "
      ],
      "text/plain": [
       "<SparkContext master=local[*] appName=PySparkShell>"
      ]
     },
     "execution_count": 1,
     "metadata": {},
     "output_type": "execute_result"
    }
   ],
   "source": [
    "sc"
   ]
  },
  {
   "cell_type": "code",
   "execution_count": 2,
   "id": "d19b4ea4",
   "metadata": {},
   "outputs": [
    {
     "data": {
      "text/html": [
       "\n",
       "            <div>\n",
       "                <p><b>SparkSession - hive</b></p>\n",
       "                \n",
       "        <div>\n",
       "            <p><b>SparkContext</b></p>\n",
       "\n",
       "            <p><a href=\"http://10.0.2.15:4040\">Spark UI</a></p>\n",
       "\n",
       "            <dl>\n",
       "              <dt>Version</dt>\n",
       "                <dd><code>v2.4.8</code></dd>\n",
       "              <dt>Master</dt>\n",
       "                <dd><code>local[*]</code></dd>\n",
       "              <dt>AppName</dt>\n",
       "                <dd><code>PySparkShell</code></dd>\n",
       "            </dl>\n",
       "        </div>\n",
       "        \n",
       "            </div>\n",
       "        "
      ],
      "text/plain": [
       "<pyspark.sql.session.SparkSession at 0x7fe6600d29e8>"
      ]
     },
     "execution_count": 2,
     "metadata": {},
     "output_type": "execute_result"
    }
   ],
   "source": [
    "spark"
   ]
  },
  {
   "cell_type": "code",
   "execution_count": 3,
   "id": "3b9a9e78",
   "metadata": {},
   "outputs": [],
   "source": [
    "bank_customer_data = spark.read.json(\"file:///home/hadoop/Downloads/bank_edited.json\", multiLine= True)"
   ]
  },
  {
   "cell_type": "code",
   "execution_count": 4,
   "id": "fe17c013",
   "metadata": {},
   "outputs": [
    {
     "name": "stdout",
     "output_type": "stream",
     "text": [
      "+---+-------+--------+-------+---+-------+--------+---------+-------+------------+----+--------+-----+-----+--------+--------+---+\n",
      "|age|balance|campaign|contact|day|default|duration|education|housing|         job|loan| marital|month|pdays|poutcome|previous|  y|\n",
      "+---+-------+--------+-------+---+-------+--------+---------+-------+------------+----+--------+-----+-----+--------+--------+---+\n",
      "| 58|   2143|       1|unknown|  5|     no|     261| tertiary|    yes|  management|  no| married|  may|   -1| unknown|       0| no|\n",
      "| 44|     29|       1|unknown|  5|     no|     151|secondary|    yes|  technician|  no|  single|  may|   -1| unknown|       0| no|\n",
      "| 33|      2|       1|unknown|  5|     no|      76|secondary|    yes|entrepreneur| yes| married|  may|   -1| unknown|       0| no|\n",
      "| 47|   1506|       1|unknown|  5|     no|      92|  unknown|    yes| blue-collar|  no| married|  may|   -1| unknown|       0| no|\n",
      "| 33|      1|       1|unknown|  5|     no|     198|  unknown|     no|     unknown|  no|  single|  may|   -1| unknown|       0| no|\n",
      "| 35|    231|       1|unknown|  5|     no|     139| tertiary|    yes|  management|  no| married|  may|   -1| unknown|       0| no|\n",
      "| 28|    447|       1|unknown|  5|     no|     217| tertiary|    yes|  management| yes|  single|  may|   -1| unknown|       0| no|\n",
      "| 42|      2|       1|unknown|  5|    yes|     380| tertiary|    yes|entrepreneur|  no|divorced|  may|   -1| unknown|       0| no|\n",
      "| 58|    121|       1|unknown|  5|     no|      50|  primary|    yes|     retired|  no| married|  may|   -1| unknown|       0| no|\n",
      "| 43|    593|       1|unknown|  5|     no|      55|secondary|    yes|  technician|  no|  single|  may|   -1| unknown|       0| no|\n",
      "| 41|    270|       1|unknown|  5|     no|     222|secondary|    yes|      admin.|  no|divorced|  may|   -1| unknown|       0| no|\n",
      "| 29|    390|       1|unknown|  5|     no|     137|secondary|    yes|      admin.|  no|  single|  may|   -1| unknown|       0| no|\n",
      "| 53|      6|       1|unknown|  5|     no|     517|secondary|    yes|  technician|  no| married|  may|   -1| unknown|       0| no|\n",
      "| 58|     71|       1|unknown|  5|     no|      71|  unknown|    yes|  technician|  no| married|  may|   -1| unknown|       0| no|\n",
      "| 57|    162|       1|unknown|  5|     no|     174|secondary|    yes|    services|  no| married|  may|   -1| unknown|       0| no|\n",
      "| 51|    229|       1|unknown|  5|     no|     353|  primary|    yes|     retired|  no| married|  may|   -1| unknown|       0| no|\n",
      "| 45|     13|       1|unknown|  5|     no|      98|  unknown|    yes|      admin.|  no|  single|  may|   -1| unknown|       0| no|\n",
      "| 57|     52|       1|unknown|  5|     no|      38|  primary|    yes| blue-collar|  no| married|  may|   -1| unknown|       0| no|\n",
      "| 60|     60|       1|unknown|  5|     no|     219|  primary|    yes|     retired|  no| married|  may|   -1| unknown|       0| no|\n",
      "| 33|      0|       1|unknown|  5|     no|      54|secondary|    yes|    services|  no| married|  may|   -1| unknown|       0| no|\n",
      "+---+-------+--------+-------+---+-------+--------+---------+-------+------------+----+--------+-----+-----+--------+--------+---+\n",
      "only showing top 20 rows\n",
      "\n"
     ]
    }
   ],
   "source": [
    "bank_customer_data.show()"
   ]
  },
  {
   "cell_type": "code",
   "execution_count": 5,
   "id": "a25d608c",
   "metadata": {},
   "outputs": [
    {
     "name": "stdout",
     "output_type": "stream",
     "text": [
      "root\n",
      " |-- age: long (nullable = true)\n",
      " |-- balance: long (nullable = true)\n",
      " |-- campaign: long (nullable = true)\n",
      " |-- contact: string (nullable = true)\n",
      " |-- day: long (nullable = true)\n",
      " |-- default: string (nullable = true)\n",
      " |-- duration: long (nullable = true)\n",
      " |-- education: string (nullable = true)\n",
      " |-- housing: string (nullable = true)\n",
      " |-- job: string (nullable = true)\n",
      " |-- loan: string (nullable = true)\n",
      " |-- marital: string (nullable = true)\n",
      " |-- month: string (nullable = true)\n",
      " |-- pdays: long (nullable = true)\n",
      " |-- poutcome: string (nullable = true)\n",
      " |-- previous: long (nullable = true)\n",
      " |-- y: string (nullable = true)\n",
      "\n"
     ]
    }
   ],
   "source": [
    "bank_customer_data.printSchema()"
   ]
  },
  {
   "cell_type": "markdown",
   "id": "ba77e0da",
   "metadata": {},
   "source": [
    "#### 1.Display Max,Min and Mean Age of the targeted customer."
   ]
  },
  {
   "cell_type": "code",
   "execution_count": 6,
   "id": "d8be2ccc",
   "metadata": {},
   "outputs": [],
   "source": [
    "bank_customer_data.createOrReplaceTempView(\"banktable\")"
   ]
  },
  {
   "cell_type": "code",
   "execution_count": 7,
   "id": "112e2ed6",
   "metadata": {},
   "outputs": [],
   "source": [
    "from pyspark.sql.types import *\n",
    "from pyspark.sql.functions import *"
   ]
  },
  {
   "cell_type": "code",
   "execution_count": 8,
   "id": "49bece2e",
   "metadata": {},
   "outputs": [
    {
     "name": "stdout",
     "output_type": "stream",
     "text": [
      "+--------+\n",
      "|max(age)|\n",
      "+--------+\n",
      "|      95|\n",
      "+--------+\n",
      "\n"
     ]
    }
   ],
   "source": [
    "bank_customer_data.select(max(\"age\")).show()"
   ]
  },
  {
   "cell_type": "code",
   "execution_count": 9,
   "id": "e95d1991",
   "metadata": {},
   "outputs": [
    {
     "name": "stdout",
     "output_type": "stream",
     "text": [
      "+--------+\n",
      "|min(age)|\n",
      "+--------+\n",
      "|      18|\n",
      "+--------+\n",
      "\n"
     ]
    }
   ],
   "source": [
    "bank_customer_data.select(min(\"age\")).show()"
   ]
  },
  {
   "cell_type": "code",
   "execution_count": 10,
   "id": "38540811",
   "metadata": {},
   "outputs": [
    {
     "name": "stdout",
     "output_type": "stream",
     "text": [
      "+------------------+\n",
      "|round(avg(age), 0)|\n",
      "+------------------+\n",
      "|              41.0|\n",
      "+------------------+\n",
      "\n"
     ]
    }
   ],
   "source": [
    "bank_customer_data.select(round(mean(\"age\"))).show()"
   ]
  },
  {
   "cell_type": "code",
   "execution_count": 11,
   "id": "f3414fbc",
   "metadata": {},
   "outputs": [
    {
     "name": "stdout",
     "output_type": "stream",
     "text": [
      "+--------+--------+-----------------+\n",
      "|max(age)|min(age)|         avg(age)|\n",
      "+--------+--------+-----------------+\n",
      "|      95|      18|40.93621021432837|\n",
      "+--------+--------+-----------------+\n",
      "\n"
     ]
    }
   ],
   "source": [
    "#SparkSql - alternative method\n",
    "\n",
    "spark.sql(\"select max(age), min(age), mean(age) from banktable\").show()"
   ]
  },
  {
   "cell_type": "markdown",
   "id": "155505b5",
   "metadata": {},
   "source": [
    "#### 2.Check the quality of Customers by analyzing targeted customers min,max mean, median balance"
   ]
  },
  {
   "cell_type": "code",
   "execution_count": 18,
   "id": "05fb1f43",
   "metadata": {},
   "outputs": [
    {
     "name": "stdout",
     "output_type": "stream",
     "text": [
      "+------+---+------------------+------+\n",
      "|   Max|Min|              Mean|median|\n",
      "+------+---+------------------+------+\n",
      "|102127|  0|1362.2720576850766|   448|\n",
      "+------+---+------------------+------+\n",
      "\n"
     ]
    }
   ],
   "source": [
    "spark.sql(\"select max(balance) as Max, min(abs(balance)) as Min, mean(balance) as Mean, percentile_approx(balance,0.5) as median from banktable\").show()"
   ]
  },
  {
   "cell_type": "markdown",
   "id": "bb509e7e",
   "metadata": {},
   "source": [
    "#### 3.Check if age matters in marketing subscription for Term Deposit Scheme"
   ]
  },
  {
   "cell_type": "code",
   "execution_count": 20,
   "id": "37c2ddaf",
   "metadata": {
    "scrolled": true
   },
   "outputs": [
    {
     "name": "stdout",
     "output_type": "stream",
     "text": [
      "+---+--------------+\n",
      "|age|customer_count|\n",
      "+---+--------------+\n",
      "| 32|           221|\n",
      "| 30|           217|\n",
      "| 33|           210|\n",
      "| 35|           209|\n",
      "| 31|           206|\n",
      "| 34|           198|\n",
      "| 36|           195|\n",
      "| 29|           171|\n",
      "| 37|           170|\n",
      "| 28|           162|\n",
      "| 38|           144|\n",
      "| 39|           143|\n",
      "| 27|           141|\n",
      "| 26|           134|\n",
      "| 41|           120|\n",
      "| 46|           118|\n",
      "| 40|           116|\n",
      "| 25|           113|\n",
      "| 47|           113|\n",
      "| 42|           111|\n",
      "+---+--------------+\n",
      "only showing top 20 rows\n",
      "\n"
     ]
    }
   ],
   "source": [
    "spark.sql(\"select age, count(*) as customer_count from banktable where y = 'yes' \\\n",
    "           group by age order by customer_count desc\").show()"
   ]
  },
  {
   "cell_type": "markdown",
   "id": "7951e848",
   "metadata": {},
   "source": [
    "#### 4.Calculate Marketing Success Rate"
   ]
  },
  {
   "cell_type": "code",
   "execution_count": 44,
   "id": "a6216041",
   "metadata": {},
   "outputs": [
    {
     "name": "stdout",
     "output_type": "stream",
     "text": [
      "+------------+\n",
      "|success_rate|\n",
      "+------------+\n",
      "|        11.7|\n",
      "+------------+\n",
      "\n"
     ]
    }
   ],
   "source": [
    "spark.sql(\"select round((select count(*) from banktable where y = 'yes')*100/count(*),2) as success_rate from banktable\").show()"
   ]
  },
  {
   "cell_type": "code",
   "execution_count": 48,
   "id": "95b522a5",
   "metadata": {},
   "outputs": [
    {
     "name": "stdout",
     "output_type": "stream",
     "text": [
      "+-----------------+\n",
      "|     failure_rate|\n",
      "+-----------------+\n",
      "|88.30151954170445|\n",
      "+-----------------+\n",
      "\n"
     ]
    }
   ],
   "source": [
    "spark.sql(\"select(select count(*) from banktable where y = 'no')*100/count(*) as failure_rate from banktable\").show()"
   ]
  },
  {
   "cell_type": "markdown",
   "id": "e520047e",
   "metadata": {},
   "source": [
    "#### 6.Check if marital status matters in marketing subscription for term deposit schema"
   ]
  },
  {
   "cell_type": "code",
   "execution_count": 84,
   "id": "ea87f6bf",
   "metadata": {},
   "outputs": [
    {
     "name": "stdout",
     "output_type": "stream",
     "text": [
      "+--------+-------------+\n",
      "| marital|Marital_Count|\n",
      "+--------+-------------+\n",
      "|divorced|          622|\n",
      "|  single|         1912|\n",
      "| married|         2755|\n",
      "+--------+-------------+\n",
      "\n"
     ]
    }
   ],
   "source": [
    "spark.sql(\"select marital, count(*) as Marital_Count from banktable where y='yes' group by marital order by Marital_Count\").show()"
   ]
  },
  {
   "cell_type": "markdown",
   "id": "3edb0188",
   "metadata": {},
   "source": [
    "### 8. Check if age and marital status together mattered for subsciption"
   ]
  },
  {
   "cell_type": "code",
   "execution_count": 91,
   "id": "28d13569",
   "metadata": {},
   "outputs": [
    {
     "name": "stdout",
     "output_type": "stream",
     "text": [
      "+---+-------+-------+\n",
      "|age|marital|success|\n",
      "+---+-------+-------+\n",
      "| 30| single|    151|\n",
      "| 28| single|    138|\n",
      "| 29| single|    133|\n",
      "| 32| single|    124|\n",
      "| 26| single|    121|\n",
      "| 34|married|    118|\n",
      "| 31| single|    111|\n",
      "| 27| single|    110|\n",
      "| 35|married|    101|\n",
      "| 36|married|    100|\n",
      "| 25| single|     99|\n",
      "| 37|married|     98|\n",
      "| 33|married|     97|\n",
      "| 33| single|     97|\n",
      "| 39|married|     87|\n",
      "| 32|married|     87|\n",
      "| 38|married|     86|\n",
      "| 35| single|     84|\n",
      "| 47|married|     83|\n",
      "| 46|married|     80|\n",
      "+---+-------+-------+\n",
      "only showing top 20 rows\n",
      "\n"
     ]
    }
   ],
   "source": [
    "spark.sql(\"select age,marital, count(*) as success from banktable where y = 'yes' group by age,marital order by success desc\").show()"
   ]
  },
  {
   "cell_type": "markdown",
   "id": "f43f7a61",
   "metadata": {},
   "source": [
    "### Compute Success Rate of each age and marital status"
   ]
  },
  {
   "cell_type": "code",
   "execution_count": 87,
   "id": "aa067c32",
   "metadata": {},
   "outputs": [
    {
     "name": "stdout",
     "output_type": "stream",
     "text": [
      "+---+--------+------------------+\n",
      "|age| marital|Total_Success_Rate|\n",
      "+---+--------+------------------+\n",
      "| 93| married|             100.0|\n",
      "| 68|divorced|             100.0|\n",
      "| 95|divorced|             100.0|\n",
      "| 92| married|             100.0|\n",
      "| 90|divorced|             100.0|\n",
      "| 85|divorced|             100.0|\n",
      "| 87|divorced|             100.0|\n",
      "| 86|  single|             100.0|\n",
      "| 67|divorced|              87.5|\n",
      "| 62|divorced| 83.33333333333333|\n",
      "| 85| married|              75.0|\n",
      "| 76|divorced|              75.0|\n",
      "| 71|divorced| 72.72727272727273|\n",
      "| 87| married| 66.66666666666667|\n",
      "| 84| married| 66.66666666666667|\n",
      "| 73|divorced| 66.66666666666667|\n",
      "| 77|divorced|              60.0|\n",
      "| 18|  single|58.333333333333336|\n",
      "| 63|divorced|57.142857142857146|\n",
      "| 73| married| 52.77777777777778|\n",
      "+---+--------+------------------+\n",
      "only showing top 20 rows\n",
      "\n"
     ]
    }
   ],
   "source": [
    "spark.sql(\"select age,marital,count(case when y='yes' Then 1 else null end)*100/count(*) as Total_Success_Rate from banktable group by age,marital order by Total_Success_Rate desc\").show()"
   ]
  },
  {
   "cell_type": "code",
   "execution_count": 97,
   "id": "fda82260",
   "metadata": {},
   "outputs": [
    {
     "name": "stdout",
     "output_type": "stream",
     "text": [
      "+---+--------+----------+-------------+------------------+\n",
      "|age| marital|totalCount|success_count|success_percentage|\n",
      "+---+--------+----------+-------------+------------------+\n",
      "| 85|divorced|         1|            1|             100.0|\n",
      "| 92| married|         2|            2|             100.0|\n",
      "| 68|divorced|         6|            6|             100.0|\n",
      "| 90|divorced|         2|            2|             100.0|\n",
      "| 93| married|         2|            2|             100.0|\n",
      "| 95|divorced|         1|            1|             100.0|\n",
      "| 87|divorced|         1|            1|             100.0|\n",
      "| 86|  single|         1|            1|             100.0|\n",
      "| 67|divorced|         8|            7|              87.5|\n",
      "| 62|divorced|         6|            5| 83.33333333333333|\n",
      "| 76|divorced|         8|            6|              75.0|\n",
      "| 85| married|         4|            3|              75.0|\n",
      "| 71|divorced|        11|            8| 72.72727272727273|\n",
      "| 84| married|         6|            4| 66.66666666666667|\n",
      "| 87| married|         3|            2| 66.66666666666667|\n",
      "| 73|divorced|         6|            4| 66.66666666666667|\n",
      "| 77|divorced|         5|            3|              60.0|\n",
      "| 18|  single|        12|            7|58.333333333333336|\n",
      "| 63|divorced|         7|            4|57.142857142857146|\n",
      "| 73| married|        36|           19| 52.77777777777778|\n",
      "+---+--------+----------+-------------+------------------+\n",
      "only showing top 20 rows\n",
      "\n"
     ]
    }
   ],
   "source": [
    "spark.sql(\"\"\"\n",
    "select age,marital, count(*) as totalCount,\n",
    "SUM(case when y = 'yes' then 1 else 0 end) as success_count,\n",
    "(SUM(case when y = 'yes' then 1 else 0 end)*100/count(*)) as success_percentage\n",
    "from banktable group by age,marital order by success_percentage desc\"\"\").show()"
   ]
  },
  {
   "cell_type": "markdown",
   "id": "33fd9606",
   "metadata": {},
   "source": [
    "### 10.Do features engineering for bank inverstment scheme and find effect of age on the campaign"
   ]
  },
  {
   "cell_type": "code",
   "execution_count": 104,
   "id": "7ae978ec",
   "metadata": {},
   "outputs": [
    {
     "name": "stdout",
     "output_type": "stream",
     "text": [
      "+------------+----------------+\n",
      "|age_category|subscriber_count|\n",
      "+------------+----------------+\n",
      "| Middle Aged|            2194|\n",
      "|       Adult|            1982|\n",
      "|         old|             906|\n",
      "|    Teenager|             207|\n",
      "+------------+----------------+\n",
      "\n"
     ]
    }
   ],
   "source": [
    "spark.sql(\"\"\"\n",
    "select age_category, count(*) as subscriber_count from\n",
    "(select case when age < 25 then \"Teenager\"\n",
    "            when age >=25 and age<=35 then \"Adult\"\n",
    "            when age>35 and age<=55 then \"Middle Aged\"\n",
    "            else 'old' \n",
    "        end as age_category\n",
    "from banktable where y = 'yes') group by age_category order by subscriber_count desc\n",
    "\"\"\").show()"
   ]
  },
  {
   "cell_type": "markdown",
   "id": "55844055",
   "metadata": {},
   "source": [
    "### Alternative method by creating UDF"
   ]
  },
  {
   "cell_type": "code",
   "execution_count": 105,
   "id": "03b4d4bc",
   "metadata": {},
   "outputs": [],
   "source": [
    "from pyspark.sql.functions import udf"
   ]
  },
  {
   "cell_type": "code",
   "execution_count": 106,
   "id": "67f9f53a",
   "metadata": {},
   "outputs": [],
   "source": [
    "age_range = udf(lambda age: \"Teenager\" if age<25 else \n",
    "                             \"Adult\" if(age >=25 and age<=35) else\n",
    "                             \"Middle Aged\" if (age>=35 and age<55) else\n",
    "                             \"old\"\n",
    "               )"
   ]
  },
  {
   "cell_type": "code",
   "execution_count": 107,
   "id": "68ebc3ff",
   "metadata": {},
   "outputs": [],
   "source": [
    "bank_customer_df = bank_customer_data.withColumn('age_catergory',age_range(bank_customer_data.age))"
   ]
  },
  {
   "cell_type": "code",
   "execution_count": 108,
   "id": "7c2b0ff9",
   "metadata": {},
   "outputs": [
    {
     "name": "stdout",
     "output_type": "stream",
     "text": [
      "+---+-------+--------+-------+---+-------+--------+---------+-------+------------+----+--------+-----+-----+--------+--------+---+-------------+\n",
      "|age|balance|campaign|contact|day|default|duration|education|housing|         job|loan| marital|month|pdays|poutcome|previous|  y|age_catergory|\n",
      "+---+-------+--------+-------+---+-------+--------+---------+-------+------------+----+--------+-----+-----+--------+--------+---+-------------+\n",
      "| 58|   2143|       1|unknown|  5|     no|     261| tertiary|    yes|  management|  no| married|  may|   -1| unknown|       0| no|          old|\n",
      "| 44|     29|       1|unknown|  5|     no|     151|secondary|    yes|  technician|  no|  single|  may|   -1| unknown|       0| no|  Middle Aged|\n",
      "| 33|      2|       1|unknown|  5|     no|      76|secondary|    yes|entrepreneur| yes| married|  may|   -1| unknown|       0| no|        Adult|\n",
      "| 47|   1506|       1|unknown|  5|     no|      92|  unknown|    yes| blue-collar|  no| married|  may|   -1| unknown|       0| no|  Middle Aged|\n",
      "| 33|      1|       1|unknown|  5|     no|     198|  unknown|     no|     unknown|  no|  single|  may|   -1| unknown|       0| no|        Adult|\n",
      "| 35|    231|       1|unknown|  5|     no|     139| tertiary|    yes|  management|  no| married|  may|   -1| unknown|       0| no|        Adult|\n",
      "| 28|    447|       1|unknown|  5|     no|     217| tertiary|    yes|  management| yes|  single|  may|   -1| unknown|       0| no|        Adult|\n",
      "| 42|      2|       1|unknown|  5|    yes|     380| tertiary|    yes|entrepreneur|  no|divorced|  may|   -1| unknown|       0| no|  Middle Aged|\n",
      "| 58|    121|       1|unknown|  5|     no|      50|  primary|    yes|     retired|  no| married|  may|   -1| unknown|       0| no|          old|\n",
      "| 43|    593|       1|unknown|  5|     no|      55|secondary|    yes|  technician|  no|  single|  may|   -1| unknown|       0| no|  Middle Aged|\n",
      "| 41|    270|       1|unknown|  5|     no|     222|secondary|    yes|      admin.|  no|divorced|  may|   -1| unknown|       0| no|  Middle Aged|\n",
      "| 29|    390|       1|unknown|  5|     no|     137|secondary|    yes|      admin.|  no|  single|  may|   -1| unknown|       0| no|        Adult|\n",
      "| 53|      6|       1|unknown|  5|     no|     517|secondary|    yes|  technician|  no| married|  may|   -1| unknown|       0| no|  Middle Aged|\n",
      "| 58|     71|       1|unknown|  5|     no|      71|  unknown|    yes|  technician|  no| married|  may|   -1| unknown|       0| no|          old|\n",
      "| 57|    162|       1|unknown|  5|     no|     174|secondary|    yes|    services|  no| married|  may|   -1| unknown|       0| no|          old|\n",
      "| 51|    229|       1|unknown|  5|     no|     353|  primary|    yes|     retired|  no| married|  may|   -1| unknown|       0| no|  Middle Aged|\n",
      "| 45|     13|       1|unknown|  5|     no|      98|  unknown|    yes|      admin.|  no|  single|  may|   -1| unknown|       0| no|  Middle Aged|\n",
      "| 57|     52|       1|unknown|  5|     no|      38|  primary|    yes| blue-collar|  no| married|  may|   -1| unknown|       0| no|          old|\n",
      "| 60|     60|       1|unknown|  5|     no|     219|  primary|    yes|     retired|  no| married|  may|   -1| unknown|       0| no|          old|\n",
      "| 33|      0|       1|unknown|  5|     no|      54|secondary|    yes|    services|  no| married|  may|   -1| unknown|       0| no|        Adult|\n",
      "+---+-------+--------+-------+---+-------+--------+---------+-------+------------+----+--------+-----+-----+--------+--------+---+-------------+\n",
      "only showing top 20 rows\n",
      "\n"
     ]
    }
   ],
   "source": [
    "bank_customer_df.show()"
   ]
  },
  {
   "cell_type": "code",
   "execution_count": 110,
   "id": "fad37050",
   "metadata": {},
   "outputs": [],
   "source": [
    "bank_customer_df.createOrReplaceTempView('newBankTable')"
   ]
  },
  {
   "cell_type": "code",
   "execution_count": 115,
   "id": "11710191",
   "metadata": {},
   "outputs": [
    {
     "name": "stdout",
     "output_type": "stream",
     "text": [
      "+-------------+-------------+\n",
      "|age_catergory|success_count|\n",
      "+-------------+-------------+\n",
      "|  Middle Aged|        22598|\n",
      "|        Adult|        16098|\n",
      "|          old|         5706|\n",
      "|     Teenager|          809|\n",
      "+-------------+-------------+\n",
      "\n"
     ]
    }
   ],
   "source": [
    "spark.sql(\"select age_catergory, count(*) as success_count from newBankTable group by age_catergory order by success_count desc\").show()"
   ]
  },
  {
   "cell_type": "markdown",
   "id": "6e1df522",
   "metadata": {},
   "source": [
    "### Write a query to show distributed probability rate for each age category"
   ]
  },
  {
   "cell_type": "code",
   "execution_count": null,
   "id": "c541959c",
   "metadata": {},
   "outputs": [],
   "source": []
  }
 ],
 "metadata": {
  "kernelspec": {
   "display_name": "Python 3",
   "language": "python",
   "name": "python3"
  },
  "language_info": {
   "codemirror_mode": {
    "name": "ipython",
    "version": 3
   },
   "file_extension": ".py",
   "mimetype": "text/x-python",
   "name": "python",
   "nbconvert_exporter": "python",
   "pygments_lexer": "ipython3",
   "version": "3.6.9"
  }
 },
 "nbformat": 4,
 "nbformat_minor": 5
}
