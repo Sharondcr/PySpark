{
 "cells": [
  {
   "cell_type": "code",
   "execution_count": 1,
   "id": "ae85e009",
   "metadata": {},
   "outputs": [
    {
     "data": {
      "text/html": [
       "\n",
       "        <div>\n",
       "            <p><b>SparkContext</b></p>\n",
       "\n",
       "            <p><a href=\"http://10.0.2.15:4041\">Spark UI</a></p>\n",
       "\n",
       "            <dl>\n",
       "              <dt>Version</dt>\n",
       "                <dd><code>v2.4.8</code></dd>\n",
       "              <dt>Master</dt>\n",
       "                <dd><code>local[*]</code></dd>\n",
       "              <dt>AppName</dt>\n",
       "                <dd><code>PySparkShell</code></dd>\n",
       "            </dl>\n",
       "        </div>\n",
       "        "
      ],
      "text/plain": [
       "<SparkContext master=local[*] appName=PySparkShell>"
      ]
     },
     "execution_count": 1,
     "metadata": {},
     "output_type": "execute_result"
    }
   ],
   "source": [
    "sc"
   ]
  },
  {
   "cell_type": "code",
   "execution_count": 2,
   "id": "45a04025",
   "metadata": {},
   "outputs": [
    {
     "data": {
      "text/html": [
       "\n",
       "            <div>\n",
       "                <p><b>SparkSession - hive</b></p>\n",
       "                \n",
       "        <div>\n",
       "            <p><b>SparkContext</b></p>\n",
       "\n",
       "            <p><a href=\"http://10.0.2.15:4041\">Spark UI</a></p>\n",
       "\n",
       "            <dl>\n",
       "              <dt>Version</dt>\n",
       "                <dd><code>v2.4.8</code></dd>\n",
       "              <dt>Master</dt>\n",
       "                <dd><code>local[*]</code></dd>\n",
       "              <dt>AppName</dt>\n",
       "                <dd><code>PySparkShell</code></dd>\n",
       "            </dl>\n",
       "        </div>\n",
       "        \n",
       "            </div>\n",
       "        "
      ],
      "text/plain": [
       "<pyspark.sql.session.SparkSession at 0x7fdbe0886b00>"
      ]
     },
     "execution_count": 2,
     "metadata": {},
     "output_type": "execute_result"
    }
   ],
   "source": [
    "spark"
   ]
  },
  {
   "cell_type": "code",
   "execution_count": 3,
   "id": "9942e979",
   "metadata": {},
   "outputs": [],
   "source": [
    "sc.stop()"
   ]
  },
  {
   "cell_type": "code",
   "execution_count": 4,
   "id": "ae0455cf",
   "metadata": {},
   "outputs": [],
   "source": [
    "from pyspark import SparkConf,SparkContext\n",
    "config = SparkConf().setAppName(\"PysparkSession\").setMaster(\"local[4]\")\n",
    "sc = SparkContext(conf = config)"
   ]
  },
  {
   "cell_type": "code",
   "execution_count": 5,
   "id": "d2ca1e7d",
   "metadata": {},
   "outputs": [],
   "source": [
    "#Spark Session()\n",
    "from pyspark.sql import SparkSession\n",
    "spark = SparkSession.builder.appName('PySparkSession').getOrCreate()"
   ]
  },
  {
   "cell_type": "code",
   "execution_count": 6,
   "id": "7e7c97f1",
   "metadata": {},
   "outputs": [],
   "source": [
    "flight = spark.read.csv(\"file:///home/hadoop/Downloads/raw_flight_data.csv\" , inferSchema = True, header=True)"
   ]
  },
  {
   "cell_type": "code",
   "execution_count": 7,
   "id": "8a2c28a7",
   "metadata": {},
   "outputs": [
    {
     "data": {
      "text/plain": [
       "[Row(DayofMonth=19, DayOfWeek=5, Carrier='DL', OriginAirportID=11433, DestAirportID=13303, DepDelay=-3, ArrDelay=1),\n",
       " Row(DayofMonth=19, DayOfWeek=5, Carrier='DL', OriginAirportID=14869, DestAirportID=12478, DepDelay=0, ArrDelay=-8),\n",
       " Row(DayofMonth=19, DayOfWeek=5, Carrier='DL', OriginAirportID=14057, DestAirportID=14869, DepDelay=-4, ArrDelay=-15),\n",
       " Row(DayofMonth=19, DayOfWeek=5, Carrier='DL', OriginAirportID=15016, DestAirportID=11433, DepDelay=28, ArrDelay=24),\n",
       " Row(DayofMonth=19, DayOfWeek=5, Carrier='DL', OriginAirportID=11193, DestAirportID=12892, DepDelay=-6, ArrDelay=-11)]"
      ]
     },
     "execution_count": 7,
     "metadata": {},
     "output_type": "execute_result"
    }
   ],
   "source": [
    "flight.head(5)"
   ]
  },
  {
   "cell_type": "code",
   "execution_count": 8,
   "id": "7688fba5",
   "metadata": {},
   "outputs": [
    {
     "name": "stdout",
     "output_type": "stream",
     "text": [
      "+----------+---------+-------+---------------+-------------+--------+--------+\n",
      "|DayofMonth|DayOfWeek|Carrier|OriginAirportID|DestAirportID|DepDelay|ArrDelay|\n",
      "+----------+---------+-------+---------------+-------------+--------+--------+\n",
      "|        19|        5|     DL|          11433|        13303|      -3|       1|\n",
      "|        19|        5|     DL|          14869|        12478|       0|      -8|\n",
      "|        19|        5|     DL|          14057|        14869|      -4|     -15|\n",
      "|        19|        5|     DL|          15016|        11433|      28|      24|\n",
      "|        19|        5|     DL|          11193|        12892|      -6|     -11|\n",
      "|        19|        5|     DL|          10397|        15016|      -1|     -19|\n",
      "|        19|        5|     DL|          15016|        10397|       0|      -1|\n",
      "|        19|        5|     DL|          10397|        14869|      15|      24|\n",
      "|        19|        5|     DL|          10397|        10423|      33|      34|\n",
      "|        19|        5|     DL|          11278|        10397|     323|     322|\n",
      "|        19|        5|     DL|          14107|        13487|      -7|     -13|\n",
      "|        19|        5|     DL|          11433|        11298|      22|      41|\n",
      "|        19|        5|     DL|          11298|        11433|      40|      20|\n",
      "|        19|        5|     DL|          11433|        12892|      -2|      -7|\n",
      "|        19|        5|     DL|          10397|        12451|      71|      75|\n",
      "|        19|        5|     DL|          12451|        10397|      75|      57|\n",
      "|        19|        5|     DL|          12953|        10397|      -1|      10|\n",
      "|        19|        5|     DL|          11433|        12953|      -3|     -10|\n",
      "|        19|        5|     DL|          10397|        14771|      31|      38|\n",
      "|        19|        5|     DL|          13204|        10397|       8|      25|\n",
      "+----------+---------+-------+---------------+-------------+--------+--------+\n",
      "only showing top 20 rows\n",
      "\n"
     ]
    }
   ],
   "source": [
    "flight.show()"
   ]
  },
  {
   "cell_type": "code",
   "execution_count": 9,
   "id": "53080de2",
   "metadata": {},
   "outputs": [
    {
     "name": "stdout",
     "output_type": "stream",
     "text": [
      "+----------+-------+---------------+--------+\n",
      "|DayofMonth|Carrier|OriginAirportID|DepDelay|\n",
      "+----------+-------+---------------+--------+\n",
      "|        19|     DL|          11433|      -3|\n",
      "|        19|     DL|          14869|       0|\n",
      "|        19|     DL|          14057|      -4|\n",
      "|        19|     DL|          15016|      28|\n",
      "|        19|     DL|          11193|      -6|\n",
      "|        19|     DL|          10397|      -1|\n",
      "|        19|     DL|          15016|       0|\n",
      "|        19|     DL|          10397|      15|\n",
      "|        19|     DL|          10397|      33|\n",
      "|        19|     DL|          11278|     323|\n",
      "|        19|     DL|          14107|      -7|\n",
      "|        19|     DL|          11433|      22|\n",
      "|        19|     DL|          11298|      40|\n",
      "|        19|     DL|          11433|      -2|\n",
      "|        19|     DL|          10397|      71|\n",
      "|        19|     DL|          12451|      75|\n",
      "|        19|     DL|          12953|      -1|\n",
      "|        19|     DL|          11433|      -3|\n",
      "|        19|     DL|          10397|      31|\n",
      "|        19|     DL|          13204|       8|\n",
      "+----------+-------+---------------+--------+\n",
      "only showing top 20 rows\n",
      "\n"
     ]
    }
   ],
   "source": [
    "flight.select(['DayofMonth','Carrier','OriginAirportID','DepDelay']).show()"
   ]
  },
  {
   "cell_type": "code",
   "execution_count": 10,
   "id": "9002138b",
   "metadata": {},
   "outputs": [
    {
     "name": "stdout",
     "output_type": "stream",
     "text": [
      "+-------+\n",
      "|Carrier|\n",
      "+-------+\n",
      "|     UA|\n",
      "|     AA|\n",
      "|     EV|\n",
      "|     B6|\n",
      "|     DL|\n",
      "|     OO|\n",
      "|     F9|\n",
      "|     YV|\n",
      "|     US|\n",
      "|     MQ|\n",
      "|     HA|\n",
      "|     AS|\n",
      "|     FL|\n",
      "|     VX|\n",
      "|     WN|\n",
      "|     9E|\n",
      "+-------+\n",
      "\n"
     ]
    }
   ],
   "source": [
    "flight.select(['Carrier']).distinct().show()"
   ]
  },
  {
   "cell_type": "code",
   "execution_count": 11,
   "id": "f7100411",
   "metadata": {},
   "outputs": [
    {
     "data": {
      "text/plain": [
       "16"
      ]
     },
     "execution_count": 11,
     "metadata": {},
     "output_type": "execute_result"
    }
   ],
   "source": [
    "flight.select(['Carrier']).distinct().count()"
   ]
  },
  {
   "cell_type": "code",
   "execution_count": 12,
   "id": "7049126a",
   "metadata": {},
   "outputs": [
    {
     "name": "stdout",
     "output_type": "stream",
     "text": [
      "+----------+---------+-------+---------------+-------------+--------+--------+\n",
      "|DayofMonth|DayOfWeek|Carrier|OriginAirportID|DestAirportID|DepDelay|ArrDelay|\n",
      "+----------+---------+-------+---------------+-------------+--------+--------+\n",
      "|        19|        5|     DL|          15016|        11433|      28|      24|\n",
      "|        19|        5|     DL|          10397|        14869|      15|      24|\n",
      "|        19|        5|     DL|          10397|        10423|      33|      34|\n",
      "|        19|        5|     DL|          11278|        10397|     323|     322|\n",
      "|        19|        5|     DL|          11433|        11298|      22|      41|\n",
      "|        19|        5|     DL|          11298|        11433|      40|      20|\n",
      "|        19|        5|     DL|          10397|        12451|      71|      75|\n",
      "|        19|        5|     DL|          12451|        10397|      75|      57|\n",
      "|        19|        5|     DL|          10397|        14771|      31|      38|\n",
      "|        19|        5|     DL|          13204|        10397|       8|      25|\n",
      "|        19|        5|     DL|          12889|        13487|       7|      16|\n",
      "|        19|        5|     DL|          14027|        10397|      13|      25|\n",
      "|        19|        5|     DL|          13244|        10397|       4|      13|\n",
      "|        19|        5|     DL|          10397|        12892|      15|       7|\n",
      "|        19|        5|     DL|          14747|        14869|      15|      18|\n",
      "|        19|        5|     DL|          10423|        10397|      56|      49|\n",
      "|        20|        6|     DL|          10397|        11278|       2|       1|\n",
      "|        20|        6|     DL|          11278|        10397|      34|      38|\n",
      "|        20|        6|     DL|          11697|        12953|      20|       1|\n",
      "|        20|        6|     DL|          13487|        13198|      35|      26|\n",
      "+----------+---------+-------+---------------+-------------+--------+--------+\n",
      "only showing top 20 rows\n",
      "\n"
     ]
    }
   ],
   "source": [
    "flight.where((flight.DepDelay > 0) & (flight.ArrDelay > 0)).show()"
   ]
  },
  {
   "cell_type": "code",
   "execution_count": 13,
   "id": "ced57423",
   "metadata": {},
   "outputs": [
    {
     "name": "stdout",
     "output_type": "stream",
     "text": [
      "+----------+---------+-------+---------------+-------------+--------+--------+\n",
      "|DayofMonth|DayOfWeek|Carrier|OriginAirportID|DestAirportID|DepDelay|ArrDelay|\n",
      "+----------+---------+-------+---------------+-------------+--------+--------+\n",
      "|        19|        5|     DL|          15016|        11433|      28|      24|\n",
      "|        19|        5|     DL|          10397|        14869|      15|      24|\n",
      "|        19|        5|     DL|          10397|        10423|      33|      34|\n",
      "|        19|        5|     DL|          11278|        10397|     323|     322|\n",
      "|        19|        5|     DL|          11433|        11298|      22|      41|\n",
      "|        19|        5|     DL|          11298|        11433|      40|      20|\n",
      "|        19|        5|     DL|          10397|        12451|      71|      75|\n",
      "|        19|        5|     DL|          12451|        10397|      75|      57|\n",
      "|        19|        5|     DL|          10397|        14771|      31|      38|\n",
      "|        19|        5|     DL|          13204|        10397|       8|      25|\n",
      "|        19|        5|     DL|          12889|        13487|       7|      16|\n",
      "|        19|        5|     DL|          14027|        10397|      13|      25|\n",
      "|        19|        5|     DL|          13244|        10397|       4|      13|\n",
      "|        19|        5|     DL|          10397|        12892|      15|       7|\n",
      "|        19|        5|     DL|          14747|        14869|      15|      18|\n",
      "|        19|        5|     DL|          10423|        10397|      56|      49|\n",
      "|        20|        6|     DL|          10397|        11278|       2|       1|\n",
      "|        20|        6|     DL|          11278|        10397|      34|      38|\n",
      "|        20|        6|     DL|          11697|        12953|      20|       1|\n",
      "|        20|        6|     DL|          13487|        13198|      35|      26|\n",
      "+----------+---------+-------+---------------+-------------+--------+--------+\n",
      "only showing top 20 rows\n",
      "\n"
     ]
    }
   ],
   "source": [
    "flight.filter((flight.DepDelay > 0) & (flight.ArrDelay > 0)).show()"
   ]
  },
  {
   "cell_type": "code",
   "execution_count": 14,
   "id": "0bcd9500",
   "metadata": {},
   "outputs": [
    {
     "name": "stdout",
     "output_type": "stream",
     "text": [
      "+----------+---------+-------+---------------+-------------+--------+--------+\n",
      "|DayofMonth|DayOfWeek|Carrier|OriginAirportID|DestAirportID|DepDelay|ArrDelay|\n",
      "+----------+---------+-------+---------------+-------------+--------+--------+\n",
      "|        19|        5|     DL|          11433|        13303|      -3|       1|\n",
      "|        19|        5|     DL|          14869|        12478|       0|      -8|\n",
      "|        19|        5|     DL|          14057|        14869|      -4|     -15|\n",
      "|        19|        5|     DL|          15016|        11433|      28|      24|\n",
      "|        19|        5|     DL|          11193|        12892|      -6|     -11|\n",
      "|        19|        5|     DL|          10397|        15016|      -1|     -19|\n",
      "|        19|        5|     DL|          15016|        10397|       0|      -1|\n",
      "|        19|        5|     DL|          10397|        14869|      15|      24|\n",
      "|        19|        5|     DL|          10397|        10423|      33|      34|\n",
      "|        19|        5|     DL|          11278|        10397|     323|     322|\n",
      "|        19|        5|     DL|          14107|        13487|      -7|     -13|\n",
      "|        19|        5|     DL|          11433|        11298|      22|      41|\n",
      "|        19|        5|     DL|          11298|        11433|      40|      20|\n",
      "|        19|        5|     DL|          11433|        12892|      -2|      -7|\n",
      "|        19|        5|     DL|          10397|        12451|      71|      75|\n",
      "|        19|        5|     DL|          12451|        10397|      75|      57|\n",
      "|        19|        5|     DL|          12953|        10397|      -1|      10|\n",
      "|        19|        5|     DL|          11433|        12953|      -3|     -10|\n",
      "|        19|        5|     DL|          10397|        14771|      31|      38|\n",
      "|        19|        5|     DL|          13204|        10397|       8|      25|\n",
      "+----------+---------+-------+---------------+-------------+--------+--------+\n",
      "only showing top 20 rows\n",
      "\n"
     ]
    }
   ],
   "source": [
    "flight.where(flight.Carrier.isin('DL','F9','B6','UA')).show()"
   ]
  },
  {
   "cell_type": "code",
   "execution_count": 16,
   "id": "5d57e31d",
   "metadata": {},
   "outputs": [],
   "source": [
    "airport = spark.read.csv(\"file:///home/hadoop/Downloads/airports.csv\", inferSchema = True, header= True)"
   ]
  },
  {
   "cell_type": "code",
   "execution_count": 17,
   "id": "76e0ebf8",
   "metadata": {},
   "outputs": [
    {
     "name": "stdout",
     "output_type": "stream",
     "text": [
      "root\n",
      " |-- airport_id: integer (nullable = true)\n",
      " |-- city: string (nullable = true)\n",
      " |-- state: string (nullable = true)\n",
      " |-- name: string (nullable = true)\n",
      "\n"
     ]
    }
   ],
   "source": [
    "airport.printSchema()"
   ]
  },
  {
   "cell_type": "code",
   "execution_count": 18,
   "id": "19a67c65",
   "metadata": {},
   "outputs": [
    {
     "name": "stdout",
     "output_type": "stream",
     "text": [
      "+----------+-----------+-----+--------------------+\n",
      "|airport_id|       city|state|                name|\n",
      "+----------+-----------+-----+--------------------+\n",
      "|     10165|Adak Island|   AK|                Adak|\n",
      "|     10299|  Anchorage|   AK|Ted Stevens Ancho...|\n",
      "|     10304|      Aniak|   AK|       Aniak Airport|\n",
      "|     10754|     Barrow|   AK|Wiley Post/Will R...|\n",
      "|     10551|     Bethel|   AK|      Bethel Airport|\n",
      "|     10926|    Cordova|   AK|Merle K Mudhole S...|\n",
      "|     14709|  Deadhorse|   AK|   Deadhorse Airport|\n",
      "|     11336| Dillingham|   AK|  Dillingham Airport|\n",
      "|     11630|  Fairbanks|   AK|Fairbanks Interna...|\n",
      "|     11997|   Gustavus|   AK|    Gustavus Airport|\n",
      "|     12523|     Juneau|   AK|Juneau International|\n",
      "|     12819|  Ketchikan|   AK|Ketchikan Interna...|\n",
      "|     10245|King Salmon|   AK| King Salmon Airport|\n",
      "|     10170|     Kodiak|   AK|      Kodiak Airport|\n",
      "|     13970|   Kotzebue|   AK| Ralph Wien Memorial|\n",
      "|     13873|       Nome|   AK|        Nome Airport|\n",
      "|     14256| Petersburg|   AK|Petersburg James ...|\n",
      "|     14828|      Sitka|   AK|Sitka Rocky Gutie...|\n",
      "|     12807| St. Mary's|   AK|  St. Mary's Airport|\n",
      "|     11445|   Unalaska|   AK|    Unalaska Airport|\n",
      "+----------+-----------+-----+--------------------+\n",
      "only showing top 20 rows\n",
      "\n"
     ]
    }
   ],
   "source": [
    "airport.show()"
   ]
  },
  {
   "cell_type": "code",
   "execution_count": 19,
   "id": "bff2e641",
   "metadata": {},
   "outputs": [
    {
     "name": "stdout",
     "output_type": "stream",
     "text": [
      "+----------+---------+-------+---------------+-------------+--------+--------+----------+-----------------+-----+--------------------+\n",
      "|DayofMonth|DayOfWeek|Carrier|OriginAirportID|DestAirportID|DepDelay|ArrDelay|airport_id|             city|state|                name|\n",
      "+----------+---------+-------+---------------+-------------+--------+--------+----------+-----------------+-----+--------------------+\n",
      "|        19|        5|     DL|          11433|        13303|      -3|       1|     11433|          Detroit|   MI|Detroit Metro Way...|\n",
      "|        19|        5|     DL|          14869|        12478|       0|      -8|     14869|   Salt Lake City|   UT|Salt Lake City In...|\n",
      "|        19|        5|     DL|          14057|        14869|      -4|     -15|     14057|         Portland|   OR|Portland Internat...|\n",
      "|        19|        5|     DL|          15016|        11433|      28|      24|     15016|        St. Louis|   MO|Lambert-St. Louis...|\n",
      "|        19|        5|     DL|          11193|        12892|      -6|     -11|     11193|       Cincinnati|   OH|Cincinnati/Northe...|\n",
      "|        19|        5|     DL|          10397|        15016|      -1|     -19|     10397|          Atlanta|   GA|Hartsfield-Jackso...|\n",
      "|        19|        5|     DL|          15016|        10397|       0|      -1|     15016|        St. Louis|   MO|Lambert-St. Louis...|\n",
      "|        19|        5|     DL|          10397|        14869|      15|      24|     10397|          Atlanta|   GA|Hartsfield-Jackso...|\n",
      "|        19|        5|     DL|          10397|        10423|      33|      34|     10397|          Atlanta|   GA|Hartsfield-Jackso...|\n",
      "|        19|        5|     DL|          11278|        10397|     323|     322|     11278|       Washington|   DC|Ronald Reagan Was...|\n",
      "|        19|        5|     DL|          14107|        13487|      -7|     -13|     14107|          Phoenix|   AZ|Phoenix Sky Harbo...|\n",
      "|        19|        5|     DL|          11433|        11298|      22|      41|     11433|          Detroit|   MI|Detroit Metro Way...|\n",
      "|        19|        5|     DL|          11298|        11433|      40|      20|     11298|Dallas/Fort Worth|   TX|Dallas/Fort Worth...|\n",
      "|        19|        5|     DL|          11433|        12892|      -2|      -7|     11433|          Detroit|   MI|Detroit Metro Way...|\n",
      "|        19|        5|     DL|          10397|        12451|      71|      75|     10397|          Atlanta|   GA|Hartsfield-Jackso...|\n",
      "|        19|        5|     DL|          12451|        10397|      75|      57|     12451|     Jacksonville|   FL|Jacksonville Inte...|\n",
      "|        19|        5|     DL|          12953|        10397|      -1|      10|     12953|         New York|   NY|           LaGuardia|\n",
      "|        19|        5|     DL|          11433|        12953|      -3|     -10|     11433|          Detroit|   MI|Detroit Metro Way...|\n",
      "|        19|        5|     DL|          10397|        14771|      31|      38|     10397|          Atlanta|   GA|Hartsfield-Jackso...|\n",
      "|        19|        5|     DL|          13204|        10397|       8|      25|     13204|          Orlando|   FL|Orlando Internati...|\n",
      "+----------+---------+-------+---------------+-------------+--------+--------+----------+-----------------+-----+--------------------+\n",
      "only showing top 20 rows\n",
      "\n"
     ]
    }
   ],
   "source": [
    "flight_airportDF = flight.join(airport,flight.OriginAirportID == airport.airport_id)\n",
    "flight_airportDF.show()"
   ]
  },
  {
   "cell_type": "code",
   "execution_count": 21,
   "id": "94bc6ba7",
   "metadata": {},
   "outputs": [
    {
     "name": "stdout",
     "output_type": "stream",
     "text": [
      "+----------+---------+-------+---------------+-------------+--------+--------+----------+--------------------+\n",
      "|DayofMonth|DayOfWeek|Carrier|OriginAirportID|DestAirportID|DepDelay|ArrDelay|airport_id|                name|\n",
      "+----------+---------+-------+---------------+-------------+--------+--------+----------+--------------------+\n",
      "|        19|        5|     DL|          11433|        13303|      -3|       1|     11433|Detroit Metro Way...|\n",
      "|        19|        5|     DL|          14869|        12478|       0|      -8|     14869|Salt Lake City In...|\n",
      "|        19|        5|     DL|          14057|        14869|      -4|     -15|     14057|Portland Internat...|\n",
      "|        19|        5|     DL|          15016|        11433|      28|      24|     15016|Lambert-St. Louis...|\n",
      "|        19|        5|     DL|          11193|        12892|      -6|     -11|     11193|Cincinnati/Northe...|\n",
      "|        19|        5|     DL|          10397|        15016|      -1|     -19|     10397|Hartsfield-Jackso...|\n",
      "|        19|        5|     DL|          15016|        10397|       0|      -1|     15016|Lambert-St. Louis...|\n",
      "|        19|        5|     DL|          10397|        14869|      15|      24|     10397|Hartsfield-Jackso...|\n",
      "|        19|        5|     DL|          10397|        10423|      33|      34|     10397|Hartsfield-Jackso...|\n",
      "|        19|        5|     DL|          11278|        10397|     323|     322|     11278|Ronald Reagan Was...|\n",
      "|        19|        5|     DL|          14107|        13487|      -7|     -13|     14107|Phoenix Sky Harbo...|\n",
      "|        19|        5|     DL|          11433|        11298|      22|      41|     11433|Detroit Metro Way...|\n",
      "|        19|        5|     DL|          11298|        11433|      40|      20|     11298|Dallas/Fort Worth...|\n",
      "|        19|        5|     DL|          11433|        12892|      -2|      -7|     11433|Detroit Metro Way...|\n",
      "|        19|        5|     DL|          10397|        12451|      71|      75|     10397|Hartsfield-Jackso...|\n",
      "|        19|        5|     DL|          12451|        10397|      75|      57|     12451|Jacksonville Inte...|\n",
      "|        19|        5|     DL|          12953|        10397|      -1|      10|     12953|           LaGuardia|\n",
      "|        19|        5|     DL|          11433|        12953|      -3|     -10|     11433|Detroit Metro Way...|\n",
      "|        19|        5|     DL|          10397|        14771|      31|      38|     10397|Hartsfield-Jackso...|\n",
      "|        19|        5|     DL|          13204|        10397|       8|      25|     13204|Orlando Internati...|\n",
      "+----------+---------+-------+---------------+-------------+--------+--------+----------+--------------------+\n",
      "only showing top 20 rows\n",
      "\n"
     ]
    }
   ],
   "source": [
    "flight_airportDF2 = flight.join(airport.select(['airport_id','name']), flight.OriginAirportID == airport.airport_id)\n",
    "flight_airportDF2.show()"
   ]
  },
  {
   "cell_type": "code",
   "execution_count": 23,
   "id": "0494ae8c",
   "metadata": {},
   "outputs": [
    {
     "name": "stdout",
     "output_type": "stream",
     "text": [
      "+----------+---------+-------+---------------+-------------+--------+--------+\n",
      "|DayofMonth|DayOfWeek|Carrier|OriginAirportID|DestAirportID|DepDelay|ArrDelay|\n",
      "+----------+---------+-------+---------------+-------------+--------+--------+\n",
      "|         0|        0|      0|              0|            0|   27444|   29033|\n",
      "+----------+---------+-------+---------------+-------------+--------+--------+\n",
      "\n"
     ]
    }
   ],
   "source": [
    "from pyspark.sql.functions import *\n",
    "\n",
    "flight.select([count(when(isnull(col),col)).alias(col) for col in flight.columns]).show()"
   ]
  },
  {
   "cell_type": "code",
   "execution_count": 24,
   "id": "491621d6",
   "metadata": {},
   "outputs": [],
   "source": [
    "flightDF1 = flight.dropDuplicates()"
   ]
  },
  {
   "cell_type": "code",
   "execution_count": 25,
   "id": "00d7e323",
   "metadata": {},
   "outputs": [],
   "source": [
    "new = flightDF1.count()"
   ]
  },
  {
   "cell_type": "code",
   "execution_count": 26,
   "id": "0266d23f",
   "metadata": {},
   "outputs": [],
   "source": [
    "old = flight.count()"
   ]
  },
  {
   "cell_type": "code",
   "execution_count": 27,
   "id": "a4c20fa6",
   "metadata": {},
   "outputs": [
    {
     "data": {
      "text/plain": [
       "2696983"
      ]
     },
     "execution_count": 27,
     "metadata": {},
     "output_type": "execute_result"
    }
   ],
   "source": [
    "new"
   ]
  },
  {
   "cell_type": "code",
   "execution_count": 28,
   "id": "6dc39ded",
   "metadata": {},
   "outputs": [
    {
     "data": {
      "text/plain": [
       "2719418"
      ]
     },
     "execution_count": 28,
     "metadata": {},
     "output_type": "execute_result"
    }
   ],
   "source": [
    "old"
   ]
  },
  {
   "cell_type": "code",
   "execution_count": 29,
   "id": "2a14cad1",
   "metadata": {},
   "outputs": [
    {
     "name": "stdout",
     "output_type": "stream",
     "text": [
      "0.8249927006440348\n"
     ]
    }
   ],
   "source": [
    "def calculate_per(df1,df2):\n",
    "    return((df1-df2)/df1) * 100\n",
    "\n",
    "print(calculate_per(old,new))"
   ]
  },
  {
   "cell_type": "code",
   "execution_count": 30,
   "id": "b7b843c5",
   "metadata": {},
   "outputs": [
    {
     "name": "stdout",
     "output_type": "stream",
     "text": [
      "+----------+---------+-------+---------------+-------------+--------+--------+----------+-----------+-----+--------------------+\n",
      "|DayofMonth|DayOfWeek|Carrier|OriginAirportID|DestAirportID|DepDelay|ArrDelay|airport_id|       city|state|                name|\n",
      "+----------+---------+-------+---------------+-------------+--------+--------+----------+-----------+-----+--------------------+\n",
      "|         8|        1|     DL|          10140|        10397|      -3|     -10|     10140|Albuquerque|   NM|Albuquerque Inter...|\n",
      "|        13|        1|     WN|          10140|        11292|      -1|      -2|     10140|Albuquerque|   NM|Albuquerque Inter...|\n",
      "|        25|        4|     WN|          10140|        11292|       7|      -2|     10140|Albuquerque|   NM|Albuquerque Inter...|\n",
      "|         6|        6|     WN|          10140|        11292|       0|      -5|     10140|Albuquerque|   NM|Albuquerque Inter...|\n",
      "|        28|        2|     AA|          10140|        11298|      -9|     -17|     10140|Albuquerque|   NM|Albuquerque Inter...|\n",
      "|        15|        3|     AA|          10140|        11298|      31|      43|     10140|Albuquerque|   NM|Albuquerque Inter...|\n",
      "|        28|        7|     AA|          10140|        11298|      -5|       4|     10140|Albuquerque|   NM|Albuquerque Inter...|\n",
      "|        14|        2|     WN|          10140|        12191|      14|      12|     10140|Albuquerque|   NM|Albuquerque Inter...|\n",
      "|        19|        5|     WN|          10140|        12191|      60|      45|     10140|Albuquerque|   NM|Albuquerque Inter...|\n",
      "|         9|        2|     OO|          10140|        12266|      -8|      -6|     10140|Albuquerque|   NM|Albuquerque Inter...|\n",
      "|        14|        2|     WN|          10140|        12889|      -4|     -13|     10140|Albuquerque|   NM|Albuquerque Inter...|\n",
      "|        29|        1|     WN|          10140|        12892|      25|      10|     10140|Albuquerque|   NM|Albuquerque Inter...|\n",
      "|        23|        4|     OO|          10140|        12892|      -2|      -4|     10140|Albuquerque|   NM|Albuquerque Inter...|\n",
      "|        10|        5|     MQ|          10140|        12892|      -7|     -25|     10140|Albuquerque|   NM|Albuquerque Inter...|\n",
      "|        22|        3|     WN|          10140|        13198|      -2|      35|     10140|Albuquerque|   NM|Albuquerque Inter...|\n",
      "|         9|        2|     WN|          10140|        13232|       0|     -13|     10140|Albuquerque|   NM|Albuquerque Inter...|\n",
      "|         6|        6|     WN|          10140|        13232|      -3|      11|     10140|Albuquerque|   NM|Albuquerque Inter...|\n",
      "|        24|        3|     DL|          10140|        13487|      -6|     -13|     10140|Albuquerque|   NM|Albuquerque Inter...|\n",
      "|         5|        7|     WN|          10140|        14057|      -2|     -16|     10140|Albuquerque|   NM|Albuquerque Inter...|\n",
      "|        18|        6|     WN|          10140|        14107|      19|      25|     10140|Albuquerque|   NM|Albuquerque Inter...|\n",
      "+----------+---------+-------+---------------+-------------+--------+--------+----------+-----------+-----+--------------------+\n",
      "only showing top 20 rows\n",
      "\n"
     ]
    }
   ],
   "source": [
    "flight_data = flight_airportDF.dropDuplicates().fillna(0, subset=['DepDelay','ArrDelay'])\n",
    "flight_data.show()"
   ]
  },
  {
   "cell_type": "code",
   "execution_count": 32,
   "id": "3eade633",
   "metadata": {},
   "outputs": [
    {
     "name": "stdout",
     "output_type": "stream",
     "text": [
      "+----+\n",
      "|mean|\n",
      "+----+\n",
      "|11.0|\n",
      "+----+\n",
      "\n"
     ]
    }
   ],
   "source": [
    "flight_data.select(round(mean(col('DepDelay'))).alias('mean')).show()"
   ]
  },
  {
   "cell_type": "code",
   "execution_count": 34,
   "id": "4ca2b735",
   "metadata": {},
   "outputs": [
    {
     "name": "stdout",
     "output_type": "stream",
     "text": [
      "+-------+\n",
      "|STD DEV|\n",
      "+-------+\n",
      "|   36.0|\n",
      "+-------+\n",
      "\n"
     ]
    }
   ],
   "source": [
    "from pyspark.sql.functions import stddev\n",
    "flight_data.select(round(stddev(col('DepDelay'))).alias('STD DEV')).show()"
   ]
  },
  {
   "cell_type": "code",
   "execution_count": 39,
   "id": "b02c265a",
   "metadata": {},
   "outputs": [
    {
     "data": {
      "text/plain": [
       "36.0"
      ]
     },
     "execution_count": 39,
     "metadata": {},
     "output_type": "execute_result"
    }
   ],
   "source": [
    "from pyspark.sql.functions import stddev\n",
    "flight_data.select(round(stddev(col('DepDelay'))).alias('std dev')).collect()[0][0]"
   ]
  },
  {
   "cell_type": "markdown",
   "id": "daacedfe",
   "metadata": {},
   "source": [
    "## 11.GroupBy() and Agg()"
   ]
  },
  {
   "cell_type": "code",
   "execution_count": 40,
   "id": "3bbf0ea3",
   "metadata": {},
   "outputs": [
    {
     "data": {
      "text/plain": [
       "<pyspark.sql.group.GroupedData at 0x7fdbca6b1048>"
      ]
     },
     "execution_count": 40,
     "metadata": {},
     "output_type": "execute_result"
    }
   ],
   "source": [
    "flight_data.groupBy(\"Carrier\")"
   ]
  },
  {
   "cell_type": "code",
   "execution_count": 41,
   "id": "be479c2c",
   "metadata": {},
   "outputs": [
    {
     "name": "stdout",
     "output_type": "stream",
     "text": [
      "+-------+------------------+\n",
      "|Carrier|         Avg Delay|\n",
      "+-------+------------------+\n",
      "|     UA| 12.56328450054194|\n",
      "|     AA|12.047073483091621|\n",
      "|     EV|14.201382793318832|\n",
      "|     B6| 12.62300717948718|\n",
      "|     DL|  7.44057536536854|\n",
      "|     OO| 7.852680109497053|\n",
      "|     F9|12.124132527423326|\n",
      "|     YV| 9.400170648464163|\n",
      "|     US| 4.982146766542894|\n",
      "|     MQ|15.197729076913472|\n",
      "|     HA|1.5346074380165289|\n",
      "|     AS|0.6593429038281979|\n",
      "|     FL|10.165958089647582|\n",
      "|     VX|14.391637389851985|\n",
      "|     WN|12.860663548314177|\n",
      "|     9E| 9.546332530604055|\n",
      "+-------+------------------+\n",
      "\n"
     ]
    }
   ],
   "source": [
    "flight_data.groupBy(\"Carrier\").agg(mean('DepDelay').alias('Avg Delay')).show()"
   ]
  },
  {
   "cell_type": "markdown",
   "id": "51208409",
   "metadata": {},
   "source": [
    "#### 12.Calcualte Median\n",
    "      * By using ApproxQuantile(),expr"
   ]
  },
  {
   "cell_type": "code",
   "execution_count": 44,
   "id": "13ddb4c0",
   "metadata": {},
   "outputs": [
    {
     "data": {
      "text/plain": [
       "-3.0"
      ]
     },
     "execution_count": 44,
     "metadata": {},
     "output_type": "execute_result"
    }
   ],
   "source": [
    "flight_data.approxQuantile('ArrDelay',[0.5], 0.001)[0]"
   ]
  },
  {
   "cell_type": "code",
   "execution_count": 49,
   "id": "b64735ed",
   "metadata": {},
   "outputs": [
    {
     "data": {
      "text/plain": [
       "-3"
      ]
     },
     "execution_count": 49,
     "metadata": {},
     "output_type": "execute_result"
    }
   ],
   "source": [
    "from pyspark.sql.functions import expr\n",
    "meadian_expr = expr(f\"percentile_approx({'ArrDelay'}, 0.5)\")\n",
    "flight_data.agg(meadian_expr.alias('meadian')).collect()[0][0]"
   ]
  },
  {
   "cell_type": "markdown",
   "id": "00221e38",
   "metadata": {},
   "source": [
    "### Spark SQL"
   ]
  },
  {
   "cell_type": "code",
   "execution_count": 50,
   "id": "bb43cbf5",
   "metadata": {},
   "outputs": [],
   "source": [
    "flight_data.createOrReplaceTempView(\"Flights\")  #Create a temporary table using spark dataframe."
   ]
  },
  {
   "cell_type": "code",
   "execution_count": 51,
   "id": "45392bc6",
   "metadata": {},
   "outputs": [
    {
     "name": "stdout",
     "output_type": "stream",
     "text": [
      "+----------+---------+-------+---------------+-------------+--------+--------+----------+-----------+-----+--------------------+\n",
      "|DayofMonth|DayOfWeek|Carrier|OriginAirportID|DestAirportID|DepDelay|ArrDelay|airport_id|       city|state|                name|\n",
      "+----------+---------+-------+---------------+-------------+--------+--------+----------+-----------+-----+--------------------+\n",
      "|         8|        1|     DL|          10140|        10397|      -3|     -10|     10140|Albuquerque|   NM|Albuquerque Inter...|\n",
      "|        13|        1|     WN|          10140|        11292|      -1|      -2|     10140|Albuquerque|   NM|Albuquerque Inter...|\n",
      "|        25|        4|     WN|          10140|        11292|       7|      -2|     10140|Albuquerque|   NM|Albuquerque Inter...|\n",
      "|         6|        6|     WN|          10140|        11292|       0|      -5|     10140|Albuquerque|   NM|Albuquerque Inter...|\n",
      "|        28|        2|     AA|          10140|        11298|      -9|     -17|     10140|Albuquerque|   NM|Albuquerque Inter...|\n",
      "|        15|        3|     AA|          10140|        11298|      31|      43|     10140|Albuquerque|   NM|Albuquerque Inter...|\n",
      "|        28|        7|     AA|          10140|        11298|      -5|       4|     10140|Albuquerque|   NM|Albuquerque Inter...|\n",
      "|        14|        2|     WN|          10140|        12191|      14|      12|     10140|Albuquerque|   NM|Albuquerque Inter...|\n",
      "|        19|        5|     WN|          10140|        12191|      60|      45|     10140|Albuquerque|   NM|Albuquerque Inter...|\n",
      "|         9|        2|     OO|          10140|        12266|      -8|      -6|     10140|Albuquerque|   NM|Albuquerque Inter...|\n",
      "+----------+---------+-------+---------------+-------------+--------+--------+----------+-----------+-----+--------------------+\n",
      "\n"
     ]
    }
   ],
   "source": [
    "spark.sql(\"select * from Flights limit 10\").show()"
   ]
  },
  {
   "cell_type": "code",
   "execution_count": 80,
   "id": "24514fff",
   "metadata": {},
   "outputs": [
    {
     "name": "stdout",
     "output_type": "stream",
     "text": [
      "+-------+------------+\n",
      "|carrier|flight_Count|\n",
      "+-------+------------+\n",
      "|     WN|      575090|\n",
      "|     DL|      381601|\n",
      "|     AA|      288910|\n",
      "|     UA|      286010|\n",
      "|     US|      232955|\n",
      "|     OO|      159639|\n",
      "|     EV|      157218|\n",
      "|     B6|      121875|\n",
      "|     MQ|      112113|\n",
      "|     FL|       92674|\n",
      "|     9E|       79728|\n",
      "|     AS|       68544|\n",
      "|     YV|       52740|\n",
      "|     F9|       35736|\n",
      "|     VX|       34726|\n",
      "|     HA|       17424|\n",
      "+-------+------------+\n",
      "\n"
     ]
    }
   ],
   "source": [
    "#Query to show total count of Flights  by Each Carrier in desc\n",
    "#Query to Compute median DepDelay for each carrier\n",
    "#Find the most busiest airport.\n",
    "\n",
    "spark.sql(\"select carrier, count(*) as flight_Count from Flights group By Carrier order by flight_Count Desc\").show()"
   ]
  },
  {
   "cell_type": "code",
   "execution_count": 81,
   "id": "488ff56f",
   "metadata": {},
   "outputs": [
    {
     "name": "stdout",
     "output_type": "stream",
     "text": [
      "+-------+------+\n",
      "|carrier|median|\n",
      "+-------+------+\n",
      "|     UA|    12|\n",
      "|     AA|    14|\n",
      "|     EV|    24|\n",
      "|     B6|    21|\n",
      "|     DL|    13|\n",
      "|     OO|    17|\n",
      "|     F9|    14|\n",
      "|     YV|    19|\n",
      "|     US|    12|\n",
      "|     MQ|    24|\n",
      "|     HA|     6|\n",
      "|     AS|     9|\n",
      "|     FL|    13|\n",
      "|     VX|    15|\n",
      "|     WN|    12|\n",
      "|     9E|    22|\n",
      "+-------+------+\n",
      "\n"
     ]
    }
   ],
   "source": [
    "spark.sql(\"select carrier, percentile_approx(DepDelay, 0.5) as median from Flights where DepDelay > 0 group by Carrier\").show()"
   ]
  },
  {
   "cell_type": "code",
   "execution_count": null,
   "id": "7e4ec6c2",
   "metadata": {},
   "outputs": [],
   "source": []
  }
 ],
 "metadata": {
  "kernelspec": {
   "display_name": "Python 3",
   "language": "python",
   "name": "python3"
  },
  "language_info": {
   "codemirror_mode": {
    "name": "ipython",
    "version": 3
   },
   "file_extension": ".py",
   "mimetype": "text/x-python",
   "name": "python",
   "nbconvert_exporter": "python",
   "pygments_lexer": "ipython3",
   "version": "3.6.9"
  }
 },
 "nbformat": 4,
 "nbformat_minor": 5
}
