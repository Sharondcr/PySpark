{
 "cells": [
  {
   "cell_type": "markdown",
   "id": "f43eb0a7",
   "metadata": {},
   "source": [
    "### Problem Statement: we have provided with online e-commerce website dataset with various input features - like duration,region,month,bounce_rated etc..\n",
    "* Target : Revenue(Yes/No)\n",
    "* Goal : To create a well trained supervised model for prediction of revenue as"
   ]
  },
  {
   "cell_type": "code",
   "execution_count": 2,
   "id": "ff00c05d",
   "metadata": {},
   "outputs": [
    {
     "data": {
      "text/html": [
       "\n",
       "        <div>\n",
       "            <p><b>SparkContext</b></p>\n",
       "\n",
       "            <p><a href=\"http://10.0.2.15:4040\">Spark UI</a></p>\n",
       "\n",
       "            <dl>\n",
       "              <dt>Version</dt>\n",
       "                <dd><code>v2.4.8</code></dd>\n",
       "              <dt>Master</dt>\n",
       "                <dd><code>local[*]</code></dd>\n",
       "              <dt>AppName</dt>\n",
       "                <dd><code>PySparkShell</code></dd>\n",
       "            </dl>\n",
       "        </div>\n",
       "        "
      ],
      "text/plain": [
       "<SparkContext master=local[*] appName=PySparkShell>"
      ]
     },
     "execution_count": 2,
     "metadata": {},
     "output_type": "execute_result"
    }
   ],
   "source": [
    "sc"
   ]
  },
  {
   "cell_type": "code",
   "execution_count": 3,
   "id": "0da5756a",
   "metadata": {},
   "outputs": [
    {
     "data": {
      "text/html": [
       "\n",
       "            <div>\n",
       "                <p><b>SparkSession - hive</b></p>\n",
       "                \n",
       "        <div>\n",
       "            <p><b>SparkContext</b></p>\n",
       "\n",
       "            <p><a href=\"http://10.0.2.15:4040\">Spark UI</a></p>\n",
       "\n",
       "            <dl>\n",
       "              <dt>Version</dt>\n",
       "                <dd><code>v2.4.8</code></dd>\n",
       "              <dt>Master</dt>\n",
       "                <dd><code>local[*]</code></dd>\n",
       "              <dt>AppName</dt>\n",
       "                <dd><code>PySparkShell</code></dd>\n",
       "            </dl>\n",
       "        </div>\n",
       "        \n",
       "            </div>\n",
       "        "
      ],
      "text/plain": [
       "<pyspark.sql.session.SparkSession at 0x7f85f850c400>"
      ]
     },
     "execution_count": 3,
     "metadata": {},
     "output_type": "execute_result"
    }
   ],
   "source": [
    "spark"
   ]
  },
  {
   "cell_type": "markdown",
   "id": "3bcae234",
   "metadata": {},
   "source": [
    "### 1.Read Dataset"
   ]
  },
  {
   "cell_type": "code",
   "execution_count": 4,
   "id": "e3b4f7bc",
   "metadata": {
    "collapsed": true
   },
   "outputs": [
    {
     "data": {
      "text/plain": [
       "Row(Administrative=0, Administrative_Duration=0.0, Informational=0, Informational_Duration=0.0, ProductRelated=1, ProductRelated_Duration=0.0, BounceRates=0.2, ExitRates=0.2, PageValues=0.0, SpecialDay=0.0, Month='Feb', OperatingSystems=1, Browser=1, Region=1, TrafficType=1, VisitorType='Returning_Visitor', Weekend=False, Revenue=False)"
      ]
     },
     "execution_count": 4,
     "metadata": {},
     "output_type": "execute_result"
    }
   ],
   "source": [
    "online_data = spark.read.csv(\"file:///home/hadoop/Downloads/Online Shoppers Intention.csv\", inferSchema = True, header = True)\n",
    "online_data.head()"
   ]
  },
  {
   "cell_type": "code",
   "execution_count": 5,
   "id": "9084d41a",
   "metadata": {
    "collapsed": true
   },
   "outputs": [
    {
     "name": "stdout",
     "output_type": "stream",
     "text": [
      "+--------------+-----------------------+-------------+----------------------+--------------+-----------------------+-----------+-----------+----------+----------+-----+----------------+-------+------+-----------+-----------------+-------+-------+\n",
      "|Administrative|Administrative_Duration|Informational|Informational_Duration|ProductRelated|ProductRelated_Duration|BounceRates|  ExitRates|PageValues|SpecialDay|Month|OperatingSystems|Browser|Region|TrafficType|      VisitorType|Weekend|Revenue|\n",
      "+--------------+-----------------------+-------------+----------------------+--------------+-----------------------+-----------+-----------+----------+----------+-----+----------------+-------+------+-----------+-----------------+-------+-------+\n",
      "|             0|                    0.0|            0|                   0.0|             1|                    0.0|        0.2|        0.2|       0.0|       0.0|  Feb|               1|      1|     1|          1|Returning_Visitor|  false|  false|\n",
      "|             0|                    0.0|            0|                   0.0|             2|                   64.0|        0.0|        0.1|       0.0|       0.0|  Feb|               2|      2|     1|          2|Returning_Visitor|  false|  false|\n",
      "|             0|                   -1.0|            0|                  -1.0|             1|                   -1.0|        0.2|        0.2|       0.0|       0.0|  Feb|               4|      1|     9|          3|Returning_Visitor|  false|  false|\n",
      "|             0|                    0.0|            0|                   0.0|             2|            2.666666667|       0.05|       0.14|       0.0|       0.0|  Feb|               3|      2|     2|          4|Returning_Visitor|  false|  false|\n",
      "|             0|                    0.0|            0|                   0.0|            10|                  627.5|       0.02|       0.05|       0.0|       0.0|  Feb|               3|      3|     1|          4|Returning_Visitor|   true|  false|\n",
      "|             0|                    0.0|            0|                   0.0|            19|            154.2166667|0.015789474|0.024561404|       0.0|       0.0|  Feb|               2|      2|     1|          3|Returning_Visitor|  false|  false|\n",
      "|             0|                   -1.0|            0|                  -1.0|             1|                   -1.0|        0.2|        0.2|       0.0|       0.4|  Feb|               2|      4|     3|          3|Returning_Visitor|  false|  false|\n",
      "|             1|                   -1.0|            0|                  -1.0|             1|                   -1.0|        0.2|        0.2|       0.0|       0.0|  Feb|               1|      2|     1|          5|Returning_Visitor|   true|  false|\n",
      "|             0|                    0.0|            0|                   0.0|             2|                   37.0|        0.0|        0.1|       0.0|       0.8|  Feb|               2|      2|     2|          3|Returning_Visitor|  false|  false|\n",
      "|             0|                    0.0|            0|                   0.0|             3|                  738.0|        0.0|0.022222222|       0.0|       0.4|  Feb|               2|      4|     1|          2|Returning_Visitor|  false|  false|\n",
      "|             0|                    0.0|            0|                   0.0|             3|                  395.0|        0.0|0.066666667|       0.0|       0.0|  Feb|               1|      1|     3|          3|Returning_Visitor|  false|  false|\n",
      "|             0|                    0.0|            0|                   0.0|            16|                 407.75|    0.01875|0.025833333|       0.0|       0.4|  Feb|               1|      1|     4|          3|Returning_Visitor|  false|  false|\n",
      "|             0|                    0.0|            0|                   0.0|             7|                  280.5|        0.0|0.028571429|       0.0|       0.0|  Feb|               1|      1|     1|          3|Returning_Visitor|  false|  false|\n",
      "|             0|                    0.0|            0|                   0.0|             6|                   98.0|        0.0|0.066666667|       0.0|       0.0|  Feb|               2|      5|     1|          3|Returning_Visitor|  false|  false|\n",
      "|             0|                    0.0|            0|                   0.0|             2|                   68.0|        0.0|        0.1|       0.0|       0.0|  Feb|               3|      2|     3|          3|Returning_Visitor|  false|  false|\n",
      "|             2|                   53.0|            0|                   0.0|            23|            1668.285119|0.008333333|0.016312636|       0.0|       0.0|  Feb|               1|      1|     9|          3|Returning_Visitor|  false|  false|\n",
      "|             0|                   -1.0|            0|                  -1.0|             1|                   -1.0|        0.2|        0.2|       0.0|       0.0|  Feb|               1|      1|     4|          3|Returning_Visitor|  false|  false|\n",
      "|             0|                    0.0|            0|                   0.0|            13|            334.9666667|        0.0|0.007692308|       0.0|       0.0|  Feb|               1|      1|     1|          4|Returning_Visitor|   true|  false|\n",
      "|             0|                    0.0|            0|                   0.0|             2|                   32.0|        0.0|        0.1|       0.0|       0.0|  Feb|               2|      2|     1|          3|Returning_Visitor|  false|  false|\n",
      "|             0|                    0.0|            0|                   0.0|            20|            2981.166667|        0.0|       0.01|       0.0|       0.0|  Feb|               2|      4|     4|          4|Returning_Visitor|  false|  false|\n",
      "+--------------+-----------------------+-------------+----------------------+--------------+-----------------------+-----------+-----------+----------+----------+-----+----------------+-------+------+-----------+-----------------+-------+-------+\n",
      "only showing top 20 rows\n",
      "\n"
     ]
    }
   ],
   "source": [
    "online_data.show()"
   ]
  },
  {
   "cell_type": "markdown",
   "id": "1fbb9006",
   "metadata": {},
   "source": [
    "### 2. Show Schema Of DataFrame"
   ]
  },
  {
   "cell_type": "code",
   "execution_count": 6,
   "id": "7791ec32",
   "metadata": {
    "collapsed": true
   },
   "outputs": [
    {
     "data": {
      "text/plain": [
       "DataFrame[Administrative: int, Administrative_Duration: double, Informational: int, Informational_Duration: double, ProductRelated: int, ProductRelated_Duration: double, BounceRates: double, ExitRates: double, PageValues: double, SpecialDay: double, Month: string, OperatingSystems: int, Browser: int, Region: int, TrafficType: int, VisitorType: string, Weekend: boolean, Revenue: boolean]"
      ]
     },
     "execution_count": 6,
     "metadata": {},
     "output_type": "execute_result"
    }
   ],
   "source": [
    "online_data.cache()"
   ]
  },
  {
   "cell_type": "code",
   "execution_count": 7,
   "id": "e6e77f60",
   "metadata": {
    "collapsed": true
   },
   "outputs": [
    {
     "name": "stdout",
     "output_type": "stream",
     "text": [
      "root\n",
      " |-- Administrative: integer (nullable = true)\n",
      " |-- Administrative_Duration: double (nullable = true)\n",
      " |-- Informational: integer (nullable = true)\n",
      " |-- Informational_Duration: double (nullable = true)\n",
      " |-- ProductRelated: integer (nullable = true)\n",
      " |-- ProductRelated_Duration: double (nullable = true)\n",
      " |-- BounceRates: double (nullable = true)\n",
      " |-- ExitRates: double (nullable = true)\n",
      " |-- PageValues: double (nullable = true)\n",
      " |-- SpecialDay: double (nullable = true)\n",
      " |-- Month: string (nullable = true)\n",
      " |-- OperatingSystems: integer (nullable = true)\n",
      " |-- Browser: integer (nullable = true)\n",
      " |-- Region: integer (nullable = true)\n",
      " |-- TrafficType: integer (nullable = true)\n",
      " |-- VisitorType: string (nullable = true)\n",
      " |-- Weekend: boolean (nullable = true)\n",
      " |-- Revenue: boolean (nullable = true)\n",
      "\n"
     ]
    }
   ],
   "source": [
    "online_data.printSchema()"
   ]
  },
  {
   "cell_type": "markdown",
   "id": "05b5f3f8",
   "metadata": {},
   "source": [
    "### 3.Data Wrangling\n",
    "        * Is there any missing value?"
   ]
  },
  {
   "cell_type": "code",
   "execution_count": 8,
   "id": "61d5fb5b",
   "metadata": {},
   "outputs": [],
   "source": [
    "from pyspark.sql.functions import *"
   ]
  },
  {
   "cell_type": "code",
   "execution_count": 9,
   "id": "01876336",
   "metadata": {},
   "outputs": [
    {
     "name": "stdout",
     "output_type": "stream",
     "text": [
      "+--------------+-----------------------+-------------+----------------------+--------------+-----------------------+-----------+---------+----------+----------+-----+----------------+-------+------+-----------+-----------+-------+-------+\n",
      "|Administrative|Administrative_Duration|Informational|Informational_Duration|ProductRelated|ProductRelated_Duration|BounceRates|ExitRates|PageValues|SpecialDay|Month|OperatingSystems|Browser|Region|TrafficType|VisitorType|Weekend|Revenue|\n",
      "+--------------+-----------------------+-------------+----------------------+--------------+-----------------------+-----------+---------+----------+----------+-----+----------------+-------+------+-----------+-----------+-------+-------+\n",
      "|            14|                     14|           14|                    14|            14|                     14|         14|       14|         0|         0|    0|               0|      0|     0|          0|          0|      0|      0|\n",
      "+--------------+-----------------------+-------------+----------------------+--------------+-----------------------+-----------+---------+----------+----------+-----+----------------+-------+------+-----------+-----------+-------+-------+\n",
      "\n"
     ]
    }
   ],
   "source": [
    "online_data.select([count(when(isnull(col), col)).alias(col) for col in online_data.columns]).show()"
   ]
  },
  {
   "cell_type": "code",
   "execution_count": 10,
   "id": "1276ebb7",
   "metadata": {},
   "outputs": [],
   "source": [
    "#Drop rows with any null values in any column\n",
    "\n",
    "shopper_df = online_data.na.drop()"
   ]
  },
  {
   "cell_type": "code",
   "execution_count": 11,
   "id": "f7beaad0",
   "metadata": {},
   "outputs": [
    {
     "data": {
      "text/plain": [
       "12316"
      ]
     },
     "execution_count": 11,
     "metadata": {},
     "output_type": "execute_result"
    }
   ],
   "source": [
    "shopper_df.count()"
   ]
  },
  {
   "cell_type": "code",
   "execution_count": 19,
   "id": "8ead8a20",
   "metadata": {
    "collapsed": true
   },
   "outputs": [
    {
     "name": "stdout",
     "output_type": "stream",
     "text": [
      "Defaulting to user installation because normal site-packages is not writeable\n",
      "Requirement already satisfied: numpy in ./.local/lib/python3.6/site-packages (1.19.5)\n",
      "Requirement already satisfied: pandas in ./.local/lib/python3.6/site-packages (1.1.5)\n",
      "Requirement already satisfied: matplotlib in ./.local/lib/python3.6/site-packages (3.3.4)\n",
      "Requirement already satisfied: seaborn in ./.local/lib/python3.6/site-packages (0.11.2)\n",
      "Requirement already satisfied: pytz>=2017.2 in /usr/lib/python3/dist-packages (from pandas) (2018.3)\n",
      "Requirement already satisfied: python-dateutil>=2.7.3 in ./.local/lib/python3.6/site-packages (from pandas) (2.9.0.post0)\n",
      "Requirement already satisfied: cycler>=0.10 in ./.local/lib/python3.6/site-packages (from matplotlib) (0.11.0)\n",
      "Requirement already satisfied: kiwisolver>=1.0.1 in ./.local/lib/python3.6/site-packages (from matplotlib) (1.3.1)\n",
      "Requirement already satisfied: pyparsing!=2.0.4,!=2.1.2,!=2.1.6,>=2.0.3 in ./.local/lib/python3.6/site-packages (from matplotlib) (3.0.9)\n",
      "Requirement already satisfied: pillow>=6.2.0 in ./.local/lib/python3.6/site-packages (from matplotlib) (8.4.0)\n",
      "Requirement already satisfied: scipy>=1.0 in ./.local/lib/python3.6/site-packages (from seaborn) (1.5.4)\n",
      "Requirement already satisfied: six>=1.5 in /usr/lib/python3/dist-packages (from python-dateutil>=2.7.3->pandas) (1.11.0)\n"
     ]
    }
   ],
   "source": [
    "!pip install numpy pandas matplotlib seaborn"
   ]
  },
  {
   "cell_type": "code",
   "execution_count": 12,
   "id": "950963be",
   "metadata": {
    "collapsed": true
   },
   "outputs": [
    {
     "data": {
      "text/html": [
       "<div>\n",
       "<style scoped>\n",
       "    .dataframe tbody tr th:only-of-type {\n",
       "        vertical-align: middle;\n",
       "    }\n",
       "\n",
       "    .dataframe tbody tr th {\n",
       "        vertical-align: top;\n",
       "    }\n",
       "\n",
       "    .dataframe thead th {\n",
       "        text-align: right;\n",
       "    }\n",
       "</style>\n",
       "<table border=\"1\" class=\"dataframe\">\n",
       "  <thead>\n",
       "    <tr style=\"text-align: right;\">\n",
       "      <th></th>\n",
       "      <th>Administrative</th>\n",
       "      <th>Administrative_Duration</th>\n",
       "      <th>Informational</th>\n",
       "      <th>Informational_Duration</th>\n",
       "      <th>ProductRelated</th>\n",
       "      <th>ProductRelated_Duration</th>\n",
       "      <th>BounceRates</th>\n",
       "      <th>ExitRates</th>\n",
       "      <th>PageValues</th>\n",
       "      <th>SpecialDay</th>\n",
       "      <th>Month</th>\n",
       "      <th>OperatingSystems</th>\n",
       "      <th>Browser</th>\n",
       "      <th>Region</th>\n",
       "      <th>TrafficType</th>\n",
       "      <th>VisitorType</th>\n",
       "      <th>Weekend</th>\n",
       "      <th>Revenue</th>\n",
       "    </tr>\n",
       "  </thead>\n",
       "  <tbody>\n",
       "    <tr>\n",
       "      <th>0</th>\n",
       "      <td>0</td>\n",
       "      <td>0.0</td>\n",
       "      <td>0</td>\n",
       "      <td>0.0</td>\n",
       "      <td>1</td>\n",
       "      <td>0.000000</td>\n",
       "      <td>0.20</td>\n",
       "      <td>0.20</td>\n",
       "      <td>0.0</td>\n",
       "      <td>0.0</td>\n",
       "      <td>Feb</td>\n",
       "      <td>1</td>\n",
       "      <td>1</td>\n",
       "      <td>1</td>\n",
       "      <td>1</td>\n",
       "      <td>Returning_Visitor</td>\n",
       "      <td>False</td>\n",
       "      <td>False</td>\n",
       "    </tr>\n",
       "    <tr>\n",
       "      <th>1</th>\n",
       "      <td>0</td>\n",
       "      <td>0.0</td>\n",
       "      <td>0</td>\n",
       "      <td>0.0</td>\n",
       "      <td>2</td>\n",
       "      <td>64.000000</td>\n",
       "      <td>0.00</td>\n",
       "      <td>0.10</td>\n",
       "      <td>0.0</td>\n",
       "      <td>0.0</td>\n",
       "      <td>Feb</td>\n",
       "      <td>2</td>\n",
       "      <td>2</td>\n",
       "      <td>1</td>\n",
       "      <td>2</td>\n",
       "      <td>Returning_Visitor</td>\n",
       "      <td>False</td>\n",
       "      <td>False</td>\n",
       "    </tr>\n",
       "    <tr>\n",
       "      <th>2</th>\n",
       "      <td>0</td>\n",
       "      <td>-1.0</td>\n",
       "      <td>0</td>\n",
       "      <td>-1.0</td>\n",
       "      <td>1</td>\n",
       "      <td>-1.000000</td>\n",
       "      <td>0.20</td>\n",
       "      <td>0.20</td>\n",
       "      <td>0.0</td>\n",
       "      <td>0.0</td>\n",
       "      <td>Feb</td>\n",
       "      <td>4</td>\n",
       "      <td>1</td>\n",
       "      <td>9</td>\n",
       "      <td>3</td>\n",
       "      <td>Returning_Visitor</td>\n",
       "      <td>False</td>\n",
       "      <td>False</td>\n",
       "    </tr>\n",
       "    <tr>\n",
       "      <th>3</th>\n",
       "      <td>0</td>\n",
       "      <td>0.0</td>\n",
       "      <td>0</td>\n",
       "      <td>0.0</td>\n",
       "      <td>2</td>\n",
       "      <td>2.666667</td>\n",
       "      <td>0.05</td>\n",
       "      <td>0.14</td>\n",
       "      <td>0.0</td>\n",
       "      <td>0.0</td>\n",
       "      <td>Feb</td>\n",
       "      <td>3</td>\n",
       "      <td>2</td>\n",
       "      <td>2</td>\n",
       "      <td>4</td>\n",
       "      <td>Returning_Visitor</td>\n",
       "      <td>False</td>\n",
       "      <td>False</td>\n",
       "    </tr>\n",
       "    <tr>\n",
       "      <th>4</th>\n",
       "      <td>0</td>\n",
       "      <td>0.0</td>\n",
       "      <td>0</td>\n",
       "      <td>0.0</td>\n",
       "      <td>10</td>\n",
       "      <td>627.500000</td>\n",
       "      <td>0.02</td>\n",
       "      <td>0.05</td>\n",
       "      <td>0.0</td>\n",
       "      <td>0.0</td>\n",
       "      <td>Feb</td>\n",
       "      <td>3</td>\n",
       "      <td>3</td>\n",
       "      <td>1</td>\n",
       "      <td>4</td>\n",
       "      <td>Returning_Visitor</td>\n",
       "      <td>True</td>\n",
       "      <td>False</td>\n",
       "    </tr>\n",
       "  </tbody>\n",
       "</table>\n",
       "</div>"
      ],
      "text/plain": [
       "   Administrative  Administrative_Duration  Informational  \\\n",
       "0               0                      0.0              0   \n",
       "1               0                      0.0              0   \n",
       "2               0                     -1.0              0   \n",
       "3               0                      0.0              0   \n",
       "4               0                      0.0              0   \n",
       "\n",
       "   Informational_Duration  ProductRelated  ProductRelated_Duration  \\\n",
       "0                     0.0               1                 0.000000   \n",
       "1                     0.0               2                64.000000   \n",
       "2                    -1.0               1                -1.000000   \n",
       "3                     0.0               2                 2.666667   \n",
       "4                     0.0              10               627.500000   \n",
       "\n",
       "   BounceRates  ExitRates  PageValues  SpecialDay Month  OperatingSystems  \\\n",
       "0         0.20       0.20         0.0         0.0   Feb                 1   \n",
       "1         0.00       0.10         0.0         0.0   Feb                 2   \n",
       "2         0.20       0.20         0.0         0.0   Feb                 4   \n",
       "3         0.05       0.14         0.0         0.0   Feb                 3   \n",
       "4         0.02       0.05         0.0         0.0   Feb                 3   \n",
       "\n",
       "   Browser  Region  TrafficType        VisitorType  Weekend  Revenue  \n",
       "0        1       1            1  Returning_Visitor    False    False  \n",
       "1        2       1            2  Returning_Visitor    False    False  \n",
       "2        1       9            3  Returning_Visitor    False    False  \n",
       "3        2       2            4  Returning_Visitor    False    False  \n",
       "4        3       1            4  Returning_Visitor     True    False  "
      ]
     },
     "execution_count": 12,
     "metadata": {},
     "output_type": "execute_result"
    }
   ],
   "source": [
    "shopper_df.toPandas().head()"
   ]
  },
  {
   "cell_type": "markdown",
   "id": "d644a6fe",
   "metadata": {},
   "source": [
    "#### 4.Data Preprocessing\n",
    "     * Transformation of Catergorical values into numerical dataframe"
   ]
  },
  {
   "cell_type": "code",
   "execution_count": 13,
   "id": "11990327",
   "metadata": {
    "collapsed": true
   },
   "outputs": [
    {
     "name": "stdout",
     "output_type": "stream",
     "text": [
      "+-----------------+\n",
      "|      VisitorType|\n",
      "+-----------------+\n",
      "|      New_Visitor|\n",
      "|            Other|\n",
      "|Returning_Visitor|\n",
      "+-----------------+\n",
      "\n"
     ]
    }
   ],
   "source": [
    "shopper_df.select(['VisitorType']).distinct().show()"
   ]
  },
  {
   "cell_type": "code",
   "execution_count": 14,
   "id": "6ad00528",
   "metadata": {},
   "outputs": [],
   "source": [
    "shopper_df = shopper_df.withColumn('VisitorType',regexp_replace('VisitorType','New_Visitor',\"0\"))\n",
    "shopper_df = shopper_df.withColumn('VisitorType',regexp_replace('VisitorType','Other',\"1\"))\n",
    "shopper_df = shopper_df.withColumn('VisitorType',regexp_replace('VisitorType','Returning_Visitor',\"2\"))"
   ]
  },
  {
   "cell_type": "markdown",
   "id": "b19db0d8",
   "metadata": {},
   "source": [
    "     * StringIndexer() - encode catergorical values into numerical lables as '0','1','2'....."
   ]
  },
  {
   "cell_type": "code",
   "execution_count": 15,
   "id": "8e5b9416",
   "metadata": {},
   "outputs": [],
   "source": [
    "from pyspark.ml.feature import StringIndexer, OneHotEncoder"
   ]
  },
  {
   "cell_type": "code",
   "execution_count": 16,
   "id": "0af1e170",
   "metadata": {
    "collapsed": true
   },
   "outputs": [
    {
     "name": "stdout",
     "output_type": "stream",
     "text": [
      "+--------------+-----------------------+-------------+----------------------+--------------+-----------------------+-----------+-----------+----------+----------+-----+----------------+-------+------+-----------+-----------+-------+-------+-----------+\n",
      "|Administrative|Administrative_Duration|Informational|Informational_Duration|ProductRelated|ProductRelated_Duration|BounceRates|  ExitRates|PageValues|SpecialDay|Month|OperatingSystems|Browser|Region|TrafficType|VisitorType|Weekend|Revenue|Month_index|\n",
      "+--------------+-----------------------+-------------+----------------------+--------------+-----------------------+-----------+-----------+----------+----------+-----+----------------+-------+------+-----------+-----------+-------+-------+-----------+\n",
      "|             0|                    0.0|            0|                   0.0|             1|                    0.0|        0.2|        0.2|       0.0|       0.0|  Feb|               1|      1|     1|          1|          2|  false|  false|        9.0|\n",
      "|             0|                    0.0|            0|                   0.0|             2|                   64.0|        0.0|        0.1|       0.0|       0.0|  Feb|               2|      2|     1|          2|          2|  false|  false|        9.0|\n",
      "|             0|                   -1.0|            0|                  -1.0|             1|                   -1.0|        0.2|        0.2|       0.0|       0.0|  Feb|               4|      1|     9|          3|          2|  false|  false|        9.0|\n",
      "|             0|                    0.0|            0|                   0.0|             2|            2.666666667|       0.05|       0.14|       0.0|       0.0|  Feb|               3|      2|     2|          4|          2|  false|  false|        9.0|\n",
      "|             0|                    0.0|            0|                   0.0|            10|                  627.5|       0.02|       0.05|       0.0|       0.0|  Feb|               3|      3|     1|          4|          2|   true|  false|        9.0|\n",
      "|             0|                    0.0|            0|                   0.0|            19|            154.2166667|0.015789474|0.024561404|       0.0|       0.0|  Feb|               2|      2|     1|          3|          2|  false|  false|        9.0|\n",
      "|             0|                   -1.0|            0|                  -1.0|             1|                   -1.0|        0.2|        0.2|       0.0|       0.4|  Feb|               2|      4|     3|          3|          2|  false|  false|        9.0|\n",
      "|             1|                   -1.0|            0|                  -1.0|             1|                   -1.0|        0.2|        0.2|       0.0|       0.0|  Feb|               1|      2|     1|          5|          2|   true|  false|        9.0|\n",
      "|             0|                    0.0|            0|                   0.0|             2|                   37.0|        0.0|        0.1|       0.0|       0.8|  Feb|               2|      2|     2|          3|          2|  false|  false|        9.0|\n",
      "|             0|                    0.0|            0|                   0.0|             3|                  738.0|        0.0|0.022222222|       0.0|       0.4|  Feb|               2|      4|     1|          2|          2|  false|  false|        9.0|\n",
      "|             0|                    0.0|            0|                   0.0|             3|                  395.0|        0.0|0.066666667|       0.0|       0.0|  Feb|               1|      1|     3|          3|          2|  false|  false|        9.0|\n",
      "|             0|                    0.0|            0|                   0.0|            16|                 407.75|    0.01875|0.025833333|       0.0|       0.4|  Feb|               1|      1|     4|          3|          2|  false|  false|        9.0|\n",
      "|             0|                    0.0|            0|                   0.0|             7|                  280.5|        0.0|0.028571429|       0.0|       0.0|  Feb|               1|      1|     1|          3|          2|  false|  false|        9.0|\n",
      "|             0|                    0.0|            0|                   0.0|             6|                   98.0|        0.0|0.066666667|       0.0|       0.0|  Feb|               2|      5|     1|          3|          2|  false|  false|        9.0|\n",
      "|             0|                    0.0|            0|                   0.0|             2|                   68.0|        0.0|        0.1|       0.0|       0.0|  Feb|               3|      2|     3|          3|          2|  false|  false|        9.0|\n",
      "|             2|                   53.0|            0|                   0.0|            23|            1668.285119|0.008333333|0.016312636|       0.0|       0.0|  Feb|               1|      1|     9|          3|          2|  false|  false|        9.0|\n",
      "|             0|                   -1.0|            0|                  -1.0|             1|                   -1.0|        0.2|        0.2|       0.0|       0.0|  Feb|               1|      1|     4|          3|          2|  false|  false|        9.0|\n",
      "|             0|                    0.0|            0|                   0.0|            13|            334.9666667|        0.0|0.007692308|       0.0|       0.0|  Feb|               1|      1|     1|          4|          2|   true|  false|        9.0|\n",
      "|             0|                    0.0|            0|                   0.0|             2|                   32.0|        0.0|        0.1|       0.0|       0.0|  Feb|               2|      2|     1|          3|          2|  false|  false|        9.0|\n",
      "|             0|                    0.0|            0|                   0.0|            20|            2981.166667|        0.0|       0.01|       0.0|       0.0|  Feb|               2|      4|     4|          4|          2|  false|  false|        9.0|\n",
      "+--------------+-----------------------+-------------+----------------------+--------------+-----------------------+-----------+-----------+----------+----------+-----+----------------+-------+------+-----------+-----------+-------+-------+-----------+\n",
      "only showing top 20 rows\n",
      "\n"
     ]
    }
   ],
   "source": [
    "indexer = StringIndexer(inputCol='Month',outputCol='Month_index')\n",
    "\n",
    "# Fit StringIndexer() model on the DataFrame \n",
    "shopper_df1 = indexer.fit(shopper_df).transform(shopper_df)\n",
    "shopper_df1.show()"
   ]
  },
  {
   "cell_type": "code",
   "execution_count": 17,
   "id": "4d4cba37",
   "metadata": {
    "collapsed": true
   },
   "outputs": [
    {
     "name": "stdout",
     "output_type": "stream",
     "text": [
      "root\n",
      " |-- Administrative: integer (nullable = true)\n",
      " |-- Administrative_Duration: double (nullable = true)\n",
      " |-- Informational: integer (nullable = true)\n",
      " |-- Informational_Duration: double (nullable = true)\n",
      " |-- ProductRelated: integer (nullable = true)\n",
      " |-- ProductRelated_Duration: double (nullable = true)\n",
      " |-- BounceRates: double (nullable = true)\n",
      " |-- ExitRates: double (nullable = true)\n",
      " |-- PageValues: double (nullable = true)\n",
      " |-- SpecialDay: double (nullable = true)\n",
      " |-- Month: string (nullable = true)\n",
      " |-- OperatingSystems: integer (nullable = true)\n",
      " |-- Browser: integer (nullable = true)\n",
      " |-- Region: integer (nullable = true)\n",
      " |-- TrafficType: integer (nullable = true)\n",
      " |-- VisitorType: string (nullable = true)\n",
      " |-- Weekend: boolean (nullable = true)\n",
      " |-- Revenue: boolean (nullable = true)\n",
      " |-- Month_index: double (nullable = false)\n",
      "\n"
     ]
    }
   ],
   "source": [
    "shopper_df1.printSchema()"
   ]
  },
  {
   "cell_type": "code",
   "execution_count": 18,
   "id": "e3c71804",
   "metadata": {},
   "outputs": [],
   "source": [
    "shopper_df2 = shopper_df1.drop('Month')"
   ]
  },
  {
   "cell_type": "code",
   "execution_count": 19,
   "id": "7d118836",
   "metadata": {},
   "outputs": [],
   "source": [
    "from pyspark.sql.types import IntegerType\n",
    "shopper_df2 = shopper_df2.withColumn('VisitorType',col('VisitorType').cast(\"integer\"))"
   ]
  },
  {
   "cell_type": "markdown",
   "id": "55411ce4",
   "metadata": {},
   "source": [
    "### 5. Features Vector"
   ]
  },
  {
   "cell_type": "code",
   "execution_count": 20,
   "id": "9a182221",
   "metadata": {},
   "outputs": [],
   "source": [
    "from pyspark.ml.feature import VectorAssembler"
   ]
  },
  {
   "cell_type": "code",
   "execution_count": 21,
   "id": "87344664",
   "metadata": {
    "collapsed": true
   },
   "outputs": [
    {
     "name": "stdout",
     "output_type": "stream",
     "text": [
      "['Administrative', 'Administrative_Duration', 'Informational', 'Informational_Duration', 'ProductRelated', 'ProductRelated_Duration', 'BounceRates', 'ExitRates', 'PageValues', 'SpecialDay', 'OperatingSystems', 'Browser', 'Region', 'TrafficType', 'VisitorType', 'Weekend', 'Revenue', 'Month_index']\n"
     ]
    }
   ],
   "source": [
    "print(shopper_df2.columns)"
   ]
  },
  {
   "cell_type": "code",
   "execution_count": 22,
   "id": "58dfc1b9",
   "metadata": {},
   "outputs": [],
   "source": [
    "vector_assembler = VectorAssembler(inputCols=['Administrative', 'Administrative_Duration', 'Informational', 'Informational_Duration', 'ProductRelated', \n",
    "                                               'ProductRelated_Duration', 'BounceRates', 'ExitRates', 'PageValues', 'SpecialDay', 'OperatingSystems', 'Browser', \n",
    "                                               'Region', 'TrafficType', 'VisitorType', 'Weekend', 'Month_index'],outputCol='feature')"
   ]
  },
  {
   "cell_type": "code",
   "execution_count": 24,
   "id": "e3d0ae0b",
   "metadata": {
    "collapsed": true
   },
   "outputs": [
    {
     "name": "stdout",
     "output_type": "stream",
     "text": [
      "+---------------------------------------------------------------------------------------------------+\n",
      "|feature                                                                                            |\n",
      "+---------------------------------------------------------------------------------------------------+\n",
      "|(17,[4,6,7,10,11,12,13,14,16],[1.0,0.2,0.2,1.0,1.0,1.0,1.0,2.0,9.0])                               |\n",
      "|(17,[4,5,7,10,11,12,13,14,16],[2.0,64.0,0.1,2.0,2.0,1.0,2.0,2.0,9.0])                              |\n",
      "|[0.0,-1.0,0.0,-1.0,1.0,-1.0,0.2,0.2,0.0,0.0,4.0,1.0,9.0,3.0,2.0,0.0,9.0]                           |\n",
      "|(17,[4,5,6,7,10,11,12,13,14,16],[2.0,2.666666667,0.05,0.14,3.0,2.0,2.0,4.0,2.0,9.0])               |\n",
      "|[0.0,0.0,0.0,0.0,10.0,627.5,0.02,0.05,0.0,0.0,3.0,3.0,1.0,4.0,2.0,1.0,9.0]                         |\n",
      "|(17,[4,5,6,7,10,11,12,13,14,16],[19.0,154.2166667,0.015789474,0.024561404,2.0,2.0,1.0,3.0,2.0,9.0])|\n",
      "|[0.0,-1.0,0.0,-1.0,1.0,-1.0,0.2,0.2,0.0,0.4,2.0,4.0,3.0,3.0,2.0,0.0,9.0]                           |\n",
      "|[1.0,-1.0,0.0,-1.0,1.0,-1.0,0.2,0.2,0.0,0.0,1.0,2.0,1.0,5.0,2.0,1.0,9.0]                           |\n",
      "|(17,[4,5,7,9,10,11,12,13,14,16],[2.0,37.0,0.1,0.8,2.0,2.0,2.0,3.0,2.0,9.0])                        |\n",
      "|(17,[4,5,7,9,10,11,12,13,14,16],[3.0,738.0,0.022222222,0.4,2.0,4.0,1.0,2.0,2.0,9.0])               |\n",
      "|(17,[4,5,7,10,11,12,13,14,16],[3.0,395.0,0.066666667,1.0,1.0,3.0,3.0,2.0,9.0])                     |\n",
      "|[0.0,0.0,0.0,0.0,16.0,407.75,0.01875,0.025833333,0.0,0.4,1.0,1.0,4.0,3.0,2.0,0.0,9.0]              |\n",
      "|(17,[4,5,7,10,11,12,13,14,16],[7.0,280.5,0.028571429,1.0,1.0,1.0,3.0,2.0,9.0])                     |\n",
      "|(17,[4,5,7,10,11,12,13,14,16],[6.0,98.0,0.066666667,2.0,5.0,1.0,3.0,2.0,9.0])                      |\n",
      "|(17,[4,5,7,10,11,12,13,14,16],[2.0,68.0,0.1,3.0,2.0,3.0,3.0,2.0,9.0])                              |\n",
      "|[2.0,53.0,0.0,0.0,23.0,1668.285119,0.008333333,0.016312636,0.0,0.0,1.0,1.0,9.0,3.0,2.0,0.0,9.0]    |\n",
      "|[0.0,-1.0,0.0,-1.0,1.0,-1.0,0.2,0.2,0.0,0.0,1.0,1.0,4.0,3.0,2.0,0.0,9.0]                           |\n",
      "|(17,[4,5,7,10,11,12,13,14,15,16],[13.0,334.9666667,0.007692308,1.0,1.0,1.0,4.0,2.0,1.0,9.0])       |\n",
      "|(17,[4,5,7,10,11,12,13,14,16],[2.0,32.0,0.1,2.0,2.0,1.0,3.0,2.0,9.0])                              |\n",
      "|(17,[4,5,7,10,11,12,13,14,16],[20.0,2981.166667,0.01,2.0,4.0,4.0,4.0,2.0,9.0])                     |\n",
      "+---------------------------------------------------------------------------------------------------+\n",
      "only showing top 20 rows\n",
      "\n"
     ]
    }
   ],
   "source": [
    "shopper_df3 = vector_assembler.transform(shopper_df2)\n",
    "shopper_df3.select(['feature']).show(truncate=False)"
   ]
  },
  {
   "cell_type": "markdown",
   "id": "22498dcb",
   "metadata": {},
   "source": [
    "### 6.Split Dataset into Train & Test\n",
    "         * randomSplit()"
   ]
  },
  {
   "cell_type": "code",
   "execution_count": 29,
   "id": "729be323",
   "metadata": {},
   "outputs": [],
   "source": [
    "shopper_df3 = shopper_df3.withColumn('Revenue',col('Revenue').cast(\"integer\"))"
   ]
  },
  {
   "cell_type": "code",
   "execution_count": 30,
   "id": "e3d8693a",
   "metadata": {},
   "outputs": [],
   "source": [
    "train, test = shopper_df3.randomSplit([0.8,0.2],seed=123)"
   ]
  },
  {
   "cell_type": "code",
   "execution_count": 31,
   "id": "fa614c90",
   "metadata": {
    "collapsed": true
   },
   "outputs": [
    {
     "name": "stdout",
     "output_type": "stream",
     "text": [
      "+--------------+-----------------------+-------------+----------------------+--------------+-----------------------+-----------+-----------+----------+----------+----------------+-------+------+-----------+-----------+-------+-------+-----------+--------------------+\n",
      "|Administrative|Administrative_Duration|Informational|Informational_Duration|ProductRelated|ProductRelated_Duration|BounceRates|  ExitRates|PageValues|SpecialDay|OperatingSystems|Browser|Region|TrafficType|VisitorType|Weekend|Revenue|Month_index|             feature|\n",
      "+--------------+-----------------------+-------------+----------------------+--------------+-----------------------+-----------+-----------+----------+----------+----------------+-------+------+-----------+-----------+-------+-------+-----------+--------------------+\n",
      "|             0|                   -1.0|            0|                  -1.0|             1|                   -1.0|        0.0|0.066666667|       0.0|       0.0|               2|      2|     7|          1|          2|  false|      0|        2.0|[0.0,-1.0,0.0,-1....|\n",
      "|             0|                   -1.0|            0|                  -1.0|             1|                   -1.0|        0.2|        0.2|       0.0|       0.0|               1|      1|     3|          1|          2|  false|      0|        7.0|[0.0,-1.0,0.0,-1....|\n",
      "|             0|                   -1.0|            0|                  -1.0|             1|                   -1.0|        0.2|        0.2|       0.0|       0.0|               1|      1|     3|          3|          2|  false|      0|        2.0|[0.0,-1.0,0.0,-1....|\n",
      "|             0|                   -1.0|            0|                  -1.0|             1|                   -1.0|        0.2|        0.2|       0.0|       0.0|               1|      1|     3|          4|          2|   true|      0|        9.0|[0.0,-1.0,0.0,-1....|\n",
      "|             0|                   -1.0|            0|                  -1.0|             1|                   -1.0|        0.2|        0.2|       0.0|       0.0|               1|      1|     4|          3|          2|  false|      0|        9.0|[0.0,-1.0,0.0,-1....|\n",
      "|             0|                   -1.0|            0|                  -1.0|             1|                   -1.0|        0.2|        0.2|       0.0|       0.0|               1|      8|     2|          1|          2|  false|      0|        1.0|[0.0,-1.0,0.0,-1....|\n",
      "|             0|                   -1.0|            0|                  -1.0|             1|                   -1.0|        0.2|        0.2|       0.0|       0.0|               2|      2|     2|          3|          2|  false|      0|        2.0|[0.0,-1.0,0.0,-1....|\n",
      "|             0|                   -1.0|            0|                  -1.0|             1|                   -1.0|        0.2|        0.2|       0.0|       0.0|               2|      2|     4|          1|          2|   true|      0|        9.0|[0.0,-1.0,0.0,-1....|\n",
      "|             0|                   -1.0|            0|                  -1.0|             1|                   -1.0|        0.2|        0.2|       0.0|       0.0|               2|      2|     4|          3|          2|  false|      0|        9.0|[0.0,-1.0,0.0,-1....|\n",
      "|             0|                   -1.0|            0|                  -1.0|             1|                   -1.0|        0.2|        0.2|       0.0|       0.0|               2|      2|     7|          3|          2|  false|      0|        9.0|[0.0,-1.0,0.0,-1....|\n",
      "|             0|                   -1.0|            0|                  -1.0|             1|                   -1.0|        0.2|        0.2|       0.0|       0.0|               2|      2|     9|          3|          2|  false|      0|        0.0|[0.0,-1.0,0.0,-1....|\n",
      "|             0|                   -1.0|            0|                  -1.0|             1|                   -1.0|        0.2|        0.2|       0.0|       0.0|               2|      4|     4|          3|          2|  false|      0|        0.0|[0.0,-1.0,0.0,-1....|\n",
      "|             0|                   -1.0|            0|                  -1.0|             1|                   -1.0|        0.2|        0.2|       0.0|       0.0|               2|      5|     1|          3|          2|  false|      0|        2.0|[0.0,-1.0,0.0,-1....|\n",
      "|             0|                   -1.0|            0|                  -1.0|             1|                   -1.0|        0.2|        0.2|       0.0|       0.0|               2|      5|     2|          3|          2|  false|      0|        2.0|[0.0,-1.0,0.0,-1....|\n",
      "|             0|                   -1.0|            0|                  -1.0|             1|                   -1.0|        0.2|        0.2|       0.0|       0.0|               2|     10|     5|          1|          2|  false|      0|        0.0|[0.0,-1.0,0.0,-1....|\n",
      "|             0|                   -1.0|            0|                  -1.0|             1|                   -1.0|        0.2|        0.2|       0.0|       0.0|               3|      2|     3|          1|          2|  false|      0|        2.0|[0.0,-1.0,0.0,-1....|\n",
      "|             0|                   -1.0|            0|                  -1.0|             1|                   -1.0|        0.2|        0.2|       0.0|       0.0|               3|      2|     3|          3|          2|  false|      0|        2.0|[0.0,-1.0,0.0,-1....|\n",
      "|             0|                   -1.0|            0|                  -1.0|             1|                   -1.0|        0.2|        0.2|       0.0|       0.0|               3|      2|     3|          3|          2|  false|      0|        9.0|[0.0,-1.0,0.0,-1....|\n",
      "|             0|                   -1.0|            0|                  -1.0|             1|                   -1.0|        0.2|        0.2|       0.0|       0.0|               3|      2|     7|          1|          2|  false|      0|        2.0|[0.0,-1.0,0.0,-1....|\n",
      "|             0|                   -1.0|            0|                  -1.0|             1|                   -1.0|        0.2|        0.2|       0.0|       0.0|               3|      3|     1|          3|          2|  false|      0|        9.0|[0.0,-1.0,0.0,-1....|\n",
      "+--------------+-----------------------+-------------+----------------------+--------------+-----------------------+-----------+-----------+----------+----------+----------------+-------+------+-----------+-----------+-------+-------+-----------+--------------------+\n",
      "only showing top 20 rows\n",
      "\n"
     ]
    }
   ],
   "source": [
    "train.show()"
   ]
  },
  {
   "cell_type": "code",
   "execution_count": 32,
   "id": "e410e698",
   "metadata": {},
   "outputs": [
    {
     "data": {
      "text/plain": [
       "DataFrame[feature: vector, Revenue: int]"
      ]
     },
     "execution_count": 32,
     "metadata": {},
     "output_type": "execute_result"
    }
   ],
   "source": [
    "train.select(['feature','Revenue'])"
   ]
  },
  {
   "cell_type": "markdown",
   "id": "47db2e9b",
   "metadata": {},
   "source": [
    "### 7.Decision Tree Classifier"
   ]
  },
  {
   "cell_type": "code",
   "execution_count": 34,
   "id": "320b09ea",
   "metadata": {},
   "outputs": [],
   "source": [
    "from pyspark.ml.classification import DecisionTreeClassifier\n",
    "tree = DecisionTreeClassifier(featuresCol = 'feature', labelCol= 'Revenue')\n",
    "decision_model= tree.fit(train)"
   ]
  },
  {
   "cell_type": "code",
   "execution_count": 35,
   "id": "e4abb207",
   "metadata": {},
   "outputs": [],
   "source": [
    "#Prediciton on test dataset.\n",
    "\n",
    "predictions = decision_model.transform(test)"
   ]
  },
  {
   "cell_type": "code",
   "execution_count": 37,
   "id": "b856df9d",
   "metadata": {},
   "outputs": [
    {
     "name": "stdout",
     "output_type": "stream",
     "text": [
      "+--------------------+-------+----------+\n",
      "|             feature|Revenue|prediction|\n",
      "+--------------------+-------+----------+\n",
      "|[0.0,-1.0,0.0,-1....|      0|       0.0|\n",
      "|[0.0,-1.0,0.0,-1....|      0|       0.0|\n",
      "|[0.0,-1.0,0.0,-1....|      0|       0.0|\n",
      "|[0.0,-1.0,0.0,-1....|      0|       0.0|\n",
      "|[0.0,-1.0,0.0,-1....|      0|       0.0|\n",
      "|[0.0,-1.0,0.0,-1....|      0|       0.0|\n",
      "|[0.0,-1.0,0.0,-1....|      0|       0.0|\n",
      "|[0.0,-1.0,0.0,-1....|      0|       0.0|\n",
      "|[0.0,-1.0,0.0,-1....|      0|       0.0|\n",
      "|(17,[6,7,10,11,12...|      0|       0.0|\n",
      "|(17,[4,7,10,11,12...|      0|       0.0|\n",
      "|(17,[4,6,7,10,11,...|      0|       0.0|\n",
      "|(17,[4,6,7,10,11,...|      0|       0.0|\n",
      "|(17,[4,6,7,10,11,...|      0|       0.0|\n",
      "|(17,[4,6,7,10,11,...|      0|       0.0|\n",
      "|(17,[4,6,7,10,11,...|      0|       0.0|\n",
      "|(17,[4,6,7,10,11,...|      0|       0.0|\n",
      "|(17,[4,6,7,10,11,...|      0|       0.0|\n",
      "|(17,[4,6,7,10,11,...|      0|       0.0|\n",
      "|(17,[4,6,7,10,11,...|      0|       0.0|\n",
      "+--------------------+-------+----------+\n",
      "only showing top 20 rows\n",
      "\n"
     ]
    }
   ],
   "source": [
    "predictions.select(['feature','Revenue','prediction']).show()"
   ]
  },
  {
   "cell_type": "markdown",
   "id": "ad22ede6",
   "metadata": {},
   "source": [
    "### 8. Classification Metrics"
   ]
  },
  {
   "cell_type": "code",
   "execution_count": 40,
   "id": "76d897fb",
   "metadata": {},
   "outputs": [],
   "source": [
    "from pyspark.ml.evaluation import MulticlassClassificationEvaluator\n",
    "evaluator = MulticlassClassificationEvaluator(labelCol='Revenue', predictionCol='prediction',metricName='accuracy')\n",
    "accuracy = evaluator.evaluate(predictions)"
   ]
  },
  {
   "cell_type": "code",
   "execution_count": 41,
   "id": "9b8fa14a",
   "metadata": {},
   "outputs": [
    {
     "data": {
      "text/plain": [
       "0.8990825688073395"
      ]
     },
     "execution_count": 41,
     "metadata": {},
     "output_type": "execute_result"
    }
   ],
   "source": [
    "accuracy"
   ]
  },
  {
   "cell_type": "code",
   "execution_count": null,
   "id": "cbc39758",
   "metadata": {},
   "outputs": [],
   "source": []
  }
 ],
 "metadata": {
  "kernelspec": {
   "display_name": "Python 3",
   "language": "python",
   "name": "python3"
  },
  "language_info": {
   "codemirror_mode": {
    "name": "ipython",
    "version": 3
   },
   "file_extension": ".py",
   "mimetype": "text/x-python",
   "name": "python",
   "nbconvert_exporter": "python",
   "pygments_lexer": "ipython3",
   "version": "3.6.9"
  }
 },
 "nbformat": 4,
 "nbformat_minor": 5
}
