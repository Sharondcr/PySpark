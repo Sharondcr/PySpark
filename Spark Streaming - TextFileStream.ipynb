{
 "cells": [
  {
   "cell_type": "code",
   "execution_count": 1,
   "id": "cf1dbbb6",
   "metadata": {},
   "outputs": [],
   "source": [
    "from pyspark.streaming import StreamingContext\n",
    "from pyspark.streaming.kafka import KafkaUtils\n",
    "from pyspark.sql import SparkSession"
   ]
  },
  {
   "cell_type": "markdown",
   "id": "bcd6e86f",
   "metadata": {},
   "source": [
    "### 1.Create Spark Streaming context"
   ]
  },
  {
   "cell_type": "code",
   "execution_count": 3,
   "id": "8d961ad1",
   "metadata": {},
   "outputs": [],
   "source": [
    "#intialized a new spark session\n",
    "config = SparkConf().setAppName('SparkTextFileStreamSession').setMaster('local[4]')\n",
    "sc = SparkContext.getOrCreate(conf=config)"
   ]
  },
  {
   "cell_type": "code",
   "execution_count": 4,
   "id": "d1f6b1bb",
   "metadata": {},
   "outputs": [],
   "source": [
    "ssc = StreamingContext(sc, 5)"
   ]
  },
  {
   "cell_type": "code",
   "execution_count": 6,
   "id": "22639752",
   "metadata": {},
   "outputs": [],
   "source": [
    "# directory where files will be streamed \n",
    "\n",
    "directory_path = \"file:///home/hadoop/Downloads/\"\n",
    "\n",
    "#create a DStream that will connect to hostname:port like nc linux command\n",
    "\n",
    "lines = ssc.textFileStream(directory_path)\n",
    "words = lines.flatMap(lambda line: line.split(\" \"))\n",
    "word_map = words.map(lambda word: (word,1))\n",
    "word_count = word_map.reduceByKey(lambda x,y: x+y)\n",
    "word_count.pprint()"
   ]
  },
  {
   "cell_type": "code",
   "execution_count": null,
   "id": "688a67b9",
   "metadata": {},
   "outputs": [],
   "source": [
    "ssc.start()\n",
    "ssc.awaitTermination()"
   ]
  }
 ],
 "metadata": {
  "kernelspec": {
   "display_name": "Python 3",
   "language": "python",
   "name": "python3"
  },
  "language_info": {
   "codemirror_mode": {
    "name": "ipython",
    "version": 3
   },
   "file_extension": ".py",
   "mimetype": "text/x-python",
   "name": "python",
   "nbconvert_exporter": "python",
   "pygments_lexer": "ipython3",
   "version": "3.6.9"
  }
 },
 "nbformat": 4,
 "nbformat_minor": 5
}
