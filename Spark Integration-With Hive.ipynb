{
 "cells": [
  {
   "cell_type": "code",
   "execution_count": 1,
   "id": "9ce11e78",
   "metadata": {},
   "outputs": [
    {
     "data": {
      "text/html": [
       "\n",
       "        <div>\n",
       "            <p><b>SparkContext</b></p>\n",
       "\n",
       "            <p><a href=\"http://10.0.2.15:4041\">Spark UI</a></p>\n",
       "\n",
       "            <dl>\n",
       "              <dt>Version</dt>\n",
       "                <dd><code>v2.4.8</code></dd>\n",
       "              <dt>Master</dt>\n",
       "                <dd><code>local[*]</code></dd>\n",
       "              <dt>AppName</dt>\n",
       "                <dd><code>PySparkShell</code></dd>\n",
       "            </dl>\n",
       "        </div>\n",
       "        "
      ],
      "text/plain": [
       "<SparkContext master=local[*] appName=PySparkShell>"
      ]
     },
     "execution_count": 1,
     "metadata": {},
     "output_type": "execute_result"
    }
   ],
   "source": [
    "sc"
   ]
  },
  {
   "cell_type": "code",
   "execution_count": 2,
   "id": "2862539f",
   "metadata": {},
   "outputs": [
    {
     "data": {
      "text/html": [
       "\n",
       "            <div>\n",
       "                <p><b>SparkSession - hive</b></p>\n",
       "                \n",
       "        <div>\n",
       "            <p><b>SparkContext</b></p>\n",
       "\n",
       "            <p><a href=\"http://10.0.2.15:4041\">Spark UI</a></p>\n",
       "\n",
       "            <dl>\n",
       "              <dt>Version</dt>\n",
       "                <dd><code>v2.4.8</code></dd>\n",
       "              <dt>Master</dt>\n",
       "                <dd><code>local[*]</code></dd>\n",
       "              <dt>AppName</dt>\n",
       "                <dd><code>PySparkShell</code></dd>\n",
       "            </dl>\n",
       "        </div>\n",
       "        \n",
       "            </div>\n",
       "        "
      ],
      "text/plain": [
       "<pyspark.sql.session.SparkSession at 0x7fb4c46559e8>"
      ]
     },
     "execution_count": 2,
     "metadata": {},
     "output_type": "execute_result"
    }
   ],
   "source": [
    "spark"
   ]
  },
  {
   "cell_type": "code",
   "execution_count": 6,
   "id": "1501fbed",
   "metadata": {},
   "outputs": [],
   "source": [
    "from pyspark import SparkConf,SparkContext\n",
    "from pyspark.sql import SparkSession,HiveContext"
   ]
  },
  {
   "cell_type": "code",
   "execution_count": 7,
   "id": "77e64772",
   "metadata": {},
   "outputs": [],
   "source": [
    "sc.stop()"
   ]
  },
  {
   "cell_type": "code",
   "execution_count": 8,
   "id": "18ff97e4",
   "metadata": {},
   "outputs": [],
   "source": [
    "config = SparkConf().setAppName('SparkHiveSession').setMaster('local[4]')\n",
    "sc = SparkContext.getOrCreate(conf=config)"
   ]
  },
  {
   "cell_type": "code",
   "execution_count": 9,
   "id": "d55f33ef",
   "metadata": {},
   "outputs": [
    {
     "data": {
      "text/html": [
       "\n",
       "        <div>\n",
       "            <p><b>SparkContext</b></p>\n",
       "\n",
       "            <p><a href=\"http://10.0.2.15:4041\">Spark UI</a></p>\n",
       "\n",
       "            <dl>\n",
       "              <dt>Version</dt>\n",
       "                <dd><code>v2.4.8</code></dd>\n",
       "              <dt>Master</dt>\n",
       "                <dd><code>local[4]</code></dd>\n",
       "              <dt>AppName</dt>\n",
       "                <dd><code>SparkHiveSession</code></dd>\n",
       "            </dl>\n",
       "        </div>\n",
       "        "
      ],
      "text/plain": [
       "<SparkContext master=local[4] appName=SparkHiveSession>"
      ]
     },
     "execution_count": 9,
     "metadata": {},
     "output_type": "execute_result"
    }
   ],
   "source": [
    "sc"
   ]
  },
  {
   "cell_type": "code",
   "execution_count": 11,
   "id": "ffff8aef",
   "metadata": {},
   "outputs": [],
   "source": [
    "#spark Integration with Hive with Spark Session\n",
    "spark = (SparkSession.builder.appName(\"pyspark-hive-integration\")\n",
    "         .config('spark.sql.warehouse.dir', '/user/hive/warehouse/')\n",
    "         .enableHiveSupport().getOrCreate())"
   ]
  },
  {
   "cell_type": "code",
   "execution_count": 12,
   "id": "3b07031a",
   "metadata": {},
   "outputs": [
    {
     "data": {
      "text/html": [
       "\n",
       "            <div>\n",
       "                <p><b>SparkSession - hive</b></p>\n",
       "                \n",
       "        <div>\n",
       "            <p><b>SparkContext</b></p>\n",
       "\n",
       "            <p><a href=\"http://10.0.2.15:4041\">Spark UI</a></p>\n",
       "\n",
       "            <dl>\n",
       "              <dt>Version</dt>\n",
       "                <dd><code>v2.4.8</code></dd>\n",
       "              <dt>Master</dt>\n",
       "                <dd><code>local[4]</code></dd>\n",
       "              <dt>AppName</dt>\n",
       "                <dd><code>SparkHiveSession</code></dd>\n",
       "            </dl>\n",
       "        </div>\n",
       "        \n",
       "            </div>\n",
       "        "
      ],
      "text/plain": [
       "<pyspark.sql.session.SparkSession at 0x7fb4a76105c0>"
      ]
     },
     "execution_count": 12,
     "metadata": {},
     "output_type": "execute_result"
    }
   ],
   "source": [
    "spark"
   ]
  },
  {
   "cell_type": "code",
   "execution_count": 14,
   "id": "54bb5ea1",
   "metadata": {},
   "outputs": [
    {
     "name": "stdout",
     "output_type": "stream",
     "text": [
      "+------------+\n",
      "|databaseName|\n",
      "+------------+\n",
      "|     default|\n",
      "+------------+\n",
      "\n"
     ]
    }
   ],
   "source": [
    "spark.sql(\"show databases\").show()"
   ]
  },
  {
   "cell_type": "code",
   "execution_count": 16,
   "id": "2992a1f5",
   "metadata": {},
   "outputs": [
    {
     "name": "stdout",
     "output_type": "stream",
     "text": [
      "++\n",
      "||\n",
      "++\n",
      "++\n",
      "\n"
     ]
    }
   ],
   "source": [
    "spark.sql(\"drop database if exists bankking_db\").show()"
   ]
  },
  {
   "cell_type": "code",
   "execution_count": 17,
   "id": "d2413e06",
   "metadata": {},
   "outputs": [
    {
     "name": "stdout",
     "output_type": "stream",
     "text": [
      "++\n",
      "||\n",
      "++\n",
      "++\n",
      "\n"
     ]
    }
   ],
   "source": [
    "spark.sql(\"create database if not exists banking_db\").show()"
   ]
  },
  {
   "cell_type": "code",
   "execution_count": 18,
   "id": "091106ca",
   "metadata": {},
   "outputs": [
    {
     "name": "stdout",
     "output_type": "stream",
     "text": [
      "+------------+\n",
      "|databaseName|\n",
      "+------------+\n",
      "|  banking_db|\n",
      "|     default|\n",
      "+------------+\n",
      "\n"
     ]
    }
   ],
   "source": [
    "spark.sql(\"show databases\").show()"
   ]
  },
  {
   "cell_type": "code",
   "execution_count": 19,
   "id": "bbb399e8",
   "metadata": {},
   "outputs": [
    {
     "name": "stdout",
     "output_type": "stream",
     "text": [
      "++\n",
      "||\n",
      "++\n",
      "++\n",
      "\n"
     ]
    }
   ],
   "source": [
    "spark.sql(\"use banking_db\").show()"
   ]
  },
  {
   "cell_type": "code",
   "execution_count": 20,
   "id": "9f4774a7",
   "metadata": {},
   "outputs": [
    {
     "name": "stdout",
     "output_type": "stream",
     "text": [
      "+--------+---------+-----------+\n",
      "|database|tableName|isTemporary|\n",
      "+--------+---------+-----------+\n",
      "+--------+---------+-----------+\n",
      "\n"
     ]
    }
   ],
   "source": [
    "spark.sql(\"show tables\").show()"
   ]
  },
  {
   "cell_type": "code",
   "execution_count": 26,
   "id": "d39cf1f1",
   "metadata": {},
   "outputs": [
    {
     "data": {
      "text/plain": [
       "DataFrame[]"
      ]
     },
     "execution_count": 26,
     "metadata": {},
     "output_type": "execute_result"
    }
   ],
   "source": [
    "spark.sql(\"\"\"\n",
    "CREATE TABLE if not exists banking (age int, balance double,campaign double,contact string,day int,default string,\n",
    "duration int,education varchar(50), housing varchar(10), job string, loan varchar(10), marital string, month varchar(30),\n",
    "pdays double,poutcome string,previous int,y varchar(10))\n",
    "ROW FORMAT DELIMITED\n",
    "FIELDS TERMINATED BY ','\n",
    "STORED AS TEXTFILE\n",
    "tblProperties(\"skip.header.line.count\" = 1)\"\"\")"
   ]
  },
  {
   "cell_type": "code",
   "execution_count": 27,
   "id": "3b950f0d",
   "metadata": {},
   "outputs": [
    {
     "name": "stdout",
     "output_type": "stream",
     "text": [
      "+----------+---------+-----------+\n",
      "|  database|tableName|isTemporary|\n",
      "+----------+---------+-----------+\n",
      "|banking_db|  banking|      false|\n",
      "+----------+---------+-----------+\n",
      "\n"
     ]
    }
   ],
   "source": [
    "spark.sql(\"show tables\").show()"
   ]
  },
  {
   "cell_type": "code",
   "execution_count": 28,
   "id": "82fec8c8",
   "metadata": {},
   "outputs": [
    {
     "name": "stdout",
     "output_type": "stream",
     "text": [
      "+--------------------+----------+-------+\n",
      "|            col_name| data_type|comment|\n",
      "+--------------------+----------+-------+\n",
      "|                 age|       int|   null|\n",
      "|             balance|    double|   null|\n",
      "|            campaign|    double|   null|\n",
      "|             contact|    string|   null|\n",
      "|                 day|       int|   null|\n",
      "|             default|    string|   null|\n",
      "|            duration|       int|   null|\n",
      "|           education|    string|   null|\n",
      "|             housing|    string|   null|\n",
      "|                 job|    string|   null|\n",
      "|                loan|    string|   null|\n",
      "|             marital|    string|   null|\n",
      "|               month|    string|   null|\n",
      "|               pdays|    double|   null|\n",
      "|            poutcome|    string|   null|\n",
      "|            previous|       int|   null|\n",
      "|                   y|    string|   null|\n",
      "|                    |          |       |\n",
      "|# Detailed Table ...|          |       |\n",
      "|            Database|banking_db|       |\n",
      "+--------------------+----------+-------+\n",
      "only showing top 20 rows\n",
      "\n"
     ]
    }
   ],
   "source": [
    "spark.sql(\"describe formatted banking\").show()"
   ]
  },
  {
   "cell_type": "markdown",
   "id": "5ab0385d",
   "metadata": {},
   "source": [
    "### DDL method to load data into hive table"
   ]
  },
  {
   "cell_type": "code",
   "execution_count": null,
   "id": "384d2bb5",
   "metadata": {},
   "outputs": [],
   "source": [
    "#spark.sql(\"\"\"\n",
    "#load data local inpath 'local file path/filename.csv' overwrite into table banking\n",
    "#\"\"\")"
   ]
  },
  {
   "cell_type": "markdown",
   "id": "e9aa3a34",
   "metadata": {},
   "source": [
    "### Create a spark DataFrame"
   ]
  },
  {
   "cell_type": "code",
   "execution_count": 29,
   "id": "54463bdf",
   "metadata": {},
   "outputs": [],
   "source": [
    "from pyspark.sql.types import *"
   ]
  },
  {
   "cell_type": "code",
   "execution_count": 30,
   "id": "87f5507a",
   "metadata": {},
   "outputs": [],
   "source": [
    "banking_customer_data = spark.read.json(\"file:///home/hadoop/Downloads/bank_edited.json\", multiLine=True) "
   ]
  },
  {
   "cell_type": "code",
   "execution_count": 32,
   "id": "74c9171d",
   "metadata": {},
   "outputs": [
    {
     "name": "stdout",
     "output_type": "stream",
     "text": [
      "+---+-------+--------+-------+---+-------+--------+---------+-------+------------+----+--------+-----+-----+--------+--------+---+\n",
      "|age|balance|campaign|contact|day|default|duration|education|housing|         job|loan| marital|month|pdays|poutcome|previous|  y|\n",
      "+---+-------+--------+-------+---+-------+--------+---------+-------+------------+----+--------+-----+-----+--------+--------+---+\n",
      "| 58|   2143|       1|unknown|  5|     no|     261| tertiary|    yes|  management|  no| married|  may|   -1| unknown|       0| no|\n",
      "| 44|     29|       1|unknown|  5|     no|     151|secondary|    yes|  technician|  no|  single|  may|   -1| unknown|       0| no|\n",
      "| 33|      2|       1|unknown|  5|     no|      76|secondary|    yes|entrepreneur| yes| married|  may|   -1| unknown|       0| no|\n",
      "| 47|   1506|       1|unknown|  5|     no|      92|  unknown|    yes| blue-collar|  no| married|  may|   -1| unknown|       0| no|\n",
      "| 33|      1|       1|unknown|  5|     no|     198|  unknown|     no|     unknown|  no|  single|  may|   -1| unknown|       0| no|\n",
      "| 35|    231|       1|unknown|  5|     no|     139| tertiary|    yes|  management|  no| married|  may|   -1| unknown|       0| no|\n",
      "| 28|    447|       1|unknown|  5|     no|     217| tertiary|    yes|  management| yes|  single|  may|   -1| unknown|       0| no|\n",
      "| 42|      2|       1|unknown|  5|    yes|     380| tertiary|    yes|entrepreneur|  no|divorced|  may|   -1| unknown|       0| no|\n",
      "| 58|    121|       1|unknown|  5|     no|      50|  primary|    yes|     retired|  no| married|  may|   -1| unknown|       0| no|\n",
      "| 43|    593|       1|unknown|  5|     no|      55|secondary|    yes|  technician|  no|  single|  may|   -1| unknown|       0| no|\n",
      "| 41|    270|       1|unknown|  5|     no|     222|secondary|    yes|      admin.|  no|divorced|  may|   -1| unknown|       0| no|\n",
      "| 29|    390|       1|unknown|  5|     no|     137|secondary|    yes|      admin.|  no|  single|  may|   -1| unknown|       0| no|\n",
      "| 53|      6|       1|unknown|  5|     no|     517|secondary|    yes|  technician|  no| married|  may|   -1| unknown|       0| no|\n",
      "| 58|     71|       1|unknown|  5|     no|      71|  unknown|    yes|  technician|  no| married|  may|   -1| unknown|       0| no|\n",
      "| 57|    162|       1|unknown|  5|     no|     174|secondary|    yes|    services|  no| married|  may|   -1| unknown|       0| no|\n",
      "| 51|    229|       1|unknown|  5|     no|     353|  primary|    yes|     retired|  no| married|  may|   -1| unknown|       0| no|\n",
      "| 45|     13|       1|unknown|  5|     no|      98|  unknown|    yes|      admin.|  no|  single|  may|   -1| unknown|       0| no|\n",
      "| 57|     52|       1|unknown|  5|     no|      38|  primary|    yes| blue-collar|  no| married|  may|   -1| unknown|       0| no|\n",
      "| 60|     60|       1|unknown|  5|     no|     219|  primary|    yes|     retired|  no| married|  may|   -1| unknown|       0| no|\n",
      "| 33|      0|       1|unknown|  5|     no|      54|secondary|    yes|    services|  no| married|  may|   -1| unknown|       0| no|\n",
      "+---+-------+--------+-------+---+-------+--------+---------+-------+------------+----+--------+-----+-----+--------+--------+---+\n",
      "only showing top 20 rows\n",
      "\n"
     ]
    }
   ],
   "source": [
    "banking_customer_data.show()"
   ]
  },
  {
   "cell_type": "code",
   "execution_count": 33,
   "id": "7a1a7b60",
   "metadata": {},
   "outputs": [
    {
     "name": "stdout",
     "output_type": "stream",
     "text": [
      "root\n",
      " |-- age: long (nullable = true)\n",
      " |-- balance: long (nullable = true)\n",
      " |-- campaign: long (nullable = true)\n",
      " |-- contact: string (nullable = true)\n",
      " |-- day: long (nullable = true)\n",
      " |-- default: string (nullable = true)\n",
      " |-- duration: long (nullable = true)\n",
      " |-- education: string (nullable = true)\n",
      " |-- housing: string (nullable = true)\n",
      " |-- job: string (nullable = true)\n",
      " |-- loan: string (nullable = true)\n",
      " |-- marital: string (nullable = true)\n",
      " |-- month: string (nullable = true)\n",
      " |-- pdays: long (nullable = true)\n",
      " |-- poutcome: string (nullable = true)\n",
      " |-- previous: long (nullable = true)\n",
      " |-- y: string (nullable = true)\n",
      "\n"
     ]
    }
   ],
   "source": [
    "banking_customer_data.printSchema()"
   ]
  },
  {
   "cell_type": "markdown",
   "id": "76159b43",
   "metadata": {},
   "source": [
    "### Insert Records from Spark Temp Table to Hive Table"
   ]
  },
  {
   "cell_type": "code",
   "execution_count": 34,
   "id": "13758c19",
   "metadata": {},
   "outputs": [],
   "source": [
    "banking_customer_data.createOrReplaceTempView('banktable')"
   ]
  },
  {
   "cell_type": "code",
   "execution_count": 35,
   "id": "7f61a0b9",
   "metadata": {},
   "outputs": [
    {
     "data": {
      "text/plain": [
       "DataFrame[]"
      ]
     },
     "execution_count": 35,
     "metadata": {},
     "output_type": "execute_result"
    }
   ],
   "source": [
    "spark.sql(\"\"\"\n",
    "insert into table banking\n",
    "select * from banktable \n",
    "\"\"\")"
   ]
  },
  {
   "cell_type": "code",
   "execution_count": 36,
   "id": "53f1381c",
   "metadata": {},
   "outputs": [
    {
     "name": "stdout",
     "output_type": "stream",
     "text": [
      "+---+-------+--------+-------+---+-------+--------+---------+-------+------------+----+--------+-----+-----+--------+--------+---+\n",
      "|age|balance|campaign|contact|day|default|duration|education|housing|         job|loan| marital|month|pdays|poutcome|previous|  y|\n",
      "+---+-------+--------+-------+---+-------+--------+---------+-------+------------+----+--------+-----+-----+--------+--------+---+\n",
      "| 58| 2143.0|     1.0|unknown|  5|     no|     261| tertiary|    yes|  management|  no| married|  may| -1.0| unknown|       0| no|\n",
      "| 44|   29.0|     1.0|unknown|  5|     no|     151|secondary|    yes|  technician|  no|  single|  may| -1.0| unknown|       0| no|\n",
      "| 33|    2.0|     1.0|unknown|  5|     no|      76|secondary|    yes|entrepreneur| yes| married|  may| -1.0| unknown|       0| no|\n",
      "| 47| 1506.0|     1.0|unknown|  5|     no|      92|  unknown|    yes| blue-collar|  no| married|  may| -1.0| unknown|       0| no|\n",
      "| 33|    1.0|     1.0|unknown|  5|     no|     198|  unknown|     no|     unknown|  no|  single|  may| -1.0| unknown|       0| no|\n",
      "| 35|  231.0|     1.0|unknown|  5|     no|     139| tertiary|    yes|  management|  no| married|  may| -1.0| unknown|       0| no|\n",
      "| 28|  447.0|     1.0|unknown|  5|     no|     217| tertiary|    yes|  management| yes|  single|  may| -1.0| unknown|       0| no|\n",
      "| 42|    2.0|     1.0|unknown|  5|    yes|     380| tertiary|    yes|entrepreneur|  no|divorced|  may| -1.0| unknown|       0| no|\n",
      "| 58|  121.0|     1.0|unknown|  5|     no|      50|  primary|    yes|     retired|  no| married|  may| -1.0| unknown|       0| no|\n",
      "| 43|  593.0|     1.0|unknown|  5|     no|      55|secondary|    yes|  technician|  no|  single|  may| -1.0| unknown|       0| no|\n",
      "| 41|  270.0|     1.0|unknown|  5|     no|     222|secondary|    yes|      admin.|  no|divorced|  may| -1.0| unknown|       0| no|\n",
      "| 29|  390.0|     1.0|unknown|  5|     no|     137|secondary|    yes|      admin.|  no|  single|  may| -1.0| unknown|       0| no|\n",
      "| 53|    6.0|     1.0|unknown|  5|     no|     517|secondary|    yes|  technician|  no| married|  may| -1.0| unknown|       0| no|\n",
      "| 58|   71.0|     1.0|unknown|  5|     no|      71|  unknown|    yes|  technician|  no| married|  may| -1.0| unknown|       0| no|\n",
      "| 57|  162.0|     1.0|unknown|  5|     no|     174|secondary|    yes|    services|  no| married|  may| -1.0| unknown|       0| no|\n",
      "| 51|  229.0|     1.0|unknown|  5|     no|     353|  primary|    yes|     retired|  no| married|  may| -1.0| unknown|       0| no|\n",
      "| 45|   13.0|     1.0|unknown|  5|     no|      98|  unknown|    yes|      admin.|  no|  single|  may| -1.0| unknown|       0| no|\n",
      "| 57|   52.0|     1.0|unknown|  5|     no|      38|  primary|    yes| blue-collar|  no| married|  may| -1.0| unknown|       0| no|\n",
      "| 60|   60.0|     1.0|unknown|  5|     no|     219|  primary|    yes|     retired|  no| married|  may| -1.0| unknown|       0| no|\n",
      "| 33|    0.0|     1.0|unknown|  5|     no|      54|secondary|    yes|    services|  no| married|  may| -1.0| unknown|       0| no|\n",
      "+---+-------+--------+-------+---+-------+--------+---------+-------+------------+----+--------+-----+-----+--------+--------+---+\n",
      "only showing top 20 rows\n",
      "\n"
     ]
    }
   ],
   "source": [
    "spark.sql(\"select * from banking\").show()"
   ]
  },
  {
   "cell_type": "code",
   "execution_count": null,
   "id": "29f1c0f1",
   "metadata": {},
   "outputs": [],
   "source": []
  }
 ],
 "metadata": {
  "kernelspec": {
   "display_name": "Python 3",
   "language": "python",
   "name": "python3"
  },
  "language_info": {
   "codemirror_mode": {
    "name": "ipython",
    "version": 3
   },
   "file_extension": ".py",
   "mimetype": "text/x-python",
   "name": "python",
   "nbconvert_exporter": "python",
   "pygments_lexer": "ipython3",
   "version": "3.6.9"
  }
 },
 "nbformat": 4,
 "nbformat_minor": 5
}
